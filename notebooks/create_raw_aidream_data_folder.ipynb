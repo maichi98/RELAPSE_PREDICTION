{
 "cells": [
  {
   "cell_type": "code",
   "id": "initial_id",
   "metadata": {
    "collapsed": true,
    "ExecuteTime": {
     "end_time": "2024-06-11T15:49:18.569423Z",
     "start_time": "2024-06-11T15:49:18.171655Z"
    }
   },
   "source": [
    "from aidream_data.core import AidreamDatabase\n",
    "\n",
    "from pathlib import Path\n",
    "import pandas as pd\n"
   ],
   "outputs": [],
   "execution_count": 1
  },
  {
   "metadata": {
    "ExecuteTime": {
     "end_time": "2024-06-11T15:49:28.270046Z",
     "start_time": "2024-06-11T15:49:18.570399Z"
    }
   },
   "cell_type": "code",
   "source": [
    "%%time\n",
    "# connect to the AIdream Database : \n",
    "aidream_db = AidreamDatabase()\n",
    "aidream_db.connect()\n"
   ],
   "id": "c50c6f2c3f6a4094",
   "outputs": [
    {
     "name": "stdout",
     "output_type": "stream",
     "text": [
      "CPU times: user 331 ms, sys: 121 ms, total: 452 ms\n",
      "Wall time: 9.7 s\n"
     ]
    }
   ],
   "execution_count": 2
  },
  {
   "metadata": {
    "ExecuteTime": {
     "end_time": "2024-06-11T15:50:14.529365Z",
     "start_time": "2024-06-11T15:50:14.527085Z"
    }
   },
   "cell_type": "code",
   "source": [
    "%%time\n",
    "# Load the cohort info dataframe : \n",
    "df_cohort_info = aidream_db.get_cohort_info()\n",
    "# Load the clinical data dataframe :\n",
    "df_clinical_data = aidream_db.get_clinical_data()\n"
   ],
   "id": "7b15d5fd4447adf5",
   "outputs": [
    {
     "name": "stdout",
     "output_type": "stream",
     "text": [
      "CPU times: user 141 µs, sys: 27 µs, total: 168 µs\n",
      "Wall time: 171 µs\n"
     ]
    }
   ],
   "execution_count": 11
  },
  {
   "metadata": {
    "ExecuteTime": {
     "end_time": "2024-06-11T15:50:14.647498Z",
     "start_time": "2024-06-11T15:50:14.643316Z"
    }
   },
   "cell_type": "code",
   "source": [
    "# Select only patients with perfusion data :\n",
    "df_cohort_info = df_cohort_info.loc[df_cohort_info['']['Perfusion?'] == 'oui']\n",
    "list_possible_patients = df_cohort_info['patient id']['patient id'].values.tolist()\n",
    "df_clinical_data = df_clinical_data.loc[df_clinical_data['id_aidream'].isin(list_possible_patients)]\n",
    "\n",
    "print(f\"Number of patients with perfusion data : {len(list_possible_patients)}\")\n"
   ],
   "id": "32cd967c5e8ca2d8",
   "outputs": [
    {
     "name": "stdout",
     "output_type": "stream",
     "text": [
      "Number of patients with perfusion data : 234\n"
     ]
    }
   ],
   "execution_count": 12
  },
  {
   "metadata": {
    "ExecuteTime": {
     "end_time": "2024-06-11T15:50:14.830605Z",
     "start_time": "2024-06-11T15:50:14.826433Z"
    }
   },
   "cell_type": "code",
   "source": [
    "# Select relevant columns and rename them :\n",
    "\n",
    "old_cols = [('patient id', 'patient id'), ('', 'Perfusion?'),\n",
    "                ('pre-RT', 'Autoseg?'), ('pre-RT', 'Label1'), ('pre-RT', 'Label3'), ('pre-RT', 'Obs2_preRT_CS'), ( 'pre-RT', 'Obs3_preRT_CV'),\n",
    "                ('Relapse', 'Autoseg?'), ('Relapse', 'Label1'), ('Relapse', 'Label3'), ('Relapse', 'OBS2_relapse_CS'), ('Relapse', 'OBS3_relapse_CV')]\n",
    "\n",
    "new_cols = [\"patient id\", \"Perfusion?\",\"Pre-RT Autoseg?\", \"Pre-RT Label1\", \"Pre-RT Label3\", \"Pre-RT Obs2_preRT_CS\", \"Pre-RT Obs3_preRT_CV\",\n",
    "            \"Relapse Autoseg?\", \"Relapse Label1\", \"Relapse Label3\", \"Relapse OBS2_relapse_CS\", \"Relapse OBS3_relapse_CV\"]\n",
    "\n",
    "df_cohort_info = pd.DataFrame(df_cohort_info[old_cols].values, columns=new_cols)\n"
   ],
   "id": "483e4b9a34581303",
   "outputs": [],
   "execution_count": 13
  },
  {
   "metadata": {
    "ExecuteTime": {
     "end_time": "2024-06-11T15:50:15.325946Z",
     "start_time": "2024-06-11T15:50:15.323177Z"
    }
   },
   "cell_type": "code",
   "source": [
    "df_cohort_info = df_cohort_info.loc[\n",
    "    (df_cohort_info['Pre-RT Label1'] != \"\") &\n",
    "    (df_cohort_info['Pre-RT Label3'] != \"\") &\n",
    "    (df_cohort_info['Pre-RT Obs2_preRT_CS'] != \"\") &\n",
    "    # (df_cohort_info['Pre-RT Obs3_preRT_CV'] != \"\") &   \n",
    "    (df_cohort_info['Relapse Label3'] != \"\") \n",
    "    # (df_cohort_info['Relapse OBS2_relapse_CS'] != \"\") \n",
    "    # (df_cohort_info['Relapse OBS3_relapse_CV'] != \"\")\n",
    "]"
   ],
   "id": "20a77745314495a9",
   "outputs": [],
   "execution_count": 14
  },
  {
   "metadata": {
    "ExecuteTime": {
     "end_time": "2024-06-11T15:51:33.628640Z",
     "start_time": "2024-06-11T15:51:33.626379Z"
    }
   },
   "cell_type": "code",
   "source": "df_cohort_info.columns",
   "id": "903b825c2714d6e2",
   "outputs": [
    {
     "data": {
      "text/plain": [
       "Index(['patient id', 'Perfusion?', 'Pre-RT Autoseg?', 'Pre-RT Label1',\n",
       "       'Pre-RT Label3', 'Pre-RT Obs2_preRT_CS', 'Pre-RT Obs3_preRT_CV',\n",
       "       'Relapse Autoseg?', 'Relapse Label1', 'Relapse Label3',\n",
       "       'Relapse OBS2_relapse_CS', 'Relapse OBS3_relapse_CV'],\n",
       "      dtype='object')"
      ]
     },
     "execution_count": 17,
     "metadata": {},
     "output_type": "execute_result"
    }
   ],
   "execution_count": 17
  },
  {
   "metadata": {
    "ExecuteTime": {
     "end_time": "2024-06-11T15:52:09.859752Z",
     "start_time": "2024-06-11T15:52:09.856529Z"
    }
   },
   "cell_type": "code",
   "source": [
    "# Check the annotation referential of the patients at pre-RT: \n",
    "df_cohort_info['Pre-RT Autoseg?'].value_counts()\n"
   ],
   "id": "f6109e5e8e9ab671",
   "outputs": [
    {
     "data": {
      "text/plain": [
       "Pre-RT Autoseg?\n",
       "AC_repATLAS                                  143\n",
       "GE_repNATIV                                   39\n",
       "GE_repNativAXIALISEDnew_surAppliGE             7\n",
       "GE_repNativnew_surAppliGE                      7\n",
       "Manuel/GE_repNativAXIALISEDnew_surAppliGE      1\n",
       "Name: count, dtype: int64"
      ]
     },
     "execution_count": 19,
     "metadata": {},
     "output_type": "execute_result"
    }
   ],
   "execution_count": 19
  },
  {
   "metadata": {},
   "cell_type": "code",
   "outputs": [],
   "execution_count": null,
   "source": "",
   "id": "5366c011c7a60987"
  }
 ],
 "metadata": {
  "kernelspec": {
   "display_name": "Python 3",
   "language": "python",
   "name": "python3"
  },
  "language_info": {
   "codemirror_mode": {
    "name": "ipython",
    "version": 2
   },
   "file_extension": ".py",
   "mimetype": "text/x-python",
   "name": "python",
   "nbconvert_exporter": "python",
   "pygments_lexer": "ipython2",
   "version": "2.7.6"
  }
 },
 "nbformat": 4,
 "nbformat_minor": 5
}
