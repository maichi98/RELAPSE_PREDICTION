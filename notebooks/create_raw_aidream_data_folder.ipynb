{
 "cells": [
  {
   "cell_type": "code",
   "execution_count": 8,
   "id": "initial_id",
   "metadata": {
    "ExecuteTime": {
     "end_time": "2024-06-26T12:09:04.834920Z",
     "start_time": "2024-06-26T12:09:04.832876Z"
    },
    "collapsed": true,
    "jupyter": {
     "outputs_hidden": true
    }
   },
   "outputs": [],
   "source": [
    "from aidream_data.constants import DIR_AIDREAM_ON_NAS\n",
    "from aidream_data.core import AidreamDatabase\n",
    "\n",
    "from pathlib import Path\n",
    "import pandas as pd\n"
   ]
  },
  {
   "cell_type": "code",
   "execution_count": 9,
   "id": "c50c6f2c3f6a4094",
   "metadata": {
    "ExecuteTime": {
     "end_time": "2024-06-26T12:09:18.479247Z",
     "start_time": "2024-06-26T12:09:09.434451Z"
    }
   },
   "outputs": [
    {
     "name": "stdout",
     "output_type": "stream",
     "text": [
      "CPU times: user 203 ms, sys: 45 ms, total: 248 ms\n",
      "Wall time: 9.04 s\n"
     ]
    }
   ],
   "source": [
    "%%time\n",
    "# connect to the AIdream Database : \n",
    "aidream_db = AidreamDatabase()\n",
    "aidream_db.connect()\n"
   ]
  },
  {
   "cell_type": "code",
   "execution_count": 10,
   "id": "7b15d5fd4447adf5",
   "metadata": {
    "ExecuteTime": {
     "end_time": "2024-06-26T12:09:18.482818Z",
     "start_time": "2024-06-26T12:09:18.480206Z"
    }
   },
   "outputs": [
    {
     "name": "stdout",
     "output_type": "stream",
     "text": [
      "CPU times: user 17 µs, sys: 3 µs, total: 20 µs\n",
      "Wall time: 22.2 µs\n"
     ]
    }
   ],
   "source": [
    "%%time\n",
    "# Load the cohort info dataframe : \n",
    "df_cohort_info = aidream_db.get_cohort_info()\n",
    "# Load the clinical data dataframe :\n",
    "df_clinical_data = aidream_db.get_clinical_data()\n"
   ]
  },
  {
   "cell_type": "code",
   "execution_count": 11,
   "id": "32cd967c5e8ca2d8",
   "metadata": {
    "ExecuteTime": {
     "end_time": "2024-06-26T12:12:57.556484Z",
     "start_time": "2024-06-26T12:12:57.551615Z"
    }
   },
   "outputs": [
    {
     "name": "stdout",
     "output_type": "stream",
     "text": [
      "Number of patients with perfusion data : 234\n"
     ]
    }
   ],
   "source": [
    "# Select only patients with perfusion data :\n",
    "df_cohort_info = df_cohort_info.loc[df_cohort_info['']['Perfusion?'] == 'oui']\n",
    "list_extended_patients = df_cohort_info['patient id']['patient id'].values.tolist()\n",
    "df_clinical_data = df_clinical_data.loc[df_clinical_data['id_aidream'].isin(list_extended_patients)]\n",
    "\n",
    "print(f\"Number of patients with perfusion data : {len(list_extended_patients)}\")\n"
   ]
  },
  {
   "cell_type": "code",
   "execution_count": 12,
   "id": "e50b493bcf829fe9",
   "metadata": {
    "ExecuteTime": {
     "end_time": "2024-06-26T12:13:01.511925Z",
     "start_time": "2024-06-26T12:13:00.143309Z"
    }
   },
   "outputs": [],
   "source": [
    "# Dataframe of extended patients containing the path to the patient's perfusion data :\n",
    "\n",
    "df_extended_patients = df_clinical_data[[\"id_aidream\", \"id_cercare\"]].copy()\n",
    "df_extended_patients[\"tmp\"] = df_extended_patients[\"id_aidream\"].apply(lambda x: int(x.lstrip(\"AIDREAM_\")))\n",
    "df_extended_patients = df_extended_patients.sort_values(by=\"tmp\").drop(columns=[\"tmp\"])\n",
    "\n",
    "def get_perfusion_directory(cercare_id):\n",
    "    \n",
    "    if cercare_id.startswith(\"MMI-PROB\"):\n",
    "        \n",
    "        dir_perfusion = DIR_AIDREAM_ON_NAS / \"Cercare_perfusion\" / \"MMI-PROB\" / cercare_id / \"PERFUSION\"\n",
    "        if dir_perfusion.exists():\n",
    "            return str(dir_perfusion)\n",
    "        else:\n",
    "            return \"Not found\"\n",
    "        \n",
    "    elif cercare_id.startswith(\"AIDREAM\"):\n",
    "        \n",
    "        list_perfusion_directories = list((DIR_AIDREAM_ON_NAS / \"Cercare_perfusion\" / \"AIDREAM\" / cercare_id).glob(\"*/AX PERFUSION GRE GADO\"))\n",
    "        \n",
    "        if len(list_perfusion_directories) != 1:\n",
    "            return \"Not found\"\n",
    "        else:\n",
    "            return str(list_perfusion_directories[0])\n",
    "        \n",
    "df_extended_patients[\"Perfusion directory\"] = df_extended_patients[\"id_cercare\"].apply(get_perfusion_directory)\n",
    "df_extended_patients.to_csv(\"extended_patients.csv\", index=False)\n"
   ]
  },
  {
   "cell_type": "code",
   "execution_count": 13,
   "id": "e01d5119f31cc26e",
   "metadata": {
    "ExecuteTime": {
     "end_time": "2024-06-26T12:13:01.516092Z",
     "start_time": "2024-06-26T12:13:01.512659Z"
    }
   },
   "outputs": [
    {
     "data": {
      "text/plain": [
       "{'MMI-PROB_001',\n",
       " 'MMI-PROB_002',\n",
       " 'MMI-PROB_021',\n",
       " 'MMI-PROB_024',\n",
       " 'MMI-PROB_025',\n",
       " 'MMI-PROB_027',\n",
       " 'MMI-PROB_028',\n",
       " 'MMI-PROB_029',\n",
       " 'MMI-PROB_030',\n",
       " 'MMI-PROB_031',\n",
       " 'MMI-PROB_032',\n",
       " 'MMI-PROB_033',\n",
       " 'MMI-PROB_035',\n",
       " 'MMI-PROB_036',\n",
       " 'MMI-PROB_041',\n",
       " 'MMI-PROB_042',\n",
       " 'MMI-PROB_043',\n",
       " 'MMI-PROB_046',\n",
       " 'MMI-PROB_047',\n",
       " 'MMI-PROB_048',\n",
       " 'MMI-PROB_049',\n",
       " 'MMI-PROB_050',\n",
       " 'MMI-PROB_051',\n",
       " 'MMI-PROB_052',\n",
       " 'MMI-PROB_053',\n",
       " 'MMI-PROB_054',\n",
       " 'MMI-PROB_057',\n",
       " 'MMI-PROB_058',\n",
       " 'MMI-PROB_059',\n",
       " 'MMI-PROB_060',\n",
       " 'MMI-PROB_061',\n",
       " 'MMI-PROB_062',\n",
       " 'MMI-PROB_063',\n",
       " 'MMI-PROB_064',\n",
       " 'MMI-PROB_065',\n",
       " 'MMI-PROB_066',\n",
       " 'MMI-PROB_067',\n",
       " 'MMI-PROB_069',\n",
       " 'MMI-PROB_070',\n",
       " 'MMI-PROB_071',\n",
       " 'MMI-PROB_072',\n",
       " 'MMI-PROB_073',\n",
       " 'MMI-PROB_075',\n",
       " 'MMI-PROB_076',\n",
       " 'MMI-PROB_077',\n",
       " 'MMI-PROB_078',\n",
       " 'MMI-PROB_079',\n",
       " 'MMI-PROB_080',\n",
       " 'MMI-PROB_085',\n",
       " 'MMI-PROB_087',\n",
       " 'MMI-PROB_088',\n",
       " 'MMI-PROB_089',\n",
       " 'MMI-PROB_094',\n",
       " 'MMI-PROB_095',\n",
       " 'MMI-PROB_096',\n",
       " 'MMI-PROB_097',\n",
       " 'MMI-PROB_098',\n",
       " 'MMI-PROB_099',\n",
       " 'MMI-PROB_100',\n",
       " 'MMI-PROB_101',\n",
       " 'MMI-PROB_103',\n",
       " 'MMI-PROB_104',\n",
       " 'MMI-PROB_106',\n",
       " 'MMI-PROB_107',\n",
       " 'MMI-PROB_109',\n",
       " 'MMI-PROB_113',\n",
       " 'MMI-PROB_115',\n",
       " 'MMI-PROB_116',\n",
       " 'MMI-PROB_118',\n",
       " 'MMI-PROB_119',\n",
       " 'MMI-PROB_122',\n",
       " 'MMI-PROB_123',\n",
       " 'MMI-PROB_124',\n",
       " 'MMI-PROB_125',\n",
       " 'MMI-PROB_126',\n",
       " 'MMI-PROB_127',\n",
       " 'MMI-PROB_128',\n",
       " 'MMI-PROB_130',\n",
       " 'MMI-PROB_133',\n",
       " 'MMI-PROB_134',\n",
       " 'MMI-PROB_137',\n",
       " 'MMI-PROB_138',\n",
       " 'MMI-PROB_139',\n",
       " 'MMI-PROB_140',\n",
       " 'MMI-PROB_141',\n",
       " 'MMI-PROB_143',\n",
       " 'MMI-PROB_144',\n",
       " 'MMI-PROB_145',\n",
       " 'MMI-PROB_146',\n",
       " 'MMI-PROB_147',\n",
       " 'MMI-PROB_149',\n",
       " 'MMI-PROB_150',\n",
       " 'MMI-PROB_151',\n",
       " 'MMI-PROB_152',\n",
       " 'MMI-PROB_153',\n",
       " 'MMI-PROB_154',\n",
       " 'MMI-PROB_156',\n",
       " 'MMI-PROB_159',\n",
       " 'MMI-PROB_160',\n",
       " 'MMI-PROB_161',\n",
       " 'MMI-PROB_162',\n",
       " 'MMI-PROB_163',\n",
       " 'MMI-PROB_165',\n",
       " 'MMI-PROB_166',\n",
       " 'MMI-PROB_169',\n",
       " 'MMI-PROB_170',\n",
       " 'MMI-PROB_171',\n",
       " 'MMI-PROB_172',\n",
       " 'MMI-PROB_175',\n",
       " 'MMI-PROB_177',\n",
       " 'MMI-PROB_179',\n",
       " 'MMI-PROB_180',\n",
       " 'MMI-PROB_182',\n",
       " 'MMI-PROB_183',\n",
       " 'MMI-PROB_184',\n",
       " 'MMI-PROB_185',\n",
       " 'MMI-PROB_186',\n",
       " 'MMI-PROB_187',\n",
       " 'MMI-PROB_188',\n",
       " 'MMI-PROB_189',\n",
       " 'MMI-PROB_190',\n",
       " 'MMI-PROB_191',\n",
       " 'MMI-PROB_192',\n",
       " 'MMI-PROB_193',\n",
       " 'MMI-PROB_194',\n",
       " 'MMI-PROB_195',\n",
       " 'MMI-PROB_196',\n",
       " 'MMI-PROB_199',\n",
       " 'MMI-PROB_200',\n",
       " 'MMI-PROB_201',\n",
       " 'MMI-PROB_203',\n",
       " 'MMI-PROB_204',\n",
       " 'MMI-PROB_207',\n",
       " 'MMI-PROB_208',\n",
       " 'MMI-PROB_209',\n",
       " 'MMI-PROB_210',\n",
       " 'MMI-PROB_211',\n",
       " 'MMI-PROB_212',\n",
       " 'MMI-PROB_214',\n",
       " 'MMI-PROB_215',\n",
       " 'MMI-PROB_218',\n",
       " 'MMI-PROB_219',\n",
       " 'MMI-PROB_220',\n",
       " 'MMI-PROB_221',\n",
       " 'MMI-PROB_222',\n",
       " 'MMI-PROB_223',\n",
       " 'MMI-PROB_225',\n",
       " 'MMI-PROB_226',\n",
       " 'MMI-PROB_230',\n",
       " 'MMI-PROB_232',\n",
       " 'MMI-PROB_233',\n",
       " 'MMI-PROB_234',\n",
       " 'MMI-PROB_235',\n",
       " 'MMI-PROB_236',\n",
       " 'MMI-PROB_247'}"
      ]
     },
     "execution_count": 13,
     "metadata": {},
     "output_type": "execute_result"
    }
   ],
   "source": [
    "set(df_extended_patients[\"id_cercare\"].loc[df_extended_patients[\"id_cercare\"].str.startswith(\"MMI-PROB\")])"
   ]
  },
  {
   "cell_type": "code",
   "execution_count": 15,
   "id": "79ff0337196fdb85",
   "metadata": {
    "ExecuteTime": {
     "end_time": "2024-06-26T12:13:11.818754Z",
     "start_time": "2024-06-26T12:13:11.251039Z"
    }
   },
   "outputs": [
    {
     "data": {
      "text/plain": [
       "{'MMI-PROB_003',\n",
       " 'MMI-PROB_004',\n",
       " 'MMI-PROB_008',\n",
       " 'MMI-PROB_010',\n",
       " 'MMI-PROB_011',\n",
       " 'MMI-PROB_012',\n",
       " 'MMI-PROB_013',\n",
       " 'MMI-PROB_014',\n",
       " 'MMI-PROB_015',\n",
       " 'MMI-PROB_016',\n",
       " 'MMI-PROB_017',\n",
       " 'MMI-PROB_019',\n",
       " 'MMI-PROB_020',\n",
       " 'MMI-PROB_022',\n",
       " 'MMI-PROB_023',\n",
       " 'MMI-PROB_039',\n",
       " 'MMI-PROB_040',\n",
       " 'MMI-PROB_045',\n",
       " 'MMI-PROB_055',\n",
       " 'MMI-PROB_056',\n",
       " 'MMI-PROB_084',\n",
       " 'MMI-PROB_091',\n",
       " 'MMI-PROB_110',\n",
       " 'MMI-PROB_121',\n",
       " 'MMI-PROB_142',\n",
       " 'MMI-PROB_158',\n",
       " 'MMI-PROB_167',\n",
       " 'MMI-PROB_168',\n",
       " 'MMI-PROB_176',\n",
       " 'MMI-PROB_205',\n",
       " 'MMI-PROB_206',\n",
       " 'MMI-PROB_216',\n",
       " 'MMI-PROB_227',\n",
       " 'MMI-PROB_237',\n",
       " 'MMI-PROB_243',\n",
       " 'MMI-PROB_246'}"
      ]
     },
     "execution_count": 15,
     "metadata": {},
     "output_type": "execute_result"
    }
   ],
   "source": [
    "{p.parent.stem for p in (DIR_AIDREAM_ON_NAS / 'Cercare_perfusion' / \"MMI-PROB\").glob(\"*/PERFUSION\")} - set(df_extended_patients[\"id_cercare\"].loc[df_extended_patients[\"id_cercare\"].str.startswith(\"MMI-PROB\")])\n"
   ]
  },
  {
   "cell_type": "code",
   "execution_count": 16,
   "id": "b0fb14e8b424fe40",
   "metadata": {
    "ExecuteTime": {
     "end_time": "2024-06-26T12:13:13.522428Z",
     "start_time": "2024-06-26T12:13:13.520069Z"
    }
   },
   "outputs": [],
   "source": [
    "list_weird_patients = {\n",
    "    'MMI-PROB_003', 'MMI-PROB_004', 'MMI-PROB_008', 'MMI-PROB_010', 'MMI-PROB_011',\n",
    "    'MMI-PROB_012', 'MMI-PROB_013', 'MMI-PROB_014', 'MMI-PROB_015', 'MMI-PROB_016',\n",
    "    'MMI-PROB_017', 'MMI-PROB_019', 'MMI-PROB_020', 'MMI-PROB_022', 'MMI-PROB_023',\n",
    "    'MMI-PROB_039', 'MMI-PROB_040', 'MMI-PROB_045', 'MMI-PROB_055', 'MMI-PROB_056',\n",
    "    'MMI-PROB_084', 'MMI-PROB_091', 'MMI-PROB_110', 'MMI-PROB_121', 'MMI-PROB_142',\n",
    "    'MMI-PROB_158', 'MMI-PROB_167', 'MMI-PROB_168', 'MMI-PROB_176', 'MMI-PROB_205',\n",
    "    'MMI-PROB_206', 'MMI-PROB_216', 'MMI-PROB_227', 'MMI-PROB_237', 'MMI-PROB_243',\n",
    "    'MMI-PROB_246'}"
   ]
  },
  {
   "cell_type": "code",
   "execution_count": 17,
   "id": "b1c6cea4cb4ea57e",
   "metadata": {
    "ExecuteTime": {
     "end_time": "2024-06-26T12:13:14.101068Z",
     "start_time": "2024-06-26T12:13:14.095995Z"
    }
   },
   "outputs": [
    {
     "data": {
      "text/html": [
       "<div>\n",
       "<style scoped>\n",
       "    .dataframe tbody tr th:only-of-type {\n",
       "        vertical-align: middle;\n",
       "    }\n",
       "\n",
       "    .dataframe tbody tr th {\n",
       "        vertical-align: top;\n",
       "    }\n",
       "\n",
       "    .dataframe thead th {\n",
       "        text-align: right;\n",
       "    }\n",
       "</style>\n",
       "<table border=\"1\" class=\"dataframe\">\n",
       "  <thead>\n",
       "    <tr style=\"text-align: right;\">\n",
       "      <th></th>\n",
       "      <th>id_aidream</th>\n",
       "      <th>Centre</th>\n",
       "      <th>Cohorte</th>\n",
       "      <th>id_cercare</th>\n",
       "      <th>IPP</th>\n",
       "      <th>AIDREAM_ID_300pat</th>\n",
       "      <th>avec_perf</th>\n",
       "      <th>IRM_preRT_ax</th>\n",
       "      <th>IRM_rechute_ax</th>\n",
       "      <th>Reperes_preRT</th>\n",
       "      <th>...</th>\n",
       "      <th>recidive_distance</th>\n",
       "      <th>recidive_distance_date</th>\n",
       "      <th>recidive_infield_distant</th>\n",
       "      <th>CT_date</th>\n",
       "      <th>Dosi_date</th>\n",
       "      <th>IRM__preRT_date</th>\n",
       "      <th>IRM__rechute_date</th>\n",
       "      <th>delai_IRMrechute_IRMpreRT_mois</th>\n",
       "      <th>delai_irmrechute_RTj1_jours</th>\n",
       "      <th>PTV_volume_total_cm3</th>\n",
       "    </tr>\n",
       "  </thead>\n",
       "  <tbody>\n",
       "  </tbody>\n",
       "</table>\n",
       "<p>0 rows × 136 columns</p>\n",
       "</div>"
      ],
      "text/plain": [
       "Empty DataFrame\n",
       "Columns: [id_aidream, Centre, Cohorte, id_cercare, IPP, AIDREAM_ID_300pat, avec_perf, IRM_preRT_ax, IRM_rechute_ax, Reperes_preRT, Reperes_Relapse, Donnees_IRM_preRT, Donnees_IRM_rechute, Patient_date_naissance_jj/mm/aaaa, Patient_sexe, Patient_taille_cm, Patient_poids_IRM_preRT_Kg, Patient_poids_IRM_rechute_Kg, Patient_poids_kg, Patient_surface_corporelle_m2, oms, kps, diagnostic_date, age_diag_annees, ssr_mois, os_mois, deces, deces_date, derniere_nouvelle_date, deces_spe, pdv, Chirurgie, Chirurgie_date, TYPE_CHIR(Bx=0_STR=1_GTR=2), CAMI Early relapse, Chirurgie_sup_90, Chirurgie_type, Irm_preop, Irm_preop_date, Tumeur_diametre_max_diag_mm, Tumeur_localisation_Diagnostic, Tumeur_localisation_Diagnostic, Tumeur_multifocal_Diagnostic, CAMI Tumeur_localisation_sur_imagerie_preRT, CAMI Tumeur_multifocal_PreRT, Localisation preRT, multifocal, Frontal_Lobe, Temporal_Lobe, Occipital_Lobe, Parietal_Lobe, Parietal_Temporal_Lobe, Basal_Nuclei, Deep_location_Thalamus_Insula_Brainstem, Corpo_callosum_location, SVZ, Butterfly_location, Tumeur_taille_rt_mm, Gliadel, Grade, Histo, Histo_classe, mgmt_methyl, mgmt_methyl_PB, idh_mute, delai_chirurgie_RTj1_jours, delai_chirurgie_IRMpreRT_jours, delai_chirurgie_recidive_jours, irmRT_date, delai_irmRT_RTj1_jours, delai_irmpreRT_RTj1_jours, RT_j1_date, RT_fin_date, RT_dose_prescrite_Gy, RT_dose_prescrite_max_Gy, RT_dose_prescrite_Gy_niv1, RT_dose_prescrite_Gy_niv2, RT_nr_fractions, RT_nr_fractions_niv1, RT_nr_fractions_niv2, RT_dose_fraction_Gy, RT_dose_fraction_Gy_niv1, RT_dose_fraction_Gy_niv2, EQD_niv1, EQD_niv2, OBS_RT_CV, RT_etalement_jours, RT_etalement_jours_calc, RT_Technique, RT_Technique_classe, RT_TPS, RT_Accelerateur, j0_albumine_g/L, j0_creat_µmol/L, j0_plaquette_10**9/L, j0_GB_10**9/L, j0_pnn_10**9/L, j0_hb_g/100mL, j0_lymphocyte_10**9/L, j0_monocyte_10**9/L, ...]\n",
       "Index: []\n",
       "\n",
       "[0 rows x 136 columns]"
      ]
     },
     "execution_count": 17,
     "metadata": {},
     "output_type": "execute_result"
    }
   ],
   "source": [
    "df_clinical_data.loc[df_clinical_data[\"id_cercare\"].isin(list_weird_patients)]"
   ]
  },
  {
   "cell_type": "code",
   "execution_count": 18,
   "id": "483e4b9a34581303",
   "metadata": {
    "ExecuteTime": {
     "end_time": "2024-06-26T12:13:16.664974Z",
     "start_time": "2024-06-26T12:13:16.659697Z"
    }
   },
   "outputs": [],
   "source": [
    "# Select relevant columns and rename them :\n",
    "\n",
    "old_cols = [('patient id', 'patient id'), ('', 'Perfusion?'),\n",
    "                ('pre-RT', 'Autoseg?'), ('pre-RT', 'Label1'), ('pre-RT', 'Label3'), ('pre-RT', 'Obs2_preRT_CS'), ( 'pre-RT', 'Obs3_preRT_CV'),\n",
    "                ('Relapse', 'Autoseg?'), ('Relapse', 'Label1'), ('Relapse', 'Label3'), ('Relapse', 'OBS2_relapse_CS'), ('Relapse', 'OBS3_relapse_CV')]\n",
    "\n",
    "new_cols = [\"patient id\", \"Perfusion?\",\"Pre-RT Autoseg?\", \"Pre-RT Label1\", \"Pre-RT Label3\", \"Pre-RT Obs2_preRT_CS\", \"Pre-RT Obs3_preRT_CV\",\n",
    "            \"Relapse Autoseg?\", \"Relapse Label1\", \"Relapse Label3\", \"Relapse OBS2_relapse_CS\", \"Relapse OBS3_relapse_CV\"]\n",
    "\n",
    "df_cohort_info = pd.DataFrame(df_cohort_info[old_cols].values, columns=new_cols)\n"
   ]
  },
  {
   "cell_type": "code",
   "execution_count": 19,
   "id": "932ae26f1fb46363",
   "metadata": {
    "ExecuteTime": {
     "end_time": "2024-06-26T12:13:17.059697Z",
     "start_time": "2024-06-26T12:13:17.056523Z"
    }
   },
   "outputs": [
    {
     "data": {
      "text/plain": [
       "Pre-RT Autoseg?\n",
       "AC_repATLAS                                  148\n",
       "GE_repNATIV                                   44\n",
       "GE_repNativAXIALISEDnew_surAppliGE            25\n",
       "GE_repNativnew_surAppliGE                     15\n",
       "Manuel/GE_repNativnew_surAppliGE               1\n",
       "Manuel/GE_repNativAXIALISEDnew_surAppliGE      1\n",
       "Name: count, dtype: int64"
      ]
     },
     "execution_count": 19,
     "metadata": {},
     "output_type": "execute_result"
    }
   ],
   "source": [
    "df_cohort_info['Pre-RT Autoseg?'].value_counts()"
   ]
  },
  {
   "cell_type": "code",
   "execution_count": 21,
   "id": "86eddfebbdd2f587",
   "metadata": {
    "ExecuteTime": {
     "end_time": "2024-06-26T12:13:22.438371Z",
     "start_time": "2024-06-26T12:13:22.436404Z"
    }
   },
   "outputs": [],
   "source": [
    "list_extended_patients = df_cohort_info['patient id'].values.tolist()\n"
   ]
  },
  {
   "cell_type": "code",
   "execution_count": 22,
   "id": "c33af2529212f990",
   "metadata": {
    "ExecuteTime": {
     "end_time": "2024-06-26T12:13:22.870726Z",
     "start_time": "2024-06-26T12:13:22.864745Z"
    }
   },
   "outputs": [
    {
     "data": {
      "text/html": [
       "<div>\n",
       "<style scoped>\n",
       "    .dataframe tbody tr th:only-of-type {\n",
       "        vertical-align: middle;\n",
       "    }\n",
       "\n",
       "    .dataframe tbody tr th {\n",
       "        vertical-align: top;\n",
       "    }\n",
       "\n",
       "    .dataframe thead th {\n",
       "        text-align: right;\n",
       "    }\n",
       "</style>\n",
       "<table border=\"1\" class=\"dataframe\">\n",
       "  <thead>\n",
       "    <tr style=\"text-align: right;\">\n",
       "      <th></th>\n",
       "      <th>patient id</th>\n",
       "      <th>Perfusion?</th>\n",
       "      <th>Pre-RT Autoseg?</th>\n",
       "      <th>Pre-RT Label1</th>\n",
       "      <th>Pre-RT Label3</th>\n",
       "      <th>Pre-RT Obs2_preRT_CS</th>\n",
       "      <th>Pre-RT Obs3_preRT_CV</th>\n",
       "      <th>Relapse Autoseg?</th>\n",
       "      <th>Relapse Label1</th>\n",
       "      <th>Relapse Label3</th>\n",
       "      <th>Relapse OBS2_relapse_CS</th>\n",
       "      <th>Relapse OBS3_relapse_CV</th>\n",
       "    </tr>\n",
       "  </thead>\n",
       "  <tbody>\n",
       "    <tr>\n",
       "      <th>31</th>\n",
       "      <td>AIDREAM_131</td>\n",
       "      <td>oui</td>\n",
       "      <td>GE_repNativAXIALISEDnew_surAppliGE</td>\n",
       "      <td></td>\n",
       "      <td>1</td>\n",
       "      <td></td>\n",
       "      <td>L3 prêt sur le new autoseg GE</td>\n",
       "      <td>GE_repNativAXIALISEDnew_surAppliGE</td>\n",
       "      <td>1</td>\n",
       "      <td>1</td>\n",
       "      <td></td>\n",
       "      <td></td>\n",
       "    </tr>\n",
       "    <tr>\n",
       "      <th>153</th>\n",
       "      <td>AIDREAM_365</td>\n",
       "      <td>oui</td>\n",
       "      <td>GE_repNativAXIALISEDnew_surAppliGE</td>\n",
       "      <td></td>\n",
       "      <td></td>\n",
       "      <td></td>\n",
       "      <td></td>\n",
       "      <td>GE_repNativAXIALISEDnew_surAppliGE</td>\n",
       "      <td></td>\n",
       "      <td>1</td>\n",
       "      <td></td>\n",
       "      <td>L3 prêt sur le new autoseg GE</td>\n",
       "    </tr>\n",
       "    <tr>\n",
       "      <th>155</th>\n",
       "      <td>AIDREAM_367</td>\n",
       "      <td>oui</td>\n",
       "      <td>GE_repNativAXIALISEDnew_surAppliGE</td>\n",
       "      <td></td>\n",
       "      <td>0</td>\n",
       "      <td></td>\n",
       "      <td>à valider les images</td>\n",
       "      <td>GE_repNativAXIALISEDnew_surAppliGE</td>\n",
       "      <td></td>\n",
       "      <td>1</td>\n",
       "      <td></td>\n",
       "      <td>L3 prêt sur le new autoseg GE</td>\n",
       "    </tr>\n",
       "  </tbody>\n",
       "</table>\n",
       "</div>"
      ],
      "text/plain": [
       "      patient id Perfusion?                     Pre-RT Autoseg? Pre-RT Label1  \\\n",
       "31   AIDREAM_131        oui  GE_repNativAXIALISEDnew_surAppliGE                 \n",
       "153  AIDREAM_365        oui  GE_repNativAXIALISEDnew_surAppliGE                 \n",
       "155  AIDREAM_367        oui  GE_repNativAXIALISEDnew_surAppliGE                 \n",
       "\n",
       "    Pre-RT Label3 Pre-RT Obs2_preRT_CS           Pre-RT Obs3_preRT_CV  \\\n",
       "31              1                       L3 prêt sur le new autoseg GE   \n",
       "153                                                                     \n",
       "155             0                                à valider les images   \n",
       "\n",
       "                       Relapse Autoseg? Relapse Label1 Relapse Label3  \\\n",
       "31   GE_repNativAXIALISEDnew_surAppliGE              1              1   \n",
       "153  GE_repNativAXIALISEDnew_surAppliGE                             1   \n",
       "155  GE_repNativAXIALISEDnew_surAppliGE                             1   \n",
       "\n",
       "    Relapse OBS2_relapse_CS        Relapse OBS3_relapse_CV  \n",
       "31                                                          \n",
       "153                          L3 prêt sur le new autoseg GE  \n",
       "155                          L3 prêt sur le new autoseg GE  "
      ]
     },
     "execution_count": 22,
     "metadata": {},
     "output_type": "execute_result"
    }
   ],
   "source": [
    "df_cohort_info.loc[(df_cohort_info['Pre-RT Label1'] == \"\")]"
   ]
  },
  {
   "cell_type": "code",
   "execution_count": 9,
   "id": "20a77745314495a9",
   "metadata": {
    "ExecuteTime": {
     "end_time": "2024-06-17T15:24:03.398603Z",
     "start_time": "2024-06-17T15:24:03.395154Z"
    }
   },
   "outputs": [],
   "source": [
    "df_cohort_info = df_cohort_info.loc[\n",
    "    (df_cohort_info['Pre-RT Label1'] != \"\") &\n",
    "    (df_cohort_info['Pre-RT Label3'] != \"\") &\n",
    "    (df_cohort_info['Pre-RT Obs2_preRT_CS'] != \"\") &\n",
    "    # (df_cohort_info['Pre-RT Obs3_preRT_CV'] != \"\") &   \n",
    "    (df_cohort_info['Relapse Label3'] != \"\")  &\n",
    "    (df_cohort_info['Relapse OBS2_relapse_CS'] != \"\") \n",
    "    # (df_cohort_info['Relapse OBS3_relapse_CV'] != \"\")\n",
    "]"
   ]
  },
  {
   "cell_type": "code",
   "execution_count": 10,
   "id": "903b825c2714d6e2",
   "metadata": {
    "ExecuteTime": {
     "end_time": "2024-06-17T15:24:04.099729Z",
     "start_time": "2024-06-17T15:24:04.096791Z"
    }
   },
   "outputs": [
    {
     "data": {
      "text/plain": [
       "Index(['patient id', 'Perfusion?', 'Pre-RT Autoseg?', 'Pre-RT Label1',\n",
       "       'Pre-RT Label3', 'Pre-RT Obs2_preRT_CS', 'Pre-RT Obs3_preRT_CV',\n",
       "       'Relapse Autoseg?', 'Relapse Label1', 'Relapse Label3',\n",
       "       'Relapse OBS2_relapse_CS', 'Relapse OBS3_relapse_CV'],\n",
       "      dtype='object')"
      ]
     },
     "execution_count": 10,
     "metadata": {},
     "output_type": "execute_result"
    }
   ],
   "source": [
    "df_cohort_info.columns"
   ]
  },
  {
   "cell_type": "code",
   "execution_count": 11,
   "id": "f6109e5e8e9ab671",
   "metadata": {
    "ExecuteTime": {
     "end_time": "2024-06-17T15:24:04.434029Z",
     "start_time": "2024-06-17T15:24:04.430682Z"
    }
   },
   "outputs": [
    {
     "data": {
      "text/plain": [
       "Pre-RT Autoseg?\n",
       "AC_repATLAS    55\n",
       "GE_repNATIV     1\n",
       "Name: count, dtype: int64"
      ]
     },
     "execution_count": 11,
     "metadata": {},
     "output_type": "execute_result"
    }
   ],
   "source": [
    "# Check the annotation referential of the patients at pre-RT: \n",
    "df_cohort_info['Pre-RT Autoseg?'].value_counts()\n"
   ]
  },
  {
   "cell_type": "code",
   "execution_count": 9,
   "id": "5366c011c7a60987",
   "metadata": {
    "ExecuteTime": {
     "end_time": "2024-06-18T16:58:51.882786Z",
     "start_time": "2024-06-18T16:58:51.879882Z"
    }
   },
   "outputs": [
    {
     "data": {
      "text/plain": [
       "['AIDREAM_1',\n",
       " 'AIDREAM_10',\n",
       " 'AIDREAM_100',\n",
       " 'AIDREAM_101',\n",
       " 'AIDREAM_102',\n",
       " 'AIDREAM_103',\n",
       " 'AIDREAM_104',\n",
       " 'AIDREAM_106',\n",
       " 'AIDREAM_109',\n",
       " 'AIDREAM_11',\n",
       " 'AIDREAM_110',\n",
       " 'AIDREAM_112',\n",
       " 'AIDREAM_113',\n",
       " 'AIDREAM_114',\n",
       " 'AIDREAM_115',\n",
       " 'AIDREAM_116',\n",
       " 'AIDREAM_117',\n",
       " 'AIDREAM_118',\n",
       " 'AIDREAM_12',\n",
       " 'AIDREAM_120',\n",
       " 'AIDREAM_121',\n",
       " 'AIDREAM_122',\n",
       " 'AIDREAM_123',\n",
       " 'AIDREAM_124',\n",
       " 'AIDREAM_125',\n",
       " 'AIDREAM_126',\n",
       " 'AIDREAM_127',\n",
       " 'AIDREAM_128',\n",
       " 'AIDREAM_129',\n",
       " 'AIDREAM_13',\n",
       " 'AIDREAM_130',\n",
       " 'AIDREAM_131',\n",
       " 'AIDREAM_132',\n",
       " 'AIDREAM_133',\n",
       " 'AIDREAM_135',\n",
       " 'AIDREAM_136',\n",
       " 'AIDREAM_137',\n",
       " 'AIDREAM_139',\n",
       " 'AIDREAM_14',\n",
       " 'AIDREAM_140',\n",
       " 'AIDREAM_141',\n",
       " 'AIDREAM_142',\n",
       " 'AIDREAM_143',\n",
       " 'AIDREAM_144',\n",
       " 'AIDREAM_145',\n",
       " 'AIDREAM_146',\n",
       " 'AIDREAM_147',\n",
       " 'AIDREAM_148',\n",
       " 'AIDREAM_149',\n",
       " 'AIDREAM_15',\n",
       " 'AIDREAM_151',\n",
       " 'AIDREAM_152',\n",
       " 'AIDREAM_153',\n",
       " 'AIDREAM_16',\n",
       " 'AIDREAM_17',\n",
       " 'AIDREAM_18',\n",
       " 'AIDREAM_19',\n",
       " 'AIDREAM_2',\n",
       " 'AIDREAM_20',\n",
       " 'AIDREAM_200',\n",
       " 'AIDREAM_201',\n",
       " 'AIDREAM_202',\n",
       " 'AIDREAM_203',\n",
       " 'AIDREAM_204',\n",
       " 'AIDREAM_206',\n",
       " 'AIDREAM_208',\n",
       " 'AIDREAM_209',\n",
       " 'AIDREAM_21',\n",
       " 'AIDREAM_22',\n",
       " 'AIDREAM_223',\n",
       " 'AIDREAM_224',\n",
       " 'AIDREAM_225',\n",
       " 'AIDREAM_226',\n",
       " 'AIDREAM_227',\n",
       " 'AIDREAM_228',\n",
       " 'AIDREAM_229',\n",
       " 'AIDREAM_230',\n",
       " 'AIDREAM_231',\n",
       " 'AIDREAM_232',\n",
       " 'AIDREAM_233',\n",
       " 'AIDREAM_234',\n",
       " 'AIDREAM_235',\n",
       " 'AIDREAM_237',\n",
       " 'AIDREAM_238',\n",
       " 'AIDREAM_239',\n",
       " 'AIDREAM_24',\n",
       " 'AIDREAM_240',\n",
       " 'AIDREAM_241',\n",
       " 'AIDREAM_242',\n",
       " 'AIDREAM_243',\n",
       " 'AIDREAM_244',\n",
       " 'AIDREAM_245',\n",
       " 'AIDREAM_247',\n",
       " 'AIDREAM_248',\n",
       " 'AIDREAM_25',\n",
       " 'AIDREAM_26',\n",
       " 'AIDREAM_28',\n",
       " 'AIDREAM_29',\n",
       " 'AIDREAM_3',\n",
       " 'AIDREAM_30',\n",
       " 'AIDREAM_301',\n",
       " 'AIDREAM_303',\n",
       " 'AIDREAM_306',\n",
       " 'AIDREAM_307',\n",
       " 'AIDREAM_308',\n",
       " 'AIDREAM_31',\n",
       " 'AIDREAM_310',\n",
       " 'AIDREAM_311',\n",
       " 'AIDREAM_312',\n",
       " 'AIDREAM_314',\n",
       " 'AIDREAM_315',\n",
       " 'AIDREAM_317',\n",
       " 'AIDREAM_319',\n",
       " 'AIDREAM_32',\n",
       " 'AIDREAM_320',\n",
       " 'AIDREAM_322',\n",
       " 'AIDREAM_323',\n",
       " 'AIDREAM_324',\n",
       " 'AIDREAM_326',\n",
       " 'AIDREAM_327',\n",
       " 'AIDREAM_328',\n",
       " 'AIDREAM_329',\n",
       " 'AIDREAM_33',\n",
       " 'AIDREAM_330',\n",
       " 'AIDREAM_331',\n",
       " 'AIDREAM_332',\n",
       " 'AIDREAM_334',\n",
       " 'AIDREAM_335',\n",
       " 'AIDREAM_336',\n",
       " 'AIDREAM_339',\n",
       " 'AIDREAM_34',\n",
       " 'AIDREAM_341',\n",
       " 'AIDREAM_342',\n",
       " 'AIDREAM_343',\n",
       " 'AIDREAM_344',\n",
       " 'AIDREAM_345',\n",
       " 'AIDREAM_346',\n",
       " 'AIDREAM_348',\n",
       " 'AIDREAM_349',\n",
       " 'AIDREAM_35',\n",
       " 'AIDREAM_350',\n",
       " 'AIDREAM_351',\n",
       " 'AIDREAM_354',\n",
       " 'AIDREAM_356',\n",
       " 'AIDREAM_357',\n",
       " 'AIDREAM_358',\n",
       " 'AIDREAM_359',\n",
       " 'AIDREAM_36',\n",
       " 'AIDREAM_360',\n",
       " 'AIDREAM_361',\n",
       " 'AIDREAM_362',\n",
       " 'AIDREAM_363',\n",
       " 'AIDREAM_364',\n",
       " 'AIDREAM_365',\n",
       " 'AIDREAM_366',\n",
       " 'AIDREAM_367',\n",
       " 'AIDREAM_370',\n",
       " 'AIDREAM_371',\n",
       " 'AIDREAM_372',\n",
       " 'AIDREAM_373',\n",
       " 'AIDREAM_374',\n",
       " 'AIDREAM_375',\n",
       " 'AIDREAM_378',\n",
       " 'AIDREAM_379',\n",
       " 'AIDREAM_38',\n",
       " 'AIDREAM_380',\n",
       " 'AIDREAM_381',\n",
       " 'AIDREAM_382',\n",
       " 'AIDREAM_385',\n",
       " 'AIDREAM_389',\n",
       " 'AIDREAM_39',\n",
       " 'AIDREAM_390',\n",
       " 'AIDREAM_391',\n",
       " 'AIDREAM_393',\n",
       " 'AIDREAM_394',\n",
       " 'AIDREAM_397',\n",
       " 'AIDREAM_399',\n",
       " 'AIDREAM_4',\n",
       " 'AIDREAM_40',\n",
       " 'AIDREAM_400',\n",
       " 'AIDREAM_41',\n",
       " 'AIDREAM_42',\n",
       " 'AIDREAM_43',\n",
       " 'AIDREAM_44',\n",
       " 'AIDREAM_45',\n",
       " 'AIDREAM_46',\n",
       " 'AIDREAM_48',\n",
       " 'AIDREAM_49',\n",
       " 'AIDREAM_5',\n",
       " 'AIDREAM_50',\n",
       " 'AIDREAM_51',\n",
       " 'AIDREAM_52',\n",
       " 'AIDREAM_53',\n",
       " 'AIDREAM_54',\n",
       " 'AIDREAM_56',\n",
       " 'AIDREAM_57',\n",
       " 'AIDREAM_58',\n",
       " 'AIDREAM_59',\n",
       " 'AIDREAM_6',\n",
       " 'AIDREAM_60',\n",
       " 'AIDREAM_61',\n",
       " 'AIDREAM_62',\n",
       " 'AIDREAM_63',\n",
       " 'AIDREAM_64',\n",
       " 'AIDREAM_65',\n",
       " 'AIDREAM_67',\n",
       " 'AIDREAM_68',\n",
       " 'AIDREAM_69',\n",
       " 'AIDREAM_7',\n",
       " 'AIDREAM_70',\n",
       " 'AIDREAM_71',\n",
       " 'AIDREAM_72',\n",
       " 'AIDREAM_73',\n",
       " 'AIDREAM_74',\n",
       " 'AIDREAM_75',\n",
       " 'AIDREAM_76',\n",
       " 'AIDREAM_78',\n",
       " 'AIDREAM_79',\n",
       " 'AIDREAM_80',\n",
       " 'AIDREAM_81',\n",
       " 'AIDREAM_82',\n",
       " 'AIDREAM_84',\n",
       " 'AIDREAM_85',\n",
       " 'AIDREAM_88',\n",
       " 'AIDREAM_89',\n",
       " 'AIDREAM_9',\n",
       " 'AIDREAM_90',\n",
       " 'AIDREAM_92',\n",
       " 'AIDREAM_93',\n",
       " 'AIDREAM_94',\n",
       " 'AIDREAM_96',\n",
       " 'AIDREAM_97',\n",
       " 'AIDREAM_98',\n",
       " 'AIDREAM_99']"
      ]
     },
     "execution_count": 9,
     "metadata": {},
     "output_type": "execute_result"
    }
   ],
   "source": [
    "list_extended_patients"
   ]
  },
  {
   "cell_type": "code",
   "execution_count": 23,
   "id": "cc7809061e22a5d",
   "metadata": {
    "ExecuteTime": {
     "end_time": "2024-06-26T12:13:32.758293Z",
     "start_time": "2024-06-26T12:13:31.612193Z"
    }
   },
   "outputs": [],
   "source": [
    "df_ref = pd.read_excel(DIR_AIDREAM_ON_NAS / \"AIDREAM_All\" / \"AIDREAM_DonneesCliniques_975Patients_v.31082023.xlsx\")\n",
    "df_ref.rename(columns={'New_ID_AIDREAM':'id_aidream'}, inplace=True)\n",
    "df_ref = df_ref[['id_aidream', 'ID_local']].loc[df_ref['id_aidream'].isin(list_extended_patients)]\n"
   ]
  },
  {
   "cell_type": "code",
   "execution_count": 32,
   "id": "4a8ef27d850e075d",
   "metadata": {
    "ExecuteTime": {
     "end_time": "2024-06-18T17:17:51.815590Z",
     "start_time": "2024-06-18T17:17:51.811030Z"
    }
   },
   "outputs": [],
   "source": [
    "df_available_data = pd.read_csv(\"extended_patients.csv\")\n",
    "df_ref = df_ref.merge(df_available_data, on='id_aidream', how=\"left\")\n",
    "df_ref.to_csv(\"extended_patients.csv\", index=False)"
   ]
  },
  {
   "cell_type": "code",
   "execution_count": 24,
   "id": "3c093fb46bcf50fa",
   "metadata": {
    "ExecuteTime": {
     "end_time": "2024-06-26T12:13:44.772298Z",
     "start_time": "2024-06-26T12:13:44.769405Z"
    }
   },
   "outputs": [],
   "source": [
    "df_ref = pd.read_csv(\"extended_patients.csv\")"
   ]
  },
  {
   "cell_type": "code",
   "execution_count": 25,
   "id": "52ffd27dd3a4d693",
   "metadata": {
    "ExecuteTime": {
     "end_time": "2024-06-26T12:13:57.401808Z",
     "start_time": "2024-06-26T12:13:56.736091Z"
    }
   },
   "outputs": [
    {
     "ename": "KeyError",
     "evalue": "\"['Patient ID'] not in index\"",
     "output_type": "error",
     "traceback": [
      "\u001b[0;31m---------------------------------------------------------------------------\u001b[0m",
      "\u001b[0;31mKeyError\u001b[0m                                  Traceback (most recent call last)",
      "Cell \u001b[0;32mIn[25], line 3\u001b[0m\n\u001b[1;32m      1\u001b[0m df_missing_patients_36 \u001b[38;5;241m=\u001b[39m df_ref\u001b[38;5;241m.\u001b[39mloc[df_ref[\u001b[38;5;124m\"\u001b[39m\u001b[38;5;124mPerfusion directory\u001b[39m\u001b[38;5;124m\"\u001b[39m] \u001b[38;5;241m==\u001b[39m \u001b[38;5;124m\"\u001b[39m\u001b[38;5;124mNot found\u001b[39m\u001b[38;5;124m\"\u001b[39m]\u001b[38;5;241m.\u001b[39mreset_index(drop\u001b[38;5;241m=\u001b[39m\u001b[38;5;28;01mTrue\u001b[39;00m)\n\u001b[1;32m      2\u001b[0m df_missing_patients_36\u001b[38;5;241m.\u001b[39mrename(columns\u001b[38;5;241m=\u001b[39m{\u001b[38;5;124m\"\u001b[39m\u001b[38;5;124mID_local\u001b[39m\u001b[38;5;124m\"\u001b[39m: \u001b[38;5;124m\"\u001b[39m\u001b[38;5;124mPatient ID\u001b[39m\u001b[38;5;124m\"\u001b[39m}, inplace\u001b[38;5;241m=\u001b[39m\u001b[38;5;28;01mTrue\u001b[39;00m)\n\u001b[0;32m----> 3\u001b[0m df_missing_patients_36[[\u001b[38;5;124m\"\u001b[39m\u001b[38;5;124mPatient ID\u001b[39m\u001b[38;5;124m\"\u001b[39m, \u001b[38;5;124m\"\u001b[39m\u001b[38;5;124mid_aidream\u001b[39m\u001b[38;5;124m\"\u001b[39m]]\u001b[38;5;241m.\u001b[39mto_csv(\u001b[38;5;124m\"\u001b[39m\u001b[38;5;124mmissing_patients_36.csv\u001b[39m\u001b[38;5;124m\"\u001b[39m, index\u001b[38;5;241m=\u001b[39m\u001b[38;5;28;01mFalse\u001b[39;00m)\n",
      "File \u001b[0;32m~/anaconda3/envs/env_relapse_prediction/lib/python3.11/site-packages/pandas/core/frame.py:4108\u001b[0m, in \u001b[0;36mDataFrame.__getitem__\u001b[0;34m(self, key)\u001b[0m\n\u001b[1;32m   4106\u001b[0m     \u001b[38;5;28;01mif\u001b[39;00m is_iterator(key):\n\u001b[1;32m   4107\u001b[0m         key \u001b[38;5;241m=\u001b[39m \u001b[38;5;28mlist\u001b[39m(key)\n\u001b[0;32m-> 4108\u001b[0m     indexer \u001b[38;5;241m=\u001b[39m \u001b[38;5;28mself\u001b[39m\u001b[38;5;241m.\u001b[39mcolumns\u001b[38;5;241m.\u001b[39m_get_indexer_strict(key, \u001b[38;5;124m\"\u001b[39m\u001b[38;5;124mcolumns\u001b[39m\u001b[38;5;124m\"\u001b[39m)[\u001b[38;5;241m1\u001b[39m]\n\u001b[1;32m   4110\u001b[0m \u001b[38;5;66;03m# take() does not accept boolean indexers\u001b[39;00m\n\u001b[1;32m   4111\u001b[0m \u001b[38;5;28;01mif\u001b[39;00m \u001b[38;5;28mgetattr\u001b[39m(indexer, \u001b[38;5;124m\"\u001b[39m\u001b[38;5;124mdtype\u001b[39m\u001b[38;5;124m\"\u001b[39m, \u001b[38;5;28;01mNone\u001b[39;00m) \u001b[38;5;241m==\u001b[39m \u001b[38;5;28mbool\u001b[39m:\n",
      "File \u001b[0;32m~/anaconda3/envs/env_relapse_prediction/lib/python3.11/site-packages/pandas/core/indexes/base.py:6200\u001b[0m, in \u001b[0;36mIndex._get_indexer_strict\u001b[0;34m(self, key, axis_name)\u001b[0m\n\u001b[1;32m   6197\u001b[0m \u001b[38;5;28;01melse\u001b[39;00m:\n\u001b[1;32m   6198\u001b[0m     keyarr, indexer, new_indexer \u001b[38;5;241m=\u001b[39m \u001b[38;5;28mself\u001b[39m\u001b[38;5;241m.\u001b[39m_reindex_non_unique(keyarr)\n\u001b[0;32m-> 6200\u001b[0m \u001b[38;5;28mself\u001b[39m\u001b[38;5;241m.\u001b[39m_raise_if_missing(keyarr, indexer, axis_name)\n\u001b[1;32m   6202\u001b[0m keyarr \u001b[38;5;241m=\u001b[39m \u001b[38;5;28mself\u001b[39m\u001b[38;5;241m.\u001b[39mtake(indexer)\n\u001b[1;32m   6203\u001b[0m \u001b[38;5;28;01mif\u001b[39;00m \u001b[38;5;28misinstance\u001b[39m(key, Index):\n\u001b[1;32m   6204\u001b[0m     \u001b[38;5;66;03m# GH 42790 - Preserve name from an Index\u001b[39;00m\n",
      "File \u001b[0;32m~/anaconda3/envs/env_relapse_prediction/lib/python3.11/site-packages/pandas/core/indexes/base.py:6252\u001b[0m, in \u001b[0;36mIndex._raise_if_missing\u001b[0;34m(self, key, indexer, axis_name)\u001b[0m\n\u001b[1;32m   6249\u001b[0m     \u001b[38;5;28;01mraise\u001b[39;00m \u001b[38;5;167;01mKeyError\u001b[39;00m(\u001b[38;5;124mf\u001b[39m\u001b[38;5;124m\"\u001b[39m\u001b[38;5;124mNone of [\u001b[39m\u001b[38;5;132;01m{\u001b[39;00mkey\u001b[38;5;132;01m}\u001b[39;00m\u001b[38;5;124m] are in the [\u001b[39m\u001b[38;5;132;01m{\u001b[39;00maxis_name\u001b[38;5;132;01m}\u001b[39;00m\u001b[38;5;124m]\u001b[39m\u001b[38;5;124m\"\u001b[39m)\n\u001b[1;32m   6251\u001b[0m not_found \u001b[38;5;241m=\u001b[39m \u001b[38;5;28mlist\u001b[39m(ensure_index(key)[missing_mask\u001b[38;5;241m.\u001b[39mnonzero()[\u001b[38;5;241m0\u001b[39m]]\u001b[38;5;241m.\u001b[39munique())\n\u001b[0;32m-> 6252\u001b[0m \u001b[38;5;28;01mraise\u001b[39;00m \u001b[38;5;167;01mKeyError\u001b[39;00m(\u001b[38;5;124mf\u001b[39m\u001b[38;5;124m\"\u001b[39m\u001b[38;5;132;01m{\u001b[39;00mnot_found\u001b[38;5;132;01m}\u001b[39;00m\u001b[38;5;124m not in index\u001b[39m\u001b[38;5;124m\"\u001b[39m)\n",
      "\u001b[0;31mKeyError\u001b[0m: \"['Patient ID'] not in index\""
     ]
    }
   ],
   "source": [
    "df_missing_patients_36 = df_ref.loc[df_ref[\"Perfusion directory\"] == \"Not found\"].reset_index(drop=True)\n",
    "df_missing_patients_36.rename(columns={\"ID_local\": \"Patient ID\"}, inplace=True)\n",
    "df_missing_patients_36[[\"Patient ID\", \"id_aidream\"]].to_csv(\"missing_patients_36.csv\", index=False)"
   ]
  },
  {
   "cell_type": "code",
   "execution_count": 26,
   "id": "624d3729a1eed006",
   "metadata": {
    "ExecuteTime": {
     "end_time": "2024-06-26T12:14:09.970779Z",
     "start_time": "2024-06-26T12:14:09.967024Z"
    }
   },
   "outputs": [
    {
     "data": {
      "text/html": [
       "<div>\n",
       "<style scoped>\n",
       "    .dataframe tbody tr th:only-of-type {\n",
       "        vertical-align: middle;\n",
       "    }\n",
       "\n",
       "    .dataframe tbody tr th {\n",
       "        vertical-align: top;\n",
       "    }\n",
       "\n",
       "    .dataframe thead th {\n",
       "        text-align: right;\n",
       "    }\n",
       "</style>\n",
       "<table border=\"1\" class=\"dataframe\">\n",
       "  <thead>\n",
       "    <tr style=\"text-align: right;\">\n",
       "      <th></th>\n",
       "      <th>id_aidream</th>\n",
       "      <th>id_cercare</th>\n",
       "      <th>Perfusion directory</th>\n",
       "    </tr>\n",
       "  </thead>\n",
       "  <tbody>\n",
       "    <tr>\n",
       "      <th>0</th>\n",
       "      <td>AIDREAM_1</td>\n",
       "      <td>MMI-PROB_140</td>\n",
       "      <td>/run/user/1001/gvfs/smb-share:server=31.10.11....</td>\n",
       "    </tr>\n",
       "    <tr>\n",
       "      <th>1</th>\n",
       "      <td>AIDREAM_2</td>\n",
       "      <td>MMI-PROB_209</td>\n",
       "      <td>/run/user/1001/gvfs/smb-share:server=31.10.11....</td>\n",
       "    </tr>\n",
       "    <tr>\n",
       "      <th>2</th>\n",
       "      <td>AIDREAM_3</td>\n",
       "      <td>MMI-PROB_180</td>\n",
       "      <td>/run/user/1001/gvfs/smb-share:server=31.10.11....</td>\n",
       "    </tr>\n",
       "    <tr>\n",
       "      <th>3</th>\n",
       "      <td>AIDREAM_4</td>\n",
       "      <td>MMI-PROB_069</td>\n",
       "      <td>/run/user/1001/gvfs/smb-share:server=31.10.11....</td>\n",
       "    </tr>\n",
       "    <tr>\n",
       "      <th>4</th>\n",
       "      <td>AIDREAM_5</td>\n",
       "      <td>MMI-PROB_138</td>\n",
       "      <td>Not found</td>\n",
       "    </tr>\n",
       "    <tr>\n",
       "      <th>...</th>\n",
       "      <td>...</td>\n",
       "      <td>...</td>\n",
       "      <td>...</td>\n",
       "    </tr>\n",
       "    <tr>\n",
       "      <th>229</th>\n",
       "      <td>AIDREAM_393</td>\n",
       "      <td>AIDREAM_393</td>\n",
       "      <td>/run/user/1001/gvfs/smb-share:server=31.10.11....</td>\n",
       "    </tr>\n",
       "    <tr>\n",
       "      <th>230</th>\n",
       "      <td>AIDREAM_394</td>\n",
       "      <td>AIDREAM_394</td>\n",
       "      <td>/run/user/1001/gvfs/smb-share:server=31.10.11....</td>\n",
       "    </tr>\n",
       "    <tr>\n",
       "      <th>231</th>\n",
       "      <td>AIDREAM_397</td>\n",
       "      <td>AIDREAM_397</td>\n",
       "      <td>Not found</td>\n",
       "    </tr>\n",
       "    <tr>\n",
       "      <th>232</th>\n",
       "      <td>AIDREAM_399</td>\n",
       "      <td>AIDREAM_399</td>\n",
       "      <td>/run/user/1001/gvfs/smb-share:server=31.10.11....</td>\n",
       "    </tr>\n",
       "    <tr>\n",
       "      <th>233</th>\n",
       "      <td>AIDREAM_400</td>\n",
       "      <td>AIDREAM_400</td>\n",
       "      <td>/run/user/1001/gvfs/smb-share:server=31.10.11....</td>\n",
       "    </tr>\n",
       "  </tbody>\n",
       "</table>\n",
       "<p>234 rows × 3 columns</p>\n",
       "</div>"
      ],
      "text/plain": [
       "      id_aidream    id_cercare  \\\n",
       "0      AIDREAM_1  MMI-PROB_140   \n",
       "1      AIDREAM_2  MMI-PROB_209   \n",
       "2      AIDREAM_3  MMI-PROB_180   \n",
       "3      AIDREAM_4  MMI-PROB_069   \n",
       "4      AIDREAM_5  MMI-PROB_138   \n",
       "..           ...           ...   \n",
       "229  AIDREAM_393   AIDREAM_393   \n",
       "230  AIDREAM_394   AIDREAM_394   \n",
       "231  AIDREAM_397   AIDREAM_397   \n",
       "232  AIDREAM_399   AIDREAM_399   \n",
       "233  AIDREAM_400   AIDREAM_400   \n",
       "\n",
       "                                   Perfusion directory  \n",
       "0    /run/user/1001/gvfs/smb-share:server=31.10.11....  \n",
       "1    /run/user/1001/gvfs/smb-share:server=31.10.11....  \n",
       "2    /run/user/1001/gvfs/smb-share:server=31.10.11....  \n",
       "3    /run/user/1001/gvfs/smb-share:server=31.10.11....  \n",
       "4                                            Not found  \n",
       "..                                                 ...  \n",
       "229  /run/user/1001/gvfs/smb-share:server=31.10.11....  \n",
       "230  /run/user/1001/gvfs/smb-share:server=31.10.11....  \n",
       "231                                          Not found  \n",
       "232  /run/user/1001/gvfs/smb-share:server=31.10.11....  \n",
       "233  /run/user/1001/gvfs/smb-share:server=31.10.11....  \n",
       "\n",
       "[234 rows x 3 columns]"
      ]
     },
     "execution_count": 26,
     "metadata": {},
     "output_type": "execute_result"
    }
   ],
   "source": [
    "df_ref"
   ]
  },
  {
   "cell_type": "code",
   "execution_count": 42,
   "id": "adbb7b52661d964a",
   "metadata": {
    "ExecuteTime": {
     "end_time": "2024-06-18T17:48:01.595857Z",
     "start_time": "2024-06-18T17:48:01.593043Z"
    }
   },
   "outputs": [],
   "source": [
    "df_missing_patients_36[[\"Patient ID\", \"id_aidream\"]].to_csv(\"missing_patients_36.csv\", index=False)"
   ]
  },
  {
   "cell_type": "code",
   "execution_count": 1,
   "id": "e425a466e47f94c6",
   "metadata": {
    "ExecuteTime": {
     "end_time": "2024-06-19T07:32:01.187546Z",
     "start_time": "2024-06-19T07:32:01.043226Z"
    }
   },
   "outputs": [
    {
     "ename": "NameError",
     "evalue": "name 'df_ref' is not defined",
     "output_type": "error",
     "traceback": [
      "\u001b[0;31m---------------------------------------------------------------------------\u001b[0m",
      "\u001b[0;31mNameError\u001b[0m                                 Traceback (most recent call last)",
      "Cell \u001b[0;32mIn[1], line 1\u001b[0m\n\u001b[0;32m----> 1\u001b[0m df_ref\n",
      "\u001b[0;31mNameError\u001b[0m: name 'df_ref' is not defined"
     ]
    }
   ],
   "source": [
    "df_ref"
   ]
  },
  {
   "cell_type": "code",
   "execution_count": 27,
   "id": "62c464604c489bde",
   "metadata": {
    "ExecuteTime": {
     "end_time": "2024-06-26T12:14:32.682775Z",
     "start_time": "2024-06-26T12:14:32.679900Z"
    }
   },
   "outputs": [],
   "source": [
    "df_links = pd.read_csv(\"extended_patients.csv\")"
   ]
  },
  {
   "cell_type": "code",
   "execution_count": 28,
   "id": "e0a0081ee3b12255",
   "metadata": {
    "ExecuteTime": {
     "end_time": "2024-06-26T12:14:33.172269Z",
     "start_time": "2024-06-26T12:14:33.151647Z"
    }
   },
   "outputs": [],
   "source": [
    "from tqdm.auto import tqdm\n",
    "import shutil"
   ]
  },
  {
   "cell_type": "code",
   "execution_count": 29,
   "id": "6e47946dba3d77b",
   "metadata": {
    "ExecuteTime": {
     "end_time": "2024-06-26T12:14:48.636265Z",
     "start_time": "2024-06-26T12:14:35.898870Z"
    }
   },
   "outputs": [
    {
     "data": {
      "application/vnd.jupyter.widget-view+json": {
       "model_id": "1553af39b5a4436ba65a04ca82c747cb",
       "version_major": 2,
       "version_minor": 0
      },
      "text/plain": [
       "  0%|          | 0/198 [00:00<?, ?it/s]"
      ]
     },
     "metadata": {},
     "output_type": "display_data"
    },
    {
     "ename": "KeyboardInterrupt",
     "evalue": "",
     "output_type": "error",
     "traceback": [
      "\u001b[0;31m---------------------------------------------------------------------------\u001b[0m",
      "\u001b[0;31mKeyboardInterrupt\u001b[0m                         Traceback (most recent call last)",
      "Cell \u001b[0;32mIn[29], line 10\u001b[0m\n\u001b[1;32m      7\u001b[0m dir_dst \u001b[38;5;241m=\u001b[39m Path(\u001b[38;5;124m\"\u001b[39m\u001b[38;5;124m/media/maichi/SSD-IGR/Perfusion data\u001b[39m\u001b[38;5;124m\"\u001b[39m) \u001b[38;5;241m/\u001b[39m patient\n\u001b[1;32m      8\u001b[0m dir_dst\u001b[38;5;241m.\u001b[39mmkdir(parents\u001b[38;5;241m=\u001b[39m\u001b[38;5;28;01mTrue\u001b[39;00m, exist_ok\u001b[38;5;241m=\u001b[39m\u001b[38;5;28;01mTrue\u001b[39;00m)\n\u001b[0;32m---> 10\u001b[0m shutil\u001b[38;5;241m.\u001b[39mcopytree(src\u001b[38;5;241m=\u001b[39mdir_perfusion, dst\u001b[38;5;241m=\u001b[39mdir_dst, dirs_exist_ok\u001b[38;5;241m=\u001b[39m\u001b[38;5;28;01mTrue\u001b[39;00m)\n",
      "File \u001b[0;32m~/anaconda3/envs/env_relapse_prediction/lib/python3.11/shutil.py:573\u001b[0m, in \u001b[0;36mcopytree\u001b[0;34m(src, dst, symlinks, ignore, copy_function, ignore_dangling_symlinks, dirs_exist_ok)\u001b[0m\n\u001b[1;32m    571\u001b[0m \u001b[38;5;28;01mwith\u001b[39;00m os\u001b[38;5;241m.\u001b[39mscandir(src) \u001b[38;5;28;01mas\u001b[39;00m itr:\n\u001b[1;32m    572\u001b[0m     entries \u001b[38;5;241m=\u001b[39m \u001b[38;5;28mlist\u001b[39m(itr)\n\u001b[0;32m--> 573\u001b[0m \u001b[38;5;28;01mreturn\u001b[39;00m _copytree(entries\u001b[38;5;241m=\u001b[39mentries, src\u001b[38;5;241m=\u001b[39msrc, dst\u001b[38;5;241m=\u001b[39mdst, symlinks\u001b[38;5;241m=\u001b[39msymlinks,\n\u001b[1;32m    574\u001b[0m                  ignore\u001b[38;5;241m=\u001b[39mignore, copy_function\u001b[38;5;241m=\u001b[39mcopy_function,\n\u001b[1;32m    575\u001b[0m                  ignore_dangling_symlinks\u001b[38;5;241m=\u001b[39mignore_dangling_symlinks,\n\u001b[1;32m    576\u001b[0m                  dirs_exist_ok\u001b[38;5;241m=\u001b[39mdirs_exist_ok)\n",
      "File \u001b[0;32m~/anaconda3/envs/env_relapse_prediction/lib/python3.11/shutil.py:513\u001b[0m, in \u001b[0;36m_copytree\u001b[0;34m(entries, src, dst, symlinks, ignore, copy_function, ignore_dangling_symlinks, dirs_exist_ok)\u001b[0m\n\u001b[1;32m    509\u001b[0m         copytree(srcobj, dstname, symlinks, ignore, copy_function,\n\u001b[1;32m    510\u001b[0m                  ignore_dangling_symlinks, dirs_exist_ok)\n\u001b[1;32m    511\u001b[0m     \u001b[38;5;28;01melse\u001b[39;00m:\n\u001b[1;32m    512\u001b[0m         \u001b[38;5;66;03m# Will raise a SpecialFileError for unsupported file types\u001b[39;00m\n\u001b[0;32m--> 513\u001b[0m         copy_function(srcobj, dstname)\n\u001b[1;32m    514\u001b[0m \u001b[38;5;66;03m# catch the Error from the recursive copytree so that we can\u001b[39;00m\n\u001b[1;32m    515\u001b[0m \u001b[38;5;66;03m# continue with other files\u001b[39;00m\n\u001b[1;32m    516\u001b[0m \u001b[38;5;28;01mexcept\u001b[39;00m Error \u001b[38;5;28;01mas\u001b[39;00m err:\n",
      "File \u001b[0;32m~/anaconda3/envs/env_relapse_prediction/lib/python3.11/shutil.py:448\u001b[0m, in \u001b[0;36mcopy2\u001b[0;34m(src, dst, follow_symlinks)\u001b[0m\n\u001b[1;32m    446\u001b[0m \u001b[38;5;28;01mif\u001b[39;00m os\u001b[38;5;241m.\u001b[39mpath\u001b[38;5;241m.\u001b[39misdir(dst):\n\u001b[1;32m    447\u001b[0m     dst \u001b[38;5;241m=\u001b[39m os\u001b[38;5;241m.\u001b[39mpath\u001b[38;5;241m.\u001b[39mjoin(dst, os\u001b[38;5;241m.\u001b[39mpath\u001b[38;5;241m.\u001b[39mbasename(src))\n\u001b[0;32m--> 448\u001b[0m copyfile(src, dst, follow_symlinks\u001b[38;5;241m=\u001b[39mfollow_symlinks)\n\u001b[1;32m    449\u001b[0m copystat(src, dst, follow_symlinks\u001b[38;5;241m=\u001b[39mfollow_symlinks)\n\u001b[1;32m    450\u001b[0m \u001b[38;5;28;01mreturn\u001b[39;00m dst\n",
      "File \u001b[0;32m~/anaconda3/envs/env_relapse_prediction/lib/python3.11/shutil.py:269\u001b[0m, in \u001b[0;36mcopyfile\u001b[0;34m(src, dst, follow_symlinks)\u001b[0m\n\u001b[1;32m    267\u001b[0m \u001b[38;5;28;01melif\u001b[39;00m _USE_CP_SENDFILE:\n\u001b[1;32m    268\u001b[0m     \u001b[38;5;28;01mtry\u001b[39;00m:\n\u001b[0;32m--> 269\u001b[0m         _fastcopy_sendfile(fsrc, fdst)\n\u001b[1;32m    270\u001b[0m         \u001b[38;5;28;01mreturn\u001b[39;00m dst\n\u001b[1;32m    271\u001b[0m     \u001b[38;5;28;01mexcept\u001b[39;00m _GiveupOnFastCopy:\n",
      "File \u001b[0;32m~/anaconda3/envs/env_relapse_prediction/lib/python3.11/shutil.py:144\u001b[0m, in \u001b[0;36m_fastcopy_sendfile\u001b[0;34m(fsrc, fdst)\u001b[0m\n\u001b[1;32m    142\u001b[0m \u001b[38;5;28;01mwhile\u001b[39;00m \u001b[38;5;28;01mTrue\u001b[39;00m:\n\u001b[1;32m    143\u001b[0m     \u001b[38;5;28;01mtry\u001b[39;00m:\n\u001b[0;32m--> 144\u001b[0m         sent \u001b[38;5;241m=\u001b[39m os\u001b[38;5;241m.\u001b[39msendfile(outfd, infd, offset, blocksize)\n\u001b[1;32m    145\u001b[0m     \u001b[38;5;28;01mexcept\u001b[39;00m \u001b[38;5;167;01mOSError\u001b[39;00m \u001b[38;5;28;01mas\u001b[39;00m err:\n\u001b[1;32m    146\u001b[0m         \u001b[38;5;66;03m# ...in oder to have a more informative exception.\u001b[39;00m\n\u001b[1;32m    147\u001b[0m         err\u001b[38;5;241m.\u001b[39mfilename \u001b[38;5;241m=\u001b[39m fsrc\u001b[38;5;241m.\u001b[39mname\n",
      "\u001b[0;31mKeyboardInterrupt\u001b[0m: "
     ]
    }
   ],
   "source": [
    "_list_patients = df_links[\"id_aidream\"].loc[df_links[\"Perfusion directory\"] != \"Not found\"]\n",
    "\n",
    "for patient in tqdm(_list_patients):\n",
    "    \n",
    "    dir_perfusion = Path(df_links.loc[df_links[\"id_aidream\"] == patient, \"Perfusion directory\"].values[0])\n",
    "    \n",
    "    dir_dst = Path(\"/media/maichi/SSD-IGR/Perfusion data\") / patient\n",
    "    dir_dst.mkdir(parents=True, exist_ok=True)\n",
    "    \n",
    "    shutil.copytree(src=dir_perfusion, dst=dir_dst, dirs_exist_ok=True)\n",
    "    "
   ]
  },
  {
   "cell_type": "code",
   "execution_count": 30,
   "id": "59002e84afaa0276",
   "metadata": {
    "ExecuteTime": {
     "end_time": "2024-06-26T12:23:01.044207Z",
     "start_time": "2024-06-26T12:22:51.413004Z"
    }
   },
   "outputs": [
    {
     "name": "stderr",
     "output_type": "stream",
     "text": [
      "\n",
      "KeyboardInterrupt\n",
      "\n"
     ]
    }
   ],
   "source": [
    "import concurrent.futures\n",
    "\n",
    "def copy_file(patient):\n",
    "    dir_perfusion = Path(df_links.loc[df_links[\"id_aidream\"] == patient, \"Perfusion directory\"].values[0])\n",
    "    dir_dst = Path(\"/media/maichi/SSD-IGR/Perfusion data\") / patient\n",
    "    dir_dst.mkdir(parents=True, exist_ok=True)\n",
    "    shutil.copytree(src=dir_perfusion, dst=dir_dst, dirs_exist_ok=True)\n",
    "\n",
    "_list_patients = df_links[\"id_aidream\"].loc[df_links[\"Perfusion directory\"] != \"Not found\"]\n",
    "\n",
    "# Use a ThreadPoolExecutor to copy files in parallel\n",
    "with concurrent.futures.ThreadPoolExecutor() as executor:\n",
    "    list(executor.map(copy_file, _list_patients))\n",
    "    "
   ]
  },
  {
   "cell_type": "code",
   "execution_count": null,
   "id": "70caa94fe60b163b",
   "metadata": {},
   "outputs": [],
   "source": []
  }
 ],
 "metadata": {
  "kernelspec": {
   "display_name": "Python 3 (ipykernel)",
   "language": "python",
   "name": "python3"
  },
  "language_info": {
   "codemirror_mode": {
    "name": "ipython",
    "version": 3
   },
   "file_extension": ".py",
   "mimetype": "text/x-python",
   "name": "python",
   "nbconvert_exporter": "python",
   "pygments_lexer": "ipython3",
   "version": "3.11.9"
  }
 },
 "nbformat": 4,
 "nbformat_minor": 5
}
