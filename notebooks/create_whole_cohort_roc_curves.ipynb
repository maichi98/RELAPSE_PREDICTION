{
 "cells": [
  {
   "cell_type": "code",
   "execution_count": 64,
   "id": "9d3963d0-b55a-4953-a28f-07f599b43e5b",
   "metadata": {},
   "outputs": [],
   "source": [
    "from relapse_prediction import constants\n",
    "\n",
    "from sklearn.metrics import roc_curve, auc, confusion_matrix\n",
    "import matplotlib.pyplot as plt\n",
    "from multiprocessing import Pool\n",
    "from pathlib import Path\n",
    "from tqdm import tqdm\n",
    "import pandas as pd\n",
    "import numpy as np\n",
    "import pickle\n"
   ]
  },
  {
   "cell_type": "code",
   "execution_count": 65,
   "id": "e5819939-cb5a-4e4d-a23c-364a9a7f310f",
   "metadata": {},
   "outputs": [],
   "source": [
    "def get_list_thresholds(imaging, label, feature):\n",
    "\n",
    "    list_thresholds = set()\n",
    "\n",
    "    for patient in constants.list_patients:\n",
    "\n",
    "        with open(constants.dir_thresholds / label / imaging / f\"{imaging}_{feature}\" / f\"{patient}.pickle\", \"rb\") as f:\n",
    "            dict_thresholds = pickle.load(f)\n",
    "\n",
    "        list_thresholds = list_thresholds.union(set(dict_thresholds[\"thresholds\"]))\n",
    "\n",
    "    return sorted(list(list_thresholds))\n",
    "    "
   ]
  },
  {
   "cell_type": "code",
   "execution_count": 66,
   "id": "7588ef92-862f-490c-8a25-1085277ccd8d",
   "metadata": {},
   "outputs": [],
   "source": [
    "imaging = \"T1\"\n",
    "label = \"L3R\"\n",
    "feature = \"mean_5x5x5\""
   ]
  },
  {
   "cell_type": "code",
   "execution_count": 67,
   "id": "a9ad80a5-4bc7-4c12-8c95-947c57806af0",
   "metadata": {},
   "outputs": [
    {
     "ename": "FileNotFoundError",
     "evalue": "[Errno 2] No such file or directory: 'E:Relapse prediction\\\\results\\\\thresholds per patient\\\\L3R\\\\T1\\\\T1_mean_5x5x5\\\\AIDREAM_1.pickle'",
     "output_type": "error",
     "traceback": [
      "\u001b[1;31m---------------------------------------------------------------------------\u001b[0m",
      "\u001b[1;31mFileNotFoundError\u001b[0m                         Traceback (most recent call last)",
      "Cell \u001b[1;32mIn[67], line 1\u001b[0m\n\u001b[1;32m----> 1\u001b[0m list_thresholds \u001b[38;5;241m=\u001b[39m get_list_thresholds(imaging, label, feature)\n",
      "Cell \u001b[1;32mIn[65], line 7\u001b[0m, in \u001b[0;36mget_list_thresholds\u001b[1;34m(imaging, label, feature)\u001b[0m\n\u001b[0;32m      3\u001b[0m list_thresholds \u001b[38;5;241m=\u001b[39m \u001b[38;5;28mset\u001b[39m()\n\u001b[0;32m      5\u001b[0m \u001b[38;5;28;01mfor\u001b[39;00m patient \u001b[38;5;129;01min\u001b[39;00m constants\u001b[38;5;241m.\u001b[39mlist_patients:\n\u001b[1;32m----> 7\u001b[0m     \u001b[38;5;28;01mwith\u001b[39;00m \u001b[38;5;28mopen\u001b[39m(constants\u001b[38;5;241m.\u001b[39mdir_thresholds \u001b[38;5;241m/\u001b[39m label \u001b[38;5;241m/\u001b[39m imaging \u001b[38;5;241m/\u001b[39m \u001b[38;5;124mf\u001b[39m\u001b[38;5;124m\"\u001b[39m\u001b[38;5;132;01m{\u001b[39;00mimaging\u001b[38;5;132;01m}\u001b[39;00m\u001b[38;5;124m_\u001b[39m\u001b[38;5;132;01m{\u001b[39;00mfeature\u001b[38;5;132;01m}\u001b[39;00m\u001b[38;5;124m\"\u001b[39m \u001b[38;5;241m/\u001b[39m \u001b[38;5;124mf\u001b[39m\u001b[38;5;124m\"\u001b[39m\u001b[38;5;132;01m{\u001b[39;00mpatient\u001b[38;5;132;01m}\u001b[39;00m\u001b[38;5;124m.pickle\u001b[39m\u001b[38;5;124m\"\u001b[39m, \u001b[38;5;124m\"\u001b[39m\u001b[38;5;124mrb\u001b[39m\u001b[38;5;124m\"\u001b[39m) \u001b[38;5;28;01mas\u001b[39;00m f:\n\u001b[0;32m      8\u001b[0m         dict_thresholds \u001b[38;5;241m=\u001b[39m pickle\u001b[38;5;241m.\u001b[39mload(f)\n\u001b[0;32m     10\u001b[0m     list_thresholds \u001b[38;5;241m=\u001b[39m list_thresholds\u001b[38;5;241m.\u001b[39munion(\u001b[38;5;28mset\u001b[39m(dict_thresholds[\u001b[38;5;124m\"\u001b[39m\u001b[38;5;124mthresholds\u001b[39m\u001b[38;5;124m\"\u001b[39m]))\n",
      "File \u001b[1;32m~\\anaconda3\\envs\\env_relapse_prediction\\Lib\\site-packages\\IPython\\core\\interactiveshell.py:310\u001b[0m, in \u001b[0;36m_modified_open\u001b[1;34m(file, *args, **kwargs)\u001b[0m\n\u001b[0;32m    303\u001b[0m \u001b[38;5;28;01mif\u001b[39;00m file \u001b[38;5;129;01min\u001b[39;00m {\u001b[38;5;241m0\u001b[39m, \u001b[38;5;241m1\u001b[39m, \u001b[38;5;241m2\u001b[39m}:\n\u001b[0;32m    304\u001b[0m     \u001b[38;5;28;01mraise\u001b[39;00m \u001b[38;5;167;01mValueError\u001b[39;00m(\n\u001b[0;32m    305\u001b[0m         \u001b[38;5;124mf\u001b[39m\u001b[38;5;124m\"\u001b[39m\u001b[38;5;124mIPython won\u001b[39m\u001b[38;5;124m'\u001b[39m\u001b[38;5;124mt let you open fd=\u001b[39m\u001b[38;5;132;01m{\u001b[39;00mfile\u001b[38;5;132;01m}\u001b[39;00m\u001b[38;5;124m by default \u001b[39m\u001b[38;5;124m\"\u001b[39m\n\u001b[0;32m    306\u001b[0m         \u001b[38;5;124m\"\u001b[39m\u001b[38;5;124mas it is likely to crash IPython. If you know what you are doing, \u001b[39m\u001b[38;5;124m\"\u001b[39m\n\u001b[0;32m    307\u001b[0m         \u001b[38;5;124m\"\u001b[39m\u001b[38;5;124myou can use builtins\u001b[39m\u001b[38;5;124m'\u001b[39m\u001b[38;5;124m open.\u001b[39m\u001b[38;5;124m\"\u001b[39m\n\u001b[0;32m    308\u001b[0m     )\n\u001b[1;32m--> 310\u001b[0m \u001b[38;5;28;01mreturn\u001b[39;00m io_open(file, \u001b[38;5;241m*\u001b[39margs, \u001b[38;5;241m*\u001b[39m\u001b[38;5;241m*\u001b[39mkwargs)\n",
      "\u001b[1;31mFileNotFoundError\u001b[0m: [Errno 2] No such file or directory: 'E:Relapse prediction\\\\results\\\\thresholds per patient\\\\L3R\\\\T1\\\\T1_mean_5x5x5\\\\AIDREAM_1.pickle'"
     ]
    }
   ],
   "source": [
    "list_thresholds = get_list_thresholds(imaging, label, feature)"
   ]
  },
  {
   "cell_type": "code",
   "execution_count": 68,
   "id": "80cee63d-d34e-4a49-832c-12e3d4872494",
   "metadata": {},
   "outputs": [],
   "source": [
    "def load_threshold_dataframe(patient, imaging, label, feature):\n",
    "\n",
    "    with open(constants.dir_thresholds / label / imaging / f\"{imaging}_{feature}\" / f\"{patient}.pickle\", \"rb\") as f:\n",
    "        dict_thresholds = pickle.load(f)\n",
    "\n",
    "    df_labels = pd.read_parquet(constants.dir_labels / f\"{patient}_labels.parquet\", engine=\"pyarrow\")\n",
    "    total_positives = len(df_labels[df_labels[label] == 1])\n",
    "    total_negatives = len(df_labels[df_labels[label] == 0])\n",
    "\n",
    "    df_thresholds = pd.DataFrame(columns=[\"thresholds\", \"TP\", \"FP\"])\n",
    "\n",
    "    df_thresholds[\"thresholds\"] = dict_thresholds[\"thresholds\"]\n",
    "\n",
    "    df_thresholds[\"TP\"] = dict_thresholds[\"tpr\"] * total_positives\n",
    "    df_thresholds[\"FP\"] = dict_thresholds[\"fpr\"] * total_negatives\n",
    "\n",
    "    return df_thresholds, total_positives, total_negatives\n",
    "    "
   ]
  },
  {
   "cell_type": "code",
   "execution_count": 60,
   "id": "c58251cf-721e-4634-8601-157fd315f301",
   "metadata": {},
   "outputs": [],
   "source": [
    "def get_all_fpr_tpr(imaging, label, feature, list_thresholds):\n",
    "\n",
    "    df_total = pd.DataFrame(columns=[\"thresholds\", \"TP\", \"FP\"])\n",
    "    df_total[\"thresholds\"] = list(list_thresholds)\n",
    "    df_total[\"TP\"] = 0\n",
    "    df_total[\"FP\"] = 0\n",
    "    total_positives = 0\n",
    "    top_negatives = 0\n",
    "\n",
    "    for patient in tqdm(constants.list_patients):\n",
    "\n",
    "        df_thresholds = pd.DataFrame(list(list_thresholds), columns=[\"thresholds\"])\n",
    "        _df_thresholds, t_p, t_n = load_threshold_dataframe(patient, imaging, label, feature)\n",
    "\n",
    "        if t_p > 0 and t_n > 0:\n",
    "        \n",
    "            df_thresholds = df_thresholds.merge(_df_thresholds, on=\"thresholds\", how=\"left\")\n",
    "    \n",
    "            df_thresholds = df_thresholds.sort_values(by=\"thresholds\", ascending=True).reset_index(drop=True)\n",
    "    \n",
    "            df_thresholds[\"TP\"] = df_thresholds[\"TP\"].bfill()\n",
    "            df_thresholds[\"FP\"] = df_thresholds[\"FP\"].bfill()\n",
    "    \n",
    "            idx = (df_thresholds[\"TP\"].isna()) & (df_thresholds[\"FP\"].isna())\n",
    "            df_thresholds.loc[idx, \"TP\"] = 0\n",
    "            df_thresholds.loc[idx, \"FP\"] = 0\n",
    "    \n",
    "            df_total[\"TP\"] = df_total[\"TP\"] + df_thresholds[\"TP\"]\n",
    "            df_total[\"FP\"] = df_total[\"FP\"] + df_thresholds[\"FP\"]\n",
    "            total_positives += t_p\n",
    "            top_negatives += t_n\n",
    "\n",
    "    df_total[\"tpr\"] = df_total[\"TP\"] / total_positives\n",
    "    df_total[\"fpr\"] = df_total[\"FP\"] / top_negatives\n",
    "\n",
    "    dict_fpr_tpr = {\n",
    "        \"fpr\": list(df_total[\"fpr\"]),\n",
    "        \"tpr\": list(df_total[\"tpr\"]),\n",
    "        \"thresholds\": list(df_total[\"thresholds\"])\n",
    "    }\n",
    "\n",
    "    # dir_save = constants.dir_results / \"total_ROC\"\n",
    "    # dir_save.mkdir(parents=True, exist_ok=True)\n",
    "\n",
    "    # with open(dir_save / f\"{label}_{imaging}_{feature}_total_tpr_fpr.pickle\", \"wb\") as f:\n",
    "    #     pickle.dump(dict_fpr_tpr, f)\n",
    "\n",
    "    return dict_fpr_tpr"
   ]
  },
  {
   "cell_type": "code",
   "execution_count": 61,
   "id": "ba80aaae-6521-46ca-b37c-fb918a360fdb",
   "metadata": {},
   "outputs": [
    {
     "name": "stderr",
     "output_type": "stream",
     "text": [
      "100%|████████████████████████████████████████████████████████████████████████████████| 104/104 [00:20<00:00,  4.98it/s]\n"
     ]
    }
   ],
   "source": [
    "dict_fpr_tpr = get_all_fpr_tpr(imaging, label, feature, list_thresholds)"
   ]
  },
  {
   "cell_type": "code",
   "execution_count": 62,
   "id": "7e510969-e859-45e7-9673-29324753576c",
   "metadata": {},
   "outputs": [],
   "source": [
    "fpr = dict_fpr_tpr[\"fpr\"]\n",
    "tpr = dict_fpr_tpr[\"tpr\"]\n",
    "\n",
    "roc_auc = auc(fpr, tpr)\n"
   ]
  },
  {
   "cell_type": "code",
   "execution_count": 63,
   "id": "e2189c07-eda2-4ddb-a549-48cca8403fcd",
   "metadata": {},
   "outputs": [
    {
     "data": {
      "text/plain": [
       "<matplotlib.legend.Legend at 0x167d78a6250>"
      ]
     },
     "execution_count": 63,
     "metadata": {},
     "output_type": "execute_result"
    },
    {
     "data": {
      "image/png": "[encoded data removed]",
      "text/plain": [
       "<Figure size 640x480 with 1 Axes>"
      ]
     },
     "metadata": {},
     "output_type": "display_data"
    }
   ],
   "source": [
    "plt.plot(fpr, tpr, color='darkorange', lw=2, label='ROC curve (area = %0.2f)' % roc_auc)\n",
    "plt.plot([0, 1], [0, 1], color='navy', lw=2, linestyle='--')\n",
    "plt.xlim([0.0, 1.0])\n",
    "plt.ylim([0.0, 1.05])\n",
    "\n",
    "plt.xlabel('False Positive Rate')\n",
    "plt.ylabel('True Positive Rate')\n",
    "plt.title(f'ROC curve for label: {f\"{label}_{feature}\"}, imaging: {imaging}')\n",
    "plt.legend(loc=\"lower right\")"
   ]
  },
  {
   "cell_type": "code",
   "execution_count": 2,
   "id": "initial_id",
   "metadata": {
    "ExecuteTime": {
     "end_time": "2024-06-11T15:54:48.866645Z",
     "start_time": "2024-06-11T15:54:48.833500Z"
    },
    "collapsed": true,
    "jupyter": {
     "outputs_hidden": true
    }
   },
   "outputs": [],
   "source": [
    "\n",
    "\n",
    "\n",
    "def plot_total_roc(imaging, label, feature, dict_fpr_tpr):\n",
    "\n",
    "    fpr = dict_fpr_tpr[\"fpr\"]\n",
    "    tpr = dict_fpr_tpr[\"tpr\"]\n",
    "\n",
    "    roc_auc = auc(fpr, tpr)\n",
    "\n",
    "    print(f\"ROC AUC: {roc_auc}\")\n",
    "\n",
    "    dir_save = constants.dir_results / \"total_ROC\"\n",
    "    dir_save.mkdir(parents=True, exist_ok=True)\n",
    "\n",
    "    plt.plot(fpr, tpr, color='darkorange', lw=2, label='ROC curve (area = %0.2f)' % roc_auc)\n",
    "    plt.plot([0, 1], [0, 1], color='navy', lw=2, linestyle='--')\n",
    "    plt.xlim([0.0, 1.0])\n",
    "    plt.ylim([0.0, 1.05])\n",
    "\n",
    "    plt.xlabel('False Positive Rate')\n",
    "    plt.ylabel('True Positive Rate')\n",
    "    plt.title(f'ROC curve for label: {f\"{label}_{feature}\"}, imaging: {imaging}')\n",
    "    plt.legend(loc=\"lower right\")\n",
    "\n",
    "    # plt.savefig(str(dir_save / f\"{label}_{imaging}_{feature}.png\"), dpi=300)\n",
    "    # plt.clf()\n",
    "\n",
    "\n",
    "def compute_cutoff_youden(fpr, tpr, thresholds, inverted=False):\n",
    "    \"\"\"\n",
    "    Compute the cutoff value for the ROC curve.\n",
    "    :param fpr: False Positive Rate\n",
    "    :param tpr: True Positive Rate\n",
    "    :param thresholds: Thresholds\n",
    "    :return: Cutoff value\n",
    "    \"\"\"\n",
    "    # Compute the Youden index for each point of the ROC curve :\n",
    "    if inverted:\n",
    "        youden = fpr + (1 - tpr) - 1\n",
    "    else:\n",
    "        youden = tpr + (1 - fpr) - 1\n",
    "    # Find the index of the point that maximizes the Youden index :\n",
    "    idx_max = np.argmax(youden)\n",
    "    # Return the corresponding threshold :\n",
    "    return thresholds[idx_max]\n",
    "\n",
    "\n",
    "def print_cutoff(label, imaging, feature, dict_fpr_tpr):\n",
    "\n",
    "    tpr = np.array(dict_fpr_tpr[\"tpr\"])\n",
    "    fpr = np.array(dict_fpr_tpr[\"fpr\"])\n",
    "    thresholds = dict_fpr_tpr[\"thresholds\"]\n",
    "\n",
    "    cutoff = compute_cutoff_youden(fpr, tpr, thresholds, inverted=False)\n",
    "\n",
    "    txt = f\"Cutoff value for label={label}, imaging={imaging}, feature={feature}: {cutoff}\"\n",
    "\n",
    "    with open(constants.dir_results / \"total_cuttofs.txt\", \"a+\") as f:\n",
    "        f.write(txt + \"\\n\")\n",
    "\n",
    "    print(f\"Cutoff value for label={label}, imaging={imaging}, feature={feature}\", cutoff)\n",
    "\n",
    "\n",
    "def main():\n",
    "\n",
    "    list_imaging = constants.L_IRM_MAPS + constants.L_CERCARE_MAPS\n",
    "    list_labels = [\"L3R_5x5x5\", \"L3R - (L1 + L3)_5x5x5\"]\n",
    "    list_features = [\"mean_5x5x5\"]\n",
    "\n",
    "    for imaging in constants.L_IRM_MAPS:\n",
    "        for label in list_labels:\n",
    "            for feature in list_features:\n",
    "\n",
    "                print(\"get list of thresholds ...\")\n",
    "                list_thresholds = get_list_thresholds(imaging, label, feature)\n",
    "                print(f\"aggregate tpr, fpr for {imaging}, {label}, {feature} ...\")\n",
    "                dict_fpr_tpr = get_all_fpr_tpr(imaging, label, feature, list_thresholds)\n",
    "                print(f\"plot total roc for {imaging}, {label}, {feature} ...\")\n",
    "                plot_total_roc(imaging, label, feature, dict_fpr_tpr)\n",
    "\n",
    "                print_cutoff(label, imaging, feature, dict_fpr_tpr)\n",
    "\n",
    "\n",
    "if __name__ == \"__main__\":\n",
    "    main()\n"
   ]
  },
  {
   "cell_type": "code",
   "execution_count": 6,
   "id": "99b46948c1b1d860",
   "metadata": {
    "ExecuteTime": {
     "end_time": "2024-06-11T16:33:50.546736Z",
     "start_time": "2024-06-11T16:33:50.544550Z"
    }
   },
   "outputs": [
    {
     "data": {
      "text/plain": [
       "['COV', 'CTH', 'Delay', 'rCBV', 'rLeakage', 'OEF', 'rCMRO2']"
      ]
     },
     "execution_count": 6,
     "metadata": {},
     "output_type": "execute_result"
    }
   ],
   "source": [
    "constants.L_CERCARE_MAPS"
   ]
  },
  {
   "cell_type": "code",
   "execution_count": 7,
   "id": "f70df3b9304e7121",
   "metadata": {
    "ExecuteTime": {
     "end_time": "2024-06-11T16:33:57.569605Z",
     "start_time": "2024-06-11T16:33:57.567521Z"
    }
   },
   "outputs": [
    {
     "data": {
      "text/plain": [
       "['T1CE', 'T1', 'FLAIR']"
      ]
     },
     "execution_count": 7,
     "metadata": {},
     "output_type": "execute_result"
    }
   ],
   "source": [
    "constants.L_IRM_MAPS"
   ]
  },
  {
   "cell_type": "code",
   "execution_count": null,
   "id": "72d01d90e7d5bbcb",
   "metadata": {},
   "outputs": [],
   "source": []
  }
 ],
 "metadata": {
  "kernelspec": {
   "display_name": "Python 3 (ipykernel)",
   "language": "python",
   "name": "python3"
  },
  "language_info": {
   "codemirror_mode": {
    "name": "ipython",
    "version": 3
   },
   "file_extension": ".py",
   "mimetype": "text/x-python",
   "name": "python",
   "nbconvert_exporter": "python",
   "pygments_lexer": "ipython3",
   "version": "3.11.0"
  }
 },
 "nbformat": 4,
 "nbformat_minor": 5
}
