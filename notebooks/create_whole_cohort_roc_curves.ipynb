{
 "cells": [
  {
   "cell_type": "code",
   "id": "initial_id",
   "metadata": {
    "collapsed": true,
    "ExecuteTime": {
     "end_time": "2024-06-11T15:54:48.866645Z",
     "start_time": "2024-06-11T15:54:48.833500Z"
    }
   },
   "source": [
    "from relapse_prediction import constants\n",
    "\n",
    "from pathlib import Path"
   ],
   "outputs": [],
   "execution_count": 2
  },
  {
   "metadata": {
    "ExecuteTime": {
     "end_time": "2024-06-11T16:33:50.546736Z",
     "start_time": "2024-06-11T16:33:50.544550Z"
    }
   },
   "cell_type": "code",
   "source": "constants.L_CERCARE_MAPS",
   "id": "99b46948c1b1d860",
   "outputs": [
    {
     "data": {
      "text/plain": [
       "['COV', 'CTH', 'Delay', 'rCBV', 'rLeakage', 'OEF', 'rCMRO2']"
      ]
     },
     "execution_count": 6,
     "metadata": {},
     "output_type": "execute_result"
    }
   ],
   "execution_count": 6
  },
  {
   "metadata": {
    "ExecuteTime": {
     "end_time": "2024-06-11T16:33:57.569605Z",
     "start_time": "2024-06-11T16:33:57.567521Z"
    }
   },
   "cell_type": "code",
   "source": "constants.L_IRM_MAPS",
   "id": "f70df3b9304e7121",
   "outputs": [
    {
     "data": {
      "text/plain": [
       "['T1CE', 'T1', 'FLAIR']"
      ]
     },
     "execution_count": 7,
     "metadata": {},
     "output_type": "execute_result"
    }
   ],
   "execution_count": 7
  },
  {
   "metadata": {},
   "cell_type": "code",
   "outputs": [],
   "execution_count": null,
   "source": "",
   "id": "72d01d90e7d5bbcb"
  }
 ],
 "metadata": {
  "kernelspec": {
   "display_name": "Python 3",
   "language": "python",
   "name": "python3"
  },
  "language_info": {
   "codemirror_mode": {
    "name": "ipython",
    "version": 2
   },
   "file_extension": ".py",
   "mimetype": "text/x-python",
   "name": "python",
   "nbconvert_exporter": "python",
   "pygments_lexer": "ipython2",
   "version": "2.7.6"
  }
 },
 "nbformat": 4,
 "nbformat_minor": 5
}
