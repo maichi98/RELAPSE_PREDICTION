{
 "cells": [
  {
   "cell_type": "code",
   "execution_count": 3,
   "id": "c25c96a1-0e2d-40ee-b105-46397529e9c1",
   "metadata": {},
   "outputs": [],
   "source": [
    "from relapse_prediction import constants\n",
    "\n",
    "import pandas as pd\n",
    "import numpy as np\n",
    "from tqdm.auto import tqdm\n"
   ]
  },
  {
   "cell_type": "code",
   "execution_count": 19,
   "id": "fa0e375c-3168-4cbd-990f-aebb60a2aef5",
   "metadata": {},
   "outputs": [],
   "source": [
    "imaging = \"OEF\""
   ]
  },
  {
   "cell_type": "code",
   "execution_count": 20,
   "id": "0f09befa-db9f-4314-97d6-a17e2b7bb8c9",
   "metadata": {},
   "outputs": [],
   "source": [
    "d_thresholds =  {\n",
    "    \"L3R\": 0.36,\n",
    "    \"L3R - (L1 + L3)\": 0.33\n",
    "}"
   ]
  },
  {
   "cell_type": "code",
   "execution_count": 21,
   "id": "5752d29d-b7f8-434c-a955-ae6e1cba06b6",
   "metadata": {},
   "outputs": [],
   "source": [
    "d_confusion_matrix = {\n",
    "    \"L3R\": {\"tp\": 0, \"fp\": 0, \"tn\": 0, \"fn\": 0},\n",
    "    \"L3R - (L1 + L3)\": {\"tp\": 0, \"fp\": 0, \"tn\": 0, \"fn\": 0}\n",
    "}\n"
   ]
  },
  {
   "cell_type": "code",
   "execution_count": 22,
   "id": "14276492-fdc0-4e6b-a889-5f4c31b23f55",
   "metadata": {},
   "outputs": [
    {
     "data": {
      "application/vnd.jupyter.widget-view+json": {
       "model_id": "36529b38afa84201ba5997de75b2f72d",
       "version_major": 2,
       "version_minor": 0
      },
      "text/plain": [
       "  0%|          | 0/104 [00:00<?, ?it/s]"
      ]
     },
     "metadata": {},
     "output_type": "display_data"
    }
   ],
   "source": [
    "for patient in tqdm(constants.list_patients):\n",
    "\n",
    "    path_features = constants.dir_features / patient / fr\"{patient}_{imaging}_features.parquet\"\n",
    "    df_features = pd.read_parquet(path_features, engine=\"pyarrow\")\n",
    "    df_features = df_features[[\"x\", \"y\", \"z\", \"mean_5x5x5\"]]\n",
    "\n",
    "    path_labels = constants.dir_labels / fr\"{patient}_labels.parquet\"\n",
    "    df_labels = pd.read_parquet(path_labels, engine=\"pyarrow\")\n",
    "    df_labels = df_labels[[\"x\", \"y\", \"z\", \"L3R\", \"L3R - (L1 + L3)\"]]\n",
    "\n",
    "    df_data = df_labels.merge(df_features, on=[\"x\", \"y\", \"z\"], how=\"left\")\n",
    "\n",
    "    for label in [\"L3R\", \"L3R - (L1 + L3)\"]:\n",
    "        df_data[f\"predicted_{label}\"] = (df_data['mean_5x5x5'] >= d_thresholds[label]).astype(int)\n",
    "        \n",
    "        tp = ((df_data[f\"predicted_{label}\"] == 1) & (df_data[label] == 1)).sum()\n",
    "        fp = ((df_data[f\"predicted_{label}\"] == 1) & (df_data[label] == 0)).sum()\n",
    "        tn = ((df_data[f\"predicted_{label}\"] == 0) & (df_data[label] == 0)).sum()\n",
    "        fn = ((df_data[f\"predicted_{label}\"] == 0) & (df_data[label] == 1)).sum()\n",
    "\n",
    "        # Aggregate the values\n",
    "        d_confusion_matrix[label][\"tp\"] += tp\n",
    "        d_confusion_matrix[label][\"fp\"] += fp\n",
    "        d_confusion_matrix[label][\"tn\"] += tn\n",
    "        d_confusion_matrix[label][\"fn\"] += fn\n"
   ]
  },
  {
   "cell_type": "code",
   "execution_count": 23,
   "id": "5b6d7a59-c061-48a1-a0ac-b9aae4f215c5",
   "metadata": {},
   "outputs": [
    {
     "name": "stdout",
     "output_type": "stream",
     "text": [
      "Total Recall for label=L3R : 51.85 %\n",
      "Total Specificity for label=L3R : 67.51 %\n",
      "Total Recall for label=L3R - (L1 + L3) : 59.27 %\n",
      "Total Specificity for label=L3R - (L1 + L3) : 59.73 %\n"
     ]
    }
   ],
   "source": [
    "for label in [\"L3R\", \"L3R - (L1 + L3)\"]:\n",
    "\n",
    "    recall = d_confusion_matrix[label][\"tp\"] / (d_confusion_matrix[label][\"tp\"] + d_confusion_matrix[label][\"fn\"])\n",
    "    specificity = d_confusion_matrix[label][\"tn\"] / (d_confusion_matrix[label][\"tn\"] + d_confusion_matrix[label][\"fp\"])\n",
    "\n",
    "    print(f\"Total Recall for label={label} : {recall * 100:.2f} %\")\n",
    "    print(f\"Total Specificity for label={label} : {specificity* 100:.2f} %\")\n",
    "    "
   ]
  },
  {
   "cell_type": "code",
   "execution_count": 3,
   "id": "c5087803-5fa0-4687-a5d8-3cf8b2a2422b",
   "metadata": {},
   "outputs": [],
   "source": [
    "d = {\"a\": 1, \"b\": 2}\n",
    "d2 = {\"b\": 3}"
   ]
  },
  {
   "cell_type": "code",
   "execution_count": 4,
   "id": "004dbbf7-70ee-40ca-8cf7-c595e3cc8783",
   "metadata": {},
   "outputs": [
    {
     "data": {
      "text/plain": [
       "{'a': 1, 'b': 3}"
      ]
     },
     "execution_count": 4,
     "metadata": {},
     "output_type": "execute_result"
    }
   ],
   "source": [
    "{**d, **d2}"
   ]
  },
  {
   "cell_type": "code",
   "execution_count": null,
   "id": "3aa23c72-a650-4b85-abcb-d0d6c13b5f73",
   "metadata": {},
   "outputs": [],
   "source": []
  }
 ],
 "metadata": {
  "kernelspec": {
   "display_name": "Python 3 (ipykernel)",
   "language": "python",
   "name": "python3"
  },
  "language_info": {
   "codemirror_mode": {
    "name": "ipython",
    "version": 3
   },
   "file_extension": ".py",
   "mimetype": "text/x-python",
   "name": "python",
   "nbconvert_exporter": "python",
   "pygments_lexer": "ipython3",
   "version": "3.11.0"
  }
 },
 "nbformat": 4,
 "nbformat_minor": 5
}
