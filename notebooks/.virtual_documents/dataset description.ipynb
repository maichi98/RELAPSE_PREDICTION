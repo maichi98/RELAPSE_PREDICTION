from aidream_data.core import AidreamDatabase
from aidream_data import constants

import pandas as pd
import numpy as np



def sort_name_list(list_patients):

    sorted_list = [list_patients[i] for i in np.argsort([int(p.strip("AIDREAM_")) for p in list_patients])]
    return sorted_list
    





# Load the AIDREAM Database : 
aidream_db = AidreamDatabase()
aidream_db.connect()



# Load the AIDREAM clinical data spreadsheet : 
df_clinical_data = aidream_db.get_clinical_data()
list_patients_per_clinical_data = df_clinical_data['id_aidream'].loc[df_clinical_data["avec_perf"] == "TRUE"].tolist()
list_patients_per_clinical_data = sort_name_list(list_patients_per_clinical_data)



# Load the AIDREAM cohort info spreadsheet : 
df_cohort_info = aidream_db.get_cohort_info()
list_patients_per_cohort_info = df_cohort_info['patient id']['patient id'].loc[df_cohort_info['']['Perfusion?'] == "oui"].tolist()
list_patients_per_cohort_info = sort_name_list(list_patients_per_cohort_info)



# AIDREAM perfusion patients in cohort_info but not in clinical_data : 
cohort_info_diff_clinical_data = list(set(list_patients_per_cohort_info) - set(list_patients_per_clinical_data))

df_clinical_data.loc[df_clinical_data['id_aidream'].isin(cohort_info_diff_clinical_data)]



# AIDREAM perfusion patients in clinical_data  but not in cohort_info : 
clinical_data_diff_cohort_info = list(set(list_patients_per_clinical_data) - set(list_patients_per_cohort_info))

df_cohort_info.loc[df_cohort_info['patient id']['patient id'].isin(clinical_data_diff_cohort_info)]



# if the list of perfusion patients defined per the intersection of cohort_info and clinical_data : 
list_patients = list(set(list_patients_per_clinical_data).intersection(list_patients_per_cohort_info))
list_patients = sort_name_list(list_patients)

print(fr"the Number of Perfusion Patients (per intersection of cohort_info & clinical_data): {len(list_patients)}")



# if the list of patients defined per cohort_info : 
list_patients = list_patients_per_cohort_info
list_patients = sort_name_list(list_patients)

print(fr"the Number of Perfusion Patients (per cohort_info): {len(list_patients)}")



# Save the perfusion patients list : 
with open("list_patients.txt", 'w') as f:
    f.writelines([f"{p}\n" for p in list_patients])
    





# Load the perfusion patients list : 
with open("list_patients.txt", 'r') as f:
    list_patients = f.readlines()

list_patients = [p.strip('\n') for p in list_patients]
    


df_cohort_info = df_cohort_info.loc[df_cohort_info['patient id']['patient id'].isin(list_patients)]



cols =     [(                  'patient id',                         'patient id'),
            (                      'Cohort',                                 'Co'),
            (                            '',                       'Type surgery'),
            (                 'Multi-tumor',                        'Multifocal?'),
            (                      'pre-RT',                           'Autoseg?'),
            (                      'pre-RT',                             'Label5'),
            (                      'pre-RT',                             'Label3'),
            (                      'pre-RT',                             'Label1'),
            (                      'pre-RT',                             'Label4'),
            (                      'pre-RT',                             'Label2'),
            (                      'pre-RT',                             'Label6'),
            (                      'pre-RT',                             'Label7'),
            (                      'pre-RT',                             'Label8'),
            (                      'pre-RT',                             'Label9'),
            (                      'pre-RT',                            'Label10'),
            (                      'pre-RT',           'Export données corrigées'),
            (                      'pre-RT',                      'Obs2_preRT_CS'),
            (                      'pre-RT',                      'Obs3_preRT_CV'),
            (                     'Relapse',                           'Autoseg?'),
            (                     'Relapse',                             'Label5'),
            (                     'Relapse',                             'Label3'),
            (                     'Relapse',                             'Label1'),
            (                     'Relapse',                             'Label4'),
            (                     'Relapse',                             'Label2'),
            (                     'Relapse',                             'Label6'),
            (                     'Relapse',                             'Label7'),
            (                     'Relapse',                             'Label8'),
            (                     'Relapse',                             'Label9'),
            (                     'Relapse',                            'Label10'),
            (                     'Relapse',                    'OBS2_relapse_CS'),
            (                     'Relapse',                    'OBS3_relapse_CV'),
            (                         'Sex',                                'Sex'),
            (                 'Age at diag',                        'Age at diag'),
            (                   'IDH muted',                          'IDH muted'),
            (            'MGMT methylation',                   'MGMT methylation'),
            (                      'Center',         'Anatomic pathology/surgery'),
            ('RT treatment characteristics',               'RT_dose_prescrite_Gy'),
            ('RT treatment characteristics',                    'RT_nr_fractions'),
            ('RT treatment characteristics',                'RT_dose_fraction_Gy'),
            ('RT treatment characteristics',                 'RT_etalement_jours'),
            ('RT treatment characteristics',                       'RT_Technique'),
           ]



df_cohort_info = df_cohort_info[cols]


dict_cols = {(                  'patient id',                         'patient id') :                      "aidream_id",
             (                      'Cohort',                                 'Co') :                          "cohort",
             (                            '',                       'Type surgery') :                    'surgery type',
             (                 'Multi-tumor',                        'Multifocal?') :                    'Multifocal ?',
             (                      'pre-RT',                           'Autoseg?') :                 'pre_RT Autoseg?',
             (                      'pre-RT',                             'Label5') :                   'pre_RT Label5',
             (                      'pre-RT',                             'Label3') :                   'pre_RT Label3',
             (                      'pre-RT',                             'Label1') :                   'pre_RT Label1',
             (                      'pre-RT',                             'Label4') :                   'pre_RT Label4',
             (                      'pre-RT',                             'Label2') :                   'pre_RT Label2',
             (                      'pre-RT',                             'Label6') :                   'pre_RT Label6',
             (                      'pre-RT',                             'Label7') :                   'pre_RT Label7',
             (                      'pre-RT',                             'Label8') :                   'pre_RT Label8',
             (                      'pre-RT',                             'Label9') :                   'pre_RT Label9',
             (                      'pre-RT',                            'Label10') :                  'pre_RT Label10',
             (                      'pre-RT',           'Export données corrigées') : 'pre_RT Export données corrigées',
             (                      'pre-RT',                      'Obs2_preRT_CS') :            'pre_RT Obs2_preRT_CS',
             (                      'pre-RT',                      'Obs3_preRT_CV') :            'pre_RT Obs3_preRt_CV',
             (                     'Relapse',                           'Autoseg?') :                'Rechute Autoseg?',
             (                     'Relapse',                             'Label5') :                  'Rechute Label5',
             (                     'Relapse',                             'Label3') :                  'Rechute Label3',
             (                     'Relapse',                             'Label1') :                  'Rechute Label1',
             (                     'Relapse',                             'Label4') :                  'Rechute Label4',
             (                     'Relapse',                             'Label2') :                  'Rechute Label2',
             (                     'Relapse',                             'Label6') :                  'Rechute Label6',
             (                     'Relapse',                             'Label7') :                  'Rechute Label7',
             (                     'Relapse',                             'Label8') :                  'Rechute Label8',
             (                     'Relapse',                             'Label9') :                  'Rechute Label9',
             (                     'Relapse',                            'Label10') :                 'Rechute Label10',
             (                     'Relapse',                    'OBS2_relapse_CS') :         'Rechute Obs2_relapse_CS',
             (                     'Relapse',                    'OBS3_relapse_CV') :         'Rechute Obs3_relapse_CV',
             (                         'Sex',                                'Sex') :                             'Sex',
             (                 'Age at diag',                        'Age at diag') :                     'Age at diag',
             (                   'IDH muted',                          'IDH muted') :                       'IDH muted',
             (            'MGMT methylation',                   'MGMT methylation') :                'MGMT methylation',
             (                      'Center',         'Anatomic pathology/surgery') :      'Anatomic pathology/surgery',
             ('RT treatment characteristics',               'RT_dose_prescrite_Gy') :            'RT_dose_prescrite_Gy',
             ('RT treatment characteristics',                    'RT_nr_fractions') :                 'RT_nr_fractions',
             ('RT treatment characteristics',                'RT_dose_fraction_Gy') :             'RT_dose_fraction_Gy',
             ('RT treatment characteristics',                 'RT_etalement_jours') :              'RT_etalement_jours',
             ('RT treatment characteristics',                       'RT_Technique') :                    'RT_Technique'
            }



df_cohort_info = df_cohort_info.reset_index(drop=True)

df_cohort_info_new = pd.DataFrame(columns=dict_cols.values())



for col, new_col in dict_cols.items():

    df_cohort_info_new[new_col] = df_cohort_info[col]



df_cohort_info_new.to_csv("cohort_info_perfusion.csv", index=False)



df_clinical_data = df_clinical_data.loc[df_clinical_data['id_aidream'].isin(list_patients)].reset_index(drop=True)


cols = ['id_aidream', 'id_cercare', 'IRM_preRT_ax', 'IRM_rechute_ax', 'deces', 'TYPE_CHIR(Bx=0_STR=1_GTR=2)', 'delai_irmrechute_RTj1_jours', 'PTV_volume_total_cm3']


df_clinical_data_new = df_clinical_data[cols]


df_cohort_info_new.to_csv("clinical_data_perfusion.csv", index=False)



df_cohort_info_new.rename(columns={"aidream_id": "id_aidream"}, inplace=True)


df_metadata = df_cohort_info_new.merge(df_clinical_data_new, 
                                       on="id_aidream",
                                       how="left")

df_metadata.to_csv("metadata_perfusion.csv", index=False)



# Load the interim perfusion patients list : 
with open("list_intermediary_patients.txt", 'r') as f:
    list_patients_interim = f.readlines()

list_patients_interim = [p.strip('\n') for p in list_patients_interim]



df_metadata = df_metadata.loc[df_metadata["id_aidream"].isin(list_patients_interim)].reset_index(drop=True)


df_metadata.to_csv(fr"metadata_perfusion_interim.csv", index=False)


df_clinical_data_new.columns





import matplotlib.pyplot as plt
import seaborn as sns



df_metadata = pd.read_csv("metadata_perfusion.csv")
df_metadata_interim = pd.read_csv("metadata_perfusion_interim.csv")



df_metadata.columns


df_clinical_data.columns


for col in df_cohort_info.columns:
    print(col)
    


df_clinical_data['tmz_conco'].unique()


df_clinical_data.loc[df_clinical_data['recidive_diametre_max_mm'] == 'na']



