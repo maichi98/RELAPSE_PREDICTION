from aidream_data.core import AidreamDatabase
from aidream_data import constants

import pandas as pd
import numpy as np



def sort_name_list(list_patients):

    sorted_list = [list_patients[i] for i in np.argsort([int(p.strip("AIDREAM_")) for p in list_patients])]
    return sorted_list
    





# Load the AIDREAM Database : 
aidream_db = AidreamDatabase()
aidream_db.connect()



# Load the AIDREAM clinical data spreadsheet : 
df_clinical_data = aidream_db.get_clinical_data()
list_patients_per_clinical_data = df_clinical_data['id_aidream'].loc[df_clinical_data["avec_perf"] == "TRUE"].tolist()
list_patients_per_clinical_data = sort_name_list(list_patients_per_clinical_data)



# Load the AIDREAM cohort info spreadsheet : 
df_cohort_info = aidream_db.get_cohort_info()
list_patients_per_cohort_info = df_cohort_info['patient id']['patient id'].loc[df_cohort_info['']['Perfusion?'] == "oui"].tolist()
list_patients_per_cohort_info = sort_name_list(list_patients_per_cohort_info)



# AIDREAM perfusion patients in cohort_info but not in clinical_data : 
cohort_info_diff_clinical_data = list(set(list_patients_per_cohort_info) - set(list_patients_per_clinical_data))

df_clinical_data.loc[df_clinical_data['id_aidream'].isin(cohort_info_diff_clinical_data)]



# AIDREAM perfusion patients in clinical_data  but not in cohort_info : 
clinical_data_diff_cohort_info = list(set(list_patients_per_clinical_data) - set(list_patients_per_cohort_info))

df_cohort_info.loc[df_cohort_info['patient id']['patient id'].isin(clinical_data_diff_cohort_info)]



# if the list of perfusion patients defined per the intersection of cohort_info and clinical_data : 
list_patients = list(set(list_patients_per_clinical_data).intersection(list_patients_per_cohort_info))
list_patients = sort_name_list(list_patients)

print(fr"the Number of Perfusion Patients (per intersection of cohort_info & clinical_data): {len(list_patients)}")



# if the list of patients defined per cohort_info : 
list_patients = list_patients_per_cohort_info
list_patients = sort_name_list(list_patients)

print(fr"the Number of Perfusion Patients (per cohort_info): {len(list_patients)}")



# Save the perfusion patients list : 
with open("list_patients.txt", 'w') as f:
    f.writelines([f"{p}\n" for p in list_patients])
    









