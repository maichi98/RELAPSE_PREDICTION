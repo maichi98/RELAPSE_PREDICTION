from relapse_prediction import constants


from sklearn.metrics import auc
from tqdm.auto import tqdm
import pandas as pd
import pickle





df_cercare_auc = pd.DataFrame(columns=["patient", "label", "imaging", "feature", "AUC"])

for patient in tqdm(constants.list_patients):
    for label in ["L3R", "L3R_5x5x5", "L3R - (L1 + L3)", "L3R - (L1 + L3)_5x5x5"]:
        for imaging in constants.L_CERCARE_MAPS:
            for feature in [None, "mean_5x5x5"]:
                
                
                feature_col = f"{imaging}_{feature}" if feature is not None else imaging
                with open(constants.dir_thresholds / patient / label / f"{feature_col}_quantized.pickle", "rb") as f:
                    dict_thresholds = pickle.load(f)
                
                fpr, tpr = dict_thresholds["fpr"], dict_thresholds["tpr"]
                auc_value = auc(fpr, tpr)
                
                df_cercare_auc.loc[len(df_cercare_auc)] = [patient, label, imaging, feature, auc_value]

df_cercare_auc.to_csv("cercare_auc_values_per_patient.csv", index=False)


df_cercare_auc["feature"].fillna("", inplace=True)
df_cercare_auc.groupby(["label", "imaging", "feature"])["AUC"].mean().reset_index()





df_mri_auc = pd.DataFrame(columns=["patient", "label", "imaging", "feature", "norm", "AUC"])

for patient in tqdm(constants.list_patients):
    for label in ["L3R", "L3R_5x5x5", "L3R - (L1 + L3)", "L3R - (L1 + L3)_5x5x5"]:
        for imaging in constants.L_IRM_MAPS:
            for feature in [None, "mean_5x5x5"]:
                for norm in ["z_score", "min_max", "max"]:
                
                    feature_col = f"{imaging}_{feature}" if feature is not None else imaging
                    with open(constants.dir_thresholds / patient / label / f"{feature_col}_{norm}_normalized.pickle", "rb") as f:
                        dict_thresholds = pickle.load(f)
                    
                    fpr, tpr = dict_thresholds["fpr"], dict_thresholds["tpr"]
                    auc_value = auc(fpr, tpr)
                    
                    df_mri_auc.loc[len(df_mri_auc)] = [patient, label, imaging, feature, norm, auc_value]

df_mri_auc.to_csv("mri_auc_values_per_patient.csv", index=False)


df_mri_auc["feature"].fillna("", inplace=True)
df_mri_auc.groupby(["label", "imaging", "feature", "norm"])["AUC"].mean().reset_index()



