from aidream_data.core import AidreamDatabase
from aidream_data import constants

from pathlib import Path
from tqdm import tqdm
import pandas as pd
import numpy as np
import shutil
import os






# Load the AIDREAM Database : 
aidream_db = AidreamDatabase()
aidream_db.connect()



# Load the perfusion patients list : 
with open("list_patients.txt", 'r') as f:
    list_patients = f.readlines()

list_patients = [p.strip('\n') for p in list_patients]
    


def sort_name_list(list_patients):

    sorted_list = [list_patients[i] for i in np.argsort([int(p.strip("AIDREAM_")) for p in list_patients])]
    return sorted_list
    


dir_aidream_data = Path("/media/maichi/T9/AIDREAM_DATA")






for patient in tqdm(list_patients):
    for stage in ['pre_RT', 'Rechute']:

        dir_labels = dir_aidream_data / patient / stage / 'Labels'

        if dir_labels.exists():
            shutil.rmtree(dir_labels)
            


list_bad_patients = {"AIDREAM_32", "AIDREAM_61"}



# export MRI images in native ref for both pre_RT and Rechute  : 
aidream_dataset = aidream_db.create_dataset(list_aidream_ids=list(set(list_patients) - list_bad_patients),
                                            list_pre_rt=['T1', 'T1CE', 'FLAIR', 'L1', 'L3', 'CTH', 'rCBV'],
                                            list_rechute=['T1', 'T1CE', 'FLAIR', 'L3'],
                                            load_anyway=True,
                                           )



aidream_dataset.export(dir_dataset="/media/maichi/T9/AIDREAM_DATA",
                       overwrite=False)






dir_src_perfusion = Path("/media/maichi/SSD-IGR/Perfusion data")



remaining_patients = set(list_patients) - set(os.listdir(dir_src_perfusion))


sort_name_list(list(remaining_patients))


for patient in tqdm(list_patients):

    try:
        dir_src = dir_src_perfusion / patient 
        
        dir_dst = dir_aidream_data / patient / "pre_RT" / "PERFUSION" / "DICOM"
        dir_dst.parent.mkdir(parents=True, exist_ok=True)

        if not dir_dst.exists():
            shutil.copytree(src=dir_src, dst=dir_dst)

    except Exception as e:
        print(fr"{patient} has no PERFUSION data !")
        


list_patients_interim = os.listdir(dir_src_perfusion)
print(fr"Number of patients with available PERFUSION data (for now) : {len(list_patients_interim)}")



with open("list_intermediary_patients.txt", "w") as f:
    f.writelines([f"{p}\n" for p in list_patients])
    





dir_src_cercare = Path("/media/maichi/T7/AIDREAM_DATA/raw")



list_patients_interim = set(list_patients)



for patient in tqdm(list_patients):
    for imaging in ['CTH', 'OEF', 'rCBV', 'Delay', 'COV', 'rCMRO2', 'rLeakage']:
        
        try:
            dir_src = dir_src_cercare / patient / "pre_RT" / imaging
            
            dir_dst = dir_aidream_data / patient / "pre_RT" / imaging / "DICOM"
            dir_dst.parent.mkdir(parents=True, exist_ok=True)

            if not dir_dst.exists():
                shutil.copytree(src=dir_src, dst=dir_dst)            
    
        except Exception as e:

            list_patients_interim = list_patients_interim - {patient}
            print(fr"{patient} has no {imaging} data !")   
    


list_patients_interim = list(set(list_patients_interim)) 
list_patients_interim = sort_name_list(list_patients_interim)

print(fr"Number of patients with available CERCARE data (for now) : {len(list_patients_interim)}")



with open("list_intermediary_patients.txt", "w") as f:
    f.writelines([f"{p}\n" for p in list_patients_interim])
    





remaining_patients = {
    "pre_RT" : set(),
    "Rechute": set()
}



patients_with_labels = {
    "pre_RT" : set(),
    "Rechute": set()
}






new_labels_src_dirs = {
    
    'pre_RT' : constants.DIR_AIDREAM_ON_NAS / 'Export_RayStation_RS_27062024' / 'preRT',
    'Rechute': constants.DIR_AIDREAM_ON_NAS / 'Export_RayStation_RS_27062024' / 'Rechute'
    
}



for stage in ['pre_RT', 'Rechute']:

    dir_src_labels = new_labels_src_dirs[stage]
    
    for folder in tqdm(os.listdir(dir_src_labels)):

        try:
            patient = folder.split("__")[-1]
            print(fr" ---------- {patient:^12} ----- {stage:^7} ---------- ")
    
            dir_src = dir_src_labels / folder
    
            list_labels = list(dir_src.glob("*.dcm"))
            
            if len(list_labels) != 1:
                print(fr"Conflicling Labels DICOM files ! ")
                
            else:
                path_src = list_labels[0]
                
                dir_dst = dir_aidream_data / patient / stage / 'Labels'
    
                if dir_dst.exists():
                    print(fr"Replacing {stage} Labels for patient {patient} !")
                    shutil.rmtree(dir_dst)
    
                else:
                    print(fr"Adding {stage} Labels for patient {patient} !")
                    
                dir_dst.mkdir(exist_ok=True, parents=True)
                path_dst = dir_dst / path_src.name
                
                print(fr"Path src exists: {path_src.exists()}")
                print(fr"Path parent dst exists: {path_dst.parent.exists()}")
                print(fr"Path dst exists: {path_dst.exists()}")

                shutil.copyfile(src=path_src, dst=path_dst)
                print(fr"Successfully loaded {stage} labels for patient {patient}")

        except Exception as e:
            print(e)
            print(fr'Failed to load {stage} Labels for patient {patient} !')

    


for patient in tqdm(list_patients):
    for stage in ['pre_RT', 'Rechute']:

        dir_labels = dir_aidream_data / patient / stage / 'Labels'

        if len(list(dir_labels.glob("*.dcm"))) == 1:
            patients_with_labels[stage].add(patient)    
        else:
            remaining_patients[stage].add(patient)
        


print(fr"Number of patients with full pre_RT imaging : {len(patients_with_labels['pre_RT'])}")
print(fr"Number of patients with full Rechute imaging : {len(patients_with_labels['Rechute'])}")



print(fr"Number of interim patients : {len(list_patients_interim)}")

print(fr"Number of interim patients with full pre_RT imaging : {len(set(list_patients_interim).intersection(patients_with_labels['pre_RT']))}")

print(fr"Number of interim patients with full Rechute imaging : {len(set(list_patients_interim).intersection(patients_with_labels['Rechute']))}")




