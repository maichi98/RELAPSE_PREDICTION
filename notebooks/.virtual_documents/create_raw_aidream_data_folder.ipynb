from aidream_data.constants import DIR_AIDREAM_ON_NAS
from aidream_data.core import AidreamDatabase

from pathlib import Path
import pandas as pd



%%time
# connect to the AIdream Database : 
aidream_db = AidreamDatabase()
aidream_db.connect()



%%time
# Load the cohort info dataframe : 
df_cohort_info = aidream_db.get_cohort_info()
# Load the clinical data dataframe :
df_clinical_data = aidream_db.get_clinical_data()



# Select only patients with perfusion data :
df_cohort_info = df_cohort_info.loc[df_cohort_info['']['Perfusion?'] == 'oui']
list_extended_patients = df_cohort_info['patient id']['patient id'].values.tolist()
df_clinical_data = df_clinical_data.loc[df_clinical_data['id_aidream'].isin(list_extended_patients)]

print(f"Number of patients with perfusion data : {len(list_extended_patients)}")



# Dataframe of extended patients containing the path to the patient's perfusion data :

df_extended_patients = df_clinical_data[["id_aidream", "id_cercare"]].copy()
df_extended_patients["tmp"] = df_extended_patients["id_aidream"].apply(lambda x: int(x.lstrip("AIDREAM_")))
df_extended_patients = df_extended_patients.sort_values(by="tmp").drop(columns=["tmp"])

def get_perfusion_directory(cercare_id):
    
    if cercare_id.startswith("MMI-PROB"):
        
        dir_perfusion = DIR_AIDREAM_ON_NAS / "Cercare_perfusion" / "MMI-PROB" / cercare_id / "PERFUSION"
        if dir_perfusion.exists():
            return str(dir_perfusion)
        else:
            return "Not found"
        
    elif cercare_id.startswith("AIDREAM"):
        
        list_perfusion_directories = list((DIR_AIDREAM_ON_NAS / "Cercare_perfusion" / "AIDREAM" / cercare_id).glob("*/AX PERFUSION GRE GADO"))
        
        if len(list_perfusion_directories) != 1:
            return "Not found"
        else:
            return str(list_perfusion_directories[0])
        
df_extended_patients["Perfusion directory"] = df_extended_patients["id_cercare"].apply(get_perfusion_directory)
df_extended_patients.to_csv("extended_patients.csv", index=False)



set(df_extended_patients["id_cercare"].loc[df_extended_patients["id_cercare"].str.startswith("MMI-PROB")])


{p.parent.stem for p in (DIR_AIDREAM_ON_NAS / 'Cercare_perfusion' / "MMI-PROB").glob("*/PERFUSION")} - set(df_extended_patients["id_cercare"].loc[df_extended_patients["id_cercare"].str.startswith("MMI-PROB")])



list_weird_patients = {
    'MMI-PROB_003', 'MMI-PROB_004', 'MMI-PROB_008', 'MMI-PROB_010', 'MMI-PROB_011',
    'MMI-PROB_012', 'MMI-PROB_013', 'MMI-PROB_014', 'MMI-PROB_015', 'MMI-PROB_016',
    'MMI-PROB_017', 'MMI-PROB_019', 'MMI-PROB_020', 'MMI-PROB_022', 'MMI-PROB_023',
    'MMI-PROB_039', 'MMI-PROB_040', 'MMI-PROB_045', 'MMI-PROB_055', 'MMI-PROB_056',
    'MMI-PROB_084', 'MMI-PROB_091', 'MMI-PROB_110', 'MMI-PROB_121', 'MMI-PROB_142',
    'MMI-PROB_158', 'MMI-PROB_167', 'MMI-PROB_168', 'MMI-PROB_176', 'MMI-PROB_205',
    'MMI-PROB_206', 'MMI-PROB_216', 'MMI-PROB_227', 'MMI-PROB_237', 'MMI-PROB_243',
    'MMI-PROB_246'}


df_clinical_data.loc[df_clinical_data["id_cercare"].isin(list_weird_patients)]


# Select relevant columns and rename them :

old_cols = [('patient id', 'patient id'), ('', 'Perfusion?'),
                ('pre-RT', 'Autoseg?'), ('pre-RT', 'Label1'), ('pre-RT', 'Label3'), ('pre-RT', 'Obs2_preRT_CS'), ( 'pre-RT', 'Obs3_preRT_CV'),
                ('Relapse', 'Autoseg?'), ('Relapse', 'Label1'), ('Relapse', 'Label3'), ('Relapse', 'OBS2_relapse_CS'), ('Relapse', 'OBS3_relapse_CV')]

new_cols = ["patient id", "Perfusion?","Pre-RT Autoseg?", "Pre-RT Label1", "Pre-RT Label3", "Pre-RT Obs2_preRT_CS", "Pre-RT Obs3_preRT_CV",
            "Relapse Autoseg?", "Relapse Label1", "Relapse Label3", "Relapse OBS2_relapse_CS", "Relapse OBS3_relapse_CV"]

df_cohort_info = pd.DataFrame(df_cohort_info[old_cols].values, columns=new_cols)



df_cohort_info['Pre-RT Autoseg?'].value_counts()


list_extended_patients = df_cohort_info['patient id'].values.tolist()



df_cohort_info.loc[(df_cohort_info['Pre-RT Label1'] == "")]


df_cohort_info = df_cohort_info.loc[
    (df_cohort_info['Pre-RT Label1'] != "") &
    (df_cohort_info['Pre-RT Label3'] != "") &
    (df_cohort_info['Pre-RT Obs2_preRT_CS'] != "") &
    # (df_cohort_info['Pre-RT Obs3_preRT_CV'] != "") &   
    (df_cohort_info['Relapse Label3'] != "")  &
    (df_cohort_info['Relapse OBS2_relapse_CS'] != "") 
    # (df_cohort_info['Relapse OBS3_relapse_CV'] != "")
]


df_cohort_info.columns


# Check the annotation referential of the patients at pre-RT: 
df_cohort_info['Pre-RT Autoseg?'].value_counts()



list_extended_patients


df_ref = pd.read_excel(DIR_AIDREAM_ON_NAS / "AIDREAM_All" / "AIDREAM_DonneesCliniques_975Patients_v.31082023.xlsx")
df_ref.rename(columns={'New_ID_AIDREAM':'id_aidream'}, inplace=True)
df_ref = df_ref[['id_aidream', 'ID_local']].loc[df_ref['id_aidream'].isin(list_extended_patients)]



df_available_data = pd.read_csv("extended_patients.csv")
df_ref = df_ref.merge(df_available_data, on='id_aidream', how="left")
df_ref.to_csv("extended_patients.csv", index=False)


df_ref = pd.read_csv("extended_patients.csv")


df_missing_patients_36 = df_ref.loc[df_ref["Perfusion directory"] == "Not found"].reset_index(drop=True)
df_missing_patients_36.rename(columns={"ID_local": "Patient ID"}, inplace=True)
df_missing_patients_36[["Patient ID", "id_aidream"]].to_csv("missing_patients_36.csv", index=False)


df_ref


df_missing_patients_36[["Patient ID", "id_aidream"]].to_csv("missing_patients_36.csv", index=False)


df_ref


df_links = pd.read_csv("extended_patients.csv")


from tqdm.auto import tqdm
import shutil


_list_patients = df_links["id_aidream"].loc[df_links["Perfusion directory"] != "Not found"]

for patient in tqdm(_list_patients):
    
    dir_perfusion = Path(df_links.loc[df_links["id_aidream"] == patient, "Perfusion directory"].values[0])
    
    dir_dst = Path("/media/maichi/SSD-IGR/Perfusion data") / patient
    dir_dst.mkdir(parents=True, exist_ok=True)
    
    shutil.copytree(src=dir_perfusion, dst=dir_dst, dirs_exist_ok=True)
    


import concurrent.futures

def copy_file(patient):
    dir_perfusion = Path(df_links.loc[df_links["id_aidream"] == patient, "Perfusion directory"].values[0])
    dir_dst = Path("/media/maichi/SSD-IGR/Perfusion data") / patient
    dir_dst.mkdir(parents=True, exist_ok=True)
    shutil.copytree(src=dir_perfusion, dst=dir_dst, dirs_exist_ok=True)

_list_patients = df_links["id_aidream"].loc[df_links["Perfusion directory"] != "Not found"]

# Use a ThreadPoolExecutor to copy files in parallel
with concurrent.futures.ThreadPoolExecutor() as executor:
    list(executor.map(copy_file, _list_patients))
    



