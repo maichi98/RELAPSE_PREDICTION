from aidream_data.core import AidreamDatabase
from aidream_data import constants

from pathlib import Path
from tqdm import tqdm
import pandas as pd
import numpy as np
import shutil
import os






# Load the AIDREAM Database : 
aidream_db = AidreamDatabase()
aidream_db.connect()



# Load the perfusion patients list : 
with open("list_patients.txt", 'r') as f:
    list_patients = f.readlines()

list_patients = [p.strip('\n') for p in list_patients]
    


def sort_name_list(list_patients):

    sorted_list = [list_patients[i] for i in np.argsort([int(p.strip("AIDREAM_")) for p in list_patients])]
    return sorted_list
    





# export MRI images in native ref for both pre_RT and Rechute  : 
aidream_dataset = aidream_db.create_dataset(list_aidream_ids=list_patients,
                                            list_pre_rt=['T1', 'T1CE', 'FLAIR'],
                                            list_rechute=['T1', 'T1CE', 'FLAIR'],
                                            load_anyway=True)



# aidream_dataset.export("/media/maichi/T9/AIDREAM_DATA")






dir_src_perfusion = Path("/media/maichi/SSD-IGR/Perfusion data")
dir_aidream_data = Path("/media/maichi/T9/AIDREAM_DATA")

for patient in tqdm(list_patients):

    try:
        dir_src = dir_src_perfusion / patient 
        
        dir_dst = dir_aidream_data / patient / "pre_RT" / "PERFUSION" / "DICOM"
        dir_dst.parent.mkdir(parents=True, exist_ok=True)

        shutil.copytree(src=dir_src, dst=dir_dst)

    except Exception as e:
        print(fr"{patient} has no PERFUSION data !")
        


list_patients_interim = os.listdir(dir_src_perfusion)
print(fr"Number of patients with available PERFUSION data (for now) : {len(list_patients_interim)}")



with open("list_intermediary_patients.txt", "w") as f:
    f.writelines([f"{p}\n" for p in list_patients])
    





dir_src_cercare = Path("/media/maichi/T7/AIDREAM_DATA/raw")

list_patients_interim = set(list_patients)


for patient in tqdm(list_patients):
    for imaging in ['CTH', 'OEF', 'rCBV', 'Delay', 'COV', 'rCMRO2', 'rLeakage']:
        
        try:
            dir_src = dir_src_cercare / patient / "pre_RT" / imaging
            
            dir_dst = dir_aidream_data / patient / "pre_RT" / imaging / "DICOM"
            dir_dst.parent.mkdir(parents=True, exist_ok=True)
        
            shutil.copytree(src=dir_src, dst=dir_dst)            
    
        except Exception as e:

            list_patients_interim = list_patients_interim - {patient}
            print(fr"{patient} has no {imaging} data !")   
    


list_patients_interim = list(set(list_patients_interim)) 
list_patients_interim = sort_name_list(list_patients_interim)

print(fr"Number of patients with available CERCARE data (for now) : {len(list_patients_interim)}")



with open("list_intermediary_patients.txt", "w") as f:
    f.writelines([f"{p}\n" for p in list_patients_interim])
    





remaining_patients = set()





dir_src_prert_labels = constants.DIR_AIDREAM_ON_NAS / 'RSTRUCT_Export2024' / 'DONNEES_VALIDEES' / 'RTSTRUCT_IRM_preRT_09022024'

for patient in tqdm(list_patients):

    try:
        dir_src = dir_src_prert_labels / patient / "RS"

        dir_dst = dir_aidream_data / patient / "pre_RT" / 'Labels' / 'DICOM'
        dir_dst.parent.mkdir(exist_ok=True, parents=True)

        if dir_dst.exists():
            shutil.rmtree(dir_dst)

        shutil.copytree(dir_src, dir_dst)

    except Exception as e:
        print(fr'Failed to load pre_RT Labels for patient {patient} !')
        remaining_patients.add(patient)
        


len(remaining_patients)


dir_src_prert_labels = constants.DIR_AIDREAM_ON_NAS / 'Export_RayStation_RS_27062024' / 'preRT'

for folder in tqdm(os.listdir(dir_src_prert_labels)):

    patient = folder.split("__")[-1]

    try:
        dir_src = dir_src_prert_labels / folder

        dir_dst = dir_aidream_data / patient / "pre_RT" / 'Labels' / 'DICOM'
        dir_dst.parent.mkdir(exist_ok=True, parents=True)

        if dir_dst.exists():

            print(fr"Replacing pre_RT labels for patient {patient}")
            shutil.rmtree(dir_dst)

        else:
            print(fr"Adding pre_RT labels for patient {patient}+")

        shutil.copytree(dir_src, dir_dst)
        remaining_patients = remaining_patients - {patient}
        print(fr"Successfully loaded pre_RT labels for patient {patient}")
        
    except Exception as e:
        print(e)
        print(fr'Failed to load pre_RT Labels for patient {patient} !')
        


len(remaining_patients)



