{
 "cells": [
  {
   "cell_type": "code",
   "id": "initial_id",
   "metadata": {
    "collapsed": true,
    "jupyter": {
     "outputs_hidden": true
    },
    "ExecuteTime": {
     "end_time": "2024-08-01T03:39:16.018056Z",
     "start_time": "2024-08-01T03:39:15.984370Z"
    }
   },
   "source": [
    "from relapse_prediction import constants"
   ],
   "outputs": [],
   "execution_count": 1
  },
  {
   "cell_type": "code",
   "id": "9bfa72fe1c72beb0",
   "metadata": {
    "ExecuteTime": {
     "end_time": "2024-08-01T03:39:17.751538Z",
     "start_time": "2024-08-01T03:39:17.462632Z"
    }
   },
   "source": [
    "from sklearn.metrics import auc\n",
    "from tqdm.auto import tqdm\n",
    "import pandas as pd\n",
    "import pickle"
   ],
   "outputs": [],
   "execution_count": 2
  },
  {
   "cell_type": "markdown",
   "id": "604288f60f04e320",
   "metadata": {},
   "source": [
    "# 1. Cercare features : "
   ]
  },
  {
   "cell_type": "code",
   "id": "8de4ed8ec4210019",
   "metadata": {
    "ExecuteTime": {
     "end_time": "2024-08-01T03:39:52.718491Z",
     "start_time": "2024-08-01T03:39:40.401912Z"
    }
   },
   "source": [
    "df_cercare_auc = pd.DataFrame(columns=[\"patient\", \"label\", \"imaging\", \"feature\", \"AUC\"])\n",
    "\n",
    "for patient in tqdm(constants.list_patients):\n",
    "    for label in [\"L3R\", \"L3R_5x5x5\", \"L3R - (L1 + L3)\", \"L3R - (L1 + L3)_5x5x5\"]:\n",
    "        for imaging in constants.L_CERCARE_MAPS:\n",
    "            for feature in [None, \"mean_5x5x5\"]:\n",
    "                \n",
    "                \n",
    "                feature_col = f\"{imaging}_{feature}\" if feature is not None else imaging\n",
    "                with open(constants.dir_thresholds / patient / label / f\"{feature_col}_quantized.pickle\", \"rb\") as f:\n",
    "                    dict_thresholds = pickle.load(f)\n",
    "                \n",
    "                fpr, tpr = dict_thresholds[\"fpr\"], dict_thresholds[\"tpr\"]\n",
    "                auc_value = auc(fpr, tpr)\n",
    "                \n",
    "                df_cercare_auc.loc[len(df_cercare_auc)] = [patient, label, imaging, feature, auc_value]\n",
    "\n",
    "df_cercare_auc.to_csv(\"cercare_auc_values_per_patient.csv\", index=False)"
   ],
   "outputs": [
    {
     "data": {
      "text/plain": [
       "  0%|          | 0/103 [00:00<?, ?it/s]"
      ],
      "application/vnd.jupyter.widget-view+json": {
       "version_major": 2,
       "version_minor": 0,
       "model_id": "f23274c99c2b4acfb826f44529b01732"
      }
     },
     "metadata": {},
     "output_type": "display_data"
    }
   ],
   "execution_count": 3
  },
  {
   "cell_type": "code",
   "id": "897e6569b8cbe089",
   "metadata": {
    "ExecuteTime": {
     "end_time": "2024-08-01T03:41:18.528672Z",
     "start_time": "2024-08-01T03:41:18.524458Z"
    }
   },
   "source": [
    "df_cercare_auc[\"feature\"].fillna(\"\", inplace=True)\n",
    "df = df_cercare_auc.groupby([\"label\", \"imaging\", \"feature\"])[\"AUC\"].mean().reset_index()"
   ],
   "outputs": [],
   "execution_count": 5
  },
  {
   "metadata": {
    "ExecuteTime": {
     "end_time": "2024-08-01T03:45:07.082412Z",
     "start_time": "2024-08-01T03:45:07.078216Z"
    }
   },
   "cell_type": "code",
   "source": "df.loc[df['imaging'] == 'rLeakage']",
   "id": "e9481756dc16e7f1",
   "outputs": [
    {
     "data": {
      "text/plain": [
       "                    label   imaging     feature       AUC\n",
       "12                    L3R  rLeakage              0.550002\n",
       "13                    L3R  rLeakage  mean_5x5x5  0.560691\n",
       "26        L3R - (L1 + L3)  rLeakage              0.531390\n",
       "27        L3R - (L1 + L3)  rLeakage  mean_5x5x5  0.542321\n",
       "40  L3R - (L1 + L3)_5x5x5  rLeakage              0.504674\n",
       "41  L3R - (L1 + L3)_5x5x5  rLeakage  mean_5x5x5  0.514970\n",
       "54              L3R_5x5x5  rLeakage              0.545690\n",
       "55              L3R_5x5x5  rLeakage  mean_5x5x5  0.555032"
      ],
      "text/html": [
       "<div>\n",
       "<style scoped>\n",
       "    .dataframe tbody tr th:only-of-type {\n",
       "        vertical-align: middle;\n",
       "    }\n",
       "\n",
       "    .dataframe tbody tr th {\n",
       "        vertical-align: top;\n",
       "    }\n",
       "\n",
       "    .dataframe thead th {\n",
       "        text-align: right;\n",
       "    }\n",
       "</style>\n",
       "<table border=\"1\" class=\"dataframe\">\n",
       "  <thead>\n",
       "    <tr style=\"text-align: right;\">\n",
       "      <th></th>\n",
       "      <th>label</th>\n",
       "      <th>imaging</th>\n",
       "      <th>feature</th>\n",
       "      <th>AUC</th>\n",
       "    </tr>\n",
       "  </thead>\n",
       "  <tbody>\n",
       "    <tr>\n",
       "      <th>12</th>\n",
       "      <td>L3R</td>\n",
       "      <td>rLeakage</td>\n",
       "      <td></td>\n",
       "      <td>0.550002</td>\n",
       "    </tr>\n",
       "    <tr>\n",
       "      <th>13</th>\n",
       "      <td>L3R</td>\n",
       "      <td>rLeakage</td>\n",
       "      <td>mean_5x5x5</td>\n",
       "      <td>0.560691</td>\n",
       "    </tr>\n",
       "    <tr>\n",
       "      <th>26</th>\n",
       "      <td>L3R - (L1 + L3)</td>\n",
       "      <td>rLeakage</td>\n",
       "      <td></td>\n",
       "      <td>0.531390</td>\n",
       "    </tr>\n",
       "    <tr>\n",
       "      <th>27</th>\n",
       "      <td>L3R - (L1 + L3)</td>\n",
       "      <td>rLeakage</td>\n",
       "      <td>mean_5x5x5</td>\n",
       "      <td>0.542321</td>\n",
       "    </tr>\n",
       "    <tr>\n",
       "      <th>40</th>\n",
       "      <td>L3R - (L1 + L3)_5x5x5</td>\n",
       "      <td>rLeakage</td>\n",
       "      <td></td>\n",
       "      <td>0.504674</td>\n",
       "    </tr>\n",
       "    <tr>\n",
       "      <th>41</th>\n",
       "      <td>L3R - (L1 + L3)_5x5x5</td>\n",
       "      <td>rLeakage</td>\n",
       "      <td>mean_5x5x5</td>\n",
       "      <td>0.514970</td>\n",
       "    </tr>\n",
       "    <tr>\n",
       "      <th>54</th>\n",
       "      <td>L3R_5x5x5</td>\n",
       "      <td>rLeakage</td>\n",
       "      <td></td>\n",
       "      <td>0.545690</td>\n",
       "    </tr>\n",
       "    <tr>\n",
       "      <th>55</th>\n",
       "      <td>L3R_5x5x5</td>\n",
       "      <td>rLeakage</td>\n",
       "      <td>mean_5x5x5</td>\n",
       "      <td>0.555032</td>\n",
       "    </tr>\n",
       "  </tbody>\n",
       "</table>\n",
       "</div>"
      ]
     },
     "execution_count": 14,
     "metadata": {},
     "output_type": "execute_result"
    }
   ],
   "execution_count": 14
  },
  {
   "cell_type": "markdown",
   "id": "1f8174d809e11293",
   "metadata": {},
   "source": [
    "# 2. MRI features"
   ]
  },
  {
   "cell_type": "code",
   "id": "c77d98498b639097",
   "metadata": {
    "ExecuteTime": {
     "end_time": "2024-08-01T03:46:56.139503Z",
     "start_time": "2024-08-01T03:46:46.712733Z"
    }
   },
   "source": [
    "df_mri_auc = pd.DataFrame(columns=[\"patient\", \"label\", \"imaging\", \"feature\", \"norm\", \"AUC\"])\n",
    "\n",
    "for patient in tqdm(constants.list_patients):\n",
    "    for label in [\"L3R\", \"L3R_5x5x5\", \"L3R - (L1 + L3)\", \"L3R - (L1 + L3)_5x5x5\"]:\n",
    "        for imaging in constants.L_IRM_MAPS:\n",
    "            for feature in [None, \"mean_5x5x5\"]:\n",
    "                for norm in [\"z_score\", \"min_max\", \"max\"]:\n",
    "                \n",
    "                    feature_col = f\"{imaging}_{feature}\" if feature is not None else imaging\n",
    "                    with open(constants.dir_thresholds / patient / label / f\"{feature_col}_{norm}_normalized.pickle\", \"rb\") as f:\n",
    "                        dict_thresholds = pickle.load(f)\n",
    "                    \n",
    "                    fpr, tpr = dict_thresholds[\"fpr\"], dict_thresholds[\"tpr\"]\n",
    "                    auc_value = auc(fpr, tpr)\n",
    "                    \n",
    "                    df_mri_auc.loc[len(df_mri_auc)] = [patient, label, imaging, feature, norm, auc_value]\n",
    "\n",
    "df_mri_auc.to_csv(\"mri_auc_values_per_patient.csv\", index=False)"
   ],
   "outputs": [
    {
     "data": {
      "text/plain": [
       "  0%|          | 0/103 [00:00<?, ?it/s]"
      ],
      "application/vnd.jupyter.widget-view+json": {
       "version_major": 2,
       "version_minor": 0,
       "model_id": "a2915466c12c4ef6aacafc9d2e391165"
      }
     },
     "metadata": {},
     "output_type": "display_data"
    }
   ],
   "execution_count": 15
  },
  {
   "cell_type": "code",
   "id": "68959d4f7eacfa3c",
   "metadata": {
    "ExecuteTime": {
     "end_time": "2024-08-01T03:46:56.143833Z",
     "start_time": "2024-08-01T03:46:56.140016Z"
    }
   },
   "source": [
    "df_mri_auc[\"feature\"].fillna(\"\", inplace=True)\n",
    "df = df_mri_auc.groupby([\"label\", \"imaging\", \"feature\", \"norm\"])[\"AUC\"].mean().reset_index()"
   ],
   "outputs": [
    {
     "name": "stderr",
     "output_type": "stream",
     "text": [
      "/tmp/ipykernel_546120/2206504416.py:1: FutureWarning: A value is trying to be set on a copy of a DataFrame or Series through chained assignment using an inplace method.\n",
      "The behavior will change in pandas 3.0. This inplace method will never work because the intermediate object on which we are setting values always behaves as a copy.\n",
      "\n",
      "For example, when doing 'df[col].method(value, inplace=True)', try using 'df.method({col: value}, inplace=True)' or df[col] = df[col].method(value) instead, to perform the operation inplace on the original object.\n",
      "\n",
      "\n",
      "  df_mri_auc[\"feature\"].fillna(\"\", inplace=True)\n"
     ]
    }
   ],
   "execution_count": 16
  },
  {
   "cell_type": "code",
   "id": "5ebfdd3b45ea652b",
   "metadata": {
    "ExecuteTime": {
     "end_time": "2024-08-01T03:53:10.803175Z",
     "start_time": "2024-08-01T03:53:10.798795Z"
    }
   },
   "source": "df.loc[(df['imaging'] == 'FLAIR') & (df['norm'] == 'min_max')]",
   "outputs": [
    {
     "data": {
      "text/plain": [
       "                    label imaging     feature     norm       AUC\n",
       "1                     L3R   FLAIR              min_max  0.659678\n",
       "4                     L3R   FLAIR  mean_5x5x5  min_max  0.705842\n",
       "19        L3R - (L1 + L3)   FLAIR              min_max  0.638843\n",
       "22        L3R - (L1 + L3)   FLAIR  mean_5x5x5  min_max  0.681963\n",
       "37  L3R - (L1 + L3)_5x5x5   FLAIR              min_max  0.634283\n",
       "40  L3R - (L1 + L3)_5x5x5   FLAIR  mean_5x5x5  min_max  0.674923\n",
       "55              L3R_5x5x5   FLAIR              min_max  0.656677\n",
       "58              L3R_5x5x5   FLAIR  mean_5x5x5  min_max  0.702527"
      ],
      "text/html": [
       "<div>\n",
       "<style scoped>\n",
       "    .dataframe tbody tr th:only-of-type {\n",
       "        vertical-align: middle;\n",
       "    }\n",
       "\n",
       "    .dataframe tbody tr th {\n",
       "        vertical-align: top;\n",
       "    }\n",
       "\n",
       "    .dataframe thead th {\n",
       "        text-align: right;\n",
       "    }\n",
       "</style>\n",
       "<table border=\"1\" class=\"dataframe\">\n",
       "  <thead>\n",
       "    <tr style=\"text-align: right;\">\n",
       "      <th></th>\n",
       "      <th>label</th>\n",
       "      <th>imaging</th>\n",
       "      <th>feature</th>\n",
       "      <th>norm</th>\n",
       "      <th>AUC</th>\n",
       "    </tr>\n",
       "  </thead>\n",
       "  <tbody>\n",
       "    <tr>\n",
       "      <th>1</th>\n",
       "      <td>L3R</td>\n",
       "      <td>FLAIR</td>\n",
       "      <td></td>\n",
       "      <td>min_max</td>\n",
       "      <td>0.659678</td>\n",
       "    </tr>\n",
       "    <tr>\n",
       "      <th>4</th>\n",
       "      <td>L3R</td>\n",
       "      <td>FLAIR</td>\n",
       "      <td>mean_5x5x5</td>\n",
       "      <td>min_max</td>\n",
       "      <td>0.705842</td>\n",
       "    </tr>\n",
       "    <tr>\n",
       "      <th>19</th>\n",
       "      <td>L3R - (L1 + L3)</td>\n",
       "      <td>FLAIR</td>\n",
       "      <td></td>\n",
       "      <td>min_max</td>\n",
       "      <td>0.638843</td>\n",
       "    </tr>\n",
       "    <tr>\n",
       "      <th>22</th>\n",
       "      <td>L3R - (L1 + L3)</td>\n",
       "      <td>FLAIR</td>\n",
       "      <td>mean_5x5x5</td>\n",
       "      <td>min_max</td>\n",
       "      <td>0.681963</td>\n",
       "    </tr>\n",
       "    <tr>\n",
       "      <th>37</th>\n",
       "      <td>L3R - (L1 + L3)_5x5x5</td>\n",
       "      <td>FLAIR</td>\n",
       "      <td></td>\n",
       "      <td>min_max</td>\n",
       "      <td>0.634283</td>\n",
       "    </tr>\n",
       "    <tr>\n",
       "      <th>40</th>\n",
       "      <td>L3R - (L1 + L3)_5x5x5</td>\n",
       "      <td>FLAIR</td>\n",
       "      <td>mean_5x5x5</td>\n",
       "      <td>min_max</td>\n",
       "      <td>0.674923</td>\n",
       "    </tr>\n",
       "    <tr>\n",
       "      <th>55</th>\n",
       "      <td>L3R_5x5x5</td>\n",
       "      <td>FLAIR</td>\n",
       "      <td></td>\n",
       "      <td>min_max</td>\n",
       "      <td>0.656677</td>\n",
       "    </tr>\n",
       "    <tr>\n",
       "      <th>58</th>\n",
       "      <td>L3R_5x5x5</td>\n",
       "      <td>FLAIR</td>\n",
       "      <td>mean_5x5x5</td>\n",
       "      <td>min_max</td>\n",
       "      <td>0.702527</td>\n",
       "    </tr>\n",
       "  </tbody>\n",
       "</table>\n",
       "</div>"
      ]
     },
     "execution_count": 26,
     "metadata": {},
     "output_type": "execute_result"
    }
   ],
   "execution_count": 26
  },
  {
   "metadata": {},
   "cell_type": "code",
   "outputs": [],
   "execution_count": null,
   "source": "",
   "id": "c7c3bb297bc577b3"
  }
 ],
 "metadata": {
  "kernelspec": {
   "display_name": "Python 3 (ipykernel)",
   "language": "python",
   "name": "python3"
  },
  "language_info": {
   "codemirror_mode": {
    "name": "ipython",
    "version": 3
   },
   "file_extension": ".py",
   "mimetype": "text/x-python",
   "name": "python",
   "nbconvert_exporter": "python",
   "pygments_lexer": "ipython3",
   "version": "3.11.9"
  }
 },
 "nbformat": 4,
 "nbformat_minor": 5
}
