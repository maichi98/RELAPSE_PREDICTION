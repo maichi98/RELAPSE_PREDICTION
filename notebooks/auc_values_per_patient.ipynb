{
 "cells": [
  {
   "cell_type": "code",
   "id": "initial_id",
   "metadata": {
    "collapsed": true,
    "jupyter": {
     "outputs_hidden": true
    },
    "ExecuteTime": {
     "end_time": "2024-10-26T11:16:43.508098Z",
     "start_time": "2024-10-26T11:16:43.476754Z"
    }
   },
   "source": [
    "from relapse_prediction import constants"
   ],
   "outputs": [],
   "execution_count": 1
  },
  {
   "cell_type": "code",
   "id": "9bfa72fe1c72beb0",
   "metadata": {
    "ExecuteTime": {
     "end_time": "2024-10-26T11:16:43.804772Z",
     "start_time": "2024-10-26T11:16:43.526490Z"
    }
   },
   "source": [
    "from sklearn.metrics import auc\n",
    "from tqdm.auto import tqdm\n",
    "import pandas as pd\n",
    "import pickle\n",
    "import numpy as np"
   ],
   "outputs": [],
   "execution_count": 2
  },
  {
   "cell_type": "markdown",
   "id": "604288f60f04e320",
   "metadata": {},
   "source": [
    "# 1. Cercare features : "
   ]
  },
  {
   "cell_type": "code",
   "id": "8de4ed8ec4210019",
   "metadata": {
    "ExecuteTime": {
     "end_time": "2024-10-26T11:21:33.893331Z",
     "start_time": "2024-10-26T11:21:14.875647Z"
    }
   },
   "source": [
    "df_cercare_auc = pd.DataFrame(columns=[\"patient\", \"label\", \"imaging\", \"feature\", \"AUC\", \"cutoff\", \"recall\", \"specificity\"])\n",
    "\n",
    "for patient in tqdm(constants.list_patients):\n",
    "    for label in [\"L1\", \"L2\", \"L3\", \"L4\", \"L5\",\n",
    "                  'L3R', \"L3 + L3R\", \"L3R - (L1 + L3)\",\n",
    "                    \"SumPreRT + L3R\", \"L2 + L3R - (L1 + L3)\"]:\n",
    "        \n",
    "        \n",
    "        for imaging in ['CTH', 'OEF', 'rCBV']:\n",
    "            for feature in [None, \"mean_5x5x5\"]:\n",
    "                \n",
    "                feature_col = f\"{imaging}_{feature}\" if feature is not None else imaging                \n",
    "\n",
    "                with open(constants.dir_thresholds / \"all_voxels\"  / patient / label / f\"{feature_col}_quantized.pickle\", \"rb\") as f:\n",
    "                    dict_thresholds = pickle.load(f)\n",
    "                \n",
    "                fpr, tpr, thresholds = dict_thresholds[\"fpr\"], dict_thresholds[\"tpr\"], dict_thresholds[\"thresholds\"]\n",
    "                auc_value = auc(fpr, tpr)\n",
    "                \n",
    "                 # Compute cutoff, recall, and specificity\n",
    "                optimal_idx = np.argmax(tpr - fpr)\n",
    "                cutoff = thresholds[optimal_idx]\n",
    "                recall = tpr[optimal_idx]\n",
    "                specificity = 1 - fpr[optimal_idx]\n",
    "                \n",
    "                df_cercare_auc.loc[len(df_cercare_auc)] = [patient, label, imaging, feature, auc_value, cutoff, recall, specificity]\n",
    "\n",
    "df_cercare_auc.to_excel(\"cercare_auc_values_per_patient.xlsx\", index=False)\n"
   ],
   "outputs": [
    {
     "data": {
      "text/plain": [
       "  0%|          | 0/184 [00:00<?, ?it/s]"
      ],
      "application/vnd.jupyter.widget-view+json": {
       "version_major": 2,
       "version_minor": 0,
       "model_id": "2ad1533ad72f426e80455d1a05fd71ce"
      }
     },
     "metadata": {},
     "output_type": "display_data"
    }
   ],
   "execution_count": 3
  },
  {
   "cell_type": "markdown",
   "id": "1f8174d809e11293",
   "metadata": {},
   "source": [
    "# 2. MRI features"
   ]
  },
  {
   "cell_type": "code",
   "id": "c77d98498b639097",
   "metadata": {
    "ExecuteTime": {
     "end_time": "2024-10-26T11:22:33.055071Z",
     "start_time": "2024-10-26T11:22:12.428929Z"
    }
   },
   "source": [
    "df_mri_auc = pd.DataFrame(columns=[\"patient\", \"label\", \"imaging\", \"feature\", \"norm\", \"AUC\", \"cutoff\", \"recall\", \"specificity\"])\n",
    "\n",
    "for patient in tqdm(constants.list_patients):\n",
    "    for label in [\"L1\", \"L2\", \"L3\", \"L4\", \"L5\",\n",
    "                  'L3R', \"L3 + L3R\", \"L3R - (L1 + L3)\",\n",
    "                    \"SumPreRT + L3R\", \"L2 + L3R - (L1 + L3)\"]:\n",
    "        \n",
    "        for imaging in constants.L_IRM_MAPS:\n",
    "            for feature in [None, \"mean_5x5x5\"]:\n",
    "                for norm in [\"z_score\"]:\n",
    "                \n",
    "                    feature_col = f\"{imaging}_{feature}\" if feature is not None else imaging\n",
    "                    \n",
    "                    with open(constants.dir_thresholds / \"all_voxels\" / patient / label / f\"{feature_col}_{norm}_normalized.pickle\", \"rb\") as f:\n",
    "                        dict_thresholds = pickle.load(f)\n",
    "                    \n",
    "                    fpr, tpr, thresholds = dict_thresholds[\"fpr\"], dict_thresholds[\"tpr\"], dict_thresholds[\"thresholds\"]\n",
    "                    auc_value = auc(fpr, tpr)\n",
    "                    \n",
    "                    # Compute cutoff, recall, and specificity\n",
    "                    optimal_idx = np.argmax(tpr - fpr)\n",
    "                    cutoff = thresholds[optimal_idx]\n",
    "                    recall = tpr[optimal_idx]\n",
    "                    specificity = 1 - fpr[optimal_idx]\n",
    "                    \n",
    "                    df_mri_auc.loc[len(df_mri_auc)] = [patient, label, imaging, feature, norm, auc_value, cutoff, recall, specificity]\n",
    "\n",
    "df_mri_auc.to_excel(\"mri_auc_values_per_patient.xlsx\", index=False)"
   ],
   "outputs": [
    {
     "data": {
      "text/plain": [
       "  0%|          | 0/184 [00:00<?, ?it/s]"
      ],
      "application/vnd.jupyter.widget-view+json": {
       "version_major": 2,
       "version_minor": 0,
       "model_id": "016f3d00a05448a2a0a9b65eb91faf0f"
      }
     },
     "metadata": {},
     "output_type": "display_data"
    }
   ],
   "execution_count": 4
  },
  {
   "cell_type": "code",
   "id": "68959d4f7eacfa3c",
   "metadata": {
    "ExecuteTime": {
     "end_time": "2024-08-01T03:46:56.143833Z",
     "start_time": "2024-08-01T03:46:56.140016Z"
    }
   },
   "source": [
    "df_mri_auc[\"feature\"].fillna(\"\", inplace=True)\n",
    "df = df_mri_auc.groupby([\"label\", \"imaging\", \"feature\", \"norm\"])[\"AUC\"].mean().reset_index()"
   ],
   "outputs": [
    {
     "name": "stderr",
     "output_type": "stream",
     "text": [
      "/tmp/ipykernel_546120/2206504416.py:1: FutureWarning: A value is trying to be set on a copy of a DataFrame or Series through chained assignment using an inplace method.\n",
      "The behavior will change in pandas 3.0. This inplace method will never work because the intermediate object on which we are setting values always behaves as a copy.\n",
      "\n",
      "For example, when doing 'df[col].method(value, inplace=True)', try using 'df.method({col: value}, inplace=True)' or df[col] = df[col].method(value) instead, to perform the operation inplace on the original object.\n",
      "\n",
      "\n",
      "  df_mri_auc[\"feature\"].fillna(\"\", inplace=True)\n"
     ]
    }
   ],
   "execution_count": 16
  },
  {
   "cell_type": "code",
   "id": "5ebfdd3b45ea652b",
   "metadata": {
    "ExecuteTime": {
     "end_time": "2024-08-01T03:53:10.803175Z",
     "start_time": "2024-08-01T03:53:10.798795Z"
    }
   },
   "source": "df.loc[(df['imaging'] == 'FLAIR') & (df['norm'] == 'min_max')]",
   "outputs": [
    {
     "data": {
      "text/plain": [
       "                    label imaging     feature     norm       AUC\n",
       "1                     L3R   FLAIR              min_max  0.659678\n",
       "4                     L3R   FLAIR  mean_5x5x5  min_max  0.705842\n",
       "19        L3R - (L1 + L3)   FLAIR              min_max  0.638843\n",
       "22        L3R - (L1 + L3)   FLAIR  mean_5x5x5  min_max  0.681963\n",
       "37  L3R - (L1 + L3)_5x5x5   FLAIR              min_max  0.634283\n",
       "40  L3R - (L1 + L3)_5x5x5   FLAIR  mean_5x5x5  min_max  0.674923\n",
       "55              L3R_5x5x5   FLAIR              min_max  0.656677\n",
       "58              L3R_5x5x5   FLAIR  mean_5x5x5  min_max  0.702527"
      ],
      "text/html": [
       "<div>\n",
       "<style scoped>\n",
       "    .dataframe tbody tr th:only-of-type {\n",
       "        vertical-align: middle;\n",
       "    }\n",
       "\n",
       "    .dataframe tbody tr th {\n",
       "        vertical-align: top;\n",
       "    }\n",
       "\n",
       "    .dataframe thead th {\n",
       "        text-align: right;\n",
       "    }\n",
       "</style>\n",
       "<table border=\"1\" class=\"dataframe\">\n",
       "  <thead>\n",
       "    <tr style=\"text-align: right;\">\n",
       "      <th></th>\n",
       "      <th>label</th>\n",
       "      <th>imaging</th>\n",
       "      <th>feature</th>\n",
       "      <th>norm</th>\n",
       "      <th>AUC</th>\n",
       "    </tr>\n",
       "  </thead>\n",
       "  <tbody>\n",
       "    <tr>\n",
       "      <th>1</th>\n",
       "      <td>L3R</td>\n",
       "      <td>FLAIR</td>\n",
       "      <td></td>\n",
       "      <td>min_max</td>\n",
       "      <td>0.659678</td>\n",
       "    </tr>\n",
       "    <tr>\n",
       "      <th>4</th>\n",
       "      <td>L3R</td>\n",
       "      <td>FLAIR</td>\n",
       "      <td>mean_5x5x5</td>\n",
       "      <td>min_max</td>\n",
       "      <td>0.705842</td>\n",
       "    </tr>\n",
       "    <tr>\n",
       "      <th>19</th>\n",
       "      <td>L3R - (L1 + L3)</td>\n",
       "      <td>FLAIR</td>\n",
       "      <td></td>\n",
       "      <td>min_max</td>\n",
       "      <td>0.638843</td>\n",
       "    </tr>\n",
       "    <tr>\n",
       "      <th>22</th>\n",
       "      <td>L3R - (L1 + L3)</td>\n",
       "      <td>FLAIR</td>\n",
       "      <td>mean_5x5x5</td>\n",
       "      <td>min_max</td>\n",
       "      <td>0.681963</td>\n",
       "    </tr>\n",
       "    <tr>\n",
       "      <th>37</th>\n",
       "      <td>L3R - (L1 + L3)_5x5x5</td>\n",
       "      <td>FLAIR</td>\n",
       "      <td></td>\n",
       "      <td>min_max</td>\n",
       "      <td>0.634283</td>\n",
       "    </tr>\n",
       "    <tr>\n",
       "      <th>40</th>\n",
       "      <td>L3R - (L1 + L3)_5x5x5</td>\n",
       "      <td>FLAIR</td>\n",
       "      <td>mean_5x5x5</td>\n",
       "      <td>min_max</td>\n",
       "      <td>0.674923</td>\n",
       "    </tr>\n",
       "    <tr>\n",
       "      <th>55</th>\n",
       "      <td>L3R_5x5x5</td>\n",
       "      <td>FLAIR</td>\n",
       "      <td></td>\n",
       "      <td>min_max</td>\n",
       "      <td>0.656677</td>\n",
       "    </tr>\n",
       "    <tr>\n",
       "      <th>58</th>\n",
       "      <td>L3R_5x5x5</td>\n",
       "      <td>FLAIR</td>\n",
       "      <td>mean_5x5x5</td>\n",
       "      <td>min_max</td>\n",
       "      <td>0.702527</td>\n",
       "    </tr>\n",
       "  </tbody>\n",
       "</table>\n",
       "</div>"
      ]
     },
     "execution_count": 26,
     "metadata": {},
     "output_type": "execute_result"
    }
   ],
   "execution_count": 26
  },
  {
   "metadata": {
    "ExecuteTime": {
     "end_time": "2024-10-28T08:11:08.408275Z",
     "start_time": "2024-10-28T08:11:08.359129Z"
    }
   },
   "cell_type": "code",
   "source": [
    "dict_naming = {\"all\" : \"on_all_patients\",\n",
    "               \"Class\" : \"per_class\",\n",
    "               \"surgery_type\" : \"surgery_type\"}\n",
    "\n",
    "for type in [\"all\", \"Class\", \"surgery_type\"]:\n",
    "    \n",
    "    dir_data = constants.dir_total_cutoffs / \"all_voxels\" / type\n",
    "    \n",
    "    path_cercare = list(dir_data.glob(\"Cercare_results_*.csv\"))[0]\n",
    "    path_mri = list(dir_data.glob(\"IRM_results_*.csv\"))[0]\n",
    "    \n",
    "    df_cercare_auc = pd.read_csv(path_cercare)\n",
    "    df_mri_auc = pd.read_csv(path_mri)\n",
    "    \n",
    "    df_type = pd.concat([df_cercare_auc, df_mri_auc], ignore_index=True)\n",
    "    \n",
    "    df_type.to_excel(dir_data.parent / f\"Cutoff_values_computed_{dict_naming[type]}.xlsx\", index=False)"
   ],
   "id": "c7c3bb297bc577b3",
   "outputs": [],
   "execution_count": 12
  },
  {
   "metadata": {
    "ExecuteTime": {
     "end_time": "2024-10-26T11:27:29.096943Z",
     "start_time": "2024-10-26T11:27:29.094394Z"
    }
   },
   "cell_type": "code",
   "source": "dir_data",
   "id": "fec5745d24d1c66e",
   "outputs": [
    {
     "data": {
      "text/plain": [
       "PosixPath('/media/maichi/T7/Relapse prediction/results/total_cutoffs/all_voxels/surgery_type')"
      ]
     },
     "execution_count": 8,
     "metadata": {},
     "output_type": "execute_result"
    }
   ],
   "execution_count": 8
  },
  {
   "metadata": {},
   "cell_type": "code",
   "outputs": [],
   "execution_count": null,
   "source": "",
   "id": "50cd3733a74129fb"
  }
 ],
 "metadata": {
  "kernelspec": {
   "display_name": "Python 3 (ipykernel)",
   "language": "python",
   "name": "python3"
  },
  "language_info": {
   "codemirror_mode": {
    "name": "ipython",
    "version": 3
   },
   "file_extension": ".py",
   "mimetype": "text/x-python",
   "name": "python",
   "nbconvert_exporter": "python",
   "pygments_lexer": "ipython3",
   "version": "3.11.9"
  }
 },
 "nbformat": 4,
 "nbformat_minor": 5
}
