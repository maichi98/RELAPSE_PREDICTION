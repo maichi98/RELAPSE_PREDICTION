{
 "cells": [
  {
   "cell_type": "code",
   "execution_count": 3,
   "id": "e0ad323d-f8ff-49f8-af24-65ef6a1d5035",
   "metadata": {},
   "outputs": [],
   "source": [
    "from aidream_data.core import AidreamDatabase\n",
    "from aidream_data import constants\n",
    "\n",
    "from pathlib import Path\n",
    "from tqdm import tqdm\n",
    "import pandas as pd\n",
    "import numpy as np\n",
    "import shutil\n",
    "import os\n"
   ]
  },
  {
   "cell_type": "markdown",
   "id": "458acb09-d6f5-4e96-9ad2-19f21d42603a",
   "metadata": {},
   "source": [
    "# 0. Load Aidream_database, list of perfusion patients : "
   ]
  },
  {
   "cell_type": "code",
   "execution_count": 4,
   "id": "2937d2f8-d6f2-4eb5-b197-aa45b56b2143",
   "metadata": {},
   "outputs": [],
   "source": [
    "# Load the AIDREAM Database : \n",
    "aidream_db = AidreamDatabase()\n",
    "aidream_db.connect()\n"
   ]
  },
  {
   "cell_type": "code",
   "execution_count": 5,
   "id": "cd27ce63-1040-4c06-910d-40e35087ad59",
   "metadata": {},
   "outputs": [],
   "source": [
    "# Load the perfusion patients list : \n",
    "with open(\"list_patients.txt\", 'r') as f:\n",
    "    list_patients = f.readlines()\n",
    "\n",
    "list_patients = [p.strip('\\n') for p in list_patients]\n",
    "    "
   ]
  },
  {
   "cell_type": "code",
   "execution_count": 6,
   "id": "db8a5fcc-4b07-4d0c-8059-e9df805233db",
   "metadata": {},
   "outputs": [],
   "source": [
    "def sort_name_list(list_patients):\n",
    "\n",
    "    sorted_list = [list_patients[i] for i in np.argsort([int(p.strip(\"AIDREAM_\")) for p in list_patients])]\n",
    "    return sorted_list\n",
    "    "
   ]
  },
  {
   "cell_type": "code",
   "execution_count": 7,
   "id": "db0eed8b-ebe7-4e95-81cd-f44a69b986e2",
   "metadata": {},
   "outputs": [],
   "source": [
    "dir_aidream_data = Path(\"/media/maichi/T9/AIDREAM_DATA\")\n"
   ]
  },
  {
   "cell_type": "markdown",
   "id": "91628a1d-36b2-4771-80b6-207142258a49",
   "metadata": {
    "jp-MarkdownHeadingCollapsed": true
   },
   "source": [
    "# 1. Load MRI DICOM data, for the native ref : "
   ]
  },
  {
   "cell_type": "code",
   "execution_count": 6,
   "id": "04dd4862-5a20-4858-a5db-27a33c8534e1",
   "metadata": {},
   "outputs": [
    {
     "name": "stderr",
     "output_type": "stream",
     "text": [
      "100%|██████████████████████████████████████████████████████████████████████████████████████████████████████████████████████████████████████████████████████████████████████████| 234/234 [00:00<00:00, 3062.48it/s]\n"
     ]
    }
   ],
   "source": [
    "for patient in tqdm(list_patients):\n",
    "    for stage in ['pre_RT', 'Rechute']:\n",
    "\n",
    "        dir_labels = dir_aidream_data / patient / stage / 'Labels'\n",
    "\n",
    "        if dir_labels.exists():\n",
    "            shutil.rmtree(dir_labels)\n",
    "            "
   ]
  },
  {
   "cell_type": "code",
   "execution_count": 7,
   "id": "970cf596-1900-4708-894c-7cc658d47e2d",
   "metadata": {},
   "outputs": [],
   "source": [
    "list_bad_patients = {\"AIDREAM_32\", \"AIDREAM_61\"}\n"
   ]
  },
  {
   "cell_type": "code",
   "execution_count": 8,
   "id": "3ef75ae2-95c9-4ea0-87b9-995da3315262",
   "metadata": {},
   "outputs": [],
   "source": [
    "# export MRI images in native ref for both pre_RT and Rechute  : \n",
    "aidream_dataset = aidream_db.create_dataset(list_aidream_ids=list(set(list_patients) - list_bad_patients),\n",
    "                                            list_pre_rt=['T1', 'T1CE', 'FLAIR', 'L1', 'L3', 'CTH', 'rCBV'],\n",
    "                                            list_rechute=['T1', 'T1CE', 'FLAIR', 'L3'],\n",
    "                                            load_anyway=True,\n",
    "                                           )\n"
   ]
  },
  {
   "cell_type": "code",
   "execution_count": 9,
   "id": "efcf18db-bd2c-4be0-814f-57c73bd68b9b",
   "metadata": {},
   "outputs": [
    {
     "name": "stderr",
     "output_type": "stream",
     "text": [
      "100%|████████████████████████████████████████████████████████████████████████████████████████████████████████████████████████████████████████████████████████████████████████████| 232/232 [00:32<00:00,  7.06it/s]\n"
     ]
    }
   ],
   "source": [
    "aidream_dataset.export(dir_dataset=\"/media/maichi/T9/AIDREAM_DATA\",\n",
    "                       overwrite=False)\n"
   ]
  },
  {
   "cell_type": "markdown",
   "id": "3fc82359-d00f-48ac-b071-1277f3291040",
   "metadata": {},
   "source": [
    "# 2. Load PERFUSION data : "
   ]
  },
  {
   "cell_type": "code",
   "execution_count": 9,
   "id": "7125c278-d142-4353-a3b7-c844981c7c90",
   "metadata": {},
   "outputs": [],
   "source": [
    "dir_src_perfusion = Path(\"/media/maichi/SSD-IGR/Perfusion data\")\n"
   ]
  },
  {
   "cell_type": "code",
   "execution_count": 10,
   "id": "513fd269-d633-48e2-96df-054de0503479",
   "metadata": {},
   "outputs": [],
   "source": [
    "remaining_patients = set(list_patients) - set(os.listdir(dir_src_perfusion))"
   ]
  },
  {
   "cell_type": "code",
   "execution_count": 13,
   "id": "5fb9e8a8-a3e8-4c61-a6f7-cd9e802e285e",
   "metadata": {},
   "outputs": [
    {
     "data": {
      "text/plain": [
       "['AIDREAM_5',\n",
       " 'AIDREAM_25',\n",
       " 'AIDREAM_30',\n",
       " 'AIDREAM_40',\n",
       " 'AIDREAM_42',\n",
       " 'AIDREAM_43',\n",
       " 'AIDREAM_53',\n",
       " 'AIDREAM_57',\n",
       " 'AIDREAM_63',\n",
       " 'AIDREAM_70',\n",
       " 'AIDREAM_74',\n",
       " 'AIDREAM_78',\n",
       " 'AIDREAM_121',\n",
       " 'AIDREAM_125',\n",
       " 'AIDREAM_131',\n",
       " 'AIDREAM_144',\n",
       " 'AIDREAM_146',\n",
       " 'AIDREAM_226',\n",
       " 'AIDREAM_231',\n",
       " 'AIDREAM_235',\n",
       " 'AIDREAM_239',\n",
       " 'AIDREAM_248',\n",
       " 'AIDREAM_303',\n",
       " 'AIDREAM_324',\n",
       " 'AIDREAM_330',\n",
       " 'AIDREAM_334',\n",
       " 'AIDREAM_335',\n",
       " 'AIDREAM_339',\n",
       " 'AIDREAM_351',\n",
       " 'AIDREAM_354',\n",
       " 'AIDREAM_362',\n",
       " 'AIDREAM_363',\n",
       " 'AIDREAM_366',\n",
       " 'AIDREAM_375',\n",
       " 'AIDREAM_389',\n",
       " 'AIDREAM_397']"
      ]
     },
     "execution_count": 13,
     "metadata": {},
     "output_type": "execute_result"
    }
   ],
   "source": [
    "sort_name_list(list(remaining_patients))"
   ]
  },
  {
   "cell_type": "code",
   "execution_count": 11,
   "id": "736d70e3-fbcc-4e41-8f79-cb03b5647800",
   "metadata": {
    "scrolled": true
   },
   "outputs": [
    {
     "name": "stderr",
     "output_type": "stream",
     "text": [
      "100%|█████████████████████████████████████████████████████████████████████████████████████████████████████████████████████████████████████████████████████████████████████████| 234/234 [00:00<00:00, 84044.11it/s]"
     ]
    },
    {
     "name": "stdout",
     "output_type": "stream",
     "text": [
      "AIDREAM_5 has no PERFUSION data !\n",
      "AIDREAM_25 has no PERFUSION data !\n",
      "AIDREAM_30 has no PERFUSION data !\n",
      "AIDREAM_40 has no PERFUSION data !\n",
      "AIDREAM_42 has no PERFUSION data !\n",
      "AIDREAM_43 has no PERFUSION data !\n",
      "AIDREAM_53 has no PERFUSION data !\n",
      "AIDREAM_57 has no PERFUSION data !\n",
      "AIDREAM_63 has no PERFUSION data !\n",
      "AIDREAM_70 has no PERFUSION data !\n",
      "AIDREAM_74 has no PERFUSION data !\n",
      "AIDREAM_78 has no PERFUSION data !\n",
      "AIDREAM_121 has no PERFUSION data !\n",
      "AIDREAM_125 has no PERFUSION data !\n",
      "AIDREAM_131 has no PERFUSION data !\n",
      "AIDREAM_144 has no PERFUSION data !\n",
      "AIDREAM_146 has no PERFUSION data !\n",
      "AIDREAM_226 has no PERFUSION data !\n",
      "AIDREAM_231 has no PERFUSION data !\n",
      "AIDREAM_235 has no PERFUSION data !\n",
      "AIDREAM_239 has no PERFUSION data !\n",
      "AIDREAM_248 has no PERFUSION data !\n",
      "AIDREAM_303 has no PERFUSION data !\n",
      "AIDREAM_324 has no PERFUSION data !\n",
      "AIDREAM_330 has no PERFUSION data !\n",
      "AIDREAM_334 has no PERFUSION data !\n",
      "AIDREAM_335 has no PERFUSION data !\n",
      "AIDREAM_339 has no PERFUSION data !\n",
      "AIDREAM_351 has no PERFUSION data !\n",
      "AIDREAM_354 has no PERFUSION data !\n",
      "AIDREAM_362 has no PERFUSION data !\n",
      "AIDREAM_363 has no PERFUSION data !\n",
      "AIDREAM_366 has no PERFUSION data !\n",
      "AIDREAM_375 has no PERFUSION data !\n",
      "AIDREAM_389 has no PERFUSION data !\n",
      "AIDREAM_397 has no PERFUSION data !\n"
     ]
    },
    {
     "name": "stderr",
     "output_type": "stream",
     "text": [
      "\n"
     ]
    }
   ],
   "source": [
    "for patient in tqdm(list_patients):\n",
    "\n",
    "    try:\n",
    "        dir_src = dir_src_perfusion / patient \n",
    "        \n",
    "        dir_dst = dir_aidream_data / patient / \"pre_RT\" / \"PERFUSION\" / \"DICOM\"\n",
    "        dir_dst.parent.mkdir(parents=True, exist_ok=True)\n",
    "\n",
    "        if not dir_dst.exists():\n",
    "            shutil.copytree(src=dir_src, dst=dir_dst)\n",
    "\n",
    "    except Exception as e:\n",
    "        print(fr\"{patient} has no PERFUSION data !\")\n",
    "        "
   ]
  },
  {
   "cell_type": "code",
   "execution_count": 12,
   "id": "4f25a594-651b-4f13-960f-a017eea1cb47",
   "metadata": {},
   "outputs": [
    {
     "name": "stdout",
     "output_type": "stream",
     "text": [
      "Number of patients with available PERFUSION data (for now) : 198\n"
     ]
    }
   ],
   "source": [
    "list_patients_interim = os.listdir(dir_src_perfusion)\n",
    "print(fr\"Number of patients with available PERFUSION data (for now) : {len(list_patients_interim)}\")\n"
   ]
  },
  {
   "cell_type": "code",
   "execution_count": 13,
   "id": "0330d621-e1b0-439c-ba07-42ce8c6e718a",
   "metadata": {},
   "outputs": [],
   "source": [
    "with open(\"list_intermediary_patients.txt\", \"w\") as f:\n",
    "    f.writelines([f\"{p}\\n\" for p in list_patients])\n",
    "    "
   ]
  },
  {
   "cell_type": "markdown",
   "id": "9f1746a9-4f32-46da-b4c0-4a63b20a159d",
   "metadata": {},
   "source": [
    "# 3. Load the CERCARE Data : "
   ]
  },
  {
   "cell_type": "code",
   "execution_count": 14,
   "id": "166f4690-24c9-4b55-82df-b42309fbc9cd",
   "metadata": {},
   "outputs": [],
   "source": [
    "dir_src_cercare = Path(\"/media/maichi/T7/AIDREAM_DATA/raw\")\n"
   ]
  },
  {
   "cell_type": "code",
   "execution_count": 15,
   "id": "310e55d7-7a85-4a8d-9687-adcc87c2d97e",
   "metadata": {},
   "outputs": [],
   "source": [
    "list_patients_interim = set(list_patients)\n"
   ]
  },
  {
   "cell_type": "code",
   "execution_count": 16,
   "id": "51024214-72a5-49ca-9f05-454edad74682",
   "metadata": {
    "scrolled": true
   },
   "outputs": [
    {
     "name": "stderr",
     "output_type": "stream",
     "text": [
      "100%|█████████████████████████████████████████████████████████████████████████████████████████████████████████████████████████████████████████████████████████████████████████| 234/234 [00:00<00:00, 11040.13it/s]"
     ]
    },
    {
     "name": "stdout",
     "output_type": "stream",
     "text": [
      "AIDREAM_5 has no CTH data !\n",
      "AIDREAM_5 has no OEF data !\n",
      "AIDREAM_5 has no rCBV data !\n",
      "AIDREAM_5 has no Delay data !\n",
      "AIDREAM_5 has no COV data !\n",
      "AIDREAM_5 has no rCMRO2 data !\n",
      "AIDREAM_5 has no rLeakage data !\n",
      "AIDREAM_10 has no OEF data !\n",
      "AIDREAM_10 has no Delay data !\n",
      "AIDREAM_10 has no COV data !\n",
      "AIDREAM_10 has no rCMRO2 data !\n",
      "AIDREAM_10 has no rLeakage data !\n",
      "AIDREAM_15 has no OEF data !\n",
      "AIDREAM_15 has no Delay data !\n",
      "AIDREAM_15 has no COV data !\n",
      "AIDREAM_15 has no rCMRO2 data !\n",
      "AIDREAM_15 has no rLeakage data !\n",
      "AIDREAM_16 has no OEF data !\n",
      "AIDREAM_16 has no Delay data !\n",
      "AIDREAM_16 has no COV data !\n",
      "AIDREAM_16 has no rCMRO2 data !\n",
      "AIDREAM_16 has no rLeakage data !\n",
      "AIDREAM_18 has no OEF data !\n",
      "AIDREAM_18 has no Delay data !\n",
      "AIDREAM_18 has no COV data !\n",
      "AIDREAM_18 has no rCMRO2 data !\n",
      "AIDREAM_18 has no rLeakage data !\n",
      "AIDREAM_19 has no OEF data !\n",
      "AIDREAM_19 has no Delay data !\n",
      "AIDREAM_19 has no COV data !\n",
      "AIDREAM_19 has no rCMRO2 data !\n",
      "AIDREAM_19 has no rLeakage data !\n",
      "AIDREAM_25 has no CTH data !\n",
      "AIDREAM_25 has no OEF data !\n",
      "AIDREAM_25 has no rCBV data !\n",
      "AIDREAM_25 has no Delay data !\n",
      "AIDREAM_25 has no COV data !\n",
      "AIDREAM_25 has no rCMRO2 data !\n",
      "AIDREAM_25 has no rLeakage data !\n",
      "AIDREAM_28 has no OEF data !\n",
      "AIDREAM_28 has no Delay data !\n",
      "AIDREAM_28 has no COV data !\n",
      "AIDREAM_28 has no rCMRO2 data !\n",
      "AIDREAM_28 has no rLeakage data !\n",
      "AIDREAM_29 has no OEF data !\n",
      "AIDREAM_29 has no Delay data !\n",
      "AIDREAM_29 has no COV data !\n",
      "AIDREAM_29 has no rCMRO2 data !\n",
      "AIDREAM_29 has no rLeakage data !\n",
      "AIDREAM_30 has no CTH data !\n",
      "AIDREAM_30 has no OEF data !\n",
      "AIDREAM_30 has no rCBV data !\n",
      "AIDREAM_30 has no Delay data !\n",
      "AIDREAM_30 has no COV data !\n",
      "AIDREAM_30 has no rCMRO2 data !\n",
      "AIDREAM_30 has no rLeakage data !\n",
      "AIDREAM_31 has no OEF data !\n",
      "AIDREAM_31 has no Delay data !\n",
      "AIDREAM_31 has no COV data !\n",
      "AIDREAM_31 has no rCMRO2 data !\n",
      "AIDREAM_31 has no rLeakage data !\n",
      "AIDREAM_32 has no CTH data !\n",
      "AIDREAM_32 has no OEF data !\n",
      "AIDREAM_32 has no rCBV data !\n",
      "AIDREAM_32 has no Delay data !\n",
      "AIDREAM_32 has no COV data !\n",
      "AIDREAM_32 has no rCMRO2 data !\n",
      "AIDREAM_32 has no rLeakage data !\n",
      "AIDREAM_34 has no OEF data !\n",
      "AIDREAM_34 has no Delay data !\n",
      "AIDREAM_34 has no COV data !\n",
      "AIDREAM_34 has no rCMRO2 data !\n",
      "AIDREAM_34 has no rLeakage data !\n",
      "AIDREAM_39 has no OEF data !\n",
      "AIDREAM_39 has no Delay data !\n",
      "AIDREAM_39 has no COV data !\n",
      "AIDREAM_39 has no rCMRO2 data !\n",
      "AIDREAM_39 has no rLeakage data !\n",
      "AIDREAM_40 has no CTH data !\n",
      "AIDREAM_40 has no OEF data !\n",
      "AIDREAM_40 has no rCBV data !\n",
      "AIDREAM_40 has no Delay data !\n",
      "AIDREAM_40 has no COV data !\n",
      "AIDREAM_40 has no rCMRO2 data !\n",
      "AIDREAM_40 has no rLeakage data !\n",
      "AIDREAM_41 has no OEF data !\n",
      "AIDREAM_41 has no Delay data !\n",
      "AIDREAM_41 has no COV data !\n",
      "AIDREAM_41 has no rCMRO2 data !\n",
      "AIDREAM_41 has no rLeakage data !\n",
      "AIDREAM_42 has no CTH data !\n",
      "AIDREAM_42 has no OEF data !\n",
      "AIDREAM_42 has no rCBV data !\n",
      "AIDREAM_42 has no Delay data !\n",
      "AIDREAM_42 has no COV data !\n",
      "AIDREAM_42 has no rCMRO2 data !\n",
      "AIDREAM_42 has no rLeakage data !\n",
      "AIDREAM_43 has no CTH data !\n",
      "AIDREAM_43 has no OEF data !\n",
      "AIDREAM_43 has no rCBV data !\n",
      "AIDREAM_43 has no Delay data !\n",
      "AIDREAM_43 has no COV data !\n",
      "AIDREAM_43 has no rCMRO2 data !\n",
      "AIDREAM_43 has no rLeakage data !\n",
      "AIDREAM_53 has no CTH data !\n",
      "AIDREAM_53 has no OEF data !\n",
      "AIDREAM_53 has no rCBV data !\n",
      "AIDREAM_53 has no Delay data !\n",
      "AIDREAM_53 has no COV data !\n",
      "AIDREAM_53 has no rCMRO2 data !\n",
      "AIDREAM_53 has no rLeakage data !\n",
      "AIDREAM_57 has no CTH data !\n",
      "AIDREAM_57 has no OEF data !\n",
      "AIDREAM_57 has no rCBV data !\n",
      "AIDREAM_57 has no Delay data !\n",
      "AIDREAM_57 has no COV data !\n",
      "AIDREAM_57 has no rCMRO2 data !\n",
      "AIDREAM_57 has no rLeakage data !\n",
      "AIDREAM_58 has no OEF data !\n",
      "AIDREAM_58 has no Delay data !\n",
      "AIDREAM_58 has no COV data !\n",
      "AIDREAM_58 has no rCMRO2 data !\n",
      "AIDREAM_58 has no rLeakage data !\n",
      "AIDREAM_61 has no CTH data !\n",
      "AIDREAM_61 has no OEF data !\n",
      "AIDREAM_61 has no rCBV data !\n",
      "AIDREAM_61 has no Delay data !\n",
      "AIDREAM_61 has no COV data !\n",
      "AIDREAM_61 has no rCMRO2 data !\n",
      "AIDREAM_61 has no rLeakage data !\n",
      "AIDREAM_63 has no CTH data !\n",
      "AIDREAM_63 has no OEF data !\n",
      "AIDREAM_63 has no rCBV data !\n",
      "AIDREAM_63 has no Delay data !\n",
      "AIDREAM_63 has no COV data !\n",
      "AIDREAM_63 has no rCMRO2 data !\n",
      "AIDREAM_63 has no rLeakage data !\n",
      "AIDREAM_70 has no CTH data !\n",
      "AIDREAM_70 has no OEF data !\n",
      "AIDREAM_70 has no rCBV data !\n",
      "AIDREAM_70 has no Delay data !\n",
      "AIDREAM_70 has no COV data !\n",
      "AIDREAM_70 has no rCMRO2 data !\n",
      "AIDREAM_70 has no rLeakage data !\n",
      "AIDREAM_72 has no OEF data !\n",
      "AIDREAM_72 has no Delay data !\n",
      "AIDREAM_72 has no COV data !\n",
      "AIDREAM_72 has no rCMRO2 data !\n",
      "AIDREAM_72 has no rLeakage data !\n",
      "AIDREAM_74 has no CTH data !\n",
      "AIDREAM_74 has no OEF data !\n",
      "AIDREAM_74 has no rCBV data !\n",
      "AIDREAM_74 has no Delay data !\n",
      "AIDREAM_74 has no COV data !\n",
      "AIDREAM_74 has no rCMRO2 data !\n",
      "AIDREAM_74 has no rLeakage data !\n",
      "AIDREAM_76 has no OEF data !\n",
      "AIDREAM_76 has no Delay data !\n",
      "AIDREAM_76 has no COV data !\n",
      "AIDREAM_76 has no rCMRO2 data !\n",
      "AIDREAM_76 has no rLeakage data !\n",
      "AIDREAM_78 has no CTH data !\n",
      "AIDREAM_78 has no OEF data !\n",
      "AIDREAM_78 has no rCBV data !\n",
      "AIDREAM_78 has no Delay data !\n",
      "AIDREAM_78 has no COV data !\n",
      "AIDREAM_78 has no rCMRO2 data !\n",
      "AIDREAM_78 has no rLeakage data !\n",
      "AIDREAM_116 has no OEF data !\n",
      "AIDREAM_116 has no Delay data !\n",
      "AIDREAM_116 has no COV data !\n",
      "AIDREAM_116 has no rCMRO2 data !\n",
      "AIDREAM_116 has no rLeakage data !\n",
      "AIDREAM_121 has no CTH data !\n",
      "AIDREAM_121 has no OEF data !\n",
      "AIDREAM_121 has no rCBV data !\n",
      "AIDREAM_121 has no Delay data !\n",
      "AIDREAM_121 has no COV data !\n",
      "AIDREAM_121 has no rCMRO2 data !\n",
      "AIDREAM_121 has no rLeakage data !\n",
      "AIDREAM_125 has no CTH data !\n",
      "AIDREAM_125 has no OEF data !\n",
      "AIDREAM_125 has no rCBV data !\n",
      "AIDREAM_125 has no Delay data !\n",
      "AIDREAM_125 has no COV data !\n",
      "AIDREAM_125 has no rCMRO2 data !\n",
      "AIDREAM_125 has no rLeakage data !\n",
      "AIDREAM_127 has no OEF data !\n",
      "AIDREAM_127 has no Delay data !\n",
      "AIDREAM_127 has no COV data !\n",
      "AIDREAM_127 has no rCMRO2 data !\n",
      "AIDREAM_127 has no rLeakage data !\n",
      "AIDREAM_131 has no CTH data !\n",
      "AIDREAM_131 has no OEF data !\n",
      "AIDREAM_131 has no rCBV data !\n",
      "AIDREAM_131 has no Delay data !\n",
      "AIDREAM_131 has no COV data !\n",
      "AIDREAM_131 has no rCMRO2 data !\n",
      "AIDREAM_131 has no rLeakage data !\n",
      "AIDREAM_133 has no OEF data !\n",
      "AIDREAM_133 has no Delay data !\n",
      "AIDREAM_133 has no COV data !\n",
      "AIDREAM_133 has no rCMRO2 data !\n",
      "AIDREAM_133 has no rLeakage data !\n",
      "AIDREAM_135 has no OEF data !\n",
      "AIDREAM_135 has no Delay data !\n",
      "AIDREAM_135 has no COV data !\n",
      "AIDREAM_135 has no rCMRO2 data !\n",
      "AIDREAM_135 has no rLeakage data !\n",
      "AIDREAM_137 has no OEF data !\n",
      "AIDREAM_137 has no Delay data !\n",
      "AIDREAM_137 has no COV data !\n",
      "AIDREAM_137 has no rCMRO2 data !\n",
      "AIDREAM_137 has no rLeakage data !\n",
      "AIDREAM_140 has no OEF data !\n",
      "AIDREAM_140 has no Delay data !\n",
      "AIDREAM_140 has no COV data !\n",
      "AIDREAM_140 has no rCMRO2 data !\n",
      "AIDREAM_140 has no rLeakage data !\n",
      "AIDREAM_144 has no CTH data !\n",
      "AIDREAM_144 has no OEF data !\n",
      "AIDREAM_144 has no rCBV data !\n",
      "AIDREAM_144 has no Delay data !\n",
      "AIDREAM_144 has no COV data !\n",
      "AIDREAM_144 has no rCMRO2 data !\n",
      "AIDREAM_144 has no rLeakage data !\n",
      "AIDREAM_146 has no CTH data !\n",
      "AIDREAM_146 has no OEF data !\n",
      "AIDREAM_146 has no rCBV data !\n",
      "AIDREAM_146 has no Delay data !\n",
      "AIDREAM_146 has no COV data !\n",
      "AIDREAM_146 has no rCMRO2 data !\n",
      "AIDREAM_146 has no rLeakage data !\n",
      "AIDREAM_147 has no OEF data !\n",
      "AIDREAM_147 has no Delay data !\n",
      "AIDREAM_147 has no COV data !\n",
      "AIDREAM_147 has no rCMRO2 data !\n",
      "AIDREAM_147 has no rLeakage data !\n",
      "AIDREAM_148 has no OEF data !\n",
      "AIDREAM_148 has no Delay data !\n",
      "AIDREAM_148 has no COV data !\n",
      "AIDREAM_148 has no rCMRO2 data !\n",
      "AIDREAM_148 has no rLeakage data !\n",
      "AIDREAM_151 has no OEF data !\n",
      "AIDREAM_151 has no Delay data !\n",
      "AIDREAM_151 has no COV data !\n",
      "AIDREAM_151 has no rCMRO2 data !\n",
      "AIDREAM_151 has no rLeakage data !\n",
      "AIDREAM_200 has no CTH data !\n",
      "AIDREAM_200 has no OEF data !\n",
      "AIDREAM_200 has no rCBV data !\n",
      "AIDREAM_200 has no Delay data !\n",
      "AIDREAM_200 has no COV data !\n",
      "AIDREAM_200 has no rCMRO2 data !\n",
      "AIDREAM_200 has no rLeakage data !\n",
      "AIDREAM_201 has no CTH data !\n",
      "AIDREAM_201 has no OEF data !\n",
      "AIDREAM_201 has no rCBV data !\n",
      "AIDREAM_201 has no Delay data !\n",
      "AIDREAM_201 has no COV data !\n",
      "AIDREAM_201 has no rCMRO2 data !\n",
      "AIDREAM_201 has no rLeakage data !\n",
      "AIDREAM_202 has no CTH data !\n",
      "AIDREAM_202 has no OEF data !\n",
      "AIDREAM_202 has no rCBV data !\n",
      "AIDREAM_202 has no Delay data !\n",
      "AIDREAM_202 has no COV data !\n",
      "AIDREAM_202 has no rCMRO2 data !\n",
      "AIDREAM_202 has no rLeakage data !\n",
      "AIDREAM_203 has no CTH data !\n",
      "AIDREAM_203 has no OEF data !\n",
      "AIDREAM_203 has no rCBV data !\n",
      "AIDREAM_203 has no Delay data !\n",
      "AIDREAM_203 has no COV data !\n",
      "AIDREAM_203 has no rCMRO2 data !\n",
      "AIDREAM_203 has no rLeakage data !\n",
      "AIDREAM_204 has no CTH data !\n",
      "AIDREAM_204 has no OEF data !\n",
      "AIDREAM_204 has no rCBV data !\n",
      "AIDREAM_204 has no Delay data !\n",
      "AIDREAM_204 has no COV data !\n",
      "AIDREAM_204 has no rCMRO2 data !\n",
      "AIDREAM_204 has no rLeakage data !\n",
      "AIDREAM_206 has no CTH data !\n",
      "AIDREAM_206 has no OEF data !\n",
      "AIDREAM_206 has no rCBV data !\n",
      "AIDREAM_206 has no Delay data !\n",
      "AIDREAM_206 has no COV data !\n",
      "AIDREAM_206 has no rCMRO2 data !\n",
      "AIDREAM_206 has no rLeakage data !\n",
      "AIDREAM_208 has no CTH data !\n",
      "AIDREAM_208 has no OEF data !\n",
      "AIDREAM_208 has no rCBV data !\n",
      "AIDREAM_208 has no Delay data !\n",
      "AIDREAM_208 has no COV data !\n",
      "AIDREAM_208 has no rCMRO2 data !\n",
      "AIDREAM_208 has no rLeakage data !\n",
      "AIDREAM_209 has no CTH data !\n",
      "AIDREAM_209 has no OEF data !\n",
      "AIDREAM_209 has no rCBV data !\n",
      "AIDREAM_209 has no Delay data !\n",
      "AIDREAM_209 has no COV data !\n",
      "AIDREAM_209 has no rCMRO2 data !\n",
      "AIDREAM_209 has no rLeakage data !\n",
      "AIDREAM_226 has no CTH data !\n",
      "AIDREAM_226 has no OEF data !\n",
      "AIDREAM_226 has no rCBV data !\n",
      "AIDREAM_226 has no Delay data !\n",
      "AIDREAM_226 has no COV data !\n",
      "AIDREAM_226 has no rCMRO2 data !\n",
      "AIDREAM_226 has no rLeakage data !\n",
      "AIDREAM_230 has no OEF data !\n",
      "AIDREAM_230 has no Delay data !\n",
      "AIDREAM_230 has no COV data !\n",
      "AIDREAM_230 has no rCMRO2 data !\n",
      "AIDREAM_230 has no rLeakage data !\n",
      "AIDREAM_231 has no CTH data !\n",
      "AIDREAM_231 has no OEF data !\n",
      "AIDREAM_231 has no rCBV data !\n",
      "AIDREAM_231 has no Delay data !\n",
      "AIDREAM_231 has no COV data !\n",
      "AIDREAM_231 has no rCMRO2 data !\n",
      "AIDREAM_231 has no rLeakage data !\n",
      "AIDREAM_234 has no OEF data !\n",
      "AIDREAM_234 has no Delay data !\n",
      "AIDREAM_234 has no COV data !\n",
      "AIDREAM_234 has no rCMRO2 data !\n",
      "AIDREAM_234 has no rLeakage data !\n",
      "AIDREAM_235 has no CTH data !\n",
      "AIDREAM_235 has no OEF data !\n",
      "AIDREAM_235 has no rCBV data !\n",
      "AIDREAM_235 has no Delay data !\n",
      "AIDREAM_235 has no COV data !\n",
      "AIDREAM_235 has no rCMRO2 data !\n",
      "AIDREAM_235 has no rLeakage data !\n",
      "AIDREAM_239 has no CTH data !\n",
      "AIDREAM_239 has no OEF data !\n",
      "AIDREAM_239 has no rCBV data !\n",
      "AIDREAM_239 has no Delay data !\n",
      "AIDREAM_239 has no COV data !\n",
      "AIDREAM_239 has no rCMRO2 data !\n",
      "AIDREAM_239 has no rLeakage data !\n",
      "AIDREAM_248 has no CTH data !\n",
      "AIDREAM_248 has no OEF data !\n",
      "AIDREAM_248 has no rCBV data !\n",
      "AIDREAM_248 has no Delay data !\n",
      "AIDREAM_248 has no COV data !\n",
      "AIDREAM_248 has no rCMRO2 data !\n",
      "AIDREAM_248 has no rLeakage data !\n",
      "AIDREAM_301 has no CTH data !\n",
      "AIDREAM_301 has no OEF data !\n",
      "AIDREAM_301 has no rCBV data !\n",
      "AIDREAM_301 has no Delay data !\n",
      "AIDREAM_301 has no COV data !\n",
      "AIDREAM_301 has no rCMRO2 data !\n",
      "AIDREAM_301 has no rLeakage data !\n",
      "AIDREAM_303 has no CTH data !\n",
      "AIDREAM_303 has no OEF data !\n",
      "AIDREAM_303 has no rCBV data !\n",
      "AIDREAM_303 has no Delay data !\n",
      "AIDREAM_303 has no COV data !\n",
      "AIDREAM_303 has no rCMRO2 data !\n",
      "AIDREAM_303 has no rLeakage data !\n",
      "AIDREAM_306 has no CTH data !\n",
      "AIDREAM_306 has no OEF data !\n",
      "AIDREAM_306 has no rCBV data !\n",
      "AIDREAM_306 has no Delay data !\n",
      "AIDREAM_306 has no COV data !\n",
      "AIDREAM_306 has no rCMRO2 data !\n",
      "AIDREAM_306 has no rLeakage data !\n",
      "AIDREAM_307 has no CTH data !\n",
      "AIDREAM_307 has no OEF data !\n",
      "AIDREAM_307 has no rCBV data !\n",
      "AIDREAM_307 has no Delay data !\n",
      "AIDREAM_307 has no COV data !\n",
      "AIDREAM_307 has no rCMRO2 data !\n",
      "AIDREAM_307 has no rLeakage data !\n",
      "AIDREAM_308 has no CTH data !\n",
      "AIDREAM_308 has no OEF data !\n",
      "AIDREAM_308 has no rCBV data !\n",
      "AIDREAM_308 has no Delay data !\n",
      "AIDREAM_308 has no COV data !\n",
      "AIDREAM_308 has no rCMRO2 data !\n",
      "AIDREAM_308 has no rLeakage data !\n",
      "AIDREAM_310 has no CTH data !\n",
      "AIDREAM_310 has no OEF data !\n",
      "AIDREAM_310 has no rCBV data !\n",
      "AIDREAM_310 has no Delay data !\n",
      "AIDREAM_310 has no COV data !\n",
      "AIDREAM_310 has no rCMRO2 data !\n",
      "AIDREAM_310 has no rLeakage data !\n",
      "AIDREAM_311 has no CTH data !\n",
      "AIDREAM_311 has no OEF data !\n",
      "AIDREAM_311 has no rCBV data !\n",
      "AIDREAM_311 has no Delay data !\n",
      "AIDREAM_311 has no COV data !\n",
      "AIDREAM_311 has no rCMRO2 data !\n",
      "AIDREAM_311 has no rLeakage data !\n",
      "AIDREAM_312 has no CTH data !\n",
      "AIDREAM_312 has no OEF data !\n",
      "AIDREAM_312 has no rCBV data !\n",
      "AIDREAM_312 has no Delay data !\n",
      "AIDREAM_312 has no COV data !\n",
      "AIDREAM_312 has no rCMRO2 data !\n",
      "AIDREAM_312 has no rLeakage data !\n",
      "AIDREAM_314 has no CTH data !\n",
      "AIDREAM_314 has no OEF data !\n",
      "AIDREAM_314 has no rCBV data !\n",
      "AIDREAM_314 has no Delay data !\n",
      "AIDREAM_314 has no COV data !\n",
      "AIDREAM_314 has no rCMRO2 data !\n",
      "AIDREAM_314 has no rLeakage data !\n",
      "AIDREAM_315 has no CTH data !\n",
      "AIDREAM_315 has no OEF data !\n",
      "AIDREAM_315 has no rCBV data !\n",
      "AIDREAM_315 has no Delay data !\n",
      "AIDREAM_315 has no COV data !\n",
      "AIDREAM_315 has no rCMRO2 data !\n",
      "AIDREAM_315 has no rLeakage data !\n",
      "AIDREAM_317 has no CTH data !\n",
      "AIDREAM_317 has no OEF data !\n",
      "AIDREAM_317 has no rCBV data !\n",
      "AIDREAM_317 has no Delay data !\n",
      "AIDREAM_317 has no COV data !\n",
      "AIDREAM_317 has no rCMRO2 data !\n",
      "AIDREAM_317 has no rLeakage data !\n",
      "AIDREAM_319 has no CTH data !\n",
      "AIDREAM_319 has no OEF data !\n",
      "AIDREAM_319 has no rCBV data !\n",
      "AIDREAM_319 has no Delay data !\n",
      "AIDREAM_319 has no COV data !\n",
      "AIDREAM_319 has no rCMRO2 data !\n",
      "AIDREAM_319 has no rLeakage data !\n",
      "AIDREAM_320 has no CTH data !\n",
      "AIDREAM_320 has no OEF data !\n",
      "AIDREAM_320 has no rCBV data !\n",
      "AIDREAM_320 has no Delay data !\n",
      "AIDREAM_320 has no COV data !\n",
      "AIDREAM_320 has no rCMRO2 data !\n",
      "AIDREAM_320 has no rLeakage data !\n",
      "AIDREAM_322 has no CTH data !\n",
      "AIDREAM_322 has no OEF data !\n",
      "AIDREAM_322 has no rCBV data !\n",
      "AIDREAM_322 has no Delay data !\n",
      "AIDREAM_322 has no COV data !\n",
      "AIDREAM_322 has no rCMRO2 data !\n",
      "AIDREAM_322 has no rLeakage data !\n",
      "AIDREAM_323 has no CTH data !\n",
      "AIDREAM_323 has no OEF data !\n",
      "AIDREAM_323 has no rCBV data !\n",
      "AIDREAM_323 has no Delay data !\n",
      "AIDREAM_323 has no COV data !\n",
      "AIDREAM_323 has no rCMRO2 data !\n",
      "AIDREAM_323 has no rLeakage data !\n",
      "AIDREAM_324 has no CTH data !\n",
      "AIDREAM_324 has no OEF data !\n",
      "AIDREAM_324 has no rCBV data !\n",
      "AIDREAM_324 has no Delay data !\n",
      "AIDREAM_324 has no COV data !\n",
      "AIDREAM_324 has no rCMRO2 data !\n",
      "AIDREAM_324 has no rLeakage data !\n",
      "AIDREAM_326 has no CTH data !\n",
      "AIDREAM_326 has no OEF data !\n",
      "AIDREAM_326 has no rCBV data !\n",
      "AIDREAM_326 has no Delay data !\n",
      "AIDREAM_326 has no COV data !\n",
      "AIDREAM_326 has no rCMRO2 data !\n",
      "AIDREAM_326 has no rLeakage data !\n",
      "AIDREAM_327 has no CTH data !\n",
      "AIDREAM_327 has no OEF data !\n",
      "AIDREAM_327 has no rCBV data !\n",
      "AIDREAM_327 has no Delay data !\n",
      "AIDREAM_327 has no COV data !\n",
      "AIDREAM_327 has no rCMRO2 data !\n",
      "AIDREAM_327 has no rLeakage data !\n",
      "AIDREAM_328 has no CTH data !\n",
      "AIDREAM_328 has no OEF data !\n",
      "AIDREAM_328 has no rCBV data !\n",
      "AIDREAM_328 has no Delay data !\n",
      "AIDREAM_328 has no COV data !\n",
      "AIDREAM_328 has no rCMRO2 data !\n",
      "AIDREAM_328 has no rLeakage data !\n",
      "AIDREAM_329 has no CTH data !\n",
      "AIDREAM_329 has no OEF data !\n",
      "AIDREAM_329 has no rCBV data !\n",
      "AIDREAM_329 has no Delay data !\n",
      "AIDREAM_329 has no COV data !\n",
      "AIDREAM_329 has no rCMRO2 data !\n",
      "AIDREAM_329 has no rLeakage data !\n",
      "AIDREAM_330 has no CTH data !\n",
      "AIDREAM_330 has no OEF data !\n",
      "AIDREAM_330 has no rCBV data !\n",
      "AIDREAM_330 has no Delay data !\n",
      "AIDREAM_330 has no COV data !\n",
      "AIDREAM_330 has no rCMRO2 data !\n",
      "AIDREAM_330 has no rLeakage data !\n",
      "AIDREAM_331 has no CTH data !\n",
      "AIDREAM_331 has no OEF data !\n",
      "AIDREAM_331 has no rCBV data !\n",
      "AIDREAM_331 has no Delay data !\n",
      "AIDREAM_331 has no COV data !\n",
      "AIDREAM_331 has no rCMRO2 data !\n",
      "AIDREAM_331 has no rLeakage data !\n",
      "AIDREAM_332 has no CTH data !\n",
      "AIDREAM_332 has no OEF data !\n",
      "AIDREAM_332 has no rCBV data !\n",
      "AIDREAM_332 has no Delay data !\n",
      "AIDREAM_332 has no COV data !\n",
      "AIDREAM_332 has no rCMRO2 data !\n",
      "AIDREAM_332 has no rLeakage data !\n",
      "AIDREAM_334 has no CTH data !\n",
      "AIDREAM_334 has no OEF data !\n",
      "AIDREAM_334 has no rCBV data !\n",
      "AIDREAM_334 has no Delay data !\n",
      "AIDREAM_334 has no COV data !\n",
      "AIDREAM_334 has no rCMRO2 data !\n",
      "AIDREAM_334 has no rLeakage data !\n",
      "AIDREAM_335 has no CTH data !\n",
      "AIDREAM_335 has no OEF data !\n",
      "AIDREAM_335 has no rCBV data !\n",
      "AIDREAM_335 has no Delay data !\n",
      "AIDREAM_335 has no COV data !\n",
      "AIDREAM_335 has no rCMRO2 data !\n",
      "AIDREAM_335 has no rLeakage data !\n",
      "AIDREAM_336 has no CTH data !\n",
      "AIDREAM_336 has no OEF data !\n",
      "AIDREAM_336 has no rCBV data !\n",
      "AIDREAM_336 has no Delay data !\n",
      "AIDREAM_336 has no COV data !\n",
      "AIDREAM_336 has no rCMRO2 data !\n",
      "AIDREAM_336 has no rLeakage data !\n",
      "AIDREAM_339 has no CTH data !\n",
      "AIDREAM_339 has no OEF data !\n",
      "AIDREAM_339 has no rCBV data !\n",
      "AIDREAM_339 has no Delay data !\n",
      "AIDREAM_339 has no COV data !\n",
      "AIDREAM_339 has no rCMRO2 data !\n",
      "AIDREAM_339 has no rLeakage data !\n",
      "AIDREAM_341 has no CTH data !\n",
      "AIDREAM_341 has no OEF data !\n",
      "AIDREAM_341 has no rCBV data !\n",
      "AIDREAM_341 has no Delay data !\n",
      "AIDREAM_341 has no COV data !\n",
      "AIDREAM_341 has no rCMRO2 data !\n",
      "AIDREAM_341 has no rLeakage data !\n",
      "AIDREAM_342 has no CTH data !\n",
      "AIDREAM_342 has no OEF data !\n",
      "AIDREAM_342 has no rCBV data !\n",
      "AIDREAM_342 has no Delay data !\n",
      "AIDREAM_342 has no COV data !\n",
      "AIDREAM_342 has no rCMRO2 data !\n",
      "AIDREAM_342 has no rLeakage data !\n",
      "AIDREAM_343 has no CTH data !\n",
      "AIDREAM_343 has no OEF data !\n",
      "AIDREAM_343 has no rCBV data !\n",
      "AIDREAM_343 has no Delay data !\n",
      "AIDREAM_343 has no COV data !\n",
      "AIDREAM_343 has no rCMRO2 data !\n",
      "AIDREAM_343 has no rLeakage data !\n",
      "AIDREAM_344 has no CTH data !\n",
      "AIDREAM_344 has no OEF data !\n",
      "AIDREAM_344 has no rCBV data !\n",
      "AIDREAM_344 has no Delay data !\n",
      "AIDREAM_344 has no COV data !\n",
      "AIDREAM_344 has no rCMRO2 data !\n",
      "AIDREAM_344 has no rLeakage data !\n",
      "AIDREAM_345 has no CTH data !\n",
      "AIDREAM_345 has no OEF data !\n",
      "AIDREAM_345 has no rCBV data !\n",
      "AIDREAM_345 has no Delay data !\n",
      "AIDREAM_345 has no COV data !\n",
      "AIDREAM_345 has no rCMRO2 data !\n",
      "AIDREAM_345 has no rLeakage data !\n",
      "AIDREAM_346 has no CTH data !\n",
      "AIDREAM_346 has no OEF data !\n",
      "AIDREAM_346 has no rCBV data !\n",
      "AIDREAM_346 has no Delay data !\n",
      "AIDREAM_346 has no COV data !\n",
      "AIDREAM_346 has no rCMRO2 data !\n",
      "AIDREAM_346 has no rLeakage data !\n",
      "AIDREAM_348 has no CTH data !\n",
      "AIDREAM_348 has no OEF data !\n",
      "AIDREAM_348 has no rCBV data !\n",
      "AIDREAM_348 has no Delay data !\n",
      "AIDREAM_348 has no COV data !\n",
      "AIDREAM_348 has no rCMRO2 data !\n",
      "AIDREAM_348 has no rLeakage data !\n",
      "AIDREAM_349 has no CTH data !\n",
      "AIDREAM_349 has no OEF data !\n",
      "AIDREAM_349 has no rCBV data !\n",
      "AIDREAM_349 has no Delay data !\n",
      "AIDREAM_349 has no COV data !\n",
      "AIDREAM_349 has no rCMRO2 data !\n",
      "AIDREAM_349 has no rLeakage data !\n",
      "AIDREAM_350 has no CTH data !\n",
      "AIDREAM_350 has no OEF data !\n",
      "AIDREAM_350 has no rCBV data !\n",
      "AIDREAM_350 has no Delay data !\n",
      "AIDREAM_350 has no COV data !\n",
      "AIDREAM_350 has no rCMRO2 data !\n",
      "AIDREAM_350 has no rLeakage data !\n",
      "AIDREAM_351 has no CTH data !\n",
      "AIDREAM_351 has no OEF data !\n",
      "AIDREAM_351 has no rCBV data !\n",
      "AIDREAM_351 has no Delay data !\n",
      "AIDREAM_351 has no COV data !\n",
      "AIDREAM_351 has no rCMRO2 data !\n",
      "AIDREAM_351 has no rLeakage data !\n",
      "AIDREAM_354 has no CTH data !\n",
      "AIDREAM_354 has no OEF data !\n",
      "AIDREAM_354 has no rCBV data !\n",
      "AIDREAM_354 has no Delay data !\n",
      "AIDREAM_354 has no COV data !\n",
      "AIDREAM_354 has no rCMRO2 data !\n",
      "AIDREAM_354 has no rLeakage data !\n",
      "AIDREAM_356 has no CTH data !\n",
      "AIDREAM_356 has no OEF data !\n",
      "AIDREAM_356 has no rCBV data !\n",
      "AIDREAM_356 has no Delay data !\n",
      "AIDREAM_356 has no COV data !\n",
      "AIDREAM_356 has no rCMRO2 data !\n",
      "AIDREAM_356 has no rLeakage data !\n",
      "AIDREAM_357 has no CTH data !\n",
      "AIDREAM_357 has no OEF data !\n",
      "AIDREAM_357 has no rCBV data !\n",
      "AIDREAM_357 has no Delay data !\n",
      "AIDREAM_357 has no COV data !\n",
      "AIDREAM_357 has no rCMRO2 data !\n",
      "AIDREAM_357 has no rLeakage data !\n",
      "AIDREAM_358 has no CTH data !\n",
      "AIDREAM_358 has no OEF data !\n",
      "AIDREAM_358 has no rCBV data !\n",
      "AIDREAM_358 has no Delay data !\n",
      "AIDREAM_358 has no COV data !\n",
      "AIDREAM_358 has no rCMRO2 data !\n",
      "AIDREAM_358 has no rLeakage data !\n",
      "AIDREAM_359 has no CTH data !\n",
      "AIDREAM_359 has no OEF data !\n",
      "AIDREAM_359 has no rCBV data !\n",
      "AIDREAM_359 has no Delay data !\n",
      "AIDREAM_359 has no COV data !\n",
      "AIDREAM_359 has no rCMRO2 data !\n",
      "AIDREAM_359 has no rLeakage data !\n",
      "AIDREAM_360 has no CTH data !\n",
      "AIDREAM_360 has no OEF data !\n",
      "AIDREAM_360 has no rCBV data !\n",
      "AIDREAM_360 has no Delay data !\n",
      "AIDREAM_360 has no COV data !\n",
      "AIDREAM_360 has no rCMRO2 data !\n",
      "AIDREAM_360 has no rLeakage data !\n",
      "AIDREAM_361 has no CTH data !\n",
      "AIDREAM_361 has no OEF data !\n",
      "AIDREAM_361 has no rCBV data !\n",
      "AIDREAM_361 has no Delay data !\n",
      "AIDREAM_361 has no COV data !\n",
      "AIDREAM_361 has no rCMRO2 data !\n",
      "AIDREAM_361 has no rLeakage data !\n",
      "AIDREAM_362 has no CTH data !\n",
      "AIDREAM_362 has no OEF data !\n",
      "AIDREAM_362 has no rCBV data !\n",
      "AIDREAM_362 has no Delay data !\n",
      "AIDREAM_362 has no COV data !\n",
      "AIDREAM_362 has no rCMRO2 data !\n",
      "AIDREAM_362 has no rLeakage data !\n",
      "AIDREAM_363 has no CTH data !\n",
      "AIDREAM_363 has no OEF data !\n",
      "AIDREAM_363 has no rCBV data !\n",
      "AIDREAM_363 has no Delay data !\n",
      "AIDREAM_363 has no COV data !\n",
      "AIDREAM_363 has no rCMRO2 data !\n",
      "AIDREAM_363 has no rLeakage data !\n",
      "AIDREAM_364 has no CTH data !\n",
      "AIDREAM_364 has no OEF data !\n",
      "AIDREAM_364 has no rCBV data !\n",
      "AIDREAM_364 has no Delay data !\n",
      "AIDREAM_364 has no COV data !\n",
      "AIDREAM_364 has no rCMRO2 data !\n",
      "AIDREAM_364 has no rLeakage data !\n",
      "AIDREAM_365 has no CTH data !\n",
      "AIDREAM_365 has no OEF data !\n",
      "AIDREAM_365 has no rCBV data !\n",
      "AIDREAM_365 has no Delay data !\n",
      "AIDREAM_365 has no COV data !\n",
      "AIDREAM_365 has no rCMRO2 data !\n",
      "AIDREAM_365 has no rLeakage data !\n",
      "AIDREAM_366 has no CTH data !\n",
      "AIDREAM_366 has no OEF data !\n",
      "AIDREAM_366 has no rCBV data !\n",
      "AIDREAM_366 has no Delay data !\n",
      "AIDREAM_366 has no COV data !\n",
      "AIDREAM_366 has no rCMRO2 data !\n",
      "AIDREAM_366 has no rLeakage data !\n",
      "AIDREAM_367 has no CTH data !\n",
      "AIDREAM_367 has no OEF data !\n",
      "AIDREAM_367 has no rCBV data !\n",
      "AIDREAM_367 has no Delay data !\n",
      "AIDREAM_367 has no COV data !\n",
      "AIDREAM_367 has no rCMRO2 data !\n",
      "AIDREAM_367 has no rLeakage data !\n",
      "AIDREAM_370 has no CTH data !\n",
      "AIDREAM_370 has no OEF data !\n",
      "AIDREAM_370 has no rCBV data !\n",
      "AIDREAM_370 has no Delay data !\n",
      "AIDREAM_370 has no COV data !\n",
      "AIDREAM_370 has no rCMRO2 data !\n",
      "AIDREAM_370 has no rLeakage data !\n",
      "AIDREAM_371 has no CTH data !\n",
      "AIDREAM_371 has no OEF data !\n",
      "AIDREAM_371 has no rCBV data !\n",
      "AIDREAM_371 has no Delay data !\n",
      "AIDREAM_371 has no COV data !\n",
      "AIDREAM_371 has no rCMRO2 data !\n",
      "AIDREAM_371 has no rLeakage data !\n",
      "AIDREAM_372 has no CTH data !\n",
      "AIDREAM_372 has no OEF data !\n",
      "AIDREAM_372 has no rCBV data !\n",
      "AIDREAM_372 has no Delay data !\n",
      "AIDREAM_372 has no COV data !\n",
      "AIDREAM_372 has no rCMRO2 data !\n",
      "AIDREAM_372 has no rLeakage data !\n",
      "AIDREAM_373 has no CTH data !\n",
      "AIDREAM_373 has no OEF data !\n",
      "AIDREAM_373 has no rCBV data !\n",
      "AIDREAM_373 has no Delay data !\n",
      "AIDREAM_373 has no COV data !\n",
      "AIDREAM_373 has no rCMRO2 data !\n",
      "AIDREAM_373 has no rLeakage data !\n",
      "AIDREAM_374 has no CTH data !\n",
      "AIDREAM_374 has no OEF data !\n",
      "AIDREAM_374 has no rCBV data !\n",
      "AIDREAM_374 has no Delay data !\n",
      "AIDREAM_374 has no COV data !\n",
      "AIDREAM_374 has no rCMRO2 data !\n",
      "AIDREAM_374 has no rLeakage data !\n",
      "AIDREAM_375 has no CTH data !\n",
      "AIDREAM_375 has no OEF data !\n",
      "AIDREAM_375 has no rCBV data !\n",
      "AIDREAM_375 has no Delay data !\n",
      "AIDREAM_375 has no COV data !\n",
      "AIDREAM_375 has no rCMRO2 data !\n",
      "AIDREAM_375 has no rLeakage data !\n",
      "AIDREAM_378 has no CTH data !\n",
      "AIDREAM_378 has no OEF data !\n",
      "AIDREAM_378 has no rCBV data !\n",
      "AIDREAM_378 has no Delay data !\n",
      "AIDREAM_378 has no COV data !\n",
      "AIDREAM_378 has no rCMRO2 data !\n",
      "AIDREAM_378 has no rLeakage data !\n",
      "AIDREAM_379 has no CTH data !\n",
      "AIDREAM_379 has no OEF data !\n",
      "AIDREAM_379 has no rCBV data !\n",
      "AIDREAM_379 has no Delay data !\n",
      "AIDREAM_379 has no COV data !\n",
      "AIDREAM_379 has no rCMRO2 data !\n",
      "AIDREAM_379 has no rLeakage data !\n",
      "AIDREAM_380 has no CTH data !\n",
      "AIDREAM_380 has no OEF data !\n",
      "AIDREAM_380 has no rCBV data !\n",
      "AIDREAM_380 has no Delay data !\n",
      "AIDREAM_380 has no COV data !\n",
      "AIDREAM_380 has no rCMRO2 data !\n",
      "AIDREAM_380 has no rLeakage data !\n",
      "AIDREAM_381 has no CTH data !\n",
      "AIDREAM_381 has no OEF data !\n",
      "AIDREAM_381 has no rCBV data !\n",
      "AIDREAM_381 has no Delay data !\n",
      "AIDREAM_381 has no COV data !\n",
      "AIDREAM_381 has no rCMRO2 data !\n",
      "AIDREAM_381 has no rLeakage data !\n",
      "AIDREAM_382 has no CTH data !\n",
      "AIDREAM_382 has no OEF data !\n",
      "AIDREAM_382 has no rCBV data !\n",
      "AIDREAM_382 has no Delay data !\n",
      "AIDREAM_382 has no COV data !\n",
      "AIDREAM_382 has no rCMRO2 data !\n",
      "AIDREAM_382 has no rLeakage data !\n",
      "AIDREAM_385 has no CTH data !\n",
      "AIDREAM_385 has no OEF data !\n",
      "AIDREAM_385 has no rCBV data !\n",
      "AIDREAM_385 has no Delay data !\n",
      "AIDREAM_385 has no COV data !\n",
      "AIDREAM_385 has no rCMRO2 data !\n",
      "AIDREAM_385 has no rLeakage data !\n",
      "AIDREAM_389 has no CTH data !\n",
      "AIDREAM_389 has no OEF data !\n",
      "AIDREAM_389 has no rCBV data !\n",
      "AIDREAM_389 has no Delay data !\n",
      "AIDREAM_389 has no COV data !\n",
      "AIDREAM_389 has no rCMRO2 data !\n",
      "AIDREAM_389 has no rLeakage data !\n",
      "AIDREAM_390 has no CTH data !\n",
      "AIDREAM_390 has no OEF data !\n",
      "AIDREAM_390 has no rCBV data !\n",
      "AIDREAM_390 has no Delay data !\n",
      "AIDREAM_390 has no COV data !\n",
      "AIDREAM_390 has no rCMRO2 data !\n",
      "AIDREAM_390 has no rLeakage data !\n",
      "AIDREAM_391 has no CTH data !\n",
      "AIDREAM_391 has no OEF data !\n",
      "AIDREAM_391 has no rCBV data !\n",
      "AIDREAM_391 has no Delay data !\n",
      "AIDREAM_391 has no COV data !\n",
      "AIDREAM_391 has no rCMRO2 data !\n",
      "AIDREAM_391 has no rLeakage data !\n",
      "AIDREAM_393 has no CTH data !\n",
      "AIDREAM_393 has no OEF data !\n",
      "AIDREAM_393 has no rCBV data !\n",
      "AIDREAM_393 has no Delay data !\n",
      "AIDREAM_393 has no COV data !\n",
      "AIDREAM_393 has no rCMRO2 data !\n",
      "AIDREAM_393 has no rLeakage data !\n",
      "AIDREAM_394 has no CTH data !\n",
      "AIDREAM_394 has no OEF data !\n",
      "AIDREAM_394 has no rCBV data !\n",
      "AIDREAM_394 has no Delay data !\n",
      "AIDREAM_394 has no COV data !\n",
      "AIDREAM_394 has no rCMRO2 data !\n",
      "AIDREAM_394 has no rLeakage data !\n",
      "AIDREAM_397 has no CTH data !\n",
      "AIDREAM_397 has no OEF data !\n",
      "AIDREAM_397 has no rCBV data !\n",
      "AIDREAM_397 has no Delay data !\n",
      "AIDREAM_397 has no COV data !\n",
      "AIDREAM_397 has no rCMRO2 data !\n",
      "AIDREAM_397 has no rLeakage data !\n",
      "AIDREAM_399 has no CTH data !\n",
      "AIDREAM_399 has no OEF data !\n",
      "AIDREAM_399 has no rCBV data !\n",
      "AIDREAM_399 has no Delay data !\n",
      "AIDREAM_399 has no COV data !\n",
      "AIDREAM_399 has no rCMRO2 data !\n",
      "AIDREAM_399 has no rLeakage data !\n",
      "AIDREAM_400 has no CTH data !\n",
      "AIDREAM_400 has no OEF data !\n",
      "AIDREAM_400 has no rCBV data !\n",
      "AIDREAM_400 has no Delay data !\n",
      "AIDREAM_400 has no COV data !\n",
      "AIDREAM_400 has no rCMRO2 data !\n",
      "AIDREAM_400 has no rLeakage data !\n"
     ]
    },
    {
     "name": "stderr",
     "output_type": "stream",
     "text": [
      "\n"
     ]
    }
   ],
   "source": [
    "for patient in tqdm(list_patients):\n",
    "    for imaging in ['CTH', 'OEF', 'rCBV', 'Delay', 'COV', 'rCMRO2', 'rLeakage']:\n",
    "        \n",
    "        try:\n",
    "            dir_src = dir_src_cercare / patient / \"pre_RT\" / imaging\n",
    "            \n",
    "            dir_dst = dir_aidream_data / patient / \"pre_RT\" / imaging / \"DICOM\"\n",
    "            dir_dst.parent.mkdir(parents=True, exist_ok=True)\n",
    "\n",
    "            if not dir_dst.exists():\n",
    "                shutil.copytree(src=dir_src, dst=dir_dst)            \n",
    "    \n",
    "        except Exception as e:\n",
    "\n",
    "            list_patients_interim = list_patients_interim - {patient}\n",
    "            print(fr\"{patient} has no {imaging} data !\")   \n",
    "    "
   ]
  },
  {
   "cell_type": "code",
   "execution_count": 17,
   "id": "49c3e6e6-9fea-4c28-87db-df3d7a57b48c",
   "metadata": {},
   "outputs": [
    {
     "name": "stdout",
     "output_type": "stream",
     "text": [
      "Number of patients with available CERCARE data (for now) : 107\n"
     ]
    }
   ],
   "source": [
    "list_patients_interim = list(set(list_patients_interim)) \n",
    "list_patients_interim = sort_name_list(list_patients_interim)\n",
    "\n",
    "print(fr\"Number of patients with available CERCARE data (for now) : {len(list_patients_interim)}\")\n"
   ]
  },
  {
   "cell_type": "code",
   "execution_count": 18,
   "id": "55a7e5b8-e64d-4795-b4c9-726b2021b34c",
   "metadata": {},
   "outputs": [],
   "source": [
    "with open(\"list_intermediary_patients.txt\", \"w\") as f:\n",
    "    f.writelines([f\"{p}\\n\" for p in list_patients_interim])\n",
    "    "
   ]
  },
  {
   "cell_type": "markdown",
   "id": "8775091e-193e-405f-bd78-b1406da5ad67",
   "metadata": {},
   "source": [
    "# 4. Load the Labels data : "
   ]
  },
  {
   "cell_type": "code",
   "execution_count": 19,
   "id": "9c0e6056-f3f7-4e0c-9159-1191912bd5da",
   "metadata": {},
   "outputs": [],
   "source": [
    "remaining_patients = {\n",
    "    \"pre_RT\" : set(),\n",
    "    \"Rechute\": set()\n",
    "}\n"
   ]
  },
  {
   "cell_type": "code",
   "execution_count": 20,
   "id": "f50714ce-99a4-4098-b002-c124ec81806e",
   "metadata": {},
   "outputs": [],
   "source": [
    "patients_with_labels = {\n",
    "    \"pre_RT\" : set(),\n",
    "    \"Rechute\": set()\n",
    "}\n"
   ]
  },
  {
   "cell_type": "markdown",
   "id": "9e04db9a-1b34-4978-8e65-e80dde935126",
   "metadata": {},
   "source": [
    "## 4.1. Load the pre_RT Labels data :  "
   ]
  },
  {
   "cell_type": "code",
   "execution_count": 21,
   "id": "6669b48a-9743-45d7-af25-a1805ace08fd",
   "metadata": {},
   "outputs": [],
   "source": [
    "new_labels_src_dirs = {\n",
    "    \n",
    "    'pre_RT' : constants.DIR_AIDREAM_ON_NAS / 'Export_RayStation_RS_27062024' / 'preRT',\n",
    "    'Rechute': constants.DIR_AIDREAM_ON_NAS / 'Export_RayStation_RS_27062024' / 'Rechute'\n",
    "    \n",
    "}\n"
   ]
  },
  {
   "cell_type": "code",
   "execution_count": 22,
   "id": "25c1a99d-6bad-44de-a1ef-ccac61780ba3",
   "metadata": {
    "scrolled": true
   },
   "outputs": [
    {
     "name": "stderr",
     "output_type": "stream",
     "text": [
      "  0%|                                                                                                                                                                                       | 0/43 [00:00<?, ?it/s]"
     ]
    },
    {
     "name": "stdout",
     "output_type": "stream",
     "text": [
      " ---------- AIDREAM_114  ----- pre_RT  ---------- \n",
      "Replacing pre_RT Labels for patient AIDREAM_114 !\n",
      "Path src exists: True\n",
      "Path parent dst exists: True\n",
      "Path dst exists: False\n",
      "Successfully loaded pre_RT labels for patient AIDREAM_114\n",
      " ---------- AIDREAM_152  ----- pre_RT  ---------- \n",
      "Replacing pre_RT Labels for patient AIDREAM_152 !\n",
      "Path src exists: True\n",
      "Path parent dst exists: True\n",
      "Path dst exists: False\n"
     ]
    },
    {
     "name": "stderr",
     "output_type": "stream",
     "text": [
      "  5%|████████▏                                                                                                                                                                      | 2/43 [00:00<00:03, 11.85it/s]"
     ]
    },
    {
     "name": "stdout",
     "output_type": "stream",
     "text": [
      "Successfully loaded pre_RT labels for patient AIDREAM_152\n",
      " ---------- AIDREAM_135  ----- pre_RT  ---------- \n",
      "Replacing pre_RT Labels for patient AIDREAM_135 !\n",
      "Path src exists: True\n",
      "Path parent dst exists: True\n",
      "Path dst exists: False\n"
     ]
    },
    {
     "name": "stderr",
     "output_type": "stream",
     "text": [
      "  9%|████████████████▎                                                                                                                                                              | 4/43 [00:00<00:05,  6.64it/s]"
     ]
    },
    {
     "name": "stdout",
     "output_type": "stream",
     "text": [
      "Successfully loaded pre_RT labels for patient AIDREAM_135\n",
      " ---------- AIDREAM_137  ----- pre_RT  ---------- \n",
      "Replacing pre_RT Labels for patient AIDREAM_137 !\n",
      "Path src exists: True\n",
      "Path parent dst exists: True\n",
      "Path dst exists: False\n",
      "Successfully loaded pre_RT labels for patient AIDREAM_137\n",
      " ---------- AIDREAM_238  ----- pre_RT  ---------- \n",
      "Adding pre_RT Labels for patient AIDREAM_238 !\n",
      "Path src exists: True\n",
      "Path parent dst exists: True\n",
      "Path dst exists: False\n"
     ]
    },
    {
     "name": "stderr",
     "output_type": "stream",
     "text": [
      " 14%|████████████████████████▍                                                                                                                                                      | 6/43 [00:00<00:05,  7.23it/s]"
     ]
    },
    {
     "name": "stdout",
     "output_type": "stream",
     "text": [
      "Successfully loaded pre_RT labels for patient AIDREAM_238\n",
      " ---------- AIDREAM_130  ----- pre_RT  ---------- \n",
      "Replacing pre_RT Labels for patient AIDREAM_130 !\n",
      "Path src exists: True\n",
      "Path parent dst exists: True\n",
      "Path dst exists: False\n",
      "Successfully loaded pre_RT labels for patient AIDREAM_130\n",
      " ----------  AIDREAM_21  ----- pre_RT  ---------- \n",
      "Replacing pre_RT Labels for patient AIDREAM_21 !\n",
      "Path src exists: True\n",
      "Path parent dst exists: True\n",
      "Path dst exists: False\n"
     ]
    },
    {
     "name": "stderr",
     "output_type": "stream",
     "text": [
      " 16%|████████████████████████████▍                                                                                                                                                  | 7/43 [00:01<00:06,  5.85it/s]"
     ]
    },
    {
     "name": "stdout",
     "output_type": "stream",
     "text": [
      "Successfully loaded pre_RT labels for patient AIDREAM_21\n",
      " ---------- AIDREAM_244  ----- pre_RT  ---------- \n",
      "Replacing pre_RT Labels for patient AIDREAM_244 !\n",
      "Path src exists: True\n",
      "Path parent dst exists: True\n",
      "Path dst exists: False\n"
     ]
    },
    {
     "name": "stderr",
     "output_type": "stream",
     "text": [
      " 21%|████████████████████████████████████▋                                                                                                                                          | 9/43 [00:01<00:07,  4.85it/s]"
     ]
    },
    {
     "name": "stdout",
     "output_type": "stream",
     "text": [
      "Successfully loaded pre_RT labels for patient AIDREAM_244\n",
      " ---------- AIDREAM_225  ----- pre_RT  ---------- \n",
      "Replacing pre_RT Labels for patient AIDREAM_225 !\n",
      "Path src exists: True\n",
      "Path parent dst exists: True\n",
      "Path dst exists: False\n",
      "Successfully loaded pre_RT labels for patient AIDREAM_225\n",
      " ---------- AIDREAM_116  ----- pre_RT  ---------- \n",
      "Adding pre_RT Labels for patient AIDREAM_116 !\n",
      "Path src exists: True\n",
      "Path parent dst exists: True\n",
      "Path dst exists: False\n"
     ]
    },
    {
     "name": "stderr",
     "output_type": "stream",
     "text": [
      " 23%|████████████████████████████████████████▍                                                                                                                                     | 10/43 [00:01<00:06,  5.42it/s]"
     ]
    },
    {
     "name": "stdout",
     "output_type": "stream",
     "text": [
      "Successfully loaded pre_RT labels for patient AIDREAM_116\n",
      " ---------- AIDREAM_224  ----- pre_RT  ---------- \n",
      "Replacing pre_RT Labels for patient AIDREAM_224 !\n",
      "Path src exists: True\n",
      "Path parent dst exists: True\n",
      "Path dst exists: False\n"
     ]
    },
    {
     "name": "stderr",
     "output_type": "stream",
     "text": [
      " 28%|████████████████████████████████████████████████▌                                                                                                                             | 12/43 [00:02<00:05,  5.33it/s]"
     ]
    },
    {
     "name": "stdout",
     "output_type": "stream",
     "text": [
      "Successfully loaded pre_RT labels for patient AIDREAM_224\n",
      " ----------  AIDREAM_12  ----- pre_RT  ---------- \n",
      "Replacing pre_RT Labels for patient AIDREAM_12 !\n",
      "Path src exists: True\n",
      "Path parent dst exists: True\n",
      "Path dst exists: False\n",
      "Successfully loaded pre_RT labels for patient AIDREAM_12\n",
      " ----------  AIDREAM_15  ----- pre_RT  ---------- \n",
      "Adding pre_RT Labels for patient AIDREAM_15 !\n",
      "Path src exists: True\n",
      "Path parent dst exists: True\n",
      "Path dst exists: False\n"
     ]
    },
    {
     "name": "stderr",
     "output_type": "stream",
     "text": [
      " 33%|████████████████████████████████████████████████████████▋                                                                                                                     | 14/43 [00:02<00:03,  7.48it/s]"
     ]
    },
    {
     "name": "stdout",
     "output_type": "stream",
     "text": [
      "Successfully loaded pre_RT labels for patient AIDREAM_15\n",
      " ----------  AIDREAM_1   ----- pre_RT  ---------- \n",
      "Replacing pre_RT Labels for patient AIDREAM_1 !\n",
      "Path src exists: True\n",
      "Path parent dst exists: True\n",
      "Path dst exists: False\n",
      "Successfully loaded pre_RT labels for patient AIDREAM_1\n",
      " ---------- AIDREAM_242  ----- pre_RT  ---------- \n",
      "Replacing pre_RT Labels for patient AIDREAM_242 !\n",
      "Path src exists: True\n",
      "Path parent dst exists: True\n",
      "Path dst exists: False\n"
     ]
    },
    {
     "name": "stderr",
     "output_type": "stream",
     "text": [
      " 37%|████████████████████████████████████████████████████████████████▋                                                                                                             | 16/43 [00:02<00:04,  6.45it/s]"
     ]
    },
    {
     "name": "stdout",
     "output_type": "stream",
     "text": [
      "Successfully loaded pre_RT labels for patient AIDREAM_242\n",
      " ---------- AIDREAM_102  ----- pre_RT  ---------- \n",
      "Adding pre_RT Labels for patient AIDREAM_102 !\n",
      "Path src exists: True\n",
      "Path parent dst exists: True\n",
      "Path dst exists: False\n",
      "Successfully loaded pre_RT labels for patient AIDREAM_102\n",
      " ---------- AIDREAM_122  ----- pre_RT  ---------- \n",
      "Replacing pre_RT Labels for patient AIDREAM_122 !\n",
      "Path src exists: True\n",
      "Path parent dst exists: True\n",
      "Path dst exists: False\n"
     ]
    },
    {
     "name": "stderr",
     "output_type": "stream",
     "text": [
      " 42%|████████████████████████████████████████████████████████████████████████▊                                                                                                     | 18/43 [00:02<00:02,  8.56it/s]"
     ]
    },
    {
     "name": "stdout",
     "output_type": "stream",
     "text": [
      "Successfully loaded pre_RT labels for patient AIDREAM_122\n",
      " ----------  AIDREAM_14  ----- pre_RT  ---------- \n",
      "Replacing pre_RT Labels for patient AIDREAM_14 !\n",
      "Path src exists: True\n",
      "Path parent dst exists: True\n",
      "Path dst exists: False\n",
      "Successfully loaded pre_RT labels for patient AIDREAM_14\n",
      " ---------- AIDREAM_140  ----- pre_RT  ---------- \n",
      "Replacing pre_RT Labels for patient AIDREAM_140 !\n",
      "Path src exists: True\n",
      "Path parent dst exists: True\n",
      "Path dst exists: False\n"
     ]
    },
    {
     "name": "stderr",
     "output_type": "stream",
     "text": [
      " 44%|████████████████████████████████████████████████████████████████████████████▉                                                                                                 | 19/43 [00:02<00:03,  7.91it/s]"
     ]
    },
    {
     "name": "stdout",
     "output_type": "stream",
     "text": [
      "Successfully loaded pre_RT labels for patient AIDREAM_140\n",
      " ---------- AIDREAM_250  ----- pre_RT  ---------- \n",
      "Replacing pre_RT Labels for patient AIDREAM_250 !\n",
      "Path src exists: True\n",
      "Path parent dst exists: True\n",
      "Path dst exists: False\n"
     ]
    },
    {
     "name": "stderr",
     "output_type": "stream",
     "text": [
      " 47%|████████████████████████████████████████████████████████████████████████████████▉                                                                                             | 20/43 [00:03<00:05,  4.52it/s]"
     ]
    },
    {
     "name": "stdout",
     "output_type": "stream",
     "text": [
      "Successfully loaded pre_RT labels for patient AIDREAM_250\n",
      " ----------  AIDREAM_24  ----- pre_RT  ---------- \n",
      "Replacing pre_RT Labels for patient AIDREAM_24 !\n",
      "Path src exists: True\n",
      "Path parent dst exists: True\n",
      "Path dst exists: False\n"
     ]
    },
    {
     "name": "stderr",
     "output_type": "stream",
     "text": [
      " 51%|█████████████████████████████████████████████████████████████████████████████████████████                                                                                     | 22/43 [00:03<00:04,  5.08it/s]"
     ]
    },
    {
     "name": "stdout",
     "output_type": "stream",
     "text": [
      "Successfully loaded pre_RT labels for patient AIDREAM_24\n",
      " ----------  AIDREAM_66  ----- pre_RT  ---------- \n",
      "Replacing pre_RT Labels for patient AIDREAM_66 !\n",
      "Path src exists: True\n",
      "Path parent dst exists: True\n",
      "Path dst exists: False\n",
      "Successfully loaded pre_RT labels for patient AIDREAM_66\n",
      " ---------- AIDREAM_203  ----- pre_RT  ---------- \n",
      "Replacing pre_RT Labels for patient AIDREAM_203 !\n",
      "Path src exists: True\n",
      "Path parent dst exists: True\n",
      "Path dst exists: False\n"
     ]
    },
    {
     "name": "stderr",
     "output_type": "stream",
     "text": [
      " 56%|█████████████████████████████████████████████████████████████████████████████████████████████████                                                                             | 24/43 [00:04<00:04,  4.39it/s]"
     ]
    },
    {
     "name": "stdout",
     "output_type": "stream",
     "text": [
      "Successfully loaded pre_RT labels for patient AIDREAM_203\n",
      " ---------- AIDREAM_151  ----- pre_RT  ---------- \n",
      "Replacing pre_RT Labels for patient AIDREAM_151 !\n",
      "Path src exists: True\n",
      "Path parent dst exists: True\n",
      "Path dst exists: False\n",
      "Successfully loaded pre_RT labels for patient AIDREAM_151\n",
      " ---------- AIDREAM_109  ----- pre_RT  ---------- \n",
      "Replacing pre_RT Labels for patient AIDREAM_109 !\n",
      "Path src exists: True\n",
      "Path parent dst exists: True\n",
      "Path dst exists: False\n"
     ]
    },
    {
     "name": "stderr",
     "output_type": "stream",
     "text": [
      " 58%|█████████████████████████████████████████████████████████████████████████████████████████████████████▏                                                                        | 25/43 [00:04<00:04,  4.50it/s]"
     ]
    },
    {
     "name": "stdout",
     "output_type": "stream",
     "text": [
      "Successfully loaded pre_RT labels for patient AIDREAM_109\n",
      " ---------- AIDREAM_132  ----- pre_RT  ---------- \n",
      "Replacing pre_RT Labels for patient AIDREAM_132 !\n",
      "Path src exists: True\n",
      "Path parent dst exists: True\n",
      "Path dst exists: False\n",
      "Successfully loaded pre_RT labels for patient AIDREAM_132\n",
      " ---------- AIDREAM_229  ----- pre_RT  ---------- \n",
      "Replacing pre_RT Labels for patient AIDREAM_229 !\n",
      "Path src exists: True\n",
      "Path parent dst exists: True\n",
      "Path dst exists: False\n"
     ]
    },
    {
     "name": "stderr",
     "output_type": "stream",
     "text": [
      " 67%|█████████████████████████████████████████████████████████████████████████████████████████████████████████████████████▎                                                        | 29/43 [00:04<00:01,  7.39it/s]"
     ]
    },
    {
     "name": "stdout",
     "output_type": "stream",
     "text": [
      "Successfully loaded pre_RT labels for patient AIDREAM_229\n",
      " ---------- AIDREAM_104  ----- pre_RT  ---------- \n",
      "Replacing pre_RT Labels for patient AIDREAM_104 !\n",
      "Path src exists: True\n",
      "Path parent dst exists: True\n",
      "Path dst exists: False\n",
      "Successfully loaded pre_RT labels for patient AIDREAM_104\n",
      " ---------- AIDREAM_235  ----- pre_RT  ---------- \n",
      "Replacing pre_RT Labels for patient AIDREAM_235 !\n",
      "Path src exists: True\n",
      "Path parent dst exists: True\n",
      "Path dst exists: False\n",
      "Successfully loaded pre_RT labels for patient AIDREAM_235\n",
      " ---------- AIDREAM_240  ----- pre_RT  ---------- \n",
      "Replacing pre_RT Labels for patient AIDREAM_240 !\n",
      "Path src exists: True\n",
      "Path parent dst exists: True\n",
      "Path dst exists: False\n"
     ]
    },
    {
     "name": "stderr",
     "output_type": "stream",
     "text": [
      " 72%|█████████████████████████████████████████████████████████████████████████████████████████████████████████████████████████████▍                                                | 31/43 [00:05<00:02,  5.62it/s]"
     ]
    },
    {
     "name": "stdout",
     "output_type": "stream",
     "text": [
      "Successfully loaded pre_RT labels for patient AIDREAM_240\n",
      " ----------  AIDREAM_11  ----- pre_RT  ---------- \n",
      "Replacing pre_RT Labels for patient AIDREAM_11 !\n",
      "Path src exists: True\n",
      "Path parent dst exists: True\n",
      "Path dst exists: False\n",
      "Successfully loaded pre_RT labels for patient AIDREAM_11\n",
      " ----------  AIDREAM_13  ----- pre_RT  ---------- \n",
      "Replacing pre_RT Labels for patient AIDREAM_13 !\n",
      "Path src exists: True\n",
      "Path parent dst exists: True\n",
      "Path dst exists: False\n"
     ]
    },
    {
     "name": "stderr",
     "output_type": "stream",
     "text": [
      " 79%|█████████████████████████████████████████████████████████████████████████████████████████████████████████████████████████████████████████▌                                    | 34/43 [00:05<00:01,  7.45it/s]"
     ]
    },
    {
     "name": "stdout",
     "output_type": "stream",
     "text": [
      "Successfully loaded pre_RT labels for patient AIDREAM_13\n",
      " ---------- AIDREAM_124  ----- pre_RT  ---------- \n",
      "Replacing pre_RT Labels for patient AIDREAM_124 !\n",
      "Path src exists: True\n",
      "Path parent dst exists: True\n",
      "Path dst exists: False\n",
      "Successfully loaded pre_RT labels for patient AIDREAM_124\n",
      " ---------- AIDREAM_117  ----- pre_RT  ---------- \n",
      "Replacing pre_RT Labels for patient AIDREAM_117 !\n",
      "Path src exists: True\n",
      "Path parent dst exists: True\n",
      "Path dst exists: False\n",
      "Successfully loaded pre_RT labels for patient AIDREAM_117\n",
      " ---------- AIDREAM_231  ----- pre_RT  ---------- \n",
      "Replacing pre_RT Labels for patient AIDREAM_231 !\n",
      "Path src exists: True\n",
      "Path parent dst exists: True\n",
      "Path dst exists: False\n"
     ]
    },
    {
     "name": "stderr",
     "output_type": "stream",
     "text": [
      " 86%|█████████████████████████████████████████████████████████████████████████████████████████████████████████████████████████████████████████████████████▋                        | 37/43 [00:06<00:00,  7.10it/s]"
     ]
    },
    {
     "name": "stdout",
     "output_type": "stream",
     "text": [
      "Successfully loaded pre_RT labels for patient AIDREAM_231\n",
      " ---------- AIDREAM_154  ----- pre_RT  ---------- \n",
      "Replacing pre_RT Labels for patient AIDREAM_154 !\n",
      "Path src exists: True\n",
      "Path parent dst exists: True\n",
      "Path dst exists: False\n",
      "Successfully loaded pre_RT labels for patient AIDREAM_154\n",
      " ---------- AIDREAM_101  ----- pre_RT  ---------- \n",
      "Replacing pre_RT Labels for patient AIDREAM_101 !\n",
      "Path src exists: True\n",
      "Path parent dst exists: True\n",
      "Path dst exists: False\n",
      "Successfully loaded pre_RT labels for patient AIDREAM_101\n",
      " ---------- AIDREAM_120  ----- pre_RT  ---------- \n",
      "Replacing pre_RT Labels for patient AIDREAM_120 !\n",
      "Path src exists: True\n",
      "Path parent dst exists: True\n",
      "Path dst exists: False\n"
     ]
    },
    {
     "name": "stderr",
     "output_type": "stream",
     "text": [
      " 93%|█████████████████████████████████████████████████████████████████████████████████████████████████████████████████████████████████████████████████████████████████▊            | 40/43 [00:06<00:00,  7.55it/s]"
     ]
    },
    {
     "name": "stdout",
     "output_type": "stream",
     "text": [
      "Successfully loaded pre_RT labels for patient AIDREAM_120\n",
      " ---------- AIDREAM_121  ----- pre_RT  ---------- \n",
      "Replacing pre_RT Labels for patient AIDREAM_121 !\n",
      "Path src exists: True\n",
      "Path parent dst exists: True\n",
      "Path dst exists: False\n",
      "Successfully loaded pre_RT labels for patient AIDREAM_121\n",
      " ----------  AIDREAM_10  ----- pre_RT  ---------- \n",
      "Adding pre_RT Labels for patient AIDREAM_10 !\n",
      "Path src exists: True\n",
      "Path parent dst exists: True\n",
      "Path dst exists: False\n",
      "Successfully loaded pre_RT labels for patient AIDREAM_10\n",
      " ---------- AIDREAM_232  ----- pre_RT  ---------- \n",
      "Replacing pre_RT Labels for patient AIDREAM_232 !\n",
      "Path src exists: True\n",
      "Path parent dst exists: True\n",
      "Path dst exists: False\n"
     ]
    },
    {
     "name": "stderr",
     "output_type": "stream",
     "text": [
      " 98%|█████████████████████████████████████████████████████████████████████████████████████████████████████████████████████████████████████████████████████████████████████████▉    | 42/43 [00:07<00:00,  6.71it/s]"
     ]
    },
    {
     "name": "stdout",
     "output_type": "stream",
     "text": [
      "Successfully loaded pre_RT labels for patient AIDREAM_232\n",
      " ----------  AIDREAM_25  ----- pre_RT  ---------- \n",
      "Replacing pre_RT Labels for patient AIDREAM_25 !\n",
      "Path src exists: True\n",
      "Path parent dst exists: True\n",
      "Path dst exists: False\n",
      "Successfully loaded pre_RT labels for patient AIDREAM_25\n",
      " ---------- AIDREAM_115  ----- pre_RT  ---------- \n",
      "Replacing pre_RT Labels for patient AIDREAM_115 !\n",
      "Path src exists: True\n",
      "Path parent dst exists: True\n",
      "Path dst exists: False\n"
     ]
    },
    {
     "name": "stderr",
     "output_type": "stream",
     "text": [
      "100%|██████████████████████████████████████████████████████████████████████████████████████████████████████████████████████████████████████████████████████████████████████████████| 43/43 [00:07<00:00,  5.91it/s]\n"
     ]
    },
    {
     "name": "stdout",
     "output_type": "stream",
     "text": [
      "Successfully loaded pre_RT labels for patient AIDREAM_115\n"
     ]
    },
    {
     "name": "stderr",
     "output_type": "stream",
     "text": [
      "  0%|                                                                                                                                                                                       | 0/37 [00:00<?, ?it/s]"
     ]
    },
    {
     "name": "stdout",
     "output_type": "stream",
     "text": [
      " ---------- AIDREAM_114  ----- Rechute ---------- \n",
      "Replacing Rechute Labels for patient AIDREAM_114 !\n",
      "Path src exists: True\n",
      "Path parent dst exists: True\n",
      "Path dst exists: False\n"
     ]
    },
    {
     "name": "stderr",
     "output_type": "stream",
     "text": [
      "  3%|████▋                                                                                                                                                                          | 1/37 [00:00<00:08,  4.22it/s]"
     ]
    },
    {
     "name": "stdout",
     "output_type": "stream",
     "text": [
      "Successfully loaded Rechute labels for patient AIDREAM_114\n",
      " ---------- AIDREAM_126  ----- Rechute ---------- \n",
      "Replacing Rechute Labels for patient AIDREAM_126 !\n",
      "Path src exists: True\n",
      "Path parent dst exists: True\n",
      "Path dst exists: False\n"
     ]
    },
    {
     "name": "stderr",
     "output_type": "stream",
     "text": [
      "  5%|█████████▍                                                                                                                                                                     | 2/37 [00:00<00:10,  3.30it/s]"
     ]
    },
    {
     "name": "stdout",
     "output_type": "stream",
     "text": [
      "Successfully loaded Rechute labels for patient AIDREAM_126\n",
      " ---------- AIDREAM_238  ----- Rechute ---------- \n",
      "Replacing Rechute Labels for patient AIDREAM_238 !\n",
      "Path src exists: True\n",
      "Path parent dst exists: True\n",
      "Path dst exists: False\n"
     ]
    },
    {
     "name": "stderr",
     "output_type": "stream",
     "text": [
      "  8%|██████████████▏                                                                                                                                                                | 3/37 [00:00<00:09,  3.57it/s]"
     ]
    },
    {
     "name": "stdout",
     "output_type": "stream",
     "text": [
      "Successfully loaded Rechute labels for patient AIDREAM_238\n",
      " ---------- AIDREAM_130  ----- Rechute ---------- \n",
      "Replacing Rechute Labels for patient AIDREAM_130 !\n",
      "Path src exists: True\n",
      "Path parent dst exists: True\n",
      "Path dst exists: False\n"
     ]
    },
    {
     "name": "stderr",
     "output_type": "stream",
     "text": [
      " 11%|██████████████████▉                                                                                                                                                            | 4/37 [00:01<00:11,  2.96it/s]"
     ]
    },
    {
     "name": "stdout",
     "output_type": "stream",
     "text": [
      "Successfully loaded Rechute labels for patient AIDREAM_130\n",
      " ---------- AIDREAM_113  ----- Rechute ---------- \n",
      "Replacing Rechute Labels for patient AIDREAM_113 !\n",
      "Path src exists: True\n",
      "Path parent dst exists: True\n",
      "Path dst exists: False\n"
     ]
    },
    {
     "name": "stderr",
     "output_type": "stream",
     "text": [
      " 14%|███████████████████████▋                                                                                                                                                       | 5/37 [00:01<00:09,  3.25it/s]"
     ]
    },
    {
     "name": "stdout",
     "output_type": "stream",
     "text": [
      "Successfully loaded Rechute labels for patient AIDREAM_113\n",
      " ----------  AIDREAM_21  ----- Rechute ---------- \n",
      "Replacing Rechute Labels for patient AIDREAM_21 !\n",
      "Path src exists: True\n",
      "Path parent dst exists: True\n",
      "Path dst exists: False\n"
     ]
    },
    {
     "name": "stderr",
     "output_type": "stream",
     "text": [
      " 16%|████████████████████████████▍                                                                                                                                                  | 6/37 [00:01<00:09,  3.16it/s]"
     ]
    },
    {
     "name": "stdout",
     "output_type": "stream",
     "text": [
      "Successfully loaded Rechute labels for patient AIDREAM_21\n",
      " ---------- AIDREAM_244  ----- Rechute ---------- \n",
      "Replacing Rechute Labels for patient AIDREAM_244 !\n",
      "Path src exists: True\n",
      "Path parent dst exists: True\n",
      "Path dst exists: False\n"
     ]
    },
    {
     "name": "stderr",
     "output_type": "stream",
     "text": [
      " 22%|█████████████████████████████████████▊                                                                                                                                         | 8/37 [00:02<00:06,  4.25it/s]"
     ]
    },
    {
     "name": "stdout",
     "output_type": "stream",
     "text": [
      "Successfully loaded Rechute labels for patient AIDREAM_244\n",
      " ---------- AIDREAM_225  ----- Rechute ---------- \n",
      "Replacing Rechute Labels for patient AIDREAM_225 !\n",
      "Path src exists: True\n",
      "Path parent dst exists: True\n",
      "Path dst exists: False\n",
      "Successfully loaded Rechute labels for patient AIDREAM_225\n",
      " ---------- AIDREAM_224  ----- Rechute ---------- \n",
      "Replacing Rechute Labels for patient AIDREAM_224 !\n",
      "Path src exists: True\n",
      "Path parent dst exists: True\n",
      "Path dst exists: False\n"
     ]
    },
    {
     "name": "stderr",
     "output_type": "stream",
     "text": [
      " 24%|██████████████████████████████████████████▌                                                                                                                                    | 9/37 [00:02<00:06,  4.65it/s]"
     ]
    },
    {
     "name": "stdout",
     "output_type": "stream",
     "text": [
      "Successfully loaded Rechute labels for patient AIDREAM_224\n",
      " ---------- AIDREAM_136  ----- Rechute ---------- \n",
      "Replacing Rechute Labels for patient AIDREAM_136 !\n",
      "Path src exists: True\n",
      "Path parent dst exists: True\n",
      "Path dst exists: False\n"
     ]
    },
    {
     "name": "stderr",
     "output_type": "stream",
     "text": [
      " 27%|███████████████████████████████████████████████                                                                                                                               | 10/37 [00:02<00:07,  3.64it/s]"
     ]
    },
    {
     "name": "stdout",
     "output_type": "stream",
     "text": [
      "Successfully loaded Rechute labels for patient AIDREAM_136\n",
      " ----------  AIDREAM_1   ----- Rechute ---------- \n",
      "Replacing Rechute Labels for patient AIDREAM_1 !\n",
      "Path src exists: True\n",
      "Path parent dst exists: True\n",
      "Path dst exists: False\n"
     ]
    },
    {
     "name": "stderr",
     "output_type": "stream",
     "text": [
      " 30%|███████████████████████████████████████████████████▋                                                                                                                          | 11/37 [00:03<00:06,  3.82it/s]"
     ]
    },
    {
     "name": "stdout",
     "output_type": "stream",
     "text": [
      "Successfully loaded Rechute labels for patient AIDREAM_1\n",
      " ----------  AIDREAM_2   ----- Rechute ---------- \n",
      "Replacing Rechute Labels for patient AIDREAM_2 !\n",
      "Path src exists: True\n",
      "Path parent dst exists: True\n",
      "Path dst exists: False\n",
      "Successfully loaded Rechute labels for patient AIDREAM_2\n",
      " ---------- AIDREAM_142  ----- Rechute ---------- \n",
      "Conflicling Labels DICOM files ! \n",
      " ---------- AIDREAM_242  ----- Rechute ---------- \n",
      "Replacing Rechute Labels for patient AIDREAM_242 !\n",
      "Path src exists: True\n",
      "Path parent dst exists: True\n",
      "Path dst exists: False\n"
     ]
    },
    {
     "name": "stderr",
     "output_type": "stream",
     "text": [
      " 41%|██████████████████████████████████████████████████████████████████████▌                                                                                                       | 15/37 [00:03<00:03,  6.11it/s]"
     ]
    },
    {
     "name": "stdout",
     "output_type": "stream",
     "text": [
      "Successfully loaded Rechute labels for patient AIDREAM_242\n",
      " ---------- AIDREAM_102  ----- Rechute ---------- \n",
      "Replacing Rechute Labels for patient AIDREAM_102 !\n",
      "Path src exists: True\n",
      "Path parent dst exists: True\n",
      "Path dst exists: False\n",
      "Successfully loaded Rechute labels for patient AIDREAM_102\n",
      " ---------- AIDREAM_100  ----- Rechute ---------- \n",
      "Replacing Rechute Labels for patient AIDREAM_100 !\n",
      "Path src exists: True\n",
      "Path parent dst exists: True\n",
      "Path dst exists: False\n"
     ]
    },
    {
     "name": "stderr",
     "output_type": "stream",
     "text": [
      " 46%|███████████████████████████████████████████████████████████████████████████████▉                                                                                              | 17/37 [00:03<00:03,  6.32it/s]"
     ]
    },
    {
     "name": "stdout",
     "output_type": "stream",
     "text": [
      "Successfully loaded Rechute labels for patient AIDREAM_100\n",
      " ----------  AIDREAM_17  ----- Rechute ---------- \n",
      "Replacing Rechute Labels for patient AIDREAM_17 !\n",
      "Path src exists: True\n",
      "Path parent dst exists: True\n",
      "Path dst exists: False\n",
      "Successfully loaded Rechute labels for patient AIDREAM_17\n",
      " ----------  AIDREAM_24  ----- Rechute ---------- \n",
      "Replacing Rechute Labels for patient AIDREAM_24 !\n",
      "Path src exists: True\n",
      "Path parent dst exists: True\n",
      "Path dst exists: False\n"
     ]
    },
    {
     "name": "stderr",
     "output_type": "stream",
     "text": [
      " 49%|████████████████████████████████████████████████████████████████████████████████████▋                                                                                         | 18/37 [00:03<00:03,  6.17it/s]"
     ]
    },
    {
     "name": "stdout",
     "output_type": "stream",
     "text": [
      "Successfully loaded Rechute labels for patient AIDREAM_24\n",
      " ---------- AIDREAM_126  ----- Rechute ---------- \n",
      "Replacing Rechute Labels for patient AIDREAM_126 !\n",
      "Path src exists: True\n",
      "Path parent dst exists: True\n",
      "Path dst exists: False\n"
     ]
    },
    {
     "name": "stderr",
     "output_type": "stream",
     "text": [
      " 54%|██████████████████████████████████████████████████████████████████████████████████████████████                                                                                | 20/37 [00:04<00:03,  5.33it/s]"
     ]
    },
    {
     "name": "stdout",
     "output_type": "stream",
     "text": [
      "Successfully loaded Rechute labels for patient AIDREAM_126\n",
      " ---------- AIDREAM_139  ----- Rechute ---------- \n",
      "Replacing Rechute Labels for patient AIDREAM_139 !\n",
      "Path src exists: True\n",
      "Path parent dst exists: True\n",
      "Path dst exists: False\n",
      "Successfully loaded Rechute labels for patient AIDREAM_139\n",
      " ---------- AIDREAM_123  ----- Rechute ---------- \n",
      "Replacing Rechute Labels for patient AIDREAM_123 !\n",
      "Path src exists: True\n",
      "Path parent dst exists: True\n",
      "Path dst exists: False\n"
     ]
    },
    {
     "name": "stderr",
     "output_type": "stream",
     "text": [
      " 57%|██████████████████████████████████████████████████████████████████████████████████████████████████▊                                                                           | 21/37 [00:04<00:02,  6.14it/s]"
     ]
    },
    {
     "name": "stdout",
     "output_type": "stream",
     "text": [
      "Successfully loaded Rechute labels for patient AIDREAM_123\n",
      " ---------- AIDREAM_109  ----- Rechute ---------- \n",
      "Replacing Rechute Labels for patient AIDREAM_109 !\n",
      "Path src exists: True\n",
      "Path parent dst exists: True\n",
      "Path dst exists: False\n"
     ]
    },
    {
     "name": "stderr",
     "output_type": "stream",
     "text": [
      " 62%|████████████████████████████████████████████████████████████████████████████████████████████████████████████▏                                                                 | 23/37 [00:04<00:02,  6.16it/s]"
     ]
    },
    {
     "name": "stdout",
     "output_type": "stream",
     "text": [
      "Successfully loaded Rechute labels for patient AIDREAM_109\n",
      " ---------- AIDREAM_132  ----- Rechute ---------- \n",
      "Replacing Rechute Labels for patient AIDREAM_132 !\n",
      "Path src exists: True\n",
      "Path parent dst exists: True\n",
      "Path dst exists: False\n",
      "Successfully loaded Rechute labels for patient AIDREAM_132\n",
      " ---------- AIDREAM_110  ----- Rechute ---------- \n",
      "Replacing Rechute Labels for patient AIDREAM_110 !\n",
      "Path src exists: True\n",
      "Path parent dst exists: True\n",
      "Path dst exists: False\n"
     ]
    },
    {
     "name": "stderr",
     "output_type": "stream",
     "text": [
      " 65%|████████████████████████████████████████████████████████████████████████████████████████████████████████████████▊                                                             | 24/37 [00:04<00:02,  5.94it/s]"
     ]
    },
    {
     "name": "stdout",
     "output_type": "stream",
     "text": [
      "Successfully loaded Rechute labels for patient AIDREAM_110\n",
      " ---------- AIDREAM_104  ----- Rechute ---------- \n",
      "Replacing Rechute Labels for patient AIDREAM_104 !\n",
      "Path src exists: True\n",
      "Path parent dst exists: True\n",
      "Path dst exists: False\n"
     ]
    },
    {
     "name": "stderr",
     "output_type": "stream",
     "text": [
      " 73%|██████████████████████████████████████████████████████████████████████████████████████████████████████████████████████████████▉                                               | 27/37 [00:05<00:01,  7.45it/s]"
     ]
    },
    {
     "name": "stdout",
     "output_type": "stream",
     "text": [
      "Successfully loaded Rechute labels for patient AIDREAM_104\n",
      " ---------- AIDREAM_147  ----- Rechute ---------- \n",
      "Replacing Rechute Labels for patient AIDREAM_147 !\n",
      "Path src exists: True\n",
      "Path parent dst exists: True\n",
      "Path dst exists: False\n",
      "Successfully loaded Rechute labels for patient AIDREAM_147\n",
      " ---------- AIDREAM_235  ----- Rechute ---------- \n",
      "Replacing Rechute Labels for patient AIDREAM_235 !\n",
      "Path src exists: True\n",
      "Path parent dst exists: True\n",
      "Path dst exists: False\n",
      "Successfully loaded Rechute labels for patient AIDREAM_235\n",
      " ---------- AIDREAM_124  ----- Rechute ---------- \n",
      "Replacing Rechute Labels for patient AIDREAM_124 !\n",
      "Path src exists: True\n",
      "Path parent dst exists: True\n",
      "Path dst exists: False\n"
     ]
    },
    {
     "name": "stderr",
     "output_type": "stream",
     "text": [
      " 76%|███████████████████████████████████████████████████████████████████████████████████████████████████████████████████████████████████▋                                          | 28/37 [00:05<00:01,  6.75it/s]"
     ]
    },
    {
     "name": "stdout",
     "output_type": "stream",
     "text": [
      "Successfully loaded Rechute labels for patient AIDREAM_124\n",
      " ---------- AIDREAM_117  ----- Rechute ---------- \n",
      "Replacing Rechute Labels for patient AIDREAM_117 !\n",
      "Path src exists: True\n",
      "Path parent dst exists: True\n",
      "Path dst exists: False\n"
     ]
    },
    {
     "name": "stderr",
     "output_type": "stream",
     "text": [
      " 81%|█████████████████████████████████████████████████████████████████████████████████████████████████████████████████████████████████████████████                                 | 30/37 [00:05<00:01,  6.71it/s]"
     ]
    },
    {
     "name": "stdout",
     "output_type": "stream",
     "text": [
      "Successfully loaded Rechute labels for patient AIDREAM_117\n",
      " ---------- AIDREAM_106  ----- Rechute ---------- \n",
      "Replacing Rechute Labels for patient AIDREAM_106 !\n",
      "Path src exists: True\n",
      "Path parent dst exists: True\n",
      "Path dst exists: False\n",
      "Successfully loaded Rechute labels for patient AIDREAM_106\n",
      " ---------- AIDREAM_231  ----- Rechute ---------- \n",
      "Replacing Rechute Labels for patient AIDREAM_231 !\n",
      "Path src exists: True\n",
      "Path parent dst exists: True\n",
      "Path dst exists: False\n"
     ]
    },
    {
     "name": "stderr",
     "output_type": "stream",
     "text": [
      " 84%|█████████████████████████████████████████████████████████████████████████████████████████████████████████████████████████████████████████████████▊                            | 31/37 [00:06<00:01,  5.78it/s]"
     ]
    },
    {
     "name": "stdout",
     "output_type": "stream",
     "text": [
      "Successfully loaded Rechute labels for patient AIDREAM_231\n",
      " ---------- AIDREAM_101  ----- Rechute ---------- \n",
      "Conflicling Labels DICOM files ! \n",
      " ---------- AIDREAM_118  ----- Rechute ---------- \n",
      "Replacing Rechute Labels for patient AIDREAM_118 !\n",
      "Path src exists: True\n",
      "Path parent dst exists: True\n",
      "Path dst exists: False\n"
     ]
    },
    {
     "name": "stderr",
     "output_type": "stream",
     "text": [
      " 89%|███████████████████████████████████████████████████████████████████████████████████████████████████████████████████████████████████████████████████████████▏                  | 33/37 [00:06<00:00,  6.84it/s]"
     ]
    },
    {
     "name": "stdout",
     "output_type": "stream",
     "text": [
      "Successfully loaded Rechute labels for patient AIDREAM_118\n",
      " ---------- AIDREAM_129  ----- Rechute ---------- \n",
      "Replacing Rechute Labels for patient AIDREAM_129 !\n",
      "Path src exists: True\n",
      "Path parent dst exists: True\n",
      "Path dst exists: False\n",
      "Successfully loaded Rechute labels for patient AIDREAM_129\n",
      " ---------- AIDREAM_120  ----- Rechute ---------- \n",
      "Replacing Rechute Labels for patient AIDREAM_120 !\n",
      "Path src exists: True\n",
      "Path parent dst exists: True\n",
      "Path dst exists: False\n"
     ]
    },
    {
     "name": "stderr",
     "output_type": "stream",
     "text": [
      " 95%|████████████████████████████████████████████████████████████████████████████████████████████████████████████████████████████████████████████████████████████████████▌         | 35/37 [00:06<00:00,  6.43it/s]"
     ]
    },
    {
     "name": "stdout",
     "output_type": "stream",
     "text": [
      "Successfully loaded Rechute labels for patient AIDREAM_120\n",
      " ---------- AIDREAM_232  ----- Rechute ---------- \n",
      "Replacing Rechute Labels for patient AIDREAM_232 !\n",
      "Path src exists: True\n",
      "Path parent dst exists: True\n",
      "Path dst exists: False\n",
      "Successfully loaded Rechute labels for patient AIDREAM_232\n",
      " ---------- AIDREAM_115  ----- Rechute ---------- \n",
      "Replacing Rechute Labels for patient AIDREAM_115 !\n",
      "Path src exists: True\n",
      "Path parent dst exists: True\n",
      "Path dst exists: False\n"
     ]
    },
    {
     "name": "stderr",
     "output_type": "stream",
     "text": [
      "100%|██████████████████████████████████████████████████████████████████████████████████████████████████████████████████████████████████████████████████████████████████████████████| 37/37 [00:06<00:00,  5.29it/s]"
     ]
    },
    {
     "name": "stdout",
     "output_type": "stream",
     "text": [
      "Successfully loaded Rechute labels for patient AIDREAM_115\n"
     ]
    },
    {
     "name": "stderr",
     "output_type": "stream",
     "text": [
      "\n"
     ]
    }
   ],
   "source": [
    "for stage in ['pre_RT', 'Rechute']:\n",
    "\n",
    "    dir_src_labels = new_labels_src_dirs[stage]\n",
    "    \n",
    "    for folder in tqdm(os.listdir(dir_src_labels)):\n",
    "\n",
    "        try:\n",
    "            patient = folder.split(\"__\")[-1]\n",
    "            print(fr\" ---------- {patient:^12} ----- {stage:^7} ---------- \")\n",
    "    \n",
    "            dir_src = dir_src_labels / folder\n",
    "    \n",
    "            list_labels = list(dir_src.glob(\"*.dcm\"))\n",
    "            \n",
    "            if len(list_labels) != 1:\n",
    "                print(fr\"Conflicling Labels DICOM files ! \")\n",
    "                \n",
    "            else:\n",
    "                path_src = list_labels[0]\n",
    "                \n",
    "                dir_dst = dir_aidream_data / patient / stage / 'Labels'\n",
    "    \n",
    "                if dir_dst.exists():\n",
    "                    print(fr\"Replacing {stage} Labels for patient {patient} !\")\n",
    "                    shutil.rmtree(dir_dst)\n",
    "    \n",
    "                else:\n",
    "                    print(fr\"Adding {stage} Labels for patient {patient} !\")\n",
    "                    \n",
    "                dir_dst.mkdir(exist_ok=True, parents=True)\n",
    "                path_dst = dir_dst / path_src.name\n",
    "                \n",
    "                print(fr\"Path src exists: {path_src.exists()}\")\n",
    "                print(fr\"Path parent dst exists: {path_dst.parent.exists()}\")\n",
    "                print(fr\"Path dst exists: {path_dst.exists()}\")\n",
    "\n",
    "                shutil.copyfile(src=path_src, dst=path_dst)\n",
    "                print(fr\"Successfully loaded {stage} labels for patient {patient}\")\n",
    "\n",
    "        except Exception as e:\n",
    "            print(e)\n",
    "            print(fr'Failed to load {stage} Labels for patient {patient} !')\n",
    "\n",
    "    "
   ]
  },
  {
   "cell_type": "code",
   "execution_count": 23,
   "id": "cf37569d-0d75-4e92-b736-9178fbe599b8",
   "metadata": {
    "scrolled": true
   },
   "outputs": [
    {
     "name": "stderr",
     "output_type": "stream",
     "text": [
      "100%|█████████████████████████████████████████████████████████████████████████████████████████████████████████████████████████████████████████████████████████████████████████| 234/234 [00:00<00:00, 51637.14it/s]\n"
     ]
    }
   ],
   "source": [
    "for patient in tqdm(list_patients):\n",
    "    for stage in ['pre_RT', 'Rechute']:\n",
    "\n",
    "        dir_labels = dir_aidream_data / patient / stage / 'Labels'\n",
    "\n",
    "        if len(list(dir_labels.glob(\"*.dcm\"))) == 1:\n",
    "            patients_with_labels[stage].add(patient)    \n",
    "        else:\n",
    "            remaining_patients[stage].add(patient)\n",
    "        "
   ]
  },
  {
   "cell_type": "code",
   "execution_count": 24,
   "id": "edeec40d-1931-40f7-9536-703db0a50146",
   "metadata": {},
   "outputs": [
    {
     "name": "stdout",
     "output_type": "stream",
     "text": [
      "Number of patients with full pre_RT imaging : 184\n",
      "Number of patients with full Rechute imaging : 143\n"
     ]
    }
   ],
   "source": [
    "print(fr\"Number of patients with full pre_RT imaging : {len(patients_with_labels['pre_RT'])}\")\n",
    "print(fr\"Number of patients with full Rechute imaging : {len(patients_with_labels['Rechute'])}\")\n"
   ]
  },
  {
   "cell_type": "code",
   "execution_count": 28,
   "id": "aaebc558-19a0-4e84-b2a4-495b458c9a94",
   "metadata": {},
   "outputs": [
    {
     "name": "stdout",
     "output_type": "stream",
     "text": [
      "Number of interim patients : 107\n",
      "Number of interim patients with full pre_RT imaging : 107\n",
      "Number of interim patients with full Rechute imaging : 107\n"
     ]
    }
   ],
   "source": [
    "print(fr\"Number of interim patients : {len(list_patients_interim)}\")\n",
    "\n",
    "print(fr\"Number of interim patients with full pre_RT imaging : {len(set(list_patients_interim).intersection(patients_with_labels['pre_RT']))}\")\n",
    "\n",
    "print(fr\"Number of interim patients with full Rechute imaging : {len(set(list_patients_interim).intersection(patients_with_labels['Rechute']))}\")\n"
   ]
  },
  {
   "cell_type": "code",
   "execution_count": null,
   "id": "d4019372-2582-46b4-8ca3-e77dc9c22413",
   "metadata": {},
   "outputs": [],
   "source": []
  }
 ],
 "metadata": {
  "kernelspec": {
   "display_name": "Python 3 (ipykernel)",
   "language": "python",
   "name": "python3"
  },
  "language_info": {
   "codemirror_mode": {
    "name": "ipython",
    "version": 3
   },
   "file_extension": ".py",
   "mimetype": "text/x-python",
   "name": "python",
   "nbconvert_exporter": "python",
   "pygments_lexer": "ipython3",
   "version": "3.11.9"
  }
 },
 "nbformat": 4,
 "nbformat_minor": 5
}
