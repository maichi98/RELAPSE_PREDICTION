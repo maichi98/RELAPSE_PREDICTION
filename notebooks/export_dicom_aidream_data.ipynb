{
 "cells": [
  {
   "cell_type": "code",
   "execution_count": 45,
   "id": "e0ad323d-f8ff-49f8-af24-65ef6a1d5035",
   "metadata": {},
   "outputs": [],
   "source": [
    "from aidream_data.core import AidreamDatabase\n",
    "from aidream_data import constants\n",
    "\n",
    "from pathlib import Path\n",
    "from tqdm import tqdm\n",
    "import pandas as pd\n",
    "import numpy as np\n",
    "import shutil\n",
    "import os\n"
   ]
  },
  {
   "cell_type": "markdown",
   "id": "458acb09-d6f5-4e96-9ad2-19f21d42603a",
   "metadata": {},
   "source": [
    "# 0. Load Aidream_database, list of perfusion patients : "
   ]
  },
  {
   "cell_type": "code",
   "execution_count": 46,
   "id": "2937d2f8-d6f2-4eb5-b197-aa45b56b2143",
   "metadata": {},
   "outputs": [],
   "source": [
    "# Load the AIDREAM Database : \n",
    "aidream_db = AidreamDatabase()\n",
    "aidream_db.connect()\n"
   ]
  },
  {
   "cell_type": "code",
   "execution_count": 47,
   "id": "cd27ce63-1040-4c06-910d-40e35087ad59",
   "metadata": {},
   "outputs": [],
   "source": [
    "# Load the perfusion patients list : \n",
    "with open(\"list_patients.txt\", 'r') as f:\n",
    "    list_patients = f.readlines()\n",
    "\n",
    "list_patients = [p.strip('\\n') for p in list_patients]\n",
    "    "
   ]
  },
  {
   "cell_type": "code",
   "execution_count": 48,
   "id": "db8a5fcc-4b07-4d0c-8059-e9df805233db",
   "metadata": {},
   "outputs": [],
   "source": [
    "def sort_name_list(list_patients):\n",
    "\n",
    "    sorted_list = [list_patients[i] for i in np.argsort([int(p.strip(\"AIDREAM_\")) for p in list_patients])]\n",
    "    return sorted_list\n",
    "    "
   ]
  },
  {
   "cell_type": "markdown",
   "id": "91628a1d-36b2-4771-80b6-207142258a49",
   "metadata": {},
   "source": [
    "# 1. Load MRI DICOM data, for the native ref : "
   ]
  },
  {
   "cell_type": "code",
   "execution_count": 10,
   "id": "3ef75ae2-95c9-4ea0-87b9-995da3315262",
   "metadata": {},
   "outputs": [],
   "source": [
    "# export MRI images in native ref for both pre_RT and Rechute  : \n",
    "aidream_dataset = aidream_db.create_dataset(list_aidream_ids=list_patients,\n",
    "                                            list_pre_rt=['T1', 'T1CE', 'FLAIR'],\n",
    "                                            list_rechute=['T1', 'T1CE', 'FLAIR'],\n",
    "                                            load_anyway=True)\n"
   ]
  },
  {
   "cell_type": "code",
   "execution_count": 11,
   "id": "efcf18db-bd2c-4be0-814f-57c73bd68b9b",
   "metadata": {},
   "outputs": [],
   "source": [
    "# aidream_dataset.export(\"/media/maichi/T9/AIDREAM_DATA\")\n"
   ]
  },
  {
   "cell_type": "markdown",
   "id": "3fc82359-d00f-48ac-b071-1277f3291040",
   "metadata": {},
   "source": [
    "# 2. Load PERFUSION data : "
   ]
  },
  {
   "cell_type": "code",
   "execution_count": 16,
   "id": "736d70e3-fbcc-4e41-8f79-cb03b5647800",
   "metadata": {
    "collapsed": true,
    "jupyter": {
     "outputs_hidden": true
    },
    "scrolled": true
   },
   "outputs": [
    {
     "name": "stderr",
     "output_type": "stream",
     "text": [
      "  2%|██▊                                                                                                                                                                     | 4/234 [00:05<04:53,  1.27s/it]"
     ]
    },
    {
     "name": "stdout",
     "output_type": "stream",
     "text": [
      "AIDREAM_5 has no PERFUSION data !\n"
     ]
    },
    {
     "name": "stderr",
     "output_type": "stream",
     "text": [
      "  9%|███████████████▋                                                                                                                                                       | 22/234 [00:27<04:40,  1.32s/it]"
     ]
    },
    {
     "name": "stdout",
     "output_type": "stream",
     "text": [
      "AIDREAM_25 has no PERFUSION data !\n"
     ]
    },
    {
     "name": "stderr",
     "output_type": "stream",
     "text": [
      " 11%|██████████████████▌                                                                                                                                                    | 26/234 [00:31<04:04,  1.17s/it]"
     ]
    },
    {
     "name": "stdout",
     "output_type": "stream",
     "text": [
      "AIDREAM_30 has no PERFUSION data !\n"
     ]
    },
    {
     "name": "stderr",
     "output_type": "stream",
     "text": [
      " 15%|████████████████████████▉                                                                                                                                              | 35/234 [00:42<04:25,  1.33s/it]"
     ]
    },
    {
     "name": "stdout",
     "output_type": "stream",
     "text": [
      "AIDREAM_40 has no PERFUSION data !\n"
     ]
    },
    {
     "name": "stderr",
     "output_type": "stream",
     "text": [
      " 16%|██████████████████████████▍                                                                                                                                            | 37/234 [00:43<03:19,  1.01s/it]"
     ]
    },
    {
     "name": "stdout",
     "output_type": "stream",
     "text": [
      "AIDREAM_42 has no PERFUSION data !\n",
      "AIDREAM_43 has no PERFUSION data !\n"
     ]
    },
    {
     "name": "stderr",
     "output_type": "stream",
     "text": [
      " 20%|█████████████████████████████████▌                                                                                                                                     | 47/234 [00:53<03:36,  1.16s/it]"
     ]
    },
    {
     "name": "stdout",
     "output_type": "stream",
     "text": [
      "AIDREAM_53 has no PERFUSION data !\n"
     ]
    },
    {
     "name": "stderr",
     "output_type": "stream",
     "text": [
      " 21%|███████████████████████████████████▋                                                                                                                                   | 50/234 [00:56<03:06,  1.01s/it]"
     ]
    },
    {
     "name": "stdout",
     "output_type": "stream",
     "text": [
      "AIDREAM_57 has no PERFUSION data !\n"
     ]
    },
    {
     "name": "stderr",
     "output_type": "stream",
     "text": [
      " 24%|███████████████████████████████████████▉                                                                                                                               | 56/234 [01:02<03:28,  1.17s/it]"
     ]
    },
    {
     "name": "stdout",
     "output_type": "stream",
     "text": [
      "AIDREAM_63 has no PERFUSION data !\n"
     ]
    },
    {
     "name": "stderr",
     "output_type": "stream",
     "text": [
      " 26%|████████████████████████████████████████████▏                                                                                                                          | 62/234 [01:09<03:25,  1.19s/it]"
     ]
    },
    {
     "name": "stdout",
     "output_type": "stream",
     "text": [
      "AIDREAM_70 has no PERFUSION data !\n"
     ]
    },
    {
     "name": "stderr",
     "output_type": "stream",
     "text": [
      " 28%|███████████████████████████████████████████████                                                                                                                        | 66/234 [01:12<03:06,  1.11s/it]"
     ]
    },
    {
     "name": "stdout",
     "output_type": "stream",
     "text": [
      "AIDREAM_74 has no PERFUSION data !\n"
     ]
    },
    {
     "name": "stderr",
     "output_type": "stream",
     "text": [
      " 29%|█████████████████████████████████████████████████▏                                                                                                                     | 69/234 [01:15<02:46,  1.01s/it]"
     ]
    },
    {
     "name": "stdout",
     "output_type": "stream",
     "text": [
      "AIDREAM_78 has no PERFUSION data !\n"
     ]
    },
    {
     "name": "stderr",
     "output_type": "stream",
     "text": [
      " 44%|████████████████████████████████████████████████████████████████████████▎                                                                                             | 102/234 [01:59<03:17,  1.50s/it]"
     ]
    },
    {
     "name": "stdout",
     "output_type": "stream",
     "text": [
      "AIDREAM_121 has no PERFUSION data !\n"
     ]
    },
    {
     "name": "stderr",
     "output_type": "stream",
     "text": [
      " 45%|███████████████████████████████████████████████████████████████████████████▏                                                                                          | 106/234 [02:03<02:39,  1.24s/it]"
     ]
    },
    {
     "name": "stdout",
     "output_type": "stream",
     "text": [
      "AIDREAM_125 has no PERFUSION data !\n"
     ]
    },
    {
     "name": "stderr",
     "output_type": "stream",
     "text": [
      " 48%|███████████████████████████████████████████████████████████████████████████████▍                                                                                      | 112/234 [02:10<02:39,  1.30s/it]"
     ]
    },
    {
     "name": "stdout",
     "output_type": "stream",
     "text": [
      "AIDREAM_131 has no PERFUSION data !\n"
     ]
    },
    {
     "name": "stderr",
     "output_type": "stream",
     "text": [
      " 53%|███████████████████████████████████████████████████████████████████████████████████████▎                                                                              | 123/234 [02:25<02:37,  1.42s/it]"
     ]
    },
    {
     "name": "stdout",
     "output_type": "stream",
     "text": [
      "AIDREAM_144 has no PERFUSION data !\n"
     ]
    },
    {
     "name": "stderr",
     "output_type": "stream",
     "text": [
      " 53%|████████████████████████████████████████████████████████████████████████████████████████▋                                                                             | 125/234 [02:26<01:56,  1.07s/it]"
     ]
    },
    {
     "name": "stdout",
     "output_type": "stream",
     "text": [
      "AIDREAM_146 has no PERFUSION data !\n"
     ]
    },
    {
     "name": "stderr",
     "output_type": "stream",
     "text": [
      " 61%|█████████████████████████████████████████████████████████████████████████████████████████████████████▍                                                                | 143/234 [02:48<01:59,  1.31s/it]"
     ]
    },
    {
     "name": "stdout",
     "output_type": "stream",
     "text": [
      "AIDREAM_226 has no PERFUSION data !\n"
     ]
    },
    {
     "name": "stderr",
     "output_type": "stream",
     "text": [
      " 63%|████████████████████████████████████████████████████████████████████████████████████████████████████████▉                                                             | 148/234 [02:53<01:39,  1.16s/it]"
     ]
    },
    {
     "name": "stdout",
     "output_type": "stream",
     "text": [
      "AIDREAM_231 has no PERFUSION data !\n"
     ]
    },
    {
     "name": "stderr",
     "output_type": "stream",
     "text": [
      " 65%|███████████████████████████████████████████████████████████████████████████████████████████████████████████▊                                                          | 152/234 [02:57<01:30,  1.10s/it]"
     ]
    },
    {
     "name": "stdout",
     "output_type": "stream",
     "text": [
      "AIDREAM_235 has no PERFUSION data !\n"
     ]
    },
    {
     "name": "stderr",
     "output_type": "stream",
     "text": [
      " 66%|█████████████████████████████████████████████████████████████████████████████████████████████████████████████▉                                                        | 155/234 [03:00<01:19,  1.01s/it]"
     ]
    },
    {
     "name": "stdout",
     "output_type": "stream",
     "text": [
      "AIDREAM_239 has no PERFUSION data !\n"
     ]
    },
    {
     "name": "stderr",
     "output_type": "stream",
     "text": [
      " 70%|███████████████████████████████████████████████████████████████████████████████████████████████████████████████████▋                                                  | 163/234 [03:10<01:36,  1.36s/it]"
     ]
    },
    {
     "name": "stdout",
     "output_type": "stream",
     "text": [
      "AIDREAM_248 has no PERFUSION data !\n"
     ]
    },
    {
     "name": "stderr",
     "output_type": "stream",
     "text": [
      " 71%|█████████████████████████████████████████████████████████████████████████████████████████████████████████████████████                                                 | 165/234 [03:11<01:13,  1.06s/it]"
     ]
    },
    {
     "name": "stdout",
     "output_type": "stream",
     "text": [
      "AIDREAM_303 has no PERFUSION data !\n"
     ]
    },
    {
     "name": "stderr",
     "output_type": "stream",
     "text": [
      " 76%|██████████████████████████████████████████████████████████████████████████████████████████████████████████████████████████████▉                                       | 179/234 [03:29<01:13,  1.34s/it]"
     ]
    },
    {
     "name": "stdout",
     "output_type": "stream",
     "text": [
      "AIDREAM_324 has no PERFUSION data !\n"
     ]
    },
    {
     "name": "stderr",
     "output_type": "stream",
     "text": [
      " 79%|██████████████████████████████████████████████████████████████████████████████████████████████████████████████████████████████████▌                                   | 184/234 [03:35<01:05,  1.31s/it]"
     ]
    },
    {
     "name": "stdout",
     "output_type": "stream",
     "text": [
      "AIDREAM_330 has no PERFUSION data !\n"
     ]
    },
    {
     "name": "stderr",
     "output_type": "stream",
     "text": [
      " 81%|██████████████████████████████████████████████████████████████████████████████████████████████████████████████████████████████████████▊                               | 190/234 [03:38<00:25,  1.69it/s]"
     ]
    },
    {
     "name": "stdout",
     "output_type": "stream",
     "text": [
      "AIDREAM_334 has no PERFUSION data !\n",
      "AIDREAM_335 has no PERFUSION data !\n",
      "AIDREAM_339 has no PERFUSION data !\n"
     ]
    },
    {
     "name": "stderr",
     "output_type": "stream",
     "text": [
      " 85%|█████████████████████████████████████████████████████████████████████████████████████████████████████████████████████████████████████████████▉                        | 200/234 [03:52<00:55,  1.62s/it]"
     ]
    },
    {
     "name": "stdout",
     "output_type": "stream",
     "text": [
      "AIDREAM_351 has no PERFUSION data !\n",
      "AIDREAM_354 has no PERFUSION data !\n"
     ]
    },
    {
     "name": "stderr",
     "output_type": "stream",
     "text": [
      " 89%|███████████████████████████████████████████████████████████████████████████████████████████████████████████████████████████████████████████████████▌                  | 208/234 [04:01<00:33,  1.31s/it]"
     ]
    },
    {
     "name": "stdout",
     "output_type": "stream",
     "text": [
      "AIDREAM_362 has no PERFUSION data !\n",
      "AIDREAM_363 has no PERFUSION data !\n"
     ]
    },
    {
     "name": "stderr",
     "output_type": "stream",
     "text": [
      " 91%|██████████████████████████████████████████████████████████████████████████████████████████████████████████████████████████████████████████████████████▍               | 212/234 [04:04<00:21,  1.02it/s]"
     ]
    },
    {
     "name": "stdout",
     "output_type": "stream",
     "text": [
      "AIDREAM_366 has no PERFUSION data !\n"
     ]
    },
    {
     "name": "stderr",
     "output_type": "stream",
     "text": [
      " 94%|███████████████████████████████████████████████████████████████████████████████████████████████████████████████████████████████████████████████████████████▎          | 219/234 [04:12<00:18,  1.22s/it]"
     ]
    },
    {
     "name": "stdout",
     "output_type": "stream",
     "text": [
      "AIDREAM_375 has no PERFUSION data !\n"
     ]
    },
    {
     "name": "stderr",
     "output_type": "stream",
     "text": [
      " 97%|████████████████████████████████████████████████████████████████████████████████████████████████████████████████████████████████████████████████████████████████▎     | 226/234 [04:22<00:11,  1.45s/it]"
     ]
    },
    {
     "name": "stdout",
     "output_type": "stream",
     "text": [
      "AIDREAM_389 has no PERFUSION data !\n"
     ]
    },
    {
     "name": "stderr",
     "output_type": "stream",
     "text": [
      " 99%|███████████████████████████████████████████████████████████████████████████████████████████████████████████████████████████████████████████████████████████████████▊  | 231/234 [04:28<00:04,  1.45s/it]"
     ]
    },
    {
     "name": "stdout",
     "output_type": "stream",
     "text": [
      "AIDREAM_397 has no PERFUSION data !\n"
     ]
    },
    {
     "name": "stderr",
     "output_type": "stream",
     "text": [
      "100%|██████████████████████████████████████████████████████████████████████████████████████████████████████████████████████████████████████████████████████████████████████| 234/234 [04:31<00:00,  1.16s/it]\n"
     ]
    }
   ],
   "source": [
    "dir_src_perfusion = Path(\"/media/maichi/SSD-IGR/Perfusion data\")\n",
    "dir_aidream_data = Path(\"/media/maichi/T9/AIDREAM_DATA\")\n",
    "\n",
    "for patient in tqdm(list_patients):\n",
    "\n",
    "    try:\n",
    "        dir_src = dir_src_perfusion / patient \n",
    "        \n",
    "        dir_dst = dir_aidream_data / patient / \"pre_RT\" / \"PERFUSION\" / \"DICOM\"\n",
    "        dir_dst.parent.mkdir(parents=True, exist_ok=True)\n",
    "\n",
    "        shutil.copytree(src=dir_src, dst=dir_dst)\n",
    "\n",
    "    except Exception as e:\n",
    "        print(fr\"{patient} has no PERFUSION data !\")\n",
    "        "
   ]
  },
  {
   "cell_type": "code",
   "execution_count": 49,
   "id": "4f25a594-651b-4f13-960f-a017eea1cb47",
   "metadata": {},
   "outputs": [
    {
     "name": "stdout",
     "output_type": "stream",
     "text": [
      "Number of patients with available PERFUSION data (for now) : 198\n"
     ]
    }
   ],
   "source": [
    "list_patients_interim = os.listdir(dir_src_perfusion)\n",
    "print(fr\"Number of patients with available PERFUSION data (for now) : {len(list_patients_interim)}\")\n"
   ]
  },
  {
   "cell_type": "code",
   "execution_count": 20,
   "id": "0330d621-e1b0-439c-ba07-42ce8c6e718a",
   "metadata": {},
   "outputs": [],
   "source": [
    "with open(\"list_intermediary_patients.txt\", \"w\") as f:\n",
    "    f.writelines([f\"{p}\\n\" for p in list_patients])\n",
    "    "
   ]
  },
  {
   "cell_type": "markdown",
   "id": "9f1746a9-4f32-46da-b4c0-4a63b20a159d",
   "metadata": {},
   "source": [
    "# 3. Load the CERCARE Data : "
   ]
  },
  {
   "cell_type": "code",
   "execution_count": 54,
   "id": "51024214-72a5-49ca-9f05-454edad74682",
   "metadata": {
    "collapsed": true,
    "jupyter": {
     "outputs_hidden": true
    },
    "scrolled": true
   },
   "outputs": [
    {
     "name": "stderr",
     "output_type": "stream",
     "text": [
      "  3%|█████                                                                                                                                                                   | 7/234 [00:00<00:07, 30.99it/s]"
     ]
    },
    {
     "name": "stdout",
     "output_type": "stream",
     "text": [
      "AIDREAM_5 has no CTH data !\n",
      "AIDREAM_5 has no OEF data !\n",
      "AIDREAM_5 has no rCBV data !\n",
      "AIDREAM_5 has no Delay data !\n",
      "AIDREAM_5 has no COV data !\n",
      "AIDREAM_5 has no rCMRO2 data !\n",
      "AIDREAM_5 has no rLeakage data !\n",
      "AIDREAM_10 has no CTH data !\n",
      "AIDREAM_10 has no OEF data !\n",
      "AIDREAM_10 has no rCBV data !\n",
      "AIDREAM_10 has no Delay data !\n",
      "AIDREAM_10 has no COV data !\n",
      "AIDREAM_10 has no rCMRO2 data !\n",
      "AIDREAM_10 has no rLeakage data !\n"
     ]
    },
    {
     "name": "stderr",
     "output_type": "stream",
     "text": [
      "  8%|█████████████▌                                                                                                                                                         | 19/234 [00:00<00:04, 44.40it/s]"
     ]
    },
    {
     "name": "stdout",
     "output_type": "stream",
     "text": [
      "AIDREAM_15 has no CTH data !\n",
      "AIDREAM_15 has no OEF data !\n",
      "AIDREAM_15 has no rCBV data !\n",
      "AIDREAM_15 has no Delay data !\n",
      "AIDREAM_15 has no COV data !\n",
      "AIDREAM_15 has no rCMRO2 data !\n",
      "AIDREAM_15 has no rLeakage data !\n",
      "AIDREAM_16 has no CTH data !\n",
      "AIDREAM_16 has no OEF data !\n",
      "AIDREAM_16 has no rCBV data !\n",
      "AIDREAM_16 has no Delay data !\n",
      "AIDREAM_16 has no COV data !\n",
      "AIDREAM_16 has no rCMRO2 data !\n",
      "AIDREAM_16 has no rLeakage data !\n",
      "AIDREAM_18 has no CTH data !\n",
      "AIDREAM_18 has no OEF data !\n",
      "AIDREAM_18 has no rCBV data !\n",
      "AIDREAM_18 has no Delay data !\n",
      "AIDREAM_18 has no COV data !\n",
      "AIDREAM_18 has no rCMRO2 data !\n",
      "AIDREAM_18 has no rLeakage data !\n",
      "AIDREAM_19 has no CTH data !\n",
      "AIDREAM_19 has no OEF data !\n",
      "AIDREAM_19 has no rCBV data !\n",
      "AIDREAM_19 has no Delay data !\n",
      "AIDREAM_19 has no COV data !\n",
      "AIDREAM_19 has no rCMRO2 data !\n",
      "AIDREAM_19 has no rLeakage data !\n",
      "AIDREAM_25 has no CTH data !\n",
      "AIDREAM_25 has no OEF data !\n",
      "AIDREAM_25 has no rCBV data !\n",
      "AIDREAM_25 has no Delay data !\n",
      "AIDREAM_25 has no COV data !\n",
      "AIDREAM_25 has no rCMRO2 data !\n",
      "AIDREAM_25 has no rLeakage data !\n"
     ]
    },
    {
     "name": "stderr",
     "output_type": "stream",
     "text": [
      " 14%|███████████████████████▌                                                                                                                                               | 33/234 [00:00<00:03, 55.14it/s]"
     ]
    },
    {
     "name": "stdout",
     "output_type": "stream",
     "text": [
      "AIDREAM_28 has no CTH data !\n",
      "AIDREAM_28 has no OEF data !\n",
      "AIDREAM_28 has no rCBV data !\n",
      "AIDREAM_28 has no Delay data !\n",
      "AIDREAM_28 has no COV data !\n",
      "AIDREAM_28 has no rCMRO2 data !\n",
      "AIDREAM_28 has no rLeakage data !\n",
      "AIDREAM_29 has no CTH data !\n",
      "AIDREAM_29 has no OEF data !\n",
      "AIDREAM_29 has no rCBV data !\n",
      "AIDREAM_29 has no Delay data !\n",
      "AIDREAM_29 has no COV data !\n",
      "AIDREAM_29 has no rCMRO2 data !\n",
      "AIDREAM_29 has no rLeakage data !\n",
      "AIDREAM_30 has no CTH data !\n",
      "AIDREAM_30 has no OEF data !\n",
      "AIDREAM_30 has no rCBV data !\n",
      "AIDREAM_30 has no Delay data !\n",
      "AIDREAM_30 has no COV data !\n",
      "AIDREAM_30 has no rCMRO2 data !\n",
      "AIDREAM_30 has no rLeakage data !\n",
      "AIDREAM_31 has no CTH data !\n",
      "AIDREAM_31 has no OEF data !\n",
      "AIDREAM_31 has no rCBV data !\n",
      "AIDREAM_31 has no Delay data !\n",
      "AIDREAM_31 has no COV data !\n",
      "AIDREAM_31 has no rCMRO2 data !\n",
      "AIDREAM_31 has no rLeakage data !\n",
      "AIDREAM_32 has no CTH data !\n",
      "AIDREAM_32 has no OEF data !\n",
      "AIDREAM_32 has no rCBV data !\n",
      "AIDREAM_32 has no Delay data !\n",
      "AIDREAM_32 has no COV data !\n",
      "AIDREAM_32 has no rCMRO2 data !\n",
      "AIDREAM_32 has no rLeakage data !\n",
      "AIDREAM_34 has no CTH data !\n",
      "AIDREAM_34 has no OEF data !\n",
      "AIDREAM_34 has no rCBV data !\n",
      "AIDREAM_34 has no Delay data !\n",
      "AIDREAM_34 has no COV data !\n",
      "AIDREAM_34 has no rCMRO2 data !\n",
      "AIDREAM_34 has no rLeakage data !\n",
      "AIDREAM_39 has no CTH data !\n",
      "AIDREAM_39 has no OEF data !\n",
      "AIDREAM_39 has no rCBV data !\n",
      "AIDREAM_39 has no Delay data !\n",
      "AIDREAM_39 has no COV data !\n",
      "AIDREAM_39 has no rCMRO2 data !\n",
      "AIDREAM_39 has no rLeakage data !\n",
      "AIDREAM_40 has no CTH data !\n",
      "AIDREAM_40 has no OEF data !\n",
      "AIDREAM_40 has no rCBV data !\n",
      "AIDREAM_40 has no Delay data !\n",
      "AIDREAM_40 has no COV data !\n",
      "AIDREAM_40 has no rCMRO2 data !\n",
      "AIDREAM_40 has no rLeakage data !\n",
      "AIDREAM_41 has no CTH data !\n",
      "AIDREAM_41 has no OEF data !\n",
      "AIDREAM_41 has no rCBV data !\n",
      "AIDREAM_41 has no Delay data !\n",
      "AIDREAM_41 has no COV data !\n",
      "AIDREAM_41 has no rCMRO2 data !\n",
      "AIDREAM_41 has no rLeakage data !\n",
      "AIDREAM_42 has no CTH data !\n",
      "AIDREAM_42 has no OEF data !\n",
      "AIDREAM_42 has no rCBV data !\n",
      "AIDREAM_42 has no Delay data !\n",
      "AIDREAM_42 has no COV data !\n",
      "AIDREAM_42 has no rCMRO2 data !\n",
      "AIDREAM_42 has no rLeakage data !\n",
      "AIDREAM_43 has no CTH data !\n",
      "AIDREAM_43 has no OEF data !\n",
      "AIDREAM_43 has no rCBV data !\n",
      "AIDREAM_43 has no Delay data !\n",
      "AIDREAM_43 has no COV data !\n",
      "AIDREAM_43 has no rCMRO2 data !\n",
      "AIDREAM_43 has no rLeakage data !\n"
     ]
    },
    {
     "name": "stderr",
     "output_type": "stream",
     "text": [
      " 24%|███████████████████████████████████████▎                                                                                                                               | 55/234 [00:01<00:03, 48.15it/s]"
     ]
    },
    {
     "name": "stdout",
     "output_type": "stream",
     "text": [
      "AIDREAM_53 has no CTH data !\n",
      "AIDREAM_53 has no OEF data !\n",
      "AIDREAM_53 has no rCBV data !\n",
      "AIDREAM_53 has no Delay data !\n",
      "AIDREAM_53 has no COV data !\n",
      "AIDREAM_53 has no rCMRO2 data !\n",
      "AIDREAM_53 has no rLeakage data !\n",
      "AIDREAM_57 has no CTH data !\n",
      "AIDREAM_57 has no OEF data !\n",
      "AIDREAM_57 has no rCBV data !\n",
      "AIDREAM_57 has no Delay data !\n",
      "AIDREAM_57 has no COV data !\n",
      "AIDREAM_57 has no rCMRO2 data !\n",
      "AIDREAM_57 has no rLeakage data !\n",
      "AIDREAM_58 has no CTH data !\n",
      "AIDREAM_58 has no OEF data !\n",
      "AIDREAM_58 has no rCBV data !\n",
      "AIDREAM_58 has no Delay data !\n",
      "AIDREAM_58 has no COV data !\n",
      "AIDREAM_58 has no rCMRO2 data !\n",
      "AIDREAM_58 has no rLeakage data !\n",
      "AIDREAM_61 has no CTH data !\n",
      "AIDREAM_61 has no OEF data !\n",
      "AIDREAM_61 has no rCBV data !\n",
      "AIDREAM_61 has no Delay data !\n",
      "AIDREAM_61 has no COV data !\n",
      "AIDREAM_61 has no rCMRO2 data !\n",
      "AIDREAM_61 has no rLeakage data !\n",
      "AIDREAM_63 has no CTH data !\n",
      "AIDREAM_63 has no OEF data !\n",
      "AIDREAM_63 has no rCBV data !\n",
      "AIDREAM_63 has no Delay data !\n",
      "AIDREAM_63 has no COV data !\n",
      "AIDREAM_63 has no rCMRO2 data !\n",
      "AIDREAM_63 has no rLeakage data !\n"
     ]
    },
    {
     "name": "stderr",
     "output_type": "stream",
     "text": [
      " 28%|███████████████████████████████████████████████                                                                                                                        | 66/234 [00:01<00:04, 41.53it/s]"
     ]
    },
    {
     "name": "stdout",
     "output_type": "stream",
     "text": [
      "AIDREAM_70 has no CTH data !\n",
      "AIDREAM_70 has no OEF data !\n",
      "AIDREAM_70 has no rCBV data !\n",
      "AIDREAM_70 has no Delay data !\n",
      "AIDREAM_70 has no COV data !\n",
      "AIDREAM_70 has no rCMRO2 data !\n",
      "AIDREAM_70 has no rLeakage data !\n",
      "AIDREAM_72 has no CTH data !\n",
      "AIDREAM_72 has no OEF data !\n",
      "AIDREAM_72 has no rCBV data !\n",
      "AIDREAM_72 has no Delay data !\n",
      "AIDREAM_72 has no COV data !\n",
      "AIDREAM_72 has no rCMRO2 data !\n",
      "AIDREAM_72 has no rLeakage data !\n",
      "AIDREAM_74 has no CTH data !\n",
      "AIDREAM_74 has no OEF data !\n",
      "AIDREAM_74 has no rCBV data !\n",
      "AIDREAM_74 has no Delay data !\n",
      "AIDREAM_74 has no COV data !\n",
      "AIDREAM_74 has no rCMRO2 data !\n",
      "AIDREAM_74 has no rLeakage data !\n",
      "AIDREAM_76 has no CTH data !\n",
      "AIDREAM_76 has no OEF data !\n",
      "AIDREAM_76 has no rCBV data !\n",
      "AIDREAM_76 has no Delay data !\n",
      "AIDREAM_76 has no COV data !\n",
      "AIDREAM_76 has no rCMRO2 data !\n",
      "AIDREAM_76 has no rLeakage data !\n",
      "AIDREAM_78 has no CTH data !\n",
      "AIDREAM_78 has no OEF data !\n",
      "AIDREAM_78 has no rCBV data !\n",
      "AIDREAM_78 has no Delay data !\n",
      "AIDREAM_78 has no COV data !\n",
      "AIDREAM_78 has no rCMRO2 data !\n",
      "AIDREAM_78 has no rLeakage data !\n"
     ]
    },
    {
     "name": "stderr",
     "output_type": "stream",
     "text": [
      " 44%|█████████████████████████████████████████████████████████████████████████▊                                                                                            | 104/234 [00:02<00:04, 31.33it/s]"
     ]
    },
    {
     "name": "stdout",
     "output_type": "stream",
     "text": [
      "AIDREAM_116 has no CTH data !\n",
      "AIDREAM_116 has no OEF data !\n",
      "AIDREAM_116 has no rCBV data !\n",
      "AIDREAM_116 has no Delay data !\n",
      "AIDREAM_116 has no COV data !\n",
      "AIDREAM_116 has no rCMRO2 data !\n",
      "AIDREAM_116 has no rLeakage data !\n",
      "AIDREAM_121 has no CTH data !\n",
      "AIDREAM_121 has no OEF data !\n",
      "AIDREAM_121 has no rCBV data !\n",
      "AIDREAM_121 has no Delay data !\n",
      "AIDREAM_121 has no COV data !\n",
      "AIDREAM_121 has no rCMRO2 data !\n",
      "AIDREAM_121 has no rLeakage data !\n"
     ]
    },
    {
     "name": "stderr",
     "output_type": "stream",
     "text": [
      " 48%|███████████████████████████████████████████████████████████████████████████████▍                                                                                      | 112/234 [00:03<00:03, 33.20it/s]"
     ]
    },
    {
     "name": "stdout",
     "output_type": "stream",
     "text": [
      "AIDREAM_125 has no CTH data !\n",
      "AIDREAM_125 has no OEF data !\n",
      "AIDREAM_125 has no rCBV data !\n",
      "AIDREAM_125 has no Delay data !\n",
      "AIDREAM_125 has no COV data !\n",
      "AIDREAM_125 has no rCMRO2 data !\n",
      "AIDREAM_125 has no rLeakage data !\n",
      "AIDREAM_127 has no CTH data !\n",
      "AIDREAM_127 has no OEF data !\n",
      "AIDREAM_127 has no rCBV data !\n",
      "AIDREAM_127 has no Delay data !\n",
      "AIDREAM_127 has no COV data !\n",
      "AIDREAM_127 has no rCMRO2 data !\n",
      "AIDREAM_127 has no rLeakage data !\n",
      "AIDREAM_131 has no CTH data !\n",
      "AIDREAM_131 has no OEF data !\n",
      "AIDREAM_131 has no rCBV data !\n",
      "AIDREAM_131 has no Delay data !\n",
      "AIDREAM_131 has no COV data !\n",
      "AIDREAM_131 has no rCMRO2 data !\n",
      "AIDREAM_131 has no rLeakage data !\n",
      "AIDREAM_133 has no CTH data !\n",
      "AIDREAM_133 has no OEF data !\n",
      "AIDREAM_133 has no rCBV data !\n",
      "AIDREAM_133 has no Delay data !\n",
      "AIDREAM_133 has no COV data !\n",
      "AIDREAM_133 has no rCMRO2 data !\n",
      "AIDREAM_133 has no rLeakage data !\n",
      "AIDREAM_135 has no CTH data !\n",
      "AIDREAM_135 has no OEF data !\n",
      "AIDREAM_135 has no rCBV data !\n",
      "AIDREAM_135 has no Delay data !\n",
      "AIDREAM_135 has no COV data !\n",
      "AIDREAM_135 has no rCMRO2 data !\n",
      "AIDREAM_135 has no rLeakage data !\n"
     ]
    },
    {
     "name": "stderr",
     "output_type": "stream",
     "text": [
      " 53%|███████████████████████████████████████████████████████████████████████████████████████▉                                                                              | 124/234 [00:03<00:02, 40.16it/s]"
     ]
    },
    {
     "name": "stdout",
     "output_type": "stream",
     "text": [
      "AIDREAM_137 has no CTH data !\n",
      "AIDREAM_137 has no OEF data !\n",
      "AIDREAM_137 has no rCBV data !\n",
      "AIDREAM_137 has no Delay data !\n",
      "AIDREAM_137 has no COV data !\n",
      "AIDREAM_137 has no rCMRO2 data !\n",
      "AIDREAM_137 has no rLeakage data !\n",
      "AIDREAM_140 has no CTH data !\n",
      "AIDREAM_140 has no OEF data !\n",
      "AIDREAM_140 has no rCBV data !\n",
      "AIDREAM_140 has no Delay data !\n",
      "AIDREAM_140 has no COV data !\n",
      "AIDREAM_140 has no rCMRO2 data !\n",
      "AIDREAM_140 has no rLeakage data !\n",
      "AIDREAM_144 has no CTH data !\n",
      "AIDREAM_144 has no OEF data !\n",
      "AIDREAM_144 has no rCBV data !\n",
      "AIDREAM_144 has no Delay data !\n",
      "AIDREAM_144 has no COV data !\n",
      "AIDREAM_144 has no rCMRO2 data !\n",
      "AIDREAM_144 has no rLeakage data !\n"
     ]
    },
    {
     "name": "stderr",
     "output_type": "stream",
     "text": [
      " 61%|████████████████████████████████████████████████████████████████████████████████████████████████████▋                                                                 | 142/234 [00:03<00:01, 61.25it/s]"
     ]
    },
    {
     "name": "stdout",
     "output_type": "stream",
     "text": [
      "AIDREAM_146 has no CTH data !\n",
      "AIDREAM_146 has no OEF data !\n",
      "AIDREAM_146 has no rCBV data !\n",
      "AIDREAM_146 has no Delay data !\n",
      "AIDREAM_146 has no COV data !\n",
      "AIDREAM_146 has no rCMRO2 data !\n",
      "AIDREAM_146 has no rLeakage data !\n",
      "AIDREAM_147 has no CTH data !\n",
      "AIDREAM_147 has no OEF data !\n",
      "AIDREAM_147 has no rCBV data !\n",
      "AIDREAM_147 has no Delay data !\n",
      "AIDREAM_147 has no COV data !\n",
      "AIDREAM_147 has no rCMRO2 data !\n",
      "AIDREAM_147 has no rLeakage data !\n",
      "AIDREAM_148 has no CTH data !\n",
      "AIDREAM_148 has no OEF data !\n",
      "AIDREAM_148 has no rCBV data !\n",
      "AIDREAM_148 has no Delay data !\n",
      "AIDREAM_148 has no COV data !\n",
      "AIDREAM_148 has no rCMRO2 data !\n",
      "AIDREAM_148 has no rLeakage data !\n",
      "AIDREAM_151 has no CTH data !\n",
      "AIDREAM_151 has no OEF data !\n",
      "AIDREAM_151 has no rCBV data !\n",
      "AIDREAM_151 has no Delay data !\n",
      "AIDREAM_151 has no COV data !\n",
      "AIDREAM_151 has no rCMRO2 data !\n",
      "AIDREAM_151 has no rLeakage data !\n",
      "AIDREAM_200 has no CTH data !\n",
      "AIDREAM_200 has no OEF data !\n",
      "AIDREAM_200 has no rCBV data !\n",
      "AIDREAM_200 has no Delay data !\n",
      "AIDREAM_200 has no COV data !\n",
      "AIDREAM_200 has no rCMRO2 data !\n",
      "AIDREAM_200 has no rLeakage data !\n",
      "AIDREAM_201 has no CTH data !\n",
      "AIDREAM_201 has no OEF data !\n",
      "AIDREAM_201 has no rCBV data !\n",
      "AIDREAM_201 has no Delay data !\n",
      "AIDREAM_201 has no COV data !\n",
      "AIDREAM_201 has no rCMRO2 data !\n",
      "AIDREAM_201 has no rLeakage data !\n",
      "AIDREAM_202 has no CTH data !\n",
      "AIDREAM_202 has no OEF data !\n",
      "AIDREAM_202 has no rCBV data !\n",
      "AIDREAM_202 has no Delay data !\n",
      "AIDREAM_202 has no COV data !\n",
      "AIDREAM_202 has no rCMRO2 data !\n",
      "AIDREAM_202 has no rLeakage data !\n",
      "AIDREAM_203 has no CTH data !\n",
      "AIDREAM_203 has no OEF data !\n",
      "AIDREAM_203 has no rCBV data !\n",
      "AIDREAM_203 has no Delay data !\n",
      "AIDREAM_203 has no COV data !\n",
      "AIDREAM_203 has no rCMRO2 data !\n",
      "AIDREAM_203 has no rLeakage data !\n",
      "AIDREAM_204 has no CTH data !\n",
      "AIDREAM_204 has no OEF data !\n",
      "AIDREAM_204 has no rCBV data !\n",
      "AIDREAM_204 has no Delay data !\n",
      "AIDREAM_204 has no COV data !\n",
      "AIDREAM_204 has no rCMRO2 data !\n",
      "AIDREAM_204 has no rLeakage data !\n",
      "AIDREAM_206 has no CTH data !\n",
      "AIDREAM_206 has no OEF data !\n",
      "AIDREAM_206 has no rCBV data !\n",
      "AIDREAM_206 has no Delay data !\n",
      "AIDREAM_206 has no COV data !\n",
      "AIDREAM_206 has no rCMRO2 data !\n",
      "AIDREAM_206 has no rLeakage data !\n",
      "AIDREAM_208 has no CTH data !\n",
      "AIDREAM_208 has no OEF data !\n",
      "AIDREAM_208 has no rCBV data !\n",
      "AIDREAM_208 has no Delay data !\n",
      "AIDREAM_208 has no COV data !\n",
      "AIDREAM_208 has no rCMRO2 data !\n",
      "AIDREAM_208 has no rLeakage data !\n",
      "AIDREAM_209 has no CTH data !\n",
      "AIDREAM_209 has no OEF data !\n",
      "AIDREAM_209 has no rCBV data !\n",
      "AIDREAM_209 has no Delay data !\n",
      "AIDREAM_209 has no COV data !\n",
      "AIDREAM_209 has no rCMRO2 data !\n",
      "AIDREAM_209 has no rLeakage data !\n"
     ]
    },
    {
     "name": "stderr",
     "output_type": "stream",
     "text": [
      " 64%|█████████████████████████████████████████████████████████████████████████████████████████████████████████▋                                                            | 149/234 [00:03<00:01, 57.33it/s]"
     ]
    },
    {
     "name": "stdout",
     "output_type": "stream",
     "text": [
      "AIDREAM_226 has no CTH data !\n",
      "AIDREAM_226 has no OEF data !\n",
      "AIDREAM_226 has no rCBV data !\n",
      "AIDREAM_226 has no Delay data !\n",
      "AIDREAM_226 has no COV data !\n",
      "AIDREAM_226 has no rCMRO2 data !\n",
      "AIDREAM_226 has no rLeakage data !\n",
      "AIDREAM_230 has no CTH data !\n",
      "AIDREAM_230 has no OEF data !\n",
      "AIDREAM_230 has no rCBV data !\n",
      "AIDREAM_230 has no Delay data !\n",
      "AIDREAM_230 has no COV data !\n",
      "AIDREAM_230 has no rCMRO2 data !\n",
      "AIDREAM_230 has no rLeakage data !\n",
      "AIDREAM_231 has no CTH data !\n",
      "AIDREAM_231 has no OEF data !\n",
      "AIDREAM_231 has no rCBV data !\n",
      "AIDREAM_231 has no Delay data !\n",
      "AIDREAM_231 has no COV data !\n",
      "AIDREAM_231 has no rCMRO2 data !\n",
      "AIDREAM_231 has no rLeakage data !\n",
      "AIDREAM_234 has no CTH data !\n",
      "AIDREAM_234 has no OEF data !\n",
      "AIDREAM_234 has no rCBV data !\n",
      "AIDREAM_234 has no Delay data !\n",
      "AIDREAM_234 has no COV data !\n",
      "AIDREAM_234 has no rCMRO2 data !\n",
      "AIDREAM_234 has no rLeakage data !\n",
      "AIDREAM_235 has no CTH data !\n",
      "AIDREAM_235 has no OEF data !\n",
      "AIDREAM_235 has no rCBV data !\n",
      "AIDREAM_235 has no Delay data !\n",
      "AIDREAM_235 has no COV data !\n",
      "AIDREAM_235 has no rCMRO2 data !\n",
      "AIDREAM_235 has no rLeakage data !\n"
     ]
    },
    {
     "name": "stderr",
     "output_type": "stream",
     "text": [
      " 66%|█████████████████████████████████████████████████████████████████████████████████████████████████████████████▉                                                        | 155/234 [00:03<00:01, 50.71it/s]"
     ]
    },
    {
     "name": "stdout",
     "output_type": "stream",
     "text": [
      "AIDREAM_239 has no CTH data !\n",
      "AIDREAM_239 has no OEF data !\n",
      "AIDREAM_239 has no rCBV data !\n",
      "AIDREAM_239 has no Delay data !\n",
      "AIDREAM_239 has no COV data !\n",
      "AIDREAM_239 has no rCMRO2 data !\n",
      "AIDREAM_239 has no rLeakage data !\n"
     ]
    },
    {
     "name": "stderr",
     "output_type": "stream",
     "text": [
      "100%|██████████████████████████████████████████████████████████████████████████████████████████████████████████████████████████████████████████████████████████████████████| 234/234 [00:04<00:00, 57.32it/s]"
     ]
    },
    {
     "name": "stdout",
     "output_type": "stream",
     "text": [
      "AIDREAM_248 has no CTH data !\n",
      "AIDREAM_248 has no OEF data !\n",
      "AIDREAM_248 has no rCBV data !\n",
      "AIDREAM_248 has no Delay data !\n",
      "AIDREAM_248 has no COV data !\n",
      "AIDREAM_248 has no rCMRO2 data !\n",
      "AIDREAM_248 has no rLeakage data !\n",
      "AIDREAM_301 has no CTH data !\n",
      "AIDREAM_301 has no OEF data !\n",
      "AIDREAM_301 has no rCBV data !\n",
      "AIDREAM_301 has no Delay data !\n",
      "AIDREAM_301 has no COV data !\n",
      "AIDREAM_301 has no rCMRO2 data !\n",
      "AIDREAM_301 has no rLeakage data !\n",
      "AIDREAM_303 has no CTH data !\n",
      "AIDREAM_303 has no OEF data !\n",
      "AIDREAM_303 has no rCBV data !\n",
      "AIDREAM_303 has no Delay data !\n",
      "AIDREAM_303 has no COV data !\n",
      "AIDREAM_303 has no rCMRO2 data !\n",
      "AIDREAM_303 has no rLeakage data !\n",
      "AIDREAM_306 has no CTH data !\n",
      "AIDREAM_306 has no OEF data !\n",
      "AIDREAM_306 has no rCBV data !\n",
      "AIDREAM_306 has no Delay data !\n",
      "AIDREAM_306 has no COV data !\n",
      "AIDREAM_306 has no rCMRO2 data !\n",
      "AIDREAM_306 has no rLeakage data !\n",
      "AIDREAM_307 has no CTH data !\n",
      "AIDREAM_307 has no OEF data !\n",
      "AIDREAM_307 has no rCBV data !\n",
      "AIDREAM_307 has no Delay data !\n",
      "AIDREAM_307 has no COV data !\n",
      "AIDREAM_307 has no rCMRO2 data !\n",
      "AIDREAM_307 has no rLeakage data !\n",
      "AIDREAM_308 has no CTH data !\n",
      "AIDREAM_308 has no OEF data !\n",
      "AIDREAM_308 has no rCBV data !\n",
      "AIDREAM_308 has no Delay data !\n",
      "AIDREAM_308 has no COV data !\n",
      "AIDREAM_308 has no rCMRO2 data !\n",
      "AIDREAM_308 has no rLeakage data !\n",
      "AIDREAM_310 has no CTH data !\n",
      "AIDREAM_310 has no OEF data !\n",
      "AIDREAM_310 has no rCBV data !\n",
      "AIDREAM_310 has no Delay data !\n",
      "AIDREAM_310 has no COV data !\n",
      "AIDREAM_310 has no rCMRO2 data !\n",
      "AIDREAM_310 has no rLeakage data !\n",
      "AIDREAM_311 has no CTH data !\n",
      "AIDREAM_311 has no OEF data !\n",
      "AIDREAM_311 has no rCBV data !\n",
      "AIDREAM_311 has no Delay data !\n",
      "AIDREAM_311 has no COV data !\n",
      "AIDREAM_311 has no rCMRO2 data !\n",
      "AIDREAM_311 has no rLeakage data !\n",
      "AIDREAM_312 has no CTH data !\n",
      "AIDREAM_312 has no OEF data !\n",
      "AIDREAM_312 has no rCBV data !\n",
      "AIDREAM_312 has no Delay data !\n",
      "AIDREAM_312 has no COV data !\n",
      "AIDREAM_312 has no rCMRO2 data !\n",
      "AIDREAM_312 has no rLeakage data !\n",
      "AIDREAM_314 has no CTH data !\n",
      "AIDREAM_314 has no OEF data !\n",
      "AIDREAM_314 has no rCBV data !\n",
      "AIDREAM_314 has no Delay data !\n",
      "AIDREAM_314 has no COV data !\n",
      "AIDREAM_314 has no rCMRO2 data !\n",
      "AIDREAM_314 has no rLeakage data !\n",
      "AIDREAM_315 has no CTH data !\n",
      "AIDREAM_315 has no OEF data !\n",
      "AIDREAM_315 has no rCBV data !\n",
      "AIDREAM_315 has no Delay data !\n",
      "AIDREAM_315 has no COV data !\n",
      "AIDREAM_315 has no rCMRO2 data !\n",
      "AIDREAM_315 has no rLeakage data !\n",
      "AIDREAM_317 has no CTH data !\n",
      "AIDREAM_317 has no OEF data !\n",
      "AIDREAM_317 has no rCBV data !\n",
      "AIDREAM_317 has no Delay data !\n",
      "AIDREAM_317 has no COV data !\n",
      "AIDREAM_317 has no rCMRO2 data !\n",
      "AIDREAM_317 has no rLeakage data !\n",
      "AIDREAM_319 has no CTH data !\n",
      "AIDREAM_319 has no OEF data !\n",
      "AIDREAM_319 has no rCBV data !\n",
      "AIDREAM_319 has no Delay data !\n",
      "AIDREAM_319 has no COV data !\n",
      "AIDREAM_319 has no rCMRO2 data !\n",
      "AIDREAM_319 has no rLeakage data !\n",
      "AIDREAM_320 has no CTH data !\n",
      "AIDREAM_320 has no OEF data !\n",
      "AIDREAM_320 has no rCBV data !\n",
      "AIDREAM_320 has no Delay data !\n",
      "AIDREAM_320 has no COV data !\n",
      "AIDREAM_320 has no rCMRO2 data !\n",
      "AIDREAM_320 has no rLeakage data !\n",
      "AIDREAM_322 has no CTH data !\n",
      "AIDREAM_322 has no OEF data !\n",
      "AIDREAM_322 has no rCBV data !\n",
      "AIDREAM_322 has no Delay data !\n",
      "AIDREAM_322 has no COV data !\n",
      "AIDREAM_322 has no rCMRO2 data !\n",
      "AIDREAM_322 has no rLeakage data !\n",
      "AIDREAM_323 has no CTH data !\n",
      "AIDREAM_323 has no OEF data !\n",
      "AIDREAM_323 has no rCBV data !\n",
      "AIDREAM_323 has no Delay data !\n",
      "AIDREAM_323 has no COV data !\n",
      "AIDREAM_323 has no rCMRO2 data !\n",
      "AIDREAM_323 has no rLeakage data !\n",
      "AIDREAM_324 has no CTH data !\n",
      "AIDREAM_324 has no OEF data !\n",
      "AIDREAM_324 has no rCBV data !\n",
      "AIDREAM_324 has no Delay data !\n",
      "AIDREAM_324 has no COV data !\n",
      "AIDREAM_324 has no rCMRO2 data !\n",
      "AIDREAM_324 has no rLeakage data !\n",
      "AIDREAM_326 has no CTH data !\n",
      "AIDREAM_326 has no OEF data !\n",
      "AIDREAM_326 has no rCBV data !\n",
      "AIDREAM_326 has no Delay data !\n",
      "AIDREAM_326 has no COV data !\n",
      "AIDREAM_326 has no rCMRO2 data !\n",
      "AIDREAM_326 has no rLeakage data !\n",
      "AIDREAM_327 has no CTH data !\n",
      "AIDREAM_327 has no OEF data !\n",
      "AIDREAM_327 has no rCBV data !\n",
      "AIDREAM_327 has no Delay data !\n",
      "AIDREAM_327 has no COV data !\n",
      "AIDREAM_327 has no rCMRO2 data !\n",
      "AIDREAM_327 has no rLeakage data !\n",
      "AIDREAM_328 has no CTH data !\n",
      "AIDREAM_328 has no OEF data !\n",
      "AIDREAM_328 has no rCBV data !\n",
      "AIDREAM_328 has no Delay data !\n",
      "AIDREAM_328 has no COV data !\n",
      "AIDREAM_328 has no rCMRO2 data !\n",
      "AIDREAM_328 has no rLeakage data !\n",
      "AIDREAM_329 has no CTH data !\n",
      "AIDREAM_329 has no OEF data !\n",
      "AIDREAM_329 has no rCBV data !\n",
      "AIDREAM_329 has no Delay data !\n",
      "AIDREAM_329 has no COV data !\n",
      "AIDREAM_329 has no rCMRO2 data !\n",
      "AIDREAM_329 has no rLeakage data !\n",
      "AIDREAM_330 has no CTH data !\n",
      "AIDREAM_330 has no OEF data !\n",
      "AIDREAM_330 has no rCBV data !\n",
      "AIDREAM_330 has no Delay data !\n",
      "AIDREAM_330 has no COV data !\n",
      "AIDREAM_330 has no rCMRO2 data !\n",
      "AIDREAM_330 has no rLeakage data !\n",
      "AIDREAM_331 has no CTH data !\n",
      "AIDREAM_331 has no OEF data !\n",
      "AIDREAM_331 has no rCBV data !\n",
      "AIDREAM_331 has no Delay data !\n",
      "AIDREAM_331 has no COV data !\n",
      "AIDREAM_331 has no rCMRO2 data !\n",
      "AIDREAM_331 has no rLeakage data !\n",
      "AIDREAM_332 has no CTH data !\n",
      "AIDREAM_332 has no OEF data !\n",
      "AIDREAM_332 has no rCBV data !\n",
      "AIDREAM_332 has no Delay data !\n",
      "AIDREAM_332 has no COV data !\n",
      "AIDREAM_332 has no rCMRO2 data !\n",
      "AIDREAM_332 has no rLeakage data !\n",
      "AIDREAM_334 has no CTH data !\n",
      "AIDREAM_334 has no OEF data !\n",
      "AIDREAM_334 has no rCBV data !\n",
      "AIDREAM_334 has no Delay data !\n",
      "AIDREAM_334 has no COV data !\n",
      "AIDREAM_334 has no rCMRO2 data !\n",
      "AIDREAM_334 has no rLeakage data !\n",
      "AIDREAM_335 has no CTH data !\n",
      "AIDREAM_335 has no OEF data !\n",
      "AIDREAM_335 has no rCBV data !\n",
      "AIDREAM_335 has no Delay data !\n",
      "AIDREAM_335 has no COV data !\n",
      "AIDREAM_335 has no rCMRO2 data !\n",
      "AIDREAM_335 has no rLeakage data !\n",
      "AIDREAM_336 has no CTH data !\n",
      "AIDREAM_336 has no OEF data !\n",
      "AIDREAM_336 has no rCBV data !\n",
      "AIDREAM_336 has no Delay data !\n",
      "AIDREAM_336 has no COV data !\n",
      "AIDREAM_336 has no rCMRO2 data !\n",
      "AIDREAM_336 has no rLeakage data !\n",
      "AIDREAM_339 has no CTH data !\n",
      "AIDREAM_339 has no OEF data !\n",
      "AIDREAM_339 has no rCBV data !\n",
      "AIDREAM_339 has no Delay data !\n",
      "AIDREAM_339 has no COV data !\n",
      "AIDREAM_339 has no rCMRO2 data !\n",
      "AIDREAM_339 has no rLeakage data !\n",
      "AIDREAM_341 has no CTH data !\n",
      "AIDREAM_341 has no OEF data !\n",
      "AIDREAM_341 has no rCBV data !\n",
      "AIDREAM_341 has no Delay data !\n",
      "AIDREAM_341 has no COV data !\n",
      "AIDREAM_341 has no rCMRO2 data !\n",
      "AIDREAM_341 has no rLeakage data !\n",
      "AIDREAM_342 has no CTH data !\n",
      "AIDREAM_342 has no OEF data !\n",
      "AIDREAM_342 has no rCBV data !\n",
      "AIDREAM_342 has no Delay data !\n",
      "AIDREAM_342 has no COV data !\n",
      "AIDREAM_342 has no rCMRO2 data !\n",
      "AIDREAM_342 has no rLeakage data !\n",
      "AIDREAM_343 has no CTH data !\n",
      "AIDREAM_343 has no OEF data !\n",
      "AIDREAM_343 has no rCBV data !\n",
      "AIDREAM_343 has no Delay data !\n",
      "AIDREAM_343 has no COV data !\n",
      "AIDREAM_343 has no rCMRO2 data !\n",
      "AIDREAM_343 has no rLeakage data !\n",
      "AIDREAM_344 has no CTH data !\n",
      "AIDREAM_344 has no OEF data !\n",
      "AIDREAM_344 has no rCBV data !\n",
      "AIDREAM_344 has no Delay data !\n",
      "AIDREAM_344 has no COV data !\n",
      "AIDREAM_344 has no rCMRO2 data !\n",
      "AIDREAM_344 has no rLeakage data !\n",
      "AIDREAM_345 has no CTH data !\n",
      "AIDREAM_345 has no OEF data !\n",
      "AIDREAM_345 has no rCBV data !\n",
      "AIDREAM_345 has no Delay data !\n",
      "AIDREAM_345 has no COV data !\n",
      "AIDREAM_345 has no rCMRO2 data !\n",
      "AIDREAM_345 has no rLeakage data !\n",
      "AIDREAM_346 has no CTH data !\n",
      "AIDREAM_346 has no OEF data !\n",
      "AIDREAM_346 has no rCBV data !\n",
      "AIDREAM_346 has no Delay data !\n",
      "AIDREAM_346 has no COV data !\n",
      "AIDREAM_346 has no rCMRO2 data !\n",
      "AIDREAM_346 has no rLeakage data !\n",
      "AIDREAM_348 has no CTH data !\n",
      "AIDREAM_348 has no OEF data !\n",
      "AIDREAM_348 has no rCBV data !\n",
      "AIDREAM_348 has no Delay data !\n",
      "AIDREAM_348 has no COV data !\n",
      "AIDREAM_348 has no rCMRO2 data !\n",
      "AIDREAM_348 has no rLeakage data !\n",
      "AIDREAM_349 has no CTH data !\n",
      "AIDREAM_349 has no OEF data !\n",
      "AIDREAM_349 has no rCBV data !\n",
      "AIDREAM_349 has no Delay data !\n",
      "AIDREAM_349 has no COV data !\n",
      "AIDREAM_349 has no rCMRO2 data !\n",
      "AIDREAM_349 has no rLeakage data !\n",
      "AIDREAM_350 has no CTH data !\n",
      "AIDREAM_350 has no OEF data !\n",
      "AIDREAM_350 has no rCBV data !\n",
      "AIDREAM_350 has no Delay data !\n",
      "AIDREAM_350 has no COV data !\n",
      "AIDREAM_350 has no rCMRO2 data !\n",
      "AIDREAM_350 has no rLeakage data !\n",
      "AIDREAM_351 has no CTH data !\n",
      "AIDREAM_351 has no OEF data !\n",
      "AIDREAM_351 has no rCBV data !\n",
      "AIDREAM_351 has no Delay data !\n",
      "AIDREAM_351 has no COV data !\n",
      "AIDREAM_351 has no rCMRO2 data !\n",
      "AIDREAM_351 has no rLeakage data !\n",
      "AIDREAM_354 has no CTH data !\n",
      "AIDREAM_354 has no OEF data !\n",
      "AIDREAM_354 has no rCBV data !\n",
      "AIDREAM_354 has no Delay data !\n",
      "AIDREAM_354 has no COV data !\n",
      "AIDREAM_354 has no rCMRO2 data !\n",
      "AIDREAM_354 has no rLeakage data !\n",
      "AIDREAM_356 has no CTH data !\n",
      "AIDREAM_356 has no OEF data !\n",
      "AIDREAM_356 has no rCBV data !\n",
      "AIDREAM_356 has no Delay data !\n",
      "AIDREAM_356 has no COV data !\n",
      "AIDREAM_356 has no rCMRO2 data !\n",
      "AIDREAM_356 has no rLeakage data !\n",
      "AIDREAM_357 has no CTH data !\n",
      "AIDREAM_357 has no OEF data !\n",
      "AIDREAM_357 has no rCBV data !\n",
      "AIDREAM_357 has no Delay data !\n",
      "AIDREAM_357 has no COV data !\n",
      "AIDREAM_357 has no rCMRO2 data !\n",
      "AIDREAM_357 has no rLeakage data !\n",
      "AIDREAM_358 has no CTH data !\n",
      "AIDREAM_358 has no OEF data !\n",
      "AIDREAM_358 has no rCBV data !\n",
      "AIDREAM_358 has no Delay data !\n",
      "AIDREAM_358 has no COV data !\n",
      "AIDREAM_358 has no rCMRO2 data !\n",
      "AIDREAM_358 has no rLeakage data !\n",
      "AIDREAM_359 has no CTH data !\n",
      "AIDREAM_359 has no OEF data !\n",
      "AIDREAM_359 has no rCBV data !\n",
      "AIDREAM_359 has no Delay data !\n",
      "AIDREAM_359 has no COV data !\n",
      "AIDREAM_359 has no rCMRO2 data !\n",
      "AIDREAM_359 has no rLeakage data !\n",
      "AIDREAM_360 has no CTH data !\n",
      "AIDREAM_360 has no OEF data !\n",
      "AIDREAM_360 has no rCBV data !\n",
      "AIDREAM_360 has no Delay data !\n",
      "AIDREAM_360 has no COV data !\n",
      "AIDREAM_360 has no rCMRO2 data !\n",
      "AIDREAM_360 has no rLeakage data !\n",
      "AIDREAM_361 has no CTH data !\n",
      "AIDREAM_361 has no OEF data !\n",
      "AIDREAM_361 has no rCBV data !\n",
      "AIDREAM_361 has no Delay data !\n",
      "AIDREAM_361 has no COV data !\n",
      "AIDREAM_361 has no rCMRO2 data !\n",
      "AIDREAM_361 has no rLeakage data !\n",
      "AIDREAM_362 has no CTH data !\n",
      "AIDREAM_362 has no OEF data !\n",
      "AIDREAM_362 has no rCBV data !\n",
      "AIDREAM_362 has no Delay data !\n",
      "AIDREAM_362 has no COV data !\n",
      "AIDREAM_362 has no rCMRO2 data !\n",
      "AIDREAM_362 has no rLeakage data !\n",
      "AIDREAM_363 has no CTH data !\n",
      "AIDREAM_363 has no OEF data !\n",
      "AIDREAM_363 has no rCBV data !\n",
      "AIDREAM_363 has no Delay data !\n",
      "AIDREAM_363 has no COV data !\n",
      "AIDREAM_363 has no rCMRO2 data !\n",
      "AIDREAM_363 has no rLeakage data !\n",
      "AIDREAM_364 has no CTH data !\n",
      "AIDREAM_364 has no OEF data !\n",
      "AIDREAM_364 has no rCBV data !\n",
      "AIDREAM_364 has no Delay data !\n",
      "AIDREAM_364 has no COV data !\n",
      "AIDREAM_364 has no rCMRO2 data !\n",
      "AIDREAM_364 has no rLeakage data !\n",
      "AIDREAM_365 has no CTH data !\n",
      "AIDREAM_365 has no OEF data !\n",
      "AIDREAM_365 has no rCBV data !\n",
      "AIDREAM_365 has no Delay data !\n",
      "AIDREAM_365 has no COV data !\n",
      "AIDREAM_365 has no rCMRO2 data !\n",
      "AIDREAM_365 has no rLeakage data !\n",
      "AIDREAM_366 has no CTH data !\n",
      "AIDREAM_366 has no OEF data !\n",
      "AIDREAM_366 has no rCBV data !\n",
      "AIDREAM_366 has no Delay data !\n",
      "AIDREAM_366 has no COV data !\n",
      "AIDREAM_366 has no rCMRO2 data !\n",
      "AIDREAM_366 has no rLeakage data !\n",
      "AIDREAM_367 has no CTH data !\n",
      "AIDREAM_367 has no OEF data !\n",
      "AIDREAM_367 has no rCBV data !\n",
      "AIDREAM_367 has no Delay data !\n",
      "AIDREAM_367 has no COV data !\n",
      "AIDREAM_367 has no rCMRO2 data !\n",
      "AIDREAM_367 has no rLeakage data !\n",
      "AIDREAM_370 has no CTH data !\n",
      "AIDREAM_370 has no OEF data !\n",
      "AIDREAM_370 has no rCBV data !\n",
      "AIDREAM_370 has no Delay data !\n",
      "AIDREAM_370 has no COV data !\n",
      "AIDREAM_370 has no rCMRO2 data !\n",
      "AIDREAM_370 has no rLeakage data !\n",
      "AIDREAM_371 has no CTH data !\n",
      "AIDREAM_371 has no OEF data !\n",
      "AIDREAM_371 has no rCBV data !\n",
      "AIDREAM_371 has no Delay data !\n",
      "AIDREAM_371 has no COV data !\n",
      "AIDREAM_371 has no rCMRO2 data !\n",
      "AIDREAM_371 has no rLeakage data !\n",
      "AIDREAM_372 has no CTH data !\n",
      "AIDREAM_372 has no OEF data !\n",
      "AIDREAM_372 has no rCBV data !\n",
      "AIDREAM_372 has no Delay data !\n",
      "AIDREAM_372 has no COV data !\n",
      "AIDREAM_372 has no rCMRO2 data !\n",
      "AIDREAM_372 has no rLeakage data !\n",
      "AIDREAM_373 has no CTH data !\n",
      "AIDREAM_373 has no OEF data !\n",
      "AIDREAM_373 has no rCBV data !\n",
      "AIDREAM_373 has no Delay data !\n",
      "AIDREAM_373 has no COV data !\n",
      "AIDREAM_373 has no rCMRO2 data !\n",
      "AIDREAM_373 has no rLeakage data !\n",
      "AIDREAM_374 has no CTH data !\n",
      "AIDREAM_374 has no OEF data !\n",
      "AIDREAM_374 has no rCBV data !\n",
      "AIDREAM_374 has no Delay data !\n",
      "AIDREAM_374 has no COV data !\n",
      "AIDREAM_374 has no rCMRO2 data !\n",
      "AIDREAM_374 has no rLeakage data !\n",
      "AIDREAM_375 has no CTH data !\n",
      "AIDREAM_375 has no OEF data !\n",
      "AIDREAM_375 has no rCBV data !\n",
      "AIDREAM_375 has no Delay data !\n",
      "AIDREAM_375 has no COV data !\n",
      "AIDREAM_375 has no rCMRO2 data !\n",
      "AIDREAM_375 has no rLeakage data !\n",
      "AIDREAM_378 has no CTH data !\n",
      "AIDREAM_378 has no OEF data !\n",
      "AIDREAM_378 has no rCBV data !\n",
      "AIDREAM_378 has no Delay data !\n",
      "AIDREAM_378 has no COV data !\n",
      "AIDREAM_378 has no rCMRO2 data !\n",
      "AIDREAM_378 has no rLeakage data !\n",
      "AIDREAM_379 has no CTH data !\n",
      "AIDREAM_379 has no OEF data !\n",
      "AIDREAM_379 has no rCBV data !\n",
      "AIDREAM_379 has no Delay data !\n",
      "AIDREAM_379 has no COV data !\n",
      "AIDREAM_379 has no rCMRO2 data !\n",
      "AIDREAM_379 has no rLeakage data !\n",
      "AIDREAM_380 has no CTH data !\n",
      "AIDREAM_380 has no OEF data !\n",
      "AIDREAM_380 has no rCBV data !\n",
      "AIDREAM_380 has no Delay data !\n",
      "AIDREAM_380 has no COV data !\n",
      "AIDREAM_380 has no rCMRO2 data !\n",
      "AIDREAM_380 has no rLeakage data !\n",
      "AIDREAM_381 has no CTH data !\n",
      "AIDREAM_381 has no OEF data !\n",
      "AIDREAM_381 has no rCBV data !\n",
      "AIDREAM_381 has no Delay data !\n",
      "AIDREAM_381 has no COV data !\n",
      "AIDREAM_381 has no rCMRO2 data !\n",
      "AIDREAM_381 has no rLeakage data !\n",
      "AIDREAM_382 has no CTH data !\n",
      "AIDREAM_382 has no OEF data !\n",
      "AIDREAM_382 has no rCBV data !\n",
      "AIDREAM_382 has no Delay data !\n",
      "AIDREAM_382 has no COV data !\n",
      "AIDREAM_382 has no rCMRO2 data !\n",
      "AIDREAM_382 has no rLeakage data !\n",
      "AIDREAM_385 has no CTH data !\n",
      "AIDREAM_385 has no OEF data !\n",
      "AIDREAM_385 has no rCBV data !\n",
      "AIDREAM_385 has no Delay data !\n",
      "AIDREAM_385 has no COV data !\n",
      "AIDREAM_385 has no rCMRO2 data !\n",
      "AIDREAM_385 has no rLeakage data !\n",
      "AIDREAM_389 has no CTH data !\n",
      "AIDREAM_389 has no OEF data !\n",
      "AIDREAM_389 has no rCBV data !\n",
      "AIDREAM_389 has no Delay data !\n",
      "AIDREAM_389 has no COV data !\n",
      "AIDREAM_389 has no rCMRO2 data !\n",
      "AIDREAM_389 has no rLeakage data !\n",
      "AIDREAM_390 has no CTH data !\n",
      "AIDREAM_390 has no OEF data !\n",
      "AIDREAM_390 has no rCBV data !\n",
      "AIDREAM_390 has no Delay data !\n",
      "AIDREAM_390 has no COV data !\n",
      "AIDREAM_390 has no rCMRO2 data !\n",
      "AIDREAM_390 has no rLeakage data !\n",
      "AIDREAM_391 has no CTH data !\n",
      "AIDREAM_391 has no OEF data !\n",
      "AIDREAM_391 has no rCBV data !\n",
      "AIDREAM_391 has no Delay data !\n",
      "AIDREAM_391 has no COV data !\n",
      "AIDREAM_391 has no rCMRO2 data !\n",
      "AIDREAM_391 has no rLeakage data !\n",
      "AIDREAM_393 has no CTH data !\n",
      "AIDREAM_393 has no OEF data !\n",
      "AIDREAM_393 has no rCBV data !\n",
      "AIDREAM_393 has no Delay data !\n",
      "AIDREAM_393 has no COV data !\n",
      "AIDREAM_393 has no rCMRO2 data !\n",
      "AIDREAM_393 has no rLeakage data !\n",
      "AIDREAM_394 has no CTH data !\n",
      "AIDREAM_394 has no OEF data !\n",
      "AIDREAM_394 has no rCBV data !\n",
      "AIDREAM_394 has no Delay data !\n",
      "AIDREAM_394 has no COV data !\n",
      "AIDREAM_394 has no rCMRO2 data !\n",
      "AIDREAM_394 has no rLeakage data !\n",
      "AIDREAM_397 has no CTH data !\n",
      "AIDREAM_397 has no OEF data !\n",
      "AIDREAM_397 has no rCBV data !\n",
      "AIDREAM_397 has no Delay data !\n",
      "AIDREAM_397 has no COV data !\n",
      "AIDREAM_397 has no rCMRO2 data !\n",
      "AIDREAM_397 has no rLeakage data !\n",
      "AIDREAM_399 has no CTH data !\n",
      "AIDREAM_399 has no OEF data !\n",
      "AIDREAM_399 has no rCBV data !\n",
      "AIDREAM_399 has no Delay data !\n",
      "AIDREAM_399 has no COV data !\n",
      "AIDREAM_399 has no rCMRO2 data !\n",
      "AIDREAM_399 has no rLeakage data !\n",
      "AIDREAM_400 has no CTH data !\n",
      "AIDREAM_400 has no OEF data !\n",
      "AIDREAM_400 has no rCBV data !\n",
      "AIDREAM_400 has no Delay data !\n",
      "AIDREAM_400 has no COV data !\n",
      "AIDREAM_400 has no rCMRO2 data !\n",
      "AIDREAM_400 has no rLeakage data !\n"
     ]
    },
    {
     "name": "stderr",
     "output_type": "stream",
     "text": [
      "\n"
     ]
    }
   ],
   "source": [
    "dir_src_cercare = Path(\"/media/maichi/T7/AIDREAM_DATA/raw\")\n",
    "\n",
    "list_patients_interim = set(list_patients)\n",
    "\n",
    "\n",
    "for patient in tqdm(list_patients):\n",
    "    for imaging in ['CTH', 'OEF', 'rCBV', 'Delay', 'COV', 'rCMRO2', 'rLeakage']:\n",
    "        \n",
    "        try:\n",
    "            dir_src = dir_src_cercare / patient / \"pre_RT\" / imaging\n",
    "            \n",
    "            dir_dst = dir_aidream_data / patient / \"pre_RT\" / imaging / \"DICOM\"\n",
    "            dir_dst.parent.mkdir(parents=True, exist_ok=True)\n",
    "        \n",
    "            shutil.copytree(src=dir_src, dst=dir_dst)            \n",
    "    \n",
    "        except Exception as e:\n",
    "\n",
    "            list_patients_interim = list_patients_interim - {patient}\n",
    "            print(fr\"{patient} has no {imaging} data !\")   \n",
    "    "
   ]
  },
  {
   "cell_type": "code",
   "execution_count": 55,
   "id": "49c3e6e6-9fea-4c28-87db-df3d7a57b48c",
   "metadata": {},
   "outputs": [
    {
     "name": "stdout",
     "output_type": "stream",
     "text": [
      "Number of patients with available CERCARE data (for now) : 107\n"
     ]
    }
   ],
   "source": [
    "list_patients_interim = list(set(list_patients_interim)) \n",
    "list_patients_interim = sort_name_list(list_patients_interim)\n",
    "\n",
    "print(fr\"Number of patients with available CERCARE data (for now) : {len(list_patients_interim)}\")\n"
   ]
  },
  {
   "cell_type": "code",
   "execution_count": 56,
   "id": "55a7e5b8-e64d-4795-b4c9-726b2021b34c",
   "metadata": {},
   "outputs": [],
   "source": [
    "with open(\"list_intermediary_patients.txt\", \"w\") as f:\n",
    "    f.writelines([f\"{p}\\n\" for p in list_patients_interim])\n",
    "    "
   ]
  },
  {
   "cell_type": "markdown",
   "id": "8775091e-193e-405f-bd78-b1406da5ad67",
   "metadata": {},
   "source": [
    "# 4. Load the Labels data : "
   ]
  },
  {
   "cell_type": "code",
   "execution_count": 98,
   "id": "9c0e6056-f3f7-4e0c-9159-1191912bd5da",
   "metadata": {},
   "outputs": [],
   "source": [
    "remaining_patients = set()"
   ]
  },
  {
   "cell_type": "markdown",
   "id": "9e04db9a-1b34-4978-8e65-e80dde935126",
   "metadata": {},
   "source": [
    "## 4.1. Load the pre_RT Labels data :  "
   ]
  },
  {
   "cell_type": "code",
   "execution_count": 99,
   "id": "cf37569d-0d75-4e92-b736-9178fbe599b8",
   "metadata": {
    "scrolled": true
   },
   "outputs": [
    {
     "name": "stderr",
     "output_type": "stream",
     "text": [
      "  6%|██████████▋                                                                                                                                                            | 15/234 [00:00<00:05, 43.49it/s]"
     ]
    },
    {
     "name": "stdout",
     "output_type": "stream",
     "text": [
      "Failed to load pre_RT Labels for patient AIDREAM_10 !\n",
      "Failed to load pre_RT Labels for patient AIDREAM_15 !\n"
     ]
    },
    {
     "name": "stderr",
     "output_type": "stream",
     "text": [
      " 12%|████████████████████▋                                                                                                                                                  | 29/234 [00:00<00:05, 38.56it/s]"
     ]
    },
    {
     "name": "stdout",
     "output_type": "stream",
     "text": [
      "Failed to load pre_RT Labels for patient AIDREAM_28 !\n",
      "Failed to load pre_RT Labels for patient AIDREAM_31 !\n",
      "Failed to load pre_RT Labels for patient AIDREAM_34 !\n"
     ]
    },
    {
     "name": "stderr",
     "output_type": "stream",
     "text": [
      " 15%|████████████████████████▎                                                                                                                                              | 34/234 [00:00<00:05, 39.53it/s]"
     ]
    },
    {
     "name": "stdout",
     "output_type": "stream",
     "text": [
      "Failed to load pre_RT Labels for patient AIDREAM_39 !\n",
      "Failed to load pre_RT Labels for patient AIDREAM_40 !\n",
      "Failed to load pre_RT Labels for patient AIDREAM_42 !\n",
      "Failed to load pre_RT Labels for patient AIDREAM_43 !\n"
     ]
    },
    {
     "name": "stderr",
     "output_type": "stream",
     "text": [
      " 33%|██████████████████████████████████████████████████████▉                                                                                                                | 77/234 [00:02<00:03, 43.10it/s]"
     ]
    },
    {
     "name": "stdout",
     "output_type": "stream",
     "text": [
      "Failed to load pre_RT Labels for patient AIDREAM_76 !\n"
     ]
    },
    {
     "name": "stderr",
     "output_type": "stream",
     "text": [
      " 40%|██████████████████████████████████████████████████████████████████▎                                                                                                    | 93/234 [00:02<00:02, 47.21it/s]"
     ]
    },
    {
     "name": "stdout",
     "output_type": "stream",
     "text": [
      "Failed to load pre_RT Labels for patient AIDREAM_102 !\n"
     ]
    },
    {
     "name": "stderr",
     "output_type": "stream",
     "text": [
      " 44%|█████████████████████████████████████████████████████████████████████████                                                                                             | 103/234 [00:02<00:03, 43.65it/s]"
     ]
    },
    {
     "name": "stdout",
     "output_type": "stream",
     "text": [
      "Failed to load pre_RT Labels for patient AIDREAM_116 !\n",
      "Failed to load pre_RT Labels for patient AIDREAM_125 !\n"
     ]
    },
    {
     "name": "stderr",
     "output_type": "stream",
     "text": [
      " 51%|████████████████████████████████████████████████████████████████████████████████████▍                                                                                 | 119/234 [00:03<00:02, 40.14it/s]"
     ]
    },
    {
     "name": "stdout",
     "output_type": "stream",
     "text": [
      "Failed to load pre_RT Labels for patient AIDREAM_131 !\n"
     ]
    },
    {
     "name": "stderr",
     "output_type": "stream",
     "text": [
      " 56%|████████████████████████████████████████████████████████████████████████████████████████████▏                                                                         | 130/234 [00:03<00:02, 41.56it/s]"
     ]
    },
    {
     "name": "stdout",
     "output_type": "stream",
     "text": [
      "Failed to load pre_RT Labels for patient AIDREAM_147 !\n",
      "Failed to load pre_RT Labels for patient AIDREAM_201 !\n",
      "Failed to load pre_RT Labels for patient AIDREAM_202 !\n"
     ]
    },
    {
     "name": "stderr",
     "output_type": "stream",
     "text": [
      " 60%|████████████████████████████████████████████████████████████████████████████████████████████████████                                                                  | 141/234 [00:03<00:02, 39.25it/s]"
     ]
    },
    {
     "name": "stdout",
     "output_type": "stream",
     "text": [
      "Failed to load pre_RT Labels for patient AIDREAM_204 !\n"
     ]
    },
    {
     "name": "stderr",
     "output_type": "stream",
     "text": [
      " 65%|███████████████████████████████████████████████████████████████████████████████████████████████████████████                                                           | 151/234 [00:03<00:02, 38.07it/s]"
     ]
    },
    {
     "name": "stdout",
     "output_type": "stream",
     "text": [
      "Failed to load pre_RT Labels for patient AIDREAM_230 !\n",
      "Failed to load pre_RT Labels for patient AIDREAM_234 !\n",
      "Failed to load pre_RT Labels for patient AIDREAM_238 !\n"
     ]
    },
    {
     "name": "stderr",
     "output_type": "stream",
     "text": [
      " 74%|██████████████████████████████████████████████████████████████████████████████████████████████████████████████████████████                                            | 172/234 [00:04<00:01, 39.16it/s]"
     ]
    },
    {
     "name": "stdout",
     "output_type": "stream",
     "text": [
      "Failed to load pre_RT Labels for patient AIDREAM_303 !\n",
      "Failed to load pre_RT Labels for patient AIDREAM_306 !\n",
      "Failed to load pre_RT Labels for patient AIDREAM_307 !\n",
      "Failed to load pre_RT Labels for patient AIDREAM_308 !\n",
      "Failed to load pre_RT Labels for patient AIDREAM_310 !\n",
      "Failed to load pre_RT Labels for patient AIDREAM_311 !\n",
      "Failed to load pre_RT Labels for patient AIDREAM_314 !\n"
     ]
    },
    {
     "name": "stderr",
     "output_type": "stream",
     "text": [
      " 77%|███████████████████████████████████████████████████████████████████████████████████████████████████████████████████████████████▋                                      | 180/234 [00:04<00:01, 33.65it/s]"
     ]
    },
    {
     "name": "stdout",
     "output_type": "stream",
     "text": [
      "Failed to load pre_RT Labels for patient AIDREAM_320 !\n",
      "Failed to load pre_RT Labels for patient AIDREAM_324 !\n",
      "Failed to load pre_RT Labels for patient AIDREAM_328 !\n"
     ]
    },
    {
     "name": "stderr",
     "output_type": "stream",
     "text": [
      " 80%|█████████████████████████████████████████████████████████████████████████████████████████████████████████████████████████████████████▎                                | 188/234 [00:04<00:01, 32.32it/s]"
     ]
    },
    {
     "name": "stdout",
     "output_type": "stream",
     "text": [
      "Failed to load pre_RT Labels for patient AIDREAM_330 !\n",
      "Failed to load pre_RT Labels for patient AIDREAM_334 !\n",
      "Failed to load pre_RT Labels for patient AIDREAM_335 !\n",
      "Failed to load pre_RT Labels for patient AIDREAM_339 !\n"
     ]
    },
    {
     "name": "stderr",
     "output_type": "stream",
     "text": [
      " 86%|███████████████████████████████████████████████████████████████████████████████████████████████████████████████████████████████████████████████▎                      | 202/234 [00:05<00:00, 43.23it/s]"
     ]
    },
    {
     "name": "stdout",
     "output_type": "stream",
     "text": [
      "Failed to load pre_RT Labels for patient AIDREAM_342 !\n",
      "Failed to load pre_RT Labels for patient AIDREAM_343 !\n",
      "Failed to load pre_RT Labels for patient AIDREAM_349 !\n",
      "Failed to load pre_RT Labels for patient AIDREAM_350 !\n",
      "Failed to load pre_RT Labels for patient AIDREAM_351 !\n",
      "Failed to load pre_RT Labels for patient AIDREAM_354 !\n",
      "Failed to load pre_RT Labels for patient AIDREAM_356 !\n",
      "Failed to load pre_RT Labels for patient AIDREAM_357 !\n",
      "Failed to load pre_RT Labels for patient AIDREAM_358 !\n",
      "Failed to load pre_RT Labels for patient AIDREAM_359 !\n"
     ]
    },
    {
     "name": "stderr",
     "output_type": "stream",
     "text": [
      " 91%|███████████████████████████████████████████████████████████████████████████████████████████████████████████████████████████████████████████████████████               | 213/234 [00:05<00:00, 36.28it/s]"
     ]
    },
    {
     "name": "stdout",
     "output_type": "stream",
     "text": [
      "Failed to load pre_RT Labels for patient AIDREAM_362 !\n",
      "Failed to load pre_RT Labels for patient AIDREAM_365 !\n",
      "Failed to load pre_RT Labels for patient AIDREAM_367 !\n",
      "Failed to load pre_RT Labels for patient AIDREAM_370 !\n",
      "Failed to load pre_RT Labels for patient AIDREAM_372 !\n"
     ]
    },
    {
     "name": "stderr",
     "output_type": "stream",
     "text": [
      " 97%|████████████████████████████████████████████████████████████████████████████████████████████████████████████████████████████████████████████████████████████████▎     | 226/234 [00:06<00:00, 29.01it/s]"
     ]
    },
    {
     "name": "stdout",
     "output_type": "stream",
     "text": [
      "Failed to load pre_RT Labels for patient AIDREAM_379 !\n"
     ]
    },
    {
     "name": "stderr",
     "output_type": "stream",
     "text": [
      " 98%|███████████████████████████████████████████████████████████████████████████████████████████████████████████████████████████████████████████████████████████████████▏  | 230/234 [00:06<00:00, 27.71it/s]"
     ]
    },
    {
     "name": "stdout",
     "output_type": "stream",
     "text": [
      "Failed to load pre_RT Labels for patient AIDREAM_390 !\n"
     ]
    },
    {
     "name": "stderr",
     "output_type": "stream",
     "text": [
      "100%|██████████████████████████████████████████████████████████████████████████████████████████████████████████████████████████████████████████████████████████████████████| 234/234 [00:06<00:00, 36.75it/s]"
     ]
    },
    {
     "name": "stdout",
     "output_type": "stream",
     "text": [
      "Failed to load pre_RT Labels for patient AIDREAM_399 !\n"
     ]
    },
    {
     "name": "stderr",
     "output_type": "stream",
     "text": [
      "\n"
     ]
    }
   ],
   "source": [
    "dir_src_prert_labels = constants.DIR_AIDREAM_ON_NAS / 'RSTRUCT_Export2024' / 'DONNEES_VALIDEES' / 'RTSTRUCT_IRM_preRT_09022024'\n",
    "\n",
    "for patient in tqdm(list_patients):\n",
    "\n",
    "    try:\n",
    "        dir_src = dir_src_prert_labels / patient / \"RS\"\n",
    "\n",
    "        dir_dst = dir_aidream_data / patient / \"pre_RT\" / 'Labels' / 'DICOM'\n",
    "        dir_dst.parent.mkdir(exist_ok=True, parents=True)\n",
    "\n",
    "        if dir_dst.exists():\n",
    "            shutil.rmtree(dir_dst)\n",
    "\n",
    "        shutil.copytree(dir_src, dir_dst)\n",
    "\n",
    "    except Exception as e:\n",
    "        print(fr'Failed to load pre_RT Labels for patient {patient} !')\n",
    "        remaining_patients.add(patient)\n",
    "        "
   ]
  },
  {
   "cell_type": "code",
   "execution_count": 100,
   "id": "9a24edcd-b044-4ebe-a8f6-6080dfe29822",
   "metadata": {},
   "outputs": [
    {
     "data": {
      "text/plain": [
       "53"
      ]
     },
     "execution_count": 100,
     "metadata": {},
     "output_type": "execute_result"
    }
   ],
   "source": [
    "len(remaining_patients)"
   ]
  },
  {
   "cell_type": "code",
   "execution_count": 101,
   "id": "8ad26904-93f2-4bba-b57e-107c2da00b00",
   "metadata": {
    "scrolled": true
   },
   "outputs": [
    {
     "name": "stderr",
     "output_type": "stream",
     "text": [
      " 14%|███████████████████████                                                                                                                                                  | 3/22 [00:00<00:00, 28.41it/s]"
     ]
    },
    {
     "name": "stdout",
     "output_type": "stream",
     "text": [
      "Replacing pre_RT labels for patient AIDREAM_114\n",
      "Successfully loaded pre_RT labels for patient AIDREAM_114\n",
      "Replacing pre_RT labels for patient AIDREAM_135\n",
      "Successfully loaded pre_RT labels for patient AIDREAM_135\n",
      "Replacing pre_RT labels for patient AIDREAM_137\n",
      "Successfully loaded pre_RT labels for patient AIDREAM_137\n",
      "Replacing pre_RT labels for patient AIDREAM_130\n",
      "Successfully loaded pre_RT labels for patient AIDREAM_130\n",
      "Adding pre_RT labels for patient AIDREAM_116+\n",
      "Successfully loaded pre_RT labels for patient AIDREAM_116\n",
      "Replacing pre_RT labels for patient AIDREAM_12\n"
     ]
    },
    {
     "name": "stderr",
     "output_type": "stream",
     "text": [
      " 27%|██████████████████████████████████████████████                                                                                                                           | 6/22 [00:00<00:00, 28.00it/s]"
     ]
    },
    {
     "name": "stdout",
     "output_type": "stream",
     "text": [
      "Successfully loaded pre_RT labels for patient AIDREAM_12\n",
      "Replacing pre_RT labels for patient AIDREAM_1\n",
      "Successfully loaded pre_RT labels for patient AIDREAM_1\n",
      "Adding pre_RT labels for patient AIDREAM_102+\n",
      "Successfully loaded pre_RT labels for patient AIDREAM_102\n",
      "Replacing pre_RT labels for patient AIDREAM_122\n",
      "Successfully loaded pre_RT labels for patient AIDREAM_122\n",
      "Replacing pre_RT labels for patient AIDREAM_109\n"
     ]
    },
    {
     "name": "stderr",
     "output_type": "stream",
     "text": [
      " 45%|████████████████████████████████████████████████████████████████████████████▎                                                                                           | 10/22 [00:00<00:00, 29.86it/s]"
     ]
    },
    {
     "name": "stdout",
     "output_type": "stream",
     "text": [
      "Successfully loaded pre_RT labels for patient AIDREAM_109\n",
      "Replacing pre_RT labels for patient AIDREAM_132\n",
      "Successfully loaded pre_RT labels for patient AIDREAM_132\n",
      "Replacing pre_RT labels for patient AIDREAM_104\n",
      "Successfully loaded pre_RT labels for patient AIDREAM_104\n",
      "Replacing pre_RT labels for patient AIDREAM_11\n"
     ]
    },
    {
     "name": "stderr",
     "output_type": "stream",
     "text": [
      " 64%|██████████████████████████████████████████████████████████████████████████████████████████████████████████▉                                                             | 14/22 [00:00<00:00, 32.14it/s]"
     ]
    },
    {
     "name": "stdout",
     "output_type": "stream",
     "text": [
      "Successfully loaded pre_RT labels for patient AIDREAM_11\n",
      "Replacing pre_RT labels for patient AIDREAM_13\n",
      "Successfully loaded pre_RT labels for patient AIDREAM_13\n",
      "Replacing pre_RT labels for patient AIDREAM_124\n",
      "Successfully loaded pre_RT labels for patient AIDREAM_124\n",
      "Replacing pre_RT labels for patient AIDREAM_117\n",
      "Successfully loaded pre_RT labels for patient AIDREAM_117\n",
      "Replacing pre_RT labels for patient AIDREAM_101\n",
      "Successfully loaded pre_RT labels for patient AIDREAM_101\n",
      "Replacing pre_RT labels for patient AIDREAM_120\n"
     ]
    },
    {
     "name": "stderr",
     "output_type": "stream",
     "text": [
      " 82%|█████████████████████████████████████████████████████████████████████████████████████████████████████████████████████████████████████████▍                              | 18/22 [00:00<00:00, 32.87it/s]"
     ]
    },
    {
     "name": "stdout",
     "output_type": "stream",
     "text": [
      "Successfully loaded pre_RT labels for patient AIDREAM_120\n",
      "Replacing pre_RT labels for patient AIDREAM_121\n",
      "Successfully loaded pre_RT labels for patient AIDREAM_121\n",
      "Adding pre_RT labels for patient AIDREAM_10+\n",
      "Successfully loaded pre_RT labels for patient AIDREAM_10\n",
      "Replacing pre_RT labels for patient AIDREAM_331\n"
     ]
    },
    {
     "name": "stderr",
     "output_type": "stream",
     "text": [
      "100%|████████████████████████████████████████████████████████████████████████████████████████████████████████████████████████████████████████████████████████████████████████| 22/22 [00:00<00:00, 29.96it/s]"
     ]
    },
    {
     "name": "stdout",
     "output_type": "stream",
     "text": [
      "Successfully loaded pre_RT labels for patient AIDREAM_331\n",
      "Replacing pre_RT labels for patient AIDREAM_115\n",
      "Successfully loaded pre_RT labels for patient AIDREAM_115\n"
     ]
    },
    {
     "name": "stderr",
     "output_type": "stream",
     "text": [
      "\n"
     ]
    }
   ],
   "source": [
    "dir_src_prert_labels = constants.DIR_AIDREAM_ON_NAS / 'Export_RayStation_RS_27062024' / 'preRT'\n",
    "\n",
    "for folder in tqdm(os.listdir(dir_src_prert_labels)):\n",
    "\n",
    "    patient = folder.split(\"__\")[-1]\n",
    "\n",
    "    try:\n",
    "        dir_src = dir_src_prert_labels / folder\n",
    "\n",
    "        dir_dst = dir_aidream_data / patient / \"pre_RT\" / 'Labels' / 'DICOM'\n",
    "        dir_dst.parent.mkdir(exist_ok=True, parents=True)\n",
    "\n",
    "        if dir_dst.exists():\n",
    "\n",
    "            print(fr\"Replacing pre_RT labels for patient {patient}\")\n",
    "            shutil.rmtree(dir_dst)\n",
    "\n",
    "        else:\n",
    "            print(fr\"Adding pre_RT labels for patient {patient}+\")\n",
    "\n",
    "        shutil.copytree(dir_src, dir_dst)\n",
    "        remaining_patients = remaining_patients - {patient}\n",
    "        print(fr\"Successfully loaded pre_RT labels for patient {patient}\")\n",
    "        \n",
    "    except Exception as e:\n",
    "        print(e)\n",
    "        print(fr'Failed to load pre_RT Labels for patient {patient} !')\n",
    "        "
   ]
  },
  {
   "cell_type": "code",
   "execution_count": 102,
   "id": "edeec40d-1931-40f7-9536-703db0a50146",
   "metadata": {},
   "outputs": [
    {
     "data": {
      "text/plain": [
       "50"
      ]
     },
     "execution_count": 102,
     "metadata": {},
     "output_type": "execute_result"
    }
   ],
   "source": [
    "len(remaining_patients)"
   ]
  },
  {
   "cell_type": "code",
   "execution_count": null,
   "id": "aaebc558-19a0-4e84-b2a4-495b458c9a94",
   "metadata": {},
   "outputs": [],
   "source": []
  }
 ],
 "metadata": {
  "kernelspec": {
   "display_name": "Python 3 (ipykernel)",
   "language": "python",
   "name": "python3"
  },
  "language_info": {
   "codemirror_mode": {
    "name": "ipython",
    "version": 3
   },
   "file_extension": ".py",
   "mimetype": "text/x-python",
   "name": "python",
   "nbconvert_exporter": "python",
   "pygments_lexer": "ipython3",
   "version": "3.11.9"
  }
 },
 "nbformat": 4,
 "nbformat_minor": 5
}
