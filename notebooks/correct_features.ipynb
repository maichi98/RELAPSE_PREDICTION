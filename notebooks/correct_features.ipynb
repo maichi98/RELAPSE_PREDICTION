{
 "cells": [
  {
   "cell_type": "code",
   "id": "initial_id",
   "metadata": {
    "collapsed": true,
    "ExecuteTime": {
     "end_time": "2024-06-12T15:13:58.764371Z",
     "start_time": "2024-06-12T15:13:58.762703Z"
    }
   },
   "source": [
    "from relapse_prediction import constants, utils\n",
    "from relapse_prediction import features\n",
    "\n",
    "from tqdm.auto import tqdm\n",
    "from scipy import stats\n",
    "import pandas as pd\n",
    "import pickle\n"
   ],
   "outputs": [],
   "execution_count": 13
  },
  {
   "metadata": {},
   "cell_type": "markdown",
   "source": "# First, let's correct the IRM features : ",
   "id": "d84a415b1f16b0fc"
  },
  {
   "metadata": {
    "ExecuteTime": {
     "end_time": "2024-06-12T15:21:09.747637Z",
     "start_time": "2024-06-12T15:21:09.745130Z"
    }
   },
   "cell_type": "code",
   "source": [
    "def correct_irm_features(patient, imaging):\n",
    "    \n",
    "    path_irm_features = constants.dir_features / patient / f\"{patient}_{imaging}_features.parquet\"\n",
    "    df_irm_imaging = pd.read_parquet(path_irm_features, engine=\"pyarrow\")\n",
    "    \n",
    "    list_cols = [imaging, \"mean_7x7\", 'mean_5x5', 'mean_3x3', 'mean_3x3x3', 'mean_5x5x5']\n",
    "    \n",
    "    for col in list_cols:\n",
    "        df_irm_imaging[col] = stats.zscore(df_irm_imaging[col])\n",
    "    \n",
    "    df_irm_imaging.to_parquet(path_irm_features, engine=\"pyarrow\")\n"
   ],
   "id": "4f86cae6299184ad",
   "outputs": [],
   "execution_count": 33
  },
  {
   "metadata": {
    "ExecuteTime": {
     "end_time": "2024-06-12T15:22:57.616538Z",
     "start_time": "2024-06-12T15:21:25.266969Z"
    }
   },
   "cell_type": "code",
   "source": [
    "for patient in tqdm(constants.list_patients):\n",
    "    for imaging in constants.L_IRM_MAPS:\n",
    "        correct_irm_features(patient, imaging)\n",
    "        "
   ],
   "id": "a6ee4dcbf42f014b",
   "outputs": [
    {
     "data": {
      "text/plain": [
       "  0%|          | 0/105 [00:00<?, ?it/s]"
      ],
      "application/vnd.jupyter.widget-view+json": {
       "version_major": 2,
       "version_minor": 0,
       "model_id": "c5783790e7a6476380d9d5b623532338"
      }
     },
     "metadata": {},
     "output_type": "display_data"
    }
   ],
   "execution_count": 34
  },
  {
   "metadata": {},
   "cell_type": "markdown",
   "source": "## Intensity binning : ",
   "id": "951cc79da508b1bb"
  },
  {
   "metadata": {},
   "cell_type": "code",
   "outputs": [],
   "execution_count": null,
   "source": [
    "def get_list_thresholds(imaging, feature, label):\n",
    "    \n",
    "    path_list_thresholds = constants.dir_features / \"list_thresholds\" / f\"{label}_{imaging}_{feature}_thresholds.pickle\"\n",
    "    \n",
    "    with open(path_list_thresholds, \"rb\") as f:\n",
    "        list_thresholds = pickle.load(f)\n",
    "    "
   ],
   "id": "8d8f3f1361eb7d8d"
  },
  {
   "metadata": {},
   "cell_type": "code",
   "outputs": [],
   "execution_count": null,
   "source": "",
   "id": "1dd1148a3039dfa4"
  },
  {
   "metadata": {},
   "cell_type": "code",
   "outputs": [],
   "execution_count": null,
   "source": "",
   "id": "90e9e93341246013"
  },
  {
   "metadata": {},
   "cell_type": "code",
   "outputs": [],
   "execution_count": null,
   "source": "",
   "id": "aaa1ac43266c530a"
  },
  {
   "metadata": {},
   "cell_type": "code",
   "outputs": [],
   "execution_count": null,
   "source": "",
   "id": "f05942442b2f3a8c"
  },
  {
   "metadata": {},
   "cell_type": "code",
   "outputs": [],
   "execution_count": null,
   "source": "",
   "id": "8b24daa0bd3c9dc3"
  },
  {
   "metadata": {},
   "cell_type": "markdown",
   "source": "# Second, Let's correct the labels columns :",
   "id": "1ff8a9203c1c1042"
  },
  {
   "metadata": {
    "ExecuteTime": {
     "end_time": "2024-06-12T16:36:26.448929Z",
     "start_time": "2024-06-12T16:36:26.446334Z"
    }
   },
   "cell_type": "code",
   "source": [
    "def correct_labels(patient):\n",
    "    \n",
    "    path_labels = constants.dir_labels / f\"{patient}_labels.parquet\"\n",
    "    \n",
    "    df_labels = pd.read_parquet(path_labels, engine=\"pyarrow\")\n",
    "    \n",
    "    list_cols = ['mean_L3R_5x5x5', 'mean_L3R - (L1 + L3)_5x5x5', 'mean_(L1 + L3)_5x5x5', 'mean_L2_5x5x5',   \n",
    "                    'mean_L3_5x5x5', 'mean_L4_5x5x5', 'mean_L5_5x5x5', 'mean_(L4 + L5)_5x5x5']\n",
    "    \n",
    "    for col in list_cols:\n",
    "        df_labels.loc[df_labels[col] < 0.5, col] = 0\n",
    "        df_labels.loc[df_labels[col] >= 0.5, col] = 1\n",
    "        \n",
    "    dict_cols = {col: col.lstrip(\"mean_\") for col in list_cols}\n",
    "    \n",
    "    df_labels = df_labels.rename(columns=dict_cols)\n",
    "    \n",
    "    df_labels.to_parquet(path_labels, engine=\"pyarrow\")\n",
    "    "
   ],
   "id": "fdb2fb18d13e9a2",
   "outputs": [],
   "execution_count": 46
  },
  {
   "metadata": {
    "ExecuteTime": {
     "end_time": "2024-06-12T16:36:59.000464Z",
     "start_time": "2024-06-12T16:36:26.554473Z"
    }
   },
   "cell_type": "code",
   "source": [
    "for patient in tqdm(constants.list_patients):\n",
    "    correct_labels(patient)\n",
    "    "
   ],
   "id": "c963b52f59a12f81",
   "outputs": [
    {
     "data": {
      "text/plain": [
       "  0%|          | 0/105 [00:00<?, ?it/s]"
      ],
      "application/vnd.jupyter.widget-view+json": {
       "version_major": 2,
       "version_minor": 0,
       "model_id": "de78b623f4dd4d09992732860da25842"
      }
     },
     "metadata": {},
     "output_type": "display_data"
    }
   ],
   "execution_count": 47
  },
  {
   "metadata": {},
   "cell_type": "code",
   "outputs": [],
   "execution_count": null,
   "source": "",
   "id": "f152a47fd630045d"
  }
 ],
 "metadata": {
  "kernelspec": {
   "display_name": "Python 3",
   "language": "python",
   "name": "python3"
  },
  "language_info": {
   "codemirror_mode": {
    "name": "ipython",
    "version": 2
   },
   "file_extension": ".py",
   "mimetype": "text/x-python",
   "name": "python",
   "nbconvert_exporter": "python",
   "pygments_lexer": "ipython2",
   "version": "2.7.6"
  }
 },
 "nbformat": 4,
 "nbformat_minor": 5
}
