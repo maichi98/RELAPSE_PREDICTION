{
 "cells": [
  {
   "cell_type": "code",
   "execution_count": 1,
   "id": "20fb72e2-27b5-4209-bb86-d0573acd70ad",
   "metadata": {},
   "outputs": [],
   "source": [
    "from pathlib import Path\n",
    "from tqdm import tqdm\n",
    "import pandas as pd\n",
    "import numpy as np\n",
    "import shutil\n",
    "import os\n"
   ]
  },
  {
   "cell_type": "code",
   "execution_count": 2,
   "id": "41f84d93-3dd3-471b-bcf4-a084e1aeadb9",
   "metadata": {},
   "outputs": [
    {
     "data": {
      "text/plain": [
       "True"
      ]
     },
     "execution_count": 2,
     "metadata": {},
     "output_type": "execute_result"
    }
   ],
   "source": [
    "dir_aidream_data = Path(\"/media/maichi/T7/AIDREAM_DATA\")\n",
    "dir_aidream_data.exists()\n"
   ]
  },
  {
   "cell_type": "code",
   "execution_count": 3,
   "id": "0de1dca5-ee8e-4fba-8334-f5c93a340a47",
   "metadata": {},
   "outputs": [],
   "source": [
    "dir_raw   = dir_aidream_data / \"raw\"\n",
    "dir_nifti = dir_aidream_data / \"nifti\"\n",
    "dir_processed = dir_aidream_data / \"processed\"\n"
   ]
  },
  {
   "cell_type": "code",
   "execution_count": 4,
   "id": "f5785602-ab4d-48fb-9db3-67494bf96a45",
   "metadata": {},
   "outputs": [],
   "source": [
    "list_patients = os.listdir(dir_raw)\n",
    "\n",
    "list_patients = list(set(list_patients) - {\"AIDREAM_50\", \"AIDREAM_152\", 'AIDREAM_102'})\n",
    "\n",
    "list_patients = [list_patients[i] for i in np.argsort([int(p.strip('AIDREAM_')) for p in list_patients])]\n"
   ]
  },
  {
   "cell_type": "code",
   "execution_count": 5,
   "id": "bbb7740e-4057-40c2-beef-07f49f101259",
   "metadata": {},
   "outputs": [],
   "source": [
    "from DS2nii.convert.dcm_2_nii import rtstruct2nii"
   ]
  },
  {
   "cell_type": "code",
   "execution_count": 15,
   "id": "f5089b41-1d6b-4f38-a586-05499b1f1ee1",
   "metadata": {
    "scrolled": true
   },
   "outputs": [
    {
     "name": "stderr",
     "output_type": "stream",
     "text": [
      "  0%|                                                                                                                                                                                | 0/107 [00:00<?, ?it/s]2024-08-01 02:23 WARNING: No rescale slope found in dicom header\n",
      "2024-08-01 02:23 WARNING: No rescale intercept found in dicom header\n"
     ]
    },
    {
     "name": "stdout",
     "output_type": "stream",
     "text": [
      "AIDREAM_1\n"
     ]
    },
    {
     "name": "stderr",
     "output_type": "stream",
     "text": [
      "2024-08-01 02:23 WARNING: No rescale slope found in dicom header\n",
      "2024-08-01 02:23 WARNING: No rescale intercept found in dicom header\n",
      "  1%|█▌                                                                                                                                                                      | 1/107 [00:01<02:47,  1.58s/it]2024-08-01 02:23 WARNING: No rescale slope found in dicom header\n",
      "2024-08-01 02:23 WARNING: No rescale intercept found in dicom header\n"
     ]
    },
    {
     "name": "stdout",
     "output_type": "stream",
     "text": [
      "AIDREAM_2\n"
     ]
    },
    {
     "name": "stderr",
     "output_type": "stream",
     "text": [
      "  2%|███▏                                                                                                                                                                    | 2/107 [00:02<01:45,  1.00s/it]"
     ]
    },
    {
     "name": "stdout",
     "output_type": "stream",
     "text": [
      "AIDREAM_3\n"
     ]
    },
    {
     "name": "stderr",
     "output_type": "stream",
     "text": [
      "2024-08-01 02:23 WARNING: No rescale slope found in dicom header\n",
      "2024-08-01 02:23 WARNING: No rescale intercept found in dicom header\n",
      "2024-08-01 02:23 WARNING: No rescale slope found in dicom header\n",
      "2024-08-01 02:23 WARNING: No rescale intercept found in dicom header\n",
      "  3%|████▋                                                                                                                                                                   | 3/107 [00:03<01:45,  1.01s/it]"
     ]
    },
    {
     "name": "stdout",
     "output_type": "stream",
     "text": [
      "AIDREAM_4\n"
     ]
    },
    {
     "name": "stderr",
     "output_type": "stream",
     "text": [
      "2024-08-01 02:23 WARNING: No rescale slope found in dicom header\n",
      "2024-08-01 02:23 WARNING: No rescale intercept found in dicom header\n",
      "  4%|██████▎                                                                                                                                                                 | 4/107 [00:03<01:33,  1.10it/s]2024-08-01 02:23 WARNING: No rescale slope found in dicom header\n",
      "2024-08-01 02:23 WARNING: No rescale intercept found in dicom header\n"
     ]
    },
    {
     "name": "stdout",
     "output_type": "stream",
     "text": [
      "AIDREAM_6\n"
     ]
    },
    {
     "name": "stderr",
     "output_type": "stream",
     "text": [
      "  5%|███████▊                                                                                                                                                                | 5/107 [00:05<01:51,  1.09s/it]"
     ]
    },
    {
     "name": "stdout",
     "output_type": "stream",
     "text": [
      "AIDREAM_7\n"
     ]
    },
    {
     "name": "stderr",
     "output_type": "stream",
     "text": [
      "2024-08-01 02:23 WARNING: No rescale slope found in dicom header\n",
      "2024-08-01 02:23 WARNING: No rescale intercept found in dicom header\n",
      "  6%|█████████▍                                                                                                                                                              | 6/107 [00:06<02:00,  1.20s/it]"
     ]
    },
    {
     "name": "stdout",
     "output_type": "stream",
     "text": [
      "AIDREAM_9\n"
     ]
    },
    {
     "name": "stderr",
     "output_type": "stream",
     "text": [
      "2024-08-01 02:23 WARNING: No rescale slope found in dicom header\n",
      "2024-08-01 02:23 WARNING: No rescale intercept found in dicom header\n",
      "  7%|██████████▉                                                                                                                                                             | 7/107 [00:07<01:49,  1.09s/it]"
     ]
    },
    {
     "name": "stdout",
     "output_type": "stream",
     "text": [
      "AIDREAM_11\n"
     ]
    },
    {
     "name": "stderr",
     "output_type": "stream",
     "text": [
      "2024-08-01 02:23 WARNING: No rescale slope found in dicom header\n",
      "2024-08-01 02:23 WARNING: No rescale intercept found in dicom header\n",
      "2024-08-01 02:23 WARNING: No rescale slope found in dicom header\n",
      "2024-08-01 02:23 WARNING: No rescale intercept found in dicom header\n",
      "  7%|████████████▌                                                                                                                                                           | 8/107 [00:09<02:13,  1.35s/it]"
     ]
    },
    {
     "name": "stdout",
     "output_type": "stream",
     "text": [
      "AIDREAM_12\n"
     ]
    },
    {
     "name": "stderr",
     "output_type": "stream",
     "text": [
      "2024-08-01 02:23 WARNING: No rescale slope found in dicom header\n",
      "2024-08-01 02:23 WARNING: No rescale intercept found in dicom header\n",
      "2024-08-01 02:23 WARNING: No rescale slope found in dicom header\n",
      "2024-08-01 02:23 WARNING: No rescale intercept found in dicom header\n",
      "  8%|██████████████▏                                                                                                                                                         | 9/107 [00:10<02:09,  1.32s/it]"
     ]
    },
    {
     "name": "stdout",
     "output_type": "stream",
     "text": [
      "AIDREAM_13\n"
     ]
    },
    {
     "name": "stderr",
     "output_type": "stream",
     "text": [
      "2024-08-01 02:23 WARNING: No rescale slope found in dicom header\n",
      "2024-08-01 02:23 WARNING: No rescale intercept found in dicom header\n",
      "2024-08-01 02:23 WARNING: No rescale slope found in dicom header\n",
      "2024-08-01 02:23 WARNING: No rescale intercept found in dicom header\n",
      "  9%|███████████████▌                                                                                                                                                       | 10/107 [00:12<02:11,  1.36s/it]2024-08-01 02:23 WARNING: No rescale slope found in dicom header\n",
      "2024-08-01 02:23 WARNING: No rescale intercept found in dicom header\n"
     ]
    },
    {
     "name": "stdout",
     "output_type": "stream",
     "text": [
      "AIDREAM_14\n"
     ]
    },
    {
     "name": "stderr",
     "output_type": "stream",
     "text": [
      "2024-08-01 02:23 WARNING: No rescale slope found in dicom header\n",
      "2024-08-01 02:23 WARNING: No rescale intercept found in dicom header\n",
      " 10%|█████████████████▏                                                                                                                                                     | 11/107 [00:12<01:49,  1.14s/it]"
     ]
    },
    {
     "name": "stdout",
     "output_type": "stream",
     "text": [
      "AIDREAM_17\n"
     ]
    },
    {
     "name": "stderr",
     "output_type": "stream",
     "text": [
      "2024-08-01 02:23 WARNING: No rescale slope found in dicom header\n",
      "2024-08-01 02:23 WARNING: No rescale intercept found in dicom header\n",
      "2024-08-01 02:23 WARNING: No rescale slope found in dicom header\n",
      "2024-08-01 02:23 WARNING: No rescale intercept found in dicom header\n",
      " 11%|██████████████████▋                                                                                                                                                    | 12/107 [00:14<02:07,  1.34s/it]"
     ]
    },
    {
     "name": "stdout",
     "output_type": "stream",
     "text": [
      "AIDREAM_20\n"
     ]
    },
    {
     "name": "stderr",
     "output_type": "stream",
     "text": [
      "2024-08-01 02:23 WARNING: No rescale slope found in dicom header\n",
      "2024-08-01 02:23 WARNING: No rescale intercept found in dicom header\n",
      "2024-08-01 02:23 WARNING: No rescale slope found in dicom header\n",
      "2024-08-01 02:23 WARNING: No rescale intercept found in dicom header\n",
      " 12%|████████████████████▎                                                                                                                                                  | 13/107 [00:16<02:32,  1.62s/it]"
     ]
    },
    {
     "name": "stdout",
     "output_type": "stream",
     "text": [
      "AIDREAM_21\n"
     ]
    },
    {
     "name": "stderr",
     "output_type": "stream",
     "text": [
      "2024-08-01 02:23 WARNING: No rescale slope found in dicom header\n",
      "2024-08-01 02:23 WARNING: No rescale intercept found in dicom header\n",
      "2024-08-01 02:23 WARNING: No rescale slope found in dicom header\n",
      "2024-08-01 02:23 WARNING: No rescale intercept found in dicom header\n",
      " 13%|█████████████████████▊                                                                                                                                                 | 14/107 [00:19<02:53,  1.87s/it]"
     ]
    },
    {
     "name": "stdout",
     "output_type": "stream",
     "text": [
      "AIDREAM_22\n"
     ]
    },
    {
     "name": "stderr",
     "output_type": "stream",
     "text": [
      "2024-08-01 02:23 WARNING: No rescale slope found in dicom header\n",
      "2024-08-01 02:23 WARNING: No rescale intercept found in dicom header\n",
      "2024-08-01 02:23 WARNING: No rescale slope found in dicom header\n",
      "2024-08-01 02:23 WARNING: No rescale intercept found in dicom header\n",
      " 14%|███████████████████████▍                                                                                                                                               | 15/107 [00:21<03:03,  1.99s/it]"
     ]
    },
    {
     "name": "stdout",
     "output_type": "stream",
     "text": [
      "AIDREAM_24\n"
     ]
    },
    {
     "name": "stderr",
     "output_type": "stream",
     "text": [
      "2024-08-01 02:23 WARNING: No rescale slope found in dicom header\n",
      "2024-08-01 02:23 WARNING: No rescale intercept found in dicom header\n",
      "2024-08-01 02:23 WARNING: No rescale slope found in dicom header\n",
      "2024-08-01 02:23 WARNING: No rescale intercept found in dicom header\n",
      " 15%|████████████████████████▉                                                                                                                                              | 16/107 [00:23<02:59,  1.97s/it]"
     ]
    },
    {
     "name": "stdout",
     "output_type": "stream",
     "text": [
      "AIDREAM_26\n"
     ]
    },
    {
     "name": "stderr",
     "output_type": "stream",
     "text": [
      "2024-08-01 02:23 WARNING: No rescale slope found in dicom header\n",
      "2024-08-01 02:23 WARNING: No rescale intercept found in dicom header\n",
      "2024-08-01 02:23 WARNING: No rescale slope found in dicom header\n",
      "2024-08-01 02:23 WARNING: No rescale intercept found in dicom header\n",
      " 16%|██████████████████████████▌                                                                                                                                            | 17/107 [00:24<02:39,  1.77s/it]"
     ]
    },
    {
     "name": "stdout",
     "output_type": "stream",
     "text": [
      "AIDREAM_33\n"
     ]
    },
    {
     "name": "stderr",
     "output_type": "stream",
     "text": [
      "2024-08-01 02:23 WARNING: No rescale slope found in dicom header\n",
      "2024-08-01 02:23 WARNING: No rescale intercept found in dicom header\n",
      "2024-08-01 02:23 WARNING: No rescale slope found in dicom header\n",
      "2024-08-01 02:23 WARNING: No rescale intercept found in dicom header\n",
      " 17%|████████████████████████████                                                                                                                                           | 18/107 [00:26<02:27,  1.66s/it]"
     ]
    },
    {
     "name": "stdout",
     "output_type": "stream",
     "text": [
      "AIDREAM_35\n"
     ]
    },
    {
     "name": "stderr",
     "output_type": "stream",
     "text": [
      "2024-08-01 02:23 WARNING: No rescale slope found in dicom header\n",
      "2024-08-01 02:23 WARNING: No rescale intercept found in dicom header\n",
      "2024-08-01 02:23 WARNING: No rescale slope found in dicom header\n",
      "2024-08-01 02:23 WARNING: No rescale intercept found in dicom header\n",
      " 18%|█████████████████████████████▋                                                                                                                                         | 19/107 [00:27<02:18,  1.57s/it]2024-08-01 02:23 WARNING: No rescale slope found in dicom header\n",
      "2024-08-01 02:23 WARNING: No rescale intercept found in dicom header\n"
     ]
    },
    {
     "name": "stdout",
     "output_type": "stream",
     "text": [
      "AIDREAM_36\n"
     ]
    },
    {
     "name": "stderr",
     "output_type": "stream",
     "text": [
      "2024-08-01 02:23 WARNING: No rescale slope found in dicom header\n",
      "2024-08-01 02:23 WARNING: No rescale intercept found in dicom header\n",
      " 19%|███████████████████████████████▏                                                                                                                                       | 20/107 [00:28<01:53,  1.30s/it]"
     ]
    },
    {
     "name": "stdout",
     "output_type": "stream",
     "text": [
      "AIDREAM_38\n"
     ]
    },
    {
     "name": "stderr",
     "output_type": "stream",
     "text": [
      "2024-08-01 02:23 WARNING: No rescale slope found in dicom header\n",
      "2024-08-01 02:23 WARNING: No rescale intercept found in dicom header\n",
      "2024-08-01 02:23 WARNING: No rescale slope found in dicom header\n",
      "2024-08-01 02:23 WARNING: No rescale intercept found in dicom header\n",
      " 20%|████████████████████████████████▊                                                                                                                                      | 21/107 [00:30<02:09,  1.51s/it]"
     ]
    },
    {
     "name": "stdout",
     "output_type": "stream",
     "text": [
      "AIDREAM_44\n"
     ]
    },
    {
     "name": "stderr",
     "output_type": "stream",
     "text": [
      "2024-08-01 02:23 WARNING: No rescale slope found in dicom header\n",
      "2024-08-01 02:23 WARNING: No rescale intercept found in dicom header\n",
      "2024-08-01 02:23 WARNING: No rescale slope found in dicom header\n",
      "2024-08-01 02:23 WARNING: No rescale intercept found in dicom header\n",
      " 21%|██████████████████████████████████▎                                                                                                                                    | 22/107 [00:31<01:55,  1.35s/it]"
     ]
    },
    {
     "name": "stdout",
     "output_type": "stream",
     "text": [
      "AIDREAM_45\n"
     ]
    },
    {
     "name": "stderr",
     "output_type": "stream",
     "text": [
      "2024-08-01 02:23 WARNING: No rescale slope found in dicom header\n",
      "2024-08-01 02:23 WARNING: No rescale intercept found in dicom header\n",
      "2024-08-01 02:23 WARNING: No rescale slope found in dicom header\n",
      "2024-08-01 02:23 WARNING: No rescale intercept found in dicom header\n",
      " 21%|███████████████████████████████████▉                                                                                                                                   | 23/107 [00:32<01:53,  1.35s/it]"
     ]
    },
    {
     "name": "stdout",
     "output_type": "stream",
     "text": [
      "AIDREAM_46\n"
     ]
    },
    {
     "name": "stderr",
     "output_type": "stream",
     "text": [
      "2024-08-01 02:23 WARNING: No rescale slope found in dicom header\n",
      "2024-08-01 02:23 WARNING: No rescale intercept found in dicom header\n",
      "2024-08-01 02:23 WARNING: No rescale slope found in dicom header\n",
      "2024-08-01 02:23 WARNING: No rescale intercept found in dicom header\n",
      " 22%|█████████████████████████████████████▍                                                                                                                                 | 24/107 [00:33<01:37,  1.18s/it]"
     ]
    },
    {
     "name": "stdout",
     "output_type": "stream",
     "text": [
      "AIDREAM_48\n"
     ]
    },
    {
     "name": "stderr",
     "output_type": "stream",
     "text": [
      "2024-08-01 02:23 WARNING: No rescale slope found in dicom header\n",
      "2024-08-01 02:23 WARNING: No rescale intercept found in dicom header\n",
      " 23%|███████████████████████████████████████                                                                                                                                | 25/107 [00:35<01:48,  1.32s/it]"
     ]
    },
    {
     "name": "stdout",
     "output_type": "stream",
     "text": [
      "AIDREAM_49\n"
     ]
    },
    {
     "name": "stderr",
     "output_type": "stream",
     "text": [
      "2024-08-01 02:23 WARNING: No rescale slope found in dicom header\n",
      "2024-08-01 02:23 WARNING: No rescale intercept found in dicom header\n",
      "2024-08-01 02:23 WARNING: No rescale slope found in dicom header\n",
      "2024-08-01 02:23 WARNING: No rescale intercept found in dicom header\n",
      " 24%|████████████████████████████████████████▌                                                                                                                              | 26/107 [00:37<02:06,  1.56s/it]"
     ]
    },
    {
     "name": "stdout",
     "output_type": "stream",
     "text": [
      "AIDREAM_50\n"
     ]
    },
    {
     "name": "stderr",
     "output_type": "stream",
     "text": [
      "2024-08-01 02:23 WARNING: No rescale slope found in dicom header\n",
      "2024-08-01 02:23 WARNING: No rescale intercept found in dicom header\n",
      "2024-08-01 02:23 WARNING: No rescale slope found in dicom header\n",
      "2024-08-01 02:23 WARNING: No rescale intercept found in dicom header\n",
      " 25%|██████████████████████████████████████████▏                                                                                                                            | 27/107 [00:40<02:55,  2.19s/it]"
     ]
    },
    {
     "name": "stdout",
     "output_type": "stream",
     "text": [
      "AIDREAM_51\n"
     ]
    },
    {
     "name": "stderr",
     "output_type": "stream",
     "text": [
      "2024-08-01 02:23 WARNING: No rescale slope found in dicom header\n",
      "2024-08-01 02:23 WARNING: No rescale intercept found in dicom header\n",
      "2024-08-01 02:23 WARNING: No rescale slope found in dicom header\n",
      "2024-08-01 02:23 WARNING: No rescale intercept found in dicom header\n",
      " 26%|███████████████████████████████████████████▋                                                                                                                           | 28/107 [00:42<02:42,  2.06s/it]"
     ]
    },
    {
     "name": "stdout",
     "output_type": "stream",
     "text": [
      "AIDREAM_52\n"
     ]
    },
    {
     "name": "stderr",
     "output_type": "stream",
     "text": [
      "2024-08-01 02:23 WARNING: No rescale slope found in dicom header\n",
      "2024-08-01 02:23 WARNING: No rescale intercept found in dicom header\n",
      "2024-08-01 02:23 WARNING: No rescale slope found in dicom header\n",
      "2024-08-01 02:23 WARNING: No rescale intercept found in dicom header\n",
      " 27%|█████████████████████████████████████████████▎                                                                                                                         | 29/107 [00:44<02:31,  1.95s/it]"
     ]
    },
    {
     "name": "stdout",
     "output_type": "stream",
     "text": [
      "AIDREAM_54\n"
     ]
    },
    {
     "name": "stderr",
     "output_type": "stream",
     "text": [
      "2024-08-01 02:23 WARNING: No rescale slope found in dicom header\n",
      "2024-08-01 02:23 WARNING: No rescale intercept found in dicom header\n",
      "2024-08-01 02:23 WARNING: No rescale slope found in dicom header\n",
      "2024-08-01 02:23 WARNING: No rescale intercept found in dicom header\n",
      " 28%|██████████████████████████████████████████████▊                                                                                                                        | 30/107 [00:46<02:36,  2.04s/it]"
     ]
    },
    {
     "name": "stdout",
     "output_type": "stream",
     "text": [
      "AIDREAM_56\n"
     ]
    },
    {
     "name": "stderr",
     "output_type": "stream",
     "text": [
      "2024-08-01 02:23 WARNING: No rescale slope found in dicom header\n",
      "2024-08-01 02:23 WARNING: No rescale intercept found in dicom header\n",
      "2024-08-01 02:23 WARNING: No rescale slope found in dicom header\n",
      "2024-08-01 02:23 WARNING: No rescale intercept found in dicom header\n",
      " 29%|████████████████████████████████████████████████▍                                                                                                                      | 31/107 [00:48<02:34,  2.03s/it]2024-08-01 02:23 WARNING: No rescale slope found in dicom header\n",
      "2024-08-01 02:23 WARNING: No rescale intercept found in dicom header\n"
     ]
    },
    {
     "name": "stdout",
     "output_type": "stream",
     "text": [
      "AIDREAM_59\n"
     ]
    },
    {
     "name": "stderr",
     "output_type": "stream",
     "text": [
      " 30%|█████████████████████████████████████████████████▉                                                                                                                     | 32/107 [00:49<02:04,  1.66s/it]"
     ]
    },
    {
     "name": "stdout",
     "output_type": "stream",
     "text": [
      "AIDREAM_60\n"
     ]
    },
    {
     "name": "stderr",
     "output_type": "stream",
     "text": [
      "2024-08-01 02:23 WARNING: No rescale slope found in dicom header\n",
      "2024-08-01 02:23 WARNING: No rescale intercept found in dicom header\n",
      "2024-08-01 02:23 WARNING: No rescale slope found in dicom header\n",
      "2024-08-01 02:23 WARNING: No rescale intercept found in dicom header\n",
      " 31%|███████████████████████████████████████████████████▌                                                                                                                   | 33/107 [00:50<01:42,  1.39s/it]"
     ]
    },
    {
     "name": "stdout",
     "output_type": "stream",
     "text": [
      "AIDREAM_62\n"
     ]
    },
    {
     "name": "stderr",
     "output_type": "stream",
     "text": [
      "2024-08-01 02:23 WARNING: No rescale slope found in dicom header\n",
      "2024-08-01 02:23 WARNING: No rescale intercept found in dicom header\n",
      "2024-08-01 02:23 WARNING: No rescale slope found in dicom header\n",
      "2024-08-01 02:23 WARNING: No rescale intercept found in dicom header\n",
      " 32%|█████████████████████████████████████████████████████                                                                                                                  | 34/107 [00:52<01:55,  1.58s/it]"
     ]
    },
    {
     "name": "stdout",
     "output_type": "stream",
     "text": [
      "AIDREAM_64\n"
     ]
    },
    {
     "name": "stderr",
     "output_type": "stream",
     "text": [
      "2024-08-01 02:23 WARNING: No rescale slope found in dicom header\n",
      "2024-08-01 02:23 WARNING: No rescale intercept found in dicom header\n",
      "2024-08-01 02:23 WARNING: No rescale slope found in dicom header\n",
      "2024-08-01 02:23 WARNING: No rescale intercept found in dicom header\n",
      " 33%|██████████████████████████████████████████████████████▋                                                                                                                | 35/107 [00:53<01:41,  1.40s/it]"
     ]
    },
    {
     "name": "stdout",
     "output_type": "stream",
     "text": [
      "AIDREAM_65\n"
     ]
    },
    {
     "name": "stderr",
     "output_type": "stream",
     "text": [
      "2024-08-01 02:23 WARNING: No rescale slope found in dicom header\n",
      "2024-08-01 02:23 WARNING: No rescale intercept found in dicom header\n",
      "2024-08-01 02:23 WARNING: No rescale slope found in dicom header\n",
      "2024-08-01 02:23 WARNING: No rescale intercept found in dicom header\n",
      " 34%|████████████████████████████████████████████████████████▏                                                                                                              | 36/107 [00:55<01:55,  1.63s/it]"
     ]
    },
    {
     "name": "stdout",
     "output_type": "stream",
     "text": [
      "AIDREAM_67\n"
     ]
    },
    {
     "name": "stderr",
     "output_type": "stream",
     "text": [
      "2024-08-01 02:23 WARNING: No rescale slope found in dicom header\n",
      "2024-08-01 02:23 WARNING: No rescale intercept found in dicom header\n",
      "2024-08-01 02:23 WARNING: No rescale slope found in dicom header\n",
      "2024-08-01 02:23 WARNING: No rescale intercept found in dicom header\n",
      " 35%|█████████████████████████████████████████████████████████▋                                                                                                             | 37/107 [00:56<01:47,  1.53s/it]"
     ]
    },
    {
     "name": "stdout",
     "output_type": "stream",
     "text": [
      "AIDREAM_68\n"
     ]
    },
    {
     "name": "stderr",
     "output_type": "stream",
     "text": [
      "2024-08-01 02:23 WARNING: No rescale slope found in dicom header\n",
      "2024-08-01 02:23 WARNING: No rescale intercept found in dicom header\n",
      "2024-08-01 02:23 WARNING: No rescale slope found in dicom header\n",
      "2024-08-01 02:23 WARNING: No rescale intercept found in dicom header\n",
      " 36%|███████████████████████████████████████████████████████████▎                                                                                                           | 38/107 [00:58<02:01,  1.76s/it]"
     ]
    },
    {
     "name": "stdout",
     "output_type": "stream",
     "text": [
      "AIDREAM_69\n"
     ]
    },
    {
     "name": "stderr",
     "output_type": "stream",
     "text": [
      "2024-08-01 02:23 WARNING: No rescale slope found in dicom header\n",
      "2024-08-01 02:23 WARNING: No rescale intercept found in dicom header\n",
      "2024-08-01 02:24 WARNING: No rescale slope found in dicom header\n",
      "2024-08-01 02:24 WARNING: No rescale intercept found in dicom header\n",
      " 36%|████████████████████████████████████████████████████████████▊                                                                                                          | 39/107 [00:59<01:44,  1.54s/it]"
     ]
    },
    {
     "name": "stdout",
     "output_type": "stream",
     "text": [
      "AIDREAM_71\n"
     ]
    },
    {
     "name": "stderr",
     "output_type": "stream",
     "text": [
      "2024-08-01 02:24 WARNING: No rescale slope found in dicom header\n",
      "2024-08-01 02:24 WARNING: No rescale intercept found in dicom header\n",
      "2024-08-01 02:24 WARNING: No rescale slope found in dicom header\n",
      "2024-08-01 02:24 WARNING: No rescale intercept found in dicom header\n",
      " 37%|██████████████████████████████████████████████████████████████▍                                                                                                        | 40/107 [01:00<01:33,  1.40s/it]"
     ]
    },
    {
     "name": "stdout",
     "output_type": "stream",
     "text": [
      "AIDREAM_73\n"
     ]
    },
    {
     "name": "stderr",
     "output_type": "stream",
     "text": [
      "2024-08-01 02:24 WARNING: No rescale slope found in dicom header\n",
      "2024-08-01 02:24 WARNING: No rescale intercept found in dicom header\n",
      "2024-08-01 02:24 WARNING: No rescale slope found in dicom header\n",
      "2024-08-01 02:24 WARNING: No rescale intercept found in dicom header\n",
      " 38%|███████████████████████████████████████████████████████████████▉                                                                                                       | 41/107 [01:01<01:21,  1.24s/it]2024-08-01 02:24 WARNING: No rescale slope found in dicom header\n",
      "2024-08-01 02:24 WARNING: No rescale intercept found in dicom header\n"
     ]
    },
    {
     "name": "stdout",
     "output_type": "stream",
     "text": [
      "AIDREAM_75\n"
     ]
    },
    {
     "name": "stderr",
     "output_type": "stream",
     "text": [
      "2024-08-01 02:24 WARNING: No rescale slope found in dicom header\n",
      "2024-08-01 02:24 WARNING: No rescale intercept found in dicom header\n",
      " 39%|█████████████████████████████████████████████████████████████████▌                                                                                                     | 42/107 [01:02<01:13,  1.12s/it]"
     ]
    },
    {
     "name": "stdout",
     "output_type": "stream",
     "text": [
      "AIDREAM_79\n"
     ]
    },
    {
     "name": "stderr",
     "output_type": "stream",
     "text": [
      "2024-08-01 02:24 WARNING: No rescale slope found in dicom header\n",
      "2024-08-01 02:24 WARNING: No rescale intercept found in dicom header\n",
      "2024-08-01 02:24 WARNING: No rescale slope found in dicom header\n",
      "2024-08-01 02:24 WARNING: No rescale intercept found in dicom header\n",
      " 40%|███████████████████████████████████████████████████████████████████                                                                                                    | 43/107 [01:04<01:20,  1.25s/it]"
     ]
    },
    {
     "name": "stdout",
     "output_type": "stream",
     "text": [
      "AIDREAM_80\n"
     ]
    },
    {
     "name": "stderr",
     "output_type": "stream",
     "text": [
      "2024-08-01 02:24 WARNING: No rescale slope found in dicom header\n",
      "2024-08-01 02:24 WARNING: No rescale intercept found in dicom header\n",
      "2024-08-01 02:24 WARNING: No rescale slope found in dicom header\n",
      "2024-08-01 02:24 WARNING: No rescale intercept found in dicom header\n",
      " 41%|████████████████████████████████████████████████████████████████████▋                                                                                                  | 44/107 [01:05<01:15,  1.21s/it]"
     ]
    },
    {
     "name": "stdout",
     "output_type": "stream",
     "text": [
      "AIDREAM_81\n"
     ]
    },
    {
     "name": "stderr",
     "output_type": "stream",
     "text": [
      "2024-08-01 02:24 WARNING: No rescale slope found in dicom header\n",
      "2024-08-01 02:24 WARNING: No rescale intercept found in dicom header\n",
      "2024-08-01 02:24 WARNING: No rescale slope found in dicom header\n",
      "2024-08-01 02:24 WARNING: No rescale intercept found in dicom header\n",
      " 42%|██████████████████████████████████████████████████████████████████████▏                                                                                                | 45/107 [01:07<01:32,  1.49s/it]"
     ]
    },
    {
     "name": "stdout",
     "output_type": "stream",
     "text": [
      "AIDREAM_82\n"
     ]
    },
    {
     "name": "stderr",
     "output_type": "stream",
     "text": [
      "2024-08-01 02:24 WARNING: No rescale slope found in dicom header\n",
      "2024-08-01 02:24 WARNING: No rescale intercept found in dicom header\n",
      "2024-08-01 02:24 WARNING: No rescale slope found in dicom header\n",
      "2024-08-01 02:24 WARNING: No rescale intercept found in dicom header\n",
      " 43%|███████████████████████████████████████████████████████████████████████▊                                                                                               | 46/107 [01:08<01:21,  1.33s/it]"
     ]
    },
    {
     "name": "stdout",
     "output_type": "stream",
     "text": [
      "AIDREAM_84\n"
     ]
    },
    {
     "name": "stderr",
     "output_type": "stream",
     "text": [
      "2024-08-01 02:24 WARNING: No rescale slope found in dicom header\n",
      "2024-08-01 02:24 WARNING: No rescale intercept found in dicom header\n",
      " 44%|█████████████████████████████████████████████████████████████████████████▎                                                                                             | 47/107 [01:09<01:15,  1.27s/it]2024-08-01 02:24 WARNING: No rescale slope found in dicom header\n",
      "2024-08-01 02:24 WARNING: No rescale intercept found in dicom header\n"
     ]
    },
    {
     "name": "stdout",
     "output_type": "stream",
     "text": [
      "AIDREAM_85\n"
     ]
    },
    {
     "name": "stderr",
     "output_type": "stream",
     "text": [
      "2024-08-01 02:24 WARNING: No rescale slope found in dicom header\n",
      "2024-08-01 02:24 WARNING: No rescale intercept found in dicom header\n",
      " 45%|██████████████████████████████████████████████████████████████████████████▉                                                                                            | 48/107 [01:10<01:06,  1.12s/it]"
     ]
    },
    {
     "name": "stdout",
     "output_type": "stream",
     "text": [
      "AIDREAM_88\n"
     ]
    },
    {
     "name": "stderr",
     "output_type": "stream",
     "text": [
      "2024-08-01 02:24 WARNING: No rescale slope found in dicom header\n",
      "2024-08-01 02:24 WARNING: No rescale intercept found in dicom header\n",
      "2024-08-01 02:24 WARNING: No rescale slope found in dicom header\n",
      "2024-08-01 02:24 WARNING: No rescale intercept found in dicom header\n",
      " 46%|████████████████████████████████████████████████████████████████████████████▍                                                                                          | 49/107 [01:11<01:08,  1.18s/it]2024-08-01 02:24 WARNING: No rescale slope found in dicom header\n",
      "2024-08-01 02:24 WARNING: No rescale intercept found in dicom header\n"
     ]
    },
    {
     "name": "stdout",
     "output_type": "stream",
     "text": [
      "AIDREAM_89\n"
     ]
    },
    {
     "name": "stderr",
     "output_type": "stream",
     "text": [
      " 47%|██████████████████████████████████████████████████████████████████████████████                                                                                         | 50/107 [01:12<01:04,  1.13s/it]"
     ]
    },
    {
     "name": "stdout",
     "output_type": "stream",
     "text": [
      "AIDREAM_90\n"
     ]
    },
    {
     "name": "stderr",
     "output_type": "stream",
     "text": [
      "2024-08-01 02:24 WARNING: No rescale slope found in dicom header\n",
      "2024-08-01 02:24 WARNING: No rescale intercept found in dicom header\n",
      "2024-08-01 02:24 WARNING: No rescale slope found in dicom header\n",
      "2024-08-01 02:24 WARNING: No rescale intercept found in dicom header\n",
      " 48%|███████████████████████████████████████████████████████████████████████████████▌                                                                                       | 51/107 [01:14<01:06,  1.19s/it]2024-08-01 02:24 WARNING: No rescale slope found in dicom header\n",
      "2024-08-01 02:24 WARNING: No rescale intercept found in dicom header\n"
     ]
    },
    {
     "name": "stdout",
     "output_type": "stream",
     "text": [
      "AIDREAM_92\n"
     ]
    },
    {
     "name": "stderr",
     "output_type": "stream",
     "text": [
      " 49%|█████████████████████████████████████████████████████████████████████████████████▏                                                                                     | 52/107 [01:14<01:00,  1.09s/it]"
     ]
    },
    {
     "name": "stdout",
     "output_type": "stream",
     "text": [
      "AIDREAM_93\n"
     ]
    },
    {
     "name": "stderr",
     "output_type": "stream",
     "text": [
      "2024-08-01 02:24 WARNING: No rescale slope found in dicom header\n",
      "2024-08-01 02:24 WARNING: No rescale intercept found in dicom header\n",
      "2024-08-01 02:24 WARNING: No rescale slope found in dicom header\n",
      "2024-08-01 02:24 WARNING: No rescale intercept found in dicom header\n",
      " 50%|██████████████████████████████████████████████████████████████████████████████████▋                                                                                    | 53/107 [01:16<01:01,  1.13s/it]2024-08-01 02:24 WARNING: No rescale slope found in dicom header\n"
     ]
    },
    {
     "name": "stdout",
     "output_type": "stream",
     "text": [
      "AIDREAM_94\n"
     ]
    },
    {
     "name": "stderr",
     "output_type": "stream",
     "text": [
      "2024-08-01 02:24 WARNING: No rescale intercept found in dicom header\n",
      "2024-08-01 02:24 WARNING: No rescale slope found in dicom header\n",
      "2024-08-01 02:24 WARNING: No rescale intercept found in dicom header\n",
      " 50%|████████████████████████████████████████████████████████████████████████████████████▎                                                                                  | 54/107 [01:17<00:56,  1.06s/it]"
     ]
    },
    {
     "name": "stdout",
     "output_type": "stream",
     "text": [
      "AIDREAM_96\n"
     ]
    },
    {
     "name": "stderr",
     "output_type": "stream",
     "text": [
      "2024-08-01 02:24 WARNING: No rescale slope found in dicom header\n",
      "2024-08-01 02:24 WARNING: No rescale intercept found in dicom header\n",
      "2024-08-01 02:24 WARNING: No rescale slope found in dicom header\n",
      "2024-08-01 02:24 WARNING: No rescale intercept found in dicom header\n",
      " 51%|█████████████████████████████████████████████████████████████████████████████████████▊                                                                                 | 55/107 [01:18<00:54,  1.04s/it]"
     ]
    },
    {
     "name": "stdout",
     "output_type": "stream",
     "text": [
      "AIDREAM_97\n"
     ]
    },
    {
     "name": "stderr",
     "output_type": "stream",
     "text": [
      "2024-08-01 02:24 WARNING: No rescale slope found in dicom header\n",
      "2024-08-01 02:24 WARNING: No rescale intercept found in dicom header\n",
      "2024-08-01 02:24 WARNING: No rescale slope found in dicom header\n",
      "2024-08-01 02:24 WARNING: No rescale intercept found in dicom header\n",
      " 52%|███████████████████████████████████████████████████████████████████████████████████████▍                                                                               | 56/107 [01:19<00:58,  1.14s/it]2024-08-01 02:24 WARNING: No rescale slope found in dicom header\n",
      "2024-08-01 02:24 WARNING: No rescale intercept found in dicom header\n"
     ]
    },
    {
     "name": "stdout",
     "output_type": "stream",
     "text": [
      "AIDREAM_98\n"
     ]
    },
    {
     "name": "stderr",
     "output_type": "stream",
     "text": [
      "2024-08-01 02:24 WARNING: No rescale slope found in dicom header\n",
      "2024-08-01 02:24 WARNING: No rescale intercept found in dicom header\n",
      " 53%|████████████████████████████████████████████████████████████████████████████████████████▉                                                                              | 57/107 [01:20<00:49,  1.00it/s]"
     ]
    },
    {
     "name": "stdout",
     "output_type": "stream",
     "text": [
      "AIDREAM_99\n"
     ]
    },
    {
     "name": "stderr",
     "output_type": "stream",
     "text": [
      "2024-08-01 02:24 WARNING: No rescale slope found in dicom header\n",
      "2024-08-01 02:24 WARNING: No rescale intercept found in dicom header\n",
      "2024-08-01 02:24 WARNING: No rescale slope found in dicom header\n",
      "2024-08-01 02:24 WARNING: No rescale intercept found in dicom header\n",
      " 54%|██████████████████████████████████████████████████████████████████████████████████████████▌                                                                            | 58/107 [01:20<00:47,  1.03it/s]2024-08-01 02:24 WARNING: No rescale slope found in dicom header\n",
      "2024-08-01 02:24 WARNING: No rescale intercept found in dicom header\n"
     ]
    },
    {
     "name": "stdout",
     "output_type": "stream",
     "text": [
      "AIDREAM_100\n"
     ]
    },
    {
     "name": "stderr",
     "output_type": "stream",
     "text": [
      "2024-08-01 02:24 WARNING: No rescale slope found in dicom header\n",
      "2024-08-01 02:24 WARNING: No rescale intercept found in dicom header\n",
      " 55%|████████████████████████████████████████████████████████████████████████████████████████████                                                                           | 59/107 [01:22<00:48,  1.02s/it]2024-08-01 02:24 WARNING: No rescale slope found in dicom header\n",
      "2024-08-01 02:24 WARNING: No rescale intercept found in dicom header\n"
     ]
    },
    {
     "name": "stdout",
     "output_type": "stream",
     "text": [
      "AIDREAM_101\n"
     ]
    },
    {
     "name": "stderr",
     "output_type": "stream",
     "text": [
      "2024-08-01 02:24 WARNING: No rescale slope found in dicom header\n",
      "2024-08-01 02:24 WARNING: No rescale intercept found in dicom header\n",
      " 56%|█████████████████████████████████████████████████████████████████████████████████████████████▋                                                                         | 60/107 [01:23<00:53,  1.14s/it]"
     ]
    },
    {
     "name": "stdout",
     "output_type": "stream",
     "text": [
      "AIDREAM_102\n"
     ]
    },
    {
     "name": "stderr",
     "output_type": "stream",
     "text": [
      "2024-08-01 02:24 WARNING: No rescale slope found in dicom header\n",
      "2024-08-01 02:24 WARNING: No rescale intercept found in dicom header\n",
      "2024-08-01 02:24 WARNING: No rescale slope found in dicom header\n",
      "2024-08-01 02:24 WARNING: No rescale intercept found in dicom header\n",
      " 57%|███████████████████████████████████████████████████████████████████████████████████████████████▏                                                                       | 61/107 [01:24<00:55,  1.21s/it]"
     ]
    },
    {
     "name": "stdout",
     "output_type": "stream",
     "text": [
      "AIDREAM_103\n"
     ]
    },
    {
     "name": "stderr",
     "output_type": "stream",
     "text": [
      "2024-08-01 02:24 WARNING: No rescale slope found in dicom header\n",
      "2024-08-01 02:24 WARNING: No rescale intercept found in dicom header\n",
      "2024-08-01 02:24 WARNING: No rescale slope found in dicom header\n",
      "2024-08-01 02:24 WARNING: No rescale intercept found in dicom header\n",
      " 58%|████████████████████████████████████████████████████████████████████████████████████████████████▊                                                                      | 62/107 [01:25<00:52,  1.18s/it]2024-08-01 02:24 WARNING: No rescale slope found in dicom header\n",
      "2024-08-01 02:24 WARNING: No rescale intercept found in dicom header\n"
     ]
    },
    {
     "name": "stdout",
     "output_type": "stream",
     "text": [
      "AIDREAM_104\n"
     ]
    },
    {
     "name": "stderr",
     "output_type": "stream",
     "text": [
      "2024-08-01 02:24 WARNING: No rescale slope found in dicom header\n",
      "2024-08-01 02:24 WARNING: No rescale intercept found in dicom header\n",
      " 59%|██████████████████████████████████████████████████████████████████████████████████████████████████▎                                                                    | 63/107 [01:27<00:53,  1.22s/it]"
     ]
    },
    {
     "name": "stdout",
     "output_type": "stream",
     "text": [
      "AIDREAM_106\n"
     ]
    },
    {
     "name": "stderr",
     "output_type": "stream",
     "text": [
      "2024-08-01 02:24 WARNING: No rescale slope found in dicom header\n",
      "2024-08-01 02:24 WARNING: No rescale intercept found in dicom header\n",
      "2024-08-01 02:24 WARNING: No rescale slope found in dicom header\n",
      "2024-08-01 02:24 WARNING: No rescale intercept found in dicom header\n",
      " 60%|███████████████████████████████████████████████████████████████████████████████████████████████████▉                                                                   | 64/107 [01:28<00:48,  1.14s/it]"
     ]
    },
    {
     "name": "stdout",
     "output_type": "stream",
     "text": [
      "AIDREAM_109\n"
     ]
    },
    {
     "name": "stderr",
     "output_type": "stream",
     "text": [
      "2024-08-01 02:24 WARNING: No rescale slope found in dicom header\n",
      "2024-08-01 02:24 WARNING: No rescale intercept found in dicom header\n",
      "2024-08-01 02:24 WARNING: No rescale slope found in dicom header\n",
      "2024-08-01 02:24 WARNING: No rescale intercept found in dicom header\n",
      " 61%|█████████████████████████████████████████████████████████████████████████████████████████████████████▍                                                                 | 65/107 [01:30<01:00,  1.44s/it]"
     ]
    },
    {
     "name": "stdout",
     "output_type": "stream",
     "text": [
      "AIDREAM_110\n"
     ]
    },
    {
     "name": "stderr",
     "output_type": "stream",
     "text": [
      "2024-08-01 02:24 WARNING: No rescale slope found in dicom header\n",
      "2024-08-01 02:24 WARNING: No rescale intercept found in dicom header\n",
      "2024-08-01 02:24 WARNING: No rescale slope found in dicom header\n",
      "2024-08-01 02:24 WARNING: No rescale intercept found in dicom header\n",
      " 62%|███████████████████████████████████████████████████████████████████████████████████████████████████████                                                                | 66/107 [01:31<00:56,  1.38s/it]"
     ]
    },
    {
     "name": "stdout",
     "output_type": "stream",
     "text": [
      "AIDREAM_112\n"
     ]
    },
    {
     "name": "stderr",
     "output_type": "stream",
     "text": [
      "2024-08-01 02:24 WARNING: No rescale slope found in dicom header\n",
      "2024-08-01 02:24 WARNING: No rescale intercept found in dicom header\n",
      "2024-08-01 02:24 WARNING: No rescale slope found in dicom header\n",
      "2024-08-01 02:24 WARNING: No rescale intercept found in dicom header\n",
      " 63%|████████████████████████████████████████████████████████████████████████████████████████████████████████▌                                                              | 67/107 [01:33<01:05,  1.64s/it]"
     ]
    },
    {
     "name": "stdout",
     "output_type": "stream",
     "text": [
      "AIDREAM_113\n"
     ]
    },
    {
     "name": "stderr",
     "output_type": "stream",
     "text": [
      "2024-08-01 02:24 WARNING: No rescale slope found in dicom header\n",
      "2024-08-01 02:24 WARNING: No rescale intercept found in dicom header\n",
      " 64%|██████████████████████████████████████████████████████████████████████████████████████████████████████████▏                                                            | 68/107 [01:35<01:04,  1.66s/it]"
     ]
    },
    {
     "name": "stdout",
     "output_type": "stream",
     "text": [
      "AIDREAM_114\n"
     ]
    },
    {
     "name": "stderr",
     "output_type": "stream",
     "text": [
      "2024-08-01 02:24 WARNING: No rescale slope found in dicom header\n",
      "2024-08-01 02:24 WARNING: No rescale intercept found in dicom header\n",
      " 64%|███████████████████████████████████████████████████████████████████████████████████████████████████████████▋                                                           | 69/107 [01:37<01:01,  1.63s/it]"
     ]
    },
    {
     "name": "stdout",
     "output_type": "stream",
     "text": [
      "AIDREAM_115\n"
     ]
    },
    {
     "name": "stderr",
     "output_type": "stream",
     "text": [
      "2024-08-01 02:24 WARNING: No rescale slope found in dicom header\n",
      "2024-08-01 02:24 WARNING: No rescale intercept found in dicom header\n",
      "2024-08-01 02:24 WARNING: No rescale slope found in dicom header\n",
      "2024-08-01 02:24 WARNING: No rescale intercept found in dicom header\n",
      " 65%|█████████████████████████████████████████████████████████████████████████████████████████████████████████████▎                                                         | 70/107 [01:39<01:05,  1.76s/it]"
     ]
    },
    {
     "name": "stdout",
     "output_type": "stream",
     "text": [
      "AIDREAM_117\n"
     ]
    },
    {
     "name": "stderr",
     "output_type": "stream",
     "text": [
      "2024-08-01 02:24 WARNING: No rescale slope found in dicom header\n",
      "2024-08-01 02:24 WARNING: No rescale intercept found in dicom header\n",
      " 66%|██████████████████████████████████████████████████████████████████████████████████████████████████████████████▊                                                        | 71/107 [01:41<01:06,  1.84s/it]"
     ]
    },
    {
     "name": "stdout",
     "output_type": "stream",
     "text": [
      "AIDREAM_118\n"
     ]
    },
    {
     "name": "stderr",
     "output_type": "stream",
     "text": [
      "2024-08-01 02:24 WARNING: No rescale slope found in dicom header\n",
      "2024-08-01 02:24 WARNING: No rescale intercept found in dicom header\n",
      "2024-08-01 02:24 WARNING: No rescale slope found in dicom header\n",
      "2024-08-01 02:24 WARNING: No rescale intercept found in dicom header\n",
      " 67%|████████████████████████████████████████████████████████████████████████████████████████████████████████████████▎                                                      | 72/107 [01:44<01:22,  2.36s/it]"
     ]
    },
    {
     "name": "stdout",
     "output_type": "stream",
     "text": [
      "AIDREAM_120\n"
     ]
    },
    {
     "name": "stderr",
     "output_type": "stream",
     "text": [
      "2024-08-01 02:24 WARNING: No rescale slope found in dicom header\n",
      "2024-08-01 02:24 WARNING: No rescale intercept found in dicom header\n",
      "2024-08-01 02:24 WARNING: No rescale slope found in dicom header\n",
      "2024-08-01 02:24 WARNING: No rescale intercept found in dicom header\n",
      " 68%|█████████████████████████████████████████████████████████████████████████████████████████████████████████████████▉                                                     | 73/107 [01:48<01:31,  2.69s/it]2024-08-01 02:24 WARNING: No rescale slope found in dicom header\n",
      "2024-08-01 02:24 WARNING: No rescale intercept found in dicom header\n"
     ]
    },
    {
     "name": "stdout",
     "output_type": "stream",
     "text": [
      "AIDREAM_122\n"
     ]
    },
    {
     "name": "stderr",
     "output_type": "stream",
     "text": [
      "2024-08-01 02:24 WARNING: No rescale slope found in dicom header\n",
      "2024-08-01 02:24 WARNING: No rescale intercept found in dicom header\n",
      " 69%|███████████████████████████████████████████████████████████████████████████████████████████████████████████████████▍                                                   | 74/107 [01:49<01:14,  2.26s/it]"
     ]
    },
    {
     "name": "stdout",
     "output_type": "stream",
     "text": [
      "AIDREAM_123\n"
     ]
    },
    {
     "name": "stderr",
     "output_type": "stream",
     "text": [
      "2024-08-01 02:24 WARNING: No rescale slope found in dicom header\n",
      "2024-08-01 02:24 WARNING: No rescale intercept found in dicom header\n",
      "2024-08-01 02:24 WARNING: No rescale slope found in dicom header\n",
      "2024-08-01 02:24 WARNING: No rescale intercept found in dicom header\n",
      " 70%|█████████████████████████████████████████████████████████████████████████████████████████████████████████████████████                                                  | 75/107 [01:50<01:01,  1.91s/it]2024-08-01 02:24 WARNING: No rescale slope found in dicom header\n",
      "2024-08-01 02:24 WARNING: No rescale intercept found in dicom header\n"
     ]
    },
    {
     "name": "stdout",
     "output_type": "stream",
     "text": [
      "AIDREAM_124\n"
     ]
    },
    {
     "name": "stderr",
     "output_type": "stream",
     "text": [
      "2024-08-01 02:24 WARNING: No rescale slope found in dicom header\n",
      "2024-08-01 02:24 WARNING: No rescale intercept found in dicom header\n",
      " 71%|██████████████████████████████████████████████████████████████████████████████████████████████████████████████████████▌                                                | 76/107 [01:52<00:55,  1.78s/it]"
     ]
    },
    {
     "name": "stdout",
     "output_type": "stream",
     "text": [
      "AIDREAM_126\n"
     ]
    },
    {
     "name": "stderr",
     "output_type": "stream",
     "text": [
      "2024-08-01 02:24 WARNING: No rescale slope found in dicom header\n",
      "2024-08-01 02:24 WARNING: No rescale intercept found in dicom header\n",
      "2024-08-01 02:24 WARNING: No rescale slope found in dicom header\n",
      "2024-08-01 02:24 WARNING: No rescale intercept found in dicom header\n",
      " 72%|████████████████████████████████████████████████████████████████████████████████████████████████████████████████████████▏                                              | 77/107 [01:55<01:04,  2.14s/it]"
     ]
    },
    {
     "name": "stdout",
     "output_type": "stream",
     "text": [
      "AIDREAM_128\n"
     ]
    },
    {
     "name": "stderr",
     "output_type": "stream",
     "text": [
      "2024-08-01 02:24 WARNING: No rescale slope found in dicom header\n",
      "2024-08-01 02:24 WARNING: No rescale intercept found in dicom header\n",
      "2024-08-01 02:24 WARNING: No rescale slope found in dicom header\n",
      "2024-08-01 02:24 WARNING: No rescale intercept found in dicom header\n",
      " 73%|█████████████████████████████████████████████████████████████████████████████████████████████████████████████████████████▋                                             | 78/107 [01:56<00:57,  1.99s/it]"
     ]
    },
    {
     "name": "stdout",
     "output_type": "stream",
     "text": [
      "AIDREAM_129\n"
     ]
    },
    {
     "name": "stderr",
     "output_type": "stream",
     "text": [
      "2024-08-01 02:24 WARNING: No rescale slope found in dicom header\n",
      "2024-08-01 02:24 WARNING: No rescale intercept found in dicom header\n",
      "2024-08-01 02:24 WARNING: No rescale slope found in dicom header\n",
      "2024-08-01 02:24 WARNING: No rescale intercept found in dicom header\n",
      " 74%|███████████████████████████████████████████████████████████████████████████████████████████████████████████████████████████▎                                           | 79/107 [01:57<00:46,  1.68s/it]2024-08-01 02:24 WARNING: No rescale slope found in dicom header\n",
      "2024-08-01 02:24 WARNING: No rescale intercept found in dicom header\n"
     ]
    },
    {
     "name": "stdout",
     "output_type": "stream",
     "text": [
      "AIDREAM_130\n"
     ]
    },
    {
     "name": "stderr",
     "output_type": "stream",
     "text": [
      "2024-08-01 02:24 WARNING: No rescale slope found in dicom header\n",
      "2024-08-01 02:24 WARNING: No rescale intercept found in dicom header\n",
      " 75%|████████████████████████████████████████████████████████████████████████████████████████████████████████████████████████████▊                                          | 80/107 [01:58<00:41,  1.54s/it]"
     ]
    },
    {
     "name": "stdout",
     "output_type": "stream",
     "text": [
      "AIDREAM_132\n"
     ]
    },
    {
     "name": "stderr",
     "output_type": "stream",
     "text": [
      "2024-08-01 02:24 WARNING: No rescale slope found in dicom header\n",
      "2024-08-01 02:24 WARNING: No rescale intercept found in dicom header\n",
      "2024-08-01 02:25 WARNING: No rescale slope found in dicom header\n",
      "2024-08-01 02:25 WARNING: No rescale intercept found in dicom header\n",
      " 76%|██████████████████████████████████████████████████████████████████████████████████████████████████████████████████████████████▍                                        | 81/107 [01:59<00:35,  1.38s/it]"
     ]
    },
    {
     "name": "stdout",
     "output_type": "stream",
     "text": [
      "AIDREAM_136\n"
     ]
    },
    {
     "name": "stderr",
     "output_type": "stream",
     "text": [
      "2024-08-01 02:25 WARNING: No rescale slope found in dicom header\n",
      "2024-08-01 02:25 WARNING: No rescale intercept found in dicom header\n",
      "2024-08-01 02:25 WARNING: No rescale slope found in dicom header\n",
      "2024-08-01 02:25 WARNING: No rescale intercept found in dicom header\n",
      " 77%|███████████████████████████████████████████████████████████████████████████████████████████████████████████████████████████████▉                                       | 82/107 [02:04<00:59,  2.37s/it]"
     ]
    },
    {
     "name": "stdout",
     "output_type": "stream",
     "text": [
      "AIDREAM_139\n"
     ]
    },
    {
     "name": "stderr",
     "output_type": "stream",
     "text": [
      "2024-08-01 02:25 WARNING: No rescale slope found in dicom header\n",
      "2024-08-01 02:25 WARNING: No rescale intercept found in dicom header\n",
      "2024-08-01 02:25 WARNING: No rescale slope found in dicom header\n",
      "2024-08-01 02:25 WARNING: No rescale intercept found in dicom header\n",
      " 78%|█████████████████████████████████████████████████████████████████████████████████████████████████████████████████████████████████▌                                     | 83/107 [02:06<00:53,  2.25s/it]"
     ]
    },
    {
     "name": "stdout",
     "output_type": "stream",
     "text": [
      "AIDREAM_141\n"
     ]
    },
    {
     "name": "stderr",
     "output_type": "stream",
     "text": [
      "2024-08-01 02:25 WARNING: No rescale slope found in dicom header\n",
      "2024-08-01 02:25 WARNING: No rescale intercept found in dicom header\n",
      " 79%|███████████████████████████████████████████████████████████████████████████████████████████████████████████████████████████████████                                    | 84/107 [02:09<00:53,  2.33s/it]2024-08-01 02:25 WARNING: No rescale slope found in dicom header\n",
      "2024-08-01 02:25 WARNING: No rescale intercept found in dicom header\n"
     ]
    },
    {
     "name": "stdout",
     "output_type": "stream",
     "text": [
      "AIDREAM_142\n"
     ]
    },
    {
     "name": "stderr",
     "output_type": "stream",
     "text": [
      "2024-08-01 02:25 WARNING: No rescale slope found in dicom header\n",
      "2024-08-01 02:25 WARNING: No rescale intercept found in dicom header\n",
      " 79%|████████████████████████████████████████████████████████████████████████████████████████████████████████████████████████████████████▋                                  | 85/107 [02:10<00:42,  1.94s/it]"
     ]
    },
    {
     "name": "stdout",
     "output_type": "stream",
     "text": [
      "AIDREAM_143\n"
     ]
    },
    {
     "name": "stderr",
     "output_type": "stream",
     "text": [
      "2024-08-01 02:25 WARNING: No rescale slope found in dicom header\n",
      "2024-08-01 02:25 WARNING: No rescale intercept found in dicom header\n",
      "2024-08-01 02:25 WARNING: No rescale slope found in dicom header\n",
      "2024-08-01 02:25 WARNING: No rescale intercept found in dicom header\n",
      " 80%|██████████████████████████████████████████████████████████████████████████████████████████████████████████████████████████████████████▏                                | 86/107 [02:11<00:37,  1.80s/it]2024-08-01 02:25 WARNING: No rescale slope found in dicom header\n",
      "2024-08-01 02:25 WARNING: No rescale intercept found in dicom header\n"
     ]
    },
    {
     "name": "stdout",
     "output_type": "stream",
     "text": [
      "AIDREAM_145\n"
     ]
    },
    {
     "name": "stderr",
     "output_type": "stream",
     "text": [
      "2024-08-01 02:25 WARNING: No rescale slope found in dicom header\n",
      "2024-08-01 02:25 WARNING: No rescale intercept found in dicom header\n",
      " 81%|███████████████████████████████████████████████████████████████████████████████████████████████████████████████████████████████████████▊                               | 87/107 [02:12<00:28,  1.44s/it]2024-08-01 02:25 WARNING: No rescale slope found in dicom header\n",
      "2024-08-01 02:25 WARNING: No rescale intercept found in dicom header\n"
     ]
    },
    {
     "name": "stdout",
     "output_type": "stream",
     "text": [
      "AIDREAM_149\n"
     ]
    },
    {
     "name": "stderr",
     "output_type": "stream",
     "text": [
      "2024-08-01 02:25 WARNING: No rescale slope found in dicom header\n",
      "2024-08-01 02:25 WARNING: No rescale intercept found in dicom header\n",
      " 82%|█████████████████████████████████████████████████████████████████████████████████████████████████████████████████████████████████████████▎                             | 88/107 [02:12<00:22,  1.19s/it]"
     ]
    },
    {
     "name": "stdout",
     "output_type": "stream",
     "text": [
      "AIDREAM_152\n"
     ]
    },
    {
     "name": "stderr",
     "output_type": "stream",
     "text": [
      "2024-08-01 02:25 WARNING: No rescale slope found in dicom header\n",
      "2024-08-01 02:25 WARNING: No rescale intercept found in dicom header\n",
      "2024-08-01 02:25 WARNING: No rescale slope found in dicom header\n",
      "2024-08-01 02:25 WARNING: No rescale intercept found in dicom header\n",
      " 83%|██████████████████████████████████████████████████████████████████████████████████████████████████████████████████████████████████████████▉                            | 89/107 [02:13<00:19,  1.08s/it]"
     ]
    },
    {
     "name": "stdout",
     "output_type": "stream",
     "text": [
      "AIDREAM_153\n"
     ]
    },
    {
     "name": "stderr",
     "output_type": "stream",
     "text": [
      "2024-08-01 02:25 WARNING: No rescale slope found in dicom header\n",
      "2024-08-01 02:25 WARNING: No rescale intercept found in dicom header\n",
      "2024-08-01 02:25 WARNING: No rescale slope found in dicom header\n",
      "2024-08-01 02:25 WARNING: No rescale intercept found in dicom header\n",
      " 84%|████████████████████████████████████████████████████████████████████████████████████████████████████████████████████████████████████████████▍                          | 90/107 [02:15<00:22,  1.31s/it]"
     ]
    },
    {
     "name": "stdout",
     "output_type": "stream",
     "text": [
      "AIDREAM_223\n"
     ]
    },
    {
     "name": "stderr",
     "output_type": "stream",
     "text": [
      "2024-08-01 02:25 WARNING: No rescale slope found in dicom header\n",
      "2024-08-01 02:25 WARNING: No rescale intercept found in dicom header\n",
      "2024-08-01 02:25 WARNING: No rescale slope found in dicom header\n",
      "2024-08-01 02:25 WARNING: No rescale intercept found in dicom header\n",
      " 85%|██████████████████████████████████████████████████████████████████████████████████████████████████████████████████████████████████████████████                         | 91/107 [02:16<00:19,  1.25s/it]"
     ]
    },
    {
     "name": "stdout",
     "output_type": "stream",
     "text": [
      "AIDREAM_224\n"
     ]
    },
    {
     "name": "stderr",
     "output_type": "stream",
     "text": [
      "2024-08-01 02:25 WARNING: No rescale slope found in dicom header\n",
      "2024-08-01 02:25 WARNING: No rescale intercept found in dicom header\n",
      "2024-08-01 02:25 WARNING: No rescale slope found in dicom header\n",
      "2024-08-01 02:25 WARNING: No rescale intercept found in dicom header\n",
      " 86%|███████████████████████████████████████████████████████████████████████████████████████████████████████████████████████████████████████████████▌                       | 92/107 [02:18<00:21,  1.40s/it]"
     ]
    },
    {
     "name": "stdout",
     "output_type": "stream",
     "text": [
      "AIDREAM_225\n"
     ]
    },
    {
     "name": "stderr",
     "output_type": "stream",
     "text": [
      "2024-08-01 02:25 WARNING: No rescale slope found in dicom header\n",
      "2024-08-01 02:25 WARNING: No rescale intercept found in dicom header\n",
      "2024-08-01 02:25 WARNING: No rescale slope found in dicom header\n",
      "2024-08-01 02:25 WARNING: No rescale intercept found in dicom header\n",
      " 87%|█████████████████████████████████████████████████████████████████████████████████████████████████████████████████████████████████████████████████▏                     | 93/107 [02:19<00:18,  1.31s/it]"
     ]
    },
    {
     "name": "stdout",
     "output_type": "stream",
     "text": [
      "AIDREAM_227\n"
     ]
    },
    {
     "name": "stderr",
     "output_type": "stream",
     "text": [
      "2024-08-01 02:25 WARNING: No rescale slope found in dicom header\n",
      "2024-08-01 02:25 WARNING: No rescale intercept found in dicom header\n",
      "2024-08-01 02:25 WARNING: No rescale slope found in dicom header\n",
      "2024-08-01 02:25 WARNING: No rescale intercept found in dicom header\n",
      " 88%|██████████████████████████████████████████████████████████████████████████████████████████████████████████████████████████████████████████████████▋                    | 94/107 [02:22<00:22,  1.75s/it]"
     ]
    },
    {
     "name": "stdout",
     "output_type": "stream",
     "text": [
      "AIDREAM_228\n"
     ]
    },
    {
     "name": "stderr",
     "output_type": "stream",
     "text": [
      "2024-08-01 02:25 WARNING: No rescale slope found in dicom header\n",
      "2024-08-01 02:25 WARNING: No rescale intercept found in dicom header\n",
      "2024-08-01 02:25 WARNING: No rescale slope found in dicom header\n",
      "2024-08-01 02:25 WARNING: No rescale intercept found in dicom header\n",
      " 89%|████████████████████████████████████████████████████████████████████████████████████████████████████████████████████████████████████████████████████▎                  | 95/107 [02:24<00:22,  1.84s/it]"
     ]
    },
    {
     "name": "stdout",
     "output_type": "stream",
     "text": [
      "AIDREAM_229\n"
     ]
    },
    {
     "name": "stderr",
     "output_type": "stream",
     "text": [
      "2024-08-01 02:25 WARNING: No rescale slope found in dicom header\n",
      "2024-08-01 02:25 WARNING: No rescale intercept found in dicom header\n",
      " 90%|█████████████████████████████████████████████████████████████████████████████████████████████████████████████████████████████████████████████████████▊                 | 96/107 [02:25<00:18,  1.64s/it]"
     ]
    },
    {
     "name": "stdout",
     "output_type": "stream",
     "text": [
      "AIDREAM_232\n"
     ]
    },
    {
     "name": "stderr",
     "output_type": "stream",
     "text": [
      "2024-08-01 02:25 WARNING: No rescale slope found in dicom header\n",
      "2024-08-01 02:25 WARNING: No rescale intercept found in dicom header\n",
      "2024-08-01 02:25 WARNING: No rescale slope found in dicom header\n",
      "2024-08-01 02:25 WARNING: No rescale intercept found in dicom header\n",
      " 91%|███████████████████████████████████████████████████████████████████████████████████████████████████████████████████████████████████████████████████████▍               | 97/107 [02:26<00:14,  1.44s/it]2024-08-01 02:25 WARNING: No rescale slope found in dicom header\n",
      "2024-08-01 02:25 WARNING: No rescale intercept found in dicom header\n"
     ]
    },
    {
     "name": "stdout",
     "output_type": "stream",
     "text": [
      "AIDREAM_233\n"
     ]
    },
    {
     "name": "stderr",
     "output_type": "stream",
     "text": [
      "2024-08-01 02:25 WARNING: No rescale slope found in dicom header\n",
      "2024-08-01 02:25 WARNING: No rescale intercept found in dicom header\n",
      " 92%|████████████████████████████████████████████████████████████████████████████████████████████████████████████████████████████████████████████████████████▉              | 98/107 [02:27<00:12,  1.35s/it]"
     ]
    },
    {
     "name": "stdout",
     "output_type": "stream",
     "text": [
      "AIDREAM_237\n"
     ]
    },
    {
     "name": "stderr",
     "output_type": "stream",
     "text": [
      "2024-08-01 02:25 WARNING: No rescale slope found in dicom header\n",
      "2024-08-01 02:25 WARNING: No rescale intercept found in dicom header\n",
      " 93%|██████████████████████████████████████████████████████████████████████████████████████████████████████████████████████████████████████████████████████████▌            | 99/107 [02:30<00:13,  1.69s/it]"
     ]
    },
    {
     "name": "stdout",
     "output_type": "stream",
     "text": [
      "AIDREAM_238\n"
     ]
    },
    {
     "name": "stderr",
     "output_type": "stream",
     "text": [
      "2024-08-01 02:25 WARNING: No rescale slope found in dicom header\n",
      "2024-08-01 02:25 WARNING: No rescale intercept found in dicom header\n",
      "2024-08-01 02:25 WARNING: No rescale slope found in dicom header\n",
      "2024-08-01 02:25 WARNING: No rescale intercept found in dicom header\n",
      " 93%|███████████████████████████████████████████████████████████████████████████████████████████████████████████████████████████████████████████████████████████▏          | 100/107 [02:31<00:12,  1.74s/it]"
     ]
    },
    {
     "name": "stdout",
     "output_type": "stream",
     "text": [
      "AIDREAM_240\n"
     ]
    },
    {
     "name": "stderr",
     "output_type": "stream",
     "text": [
      "2024-08-01 02:25 WARNING: No rescale slope found in dicom header\n",
      "2024-08-01 02:25 WARNING: No rescale intercept found in dicom header\n",
      "2024-08-01 02:25 WARNING: No rescale slope found in dicom header\n",
      "2024-08-01 02:25 WARNING: No rescale intercept found in dicom header\n",
      " 94%|████████████████████████████████████████████████████████████████████████████████████████████████████████████████████████████████████████████████████████████▋         | 101/107 [02:33<00:09,  1.60s/it]"
     ]
    },
    {
     "name": "stdout",
     "output_type": "stream",
     "text": [
      "AIDREAM_241\n"
     ]
    },
    {
     "name": "stderr",
     "output_type": "stream",
     "text": [
      "2024-08-01 02:25 WARNING: No rescale slope found in dicom header\n",
      "2024-08-01 02:25 WARNING: No rescale intercept found in dicom header\n",
      "2024-08-01 02:25 WARNING: No rescale slope found in dicom header\n",
      "2024-08-01 02:25 WARNING: No rescale intercept found in dicom header\n",
      " 95%|██████████████████████████████████████████████████████████████████████████████████████████████████████████████████████████████████████████████████████████████▏       | 102/107 [02:34<00:07,  1.53s/it]"
     ]
    },
    {
     "name": "stdout",
     "output_type": "stream",
     "text": [
      "AIDREAM_242\n"
     ]
    },
    {
     "name": "stderr",
     "output_type": "stream",
     "text": [
      "2024-08-01 02:25 WARNING: No rescale slope found in dicom header\n",
      "2024-08-01 02:25 WARNING: No rescale intercept found in dicom header\n",
      "2024-08-01 02:25 WARNING: No rescale slope found in dicom header\n",
      "2024-08-01 02:25 WARNING: No rescale intercept found in dicom header\n",
      " 96%|███████████████████████████████████████████████████████████████████████████████████████████████████████████████████████████████████████████████████████████████▊      | 103/107 [02:36<00:07,  1.82s/it]"
     ]
    },
    {
     "name": "stdout",
     "output_type": "stream",
     "text": [
      "AIDREAM_243\n"
     ]
    },
    {
     "name": "stderr",
     "output_type": "stream",
     "text": [
      "2024-08-01 02:25 WARNING: No rescale slope found in dicom header\n",
      "2024-08-01 02:25 WARNING: No rescale intercept found in dicom header\n",
      "2024-08-01 02:25 WARNING: No rescale slope found in dicom header\n",
      "2024-08-01 02:25 WARNING: No rescale intercept found in dicom header\n",
      " 97%|█████████████████████████████████████████████████████████████████████████████████████████████████████████████████████████████████████████████████████████████████▎    | 104/107 [02:38<00:05,  1.70s/it]"
     ]
    },
    {
     "name": "stdout",
     "output_type": "stream",
     "text": [
      "AIDREAM_244\n"
     ]
    },
    {
     "name": "stderr",
     "output_type": "stream",
     "text": [
      "2024-08-01 02:25 WARNING: No rescale slope found in dicom header\n",
      "2024-08-01 02:25 WARNING: No rescale intercept found in dicom header\n",
      "2024-08-01 02:25 WARNING: No rescale slope found in dicom header\n",
      "2024-08-01 02:25 WARNING: No rescale intercept found in dicom header\n",
      " 98%|██████████████████████████████████████████████████████████████████████████████████████████████████████████████████████████████████████████████████████████████████▉   | 105/107 [02:41<00:04,  2.00s/it]"
     ]
    },
    {
     "name": "stdout",
     "output_type": "stream",
     "text": [
      "AIDREAM_245\n"
     ]
    },
    {
     "name": "stderr",
     "output_type": "stream",
     "text": [
      "2024-08-01 02:25 WARNING: No rescale slope found in dicom header\n",
      "2024-08-01 02:25 WARNING: No rescale intercept found in dicom header\n",
      "2024-08-01 02:25 WARNING: No rescale slope found in dicom header\n",
      "2024-08-01 02:25 WARNING: No rescale intercept found in dicom header\n",
      " 99%|████████████████████████████████████████████████████████████████████████████████████████████████████████████████████████████████████████████████████████████████████▍ | 106/107 [02:42<00:01,  1.69s/it]"
     ]
    },
    {
     "name": "stdout",
     "output_type": "stream",
     "text": [
      "AIDREAM_247\n"
     ]
    },
    {
     "name": "stderr",
     "output_type": "stream",
     "text": [
      "2024-08-01 02:25 WARNING: No rescale slope found in dicom header\n",
      "2024-08-01 02:25 WARNING: No rescale intercept found in dicom header\n",
      "2024-08-01 02:25 WARNING: No rescale slope found in dicom header\n",
      "2024-08-01 02:25 WARNING: No rescale intercept found in dicom header\n",
      "100%|██████████████████████████████████████████████████████████████████████████████████████████████████████████████████████████████████████████████████████████████████████| 107/107 [02:42<00:00,  1.52s/it]\n"
     ]
    }
   ],
   "source": [
    "for patient in tqdm(list_patients):\n",
    "    print(patient)\n",
    "    for stage in ['pre_RT', 'Rechute']:\n",
    "\n",
    "        dir_t1ce = dir_raw / patient / stage / 'T1CE'\n",
    "\n",
    "        path_rtstruct = dir_raw / patient / stage / 'Labels'\n",
    "        path_rtstruct = list(path_rtstruct.glob(\"*.dcm\"))[0]\n",
    "        \n",
    "        rtstruct2nii(\n",
    "            rtstruct_file=str(path_rtstruct),\n",
    "            dicom_file=list(dir_t1ce.glob('*.dcm')),\n",
    "            output_full_path=str(dir_nifti / patient / stage / \"Labels\" / \"Label\"),\n",
    "            metadata_export=False,\n",
    "            gzip=True,\n",
    "            prefix=fr'{patient}_{stage}',\n",
    "        )\n",
    "        "
   ]
  },
  {
   "cell_type": "code",
   "execution_count": 9,
   "id": "7922c947-5cb7-477e-a306-364b4896e586",
   "metadata": {},
   "outputs": [
    {
     "name": "stderr",
     "output_type": "stream",
     "text": [
      "100%|███████████████████████████████████████████████████████████████████████████████████████████████████████████████████████████████████████████████████████████████████| 104/104 [00:00<00:00, 20720.48it/s]\n"
     ]
    }
   ],
   "source": [
    "for patient in tqdm(list_patients):\n",
    "    for stage in ['pre_RT', 'Rechute']:\n",
    "\n",
    "        dir_dst = dir_processed / patient / stage / 'Labels'\n",
    "        if dir_dst.exists():\n",
    "            shutil.rmtree(dir_dst)"
   ]
  },
  {
   "cell_type": "code",
   "execution_count": 10,
   "id": "7024e734-19e5-4ae3-b861-bdb63161cbcd",
   "metadata": {},
   "outputs": [
    {
     "name": "stderr",
     "output_type": "stream",
     "text": [
      "100%|█████████████████████████████████████████████████████████████████████████████████████████████████████████████████████████████████████████████████████████████████████| 104/104 [00:00<00:00, 419.94it/s]\n"
     ]
    },
    {
     "data": {
      "text/plain": [
       "set()"
      ]
     },
     "execution_count": 10,
     "metadata": {},
     "output_type": "execute_result"
    }
   ],
   "source": [
    "L = []\n",
    "\n",
    "stage = \"pre_RT\"\n",
    "\n",
    "for patient in tqdm(list_patients):\n",
    "\n",
    "    dir_labels_src = dir_nifti / patient / stage / \"Labels\"\n",
    "\n",
    "    for f in os.listdir(dir_labels_src):\n",
    "\n",
    "        a = f.removeprefix(fr\"{patient}_{stage}_\").removesuffix(\"_Label.nii.gz\")\n",
    "\n",
    "        for i in range(1, 4):\n",
    "        \n",
    "            if a in [fr'L{i}', fr'L {i}']:\n",
    "    \n",
    "                dir_labels_dst = dir_processed / patient / stage / 'Labels'\n",
    "                dir_labels_dst.mkdir(exist_ok=True, parents=True)\n",
    "    \n",
    "                shutil.copy2(src=(dir_labels_src / f),\n",
    "                             dst=(dir_labels_dst / fr\"{patient}_{stage}_L{i}_Label.nii.gz\"))\n",
    "set(L)"
   ]
  },
  {
   "cell_type": "code",
   "execution_count": 11,
   "id": "91b5873c-7674-4414-807d-ca7bc5b46e4f",
   "metadata": {},
   "outputs": [
    {
     "name": "stderr",
     "output_type": "stream",
     "text": [
      "100%|████████████████████████████████████████████████████████████████████████████████████████████████████████████████████████████████████████████████████████████████████| 104/104 [00:00<00:00, 3532.65it/s]\n"
     ]
    }
   ],
   "source": [
    "L = []\n",
    "\n",
    "stage = \"Rechute\"\n",
    "\n",
    "for patient in tqdm(list_patients):\n",
    "\n",
    "    dir_labels_src = dir_nifti / patient / stage / \"Labels\"\n",
    "\n",
    "    for f in os.listdir(dir_labels_src):\n",
    "\n",
    "        a = f.removeprefix(fr\"{patient}_{stage}_\").removesuffix(\"_Label.nii.gz\")\n",
    "\n",
    "        for i in range(1, 4):\n",
    "            if a in [fr'RL{i}', fr\"L{i}R\"]:\n",
    "                path_src = dir_labels_src / f\n",
    "                \n",
    "                path_dst = dir_processed / patient / stage / 'Labels' / fr'{patient}_{stage}_L{i}_Label.nii.gz'\n",
    "                path_dst.parent.mkdir(exist_ok=True, parents=True)\n",
    "\n",
    "                shutil.copy2(src=path_src, dst=path_dst)                \n",
    "\n"
   ]
  },
  {
   "cell_type": "code",
   "execution_count": 12,
   "id": "c3f1cad1-0ad3-4e95-85c0-e1270bc75c35",
   "metadata": {},
   "outputs": [],
   "source": [
    "import ants"
   ]
  },
  {
   "cell_type": "code",
   "execution_count": 14,
   "id": "3c46cc6c-96f8-473a-9cd0-b94f7a2fa11a",
   "metadata": {},
   "outputs": [
    {
     "name": "stderr",
     "output_type": "stream",
     "text": [
      "  1%|█▌                                                                                                                                                                      | 1/104 [00:00<00:23,  4.41it/s]"
     ]
    },
    {
     "name": "stdout",
     "output_type": "stream",
     "text": [
      "Patient AIDREAM_1 has no pre_RT L1\n",
      "Patient AIDREAM_1 has no pre_RT L3\n",
      "Patient AIDREAM_2 has no pre_RT L1\n"
     ]
    },
    {
     "name": "stderr",
     "output_type": "stream",
     "text": [
      "  3%|████▊                                                                                                                                                                   | 3/104 [00:00<00:19,  5.14it/s]"
     ]
    },
    {
     "name": "stdout",
     "output_type": "stream",
     "text": [
      "Patient AIDREAM_2 has no pre_RT L3\n",
      "Patient AIDREAM_3 has no Rechute L2\n"
     ]
    },
    {
     "name": "stderr",
     "output_type": "stream",
     "text": [
      "  4%|██████▍                                                                                                                                                                 | 4/104 [00:00<00:22,  4.44it/s]"
     ]
    },
    {
     "name": "stdout",
     "output_type": "stream",
     "text": [
      "Patient AIDREAM_4 has no pre_RT L1\n",
      "Patient AIDREAM_4 has no pre_RT L3\n",
      "Patient AIDREAM_4 has no Rechute L2\n"
     ]
    },
    {
     "name": "stderr",
     "output_type": "stream",
     "text": [
      "  5%|████████                                                                                                                                                                | 5/104 [00:01<00:21,  4.52it/s]"
     ]
    },
    {
     "name": "stdout",
     "output_type": "stream",
     "text": [
      "Patient AIDREAM_6 has no pre_RT L1\n",
      "Patient AIDREAM_6 has no pre_RT L3\n",
      "Patient AIDREAM_7 has no pre_RT L1\n"
     ]
    },
    {
     "name": "stderr",
     "output_type": "stream",
     "text": [
      "  6%|█████████▋                                                                                                                                                              | 6/104 [00:01<00:25,  3.89it/s]"
     ]
    },
    {
     "name": "stdout",
     "output_type": "stream",
     "text": [
      "Patient AIDREAM_7 has no pre_RT L3\n",
      "Patient AIDREAM_7 has no Rechute L1\n",
      "Patient AIDREAM_7 has no Rechute L2\n"
     ]
    },
    {
     "name": "stderr",
     "output_type": "stream",
     "text": [
      "  8%|████████████▉                                                                                                                                                           | 8/104 [00:01<00:19,  5.05it/s]"
     ]
    },
    {
     "name": "stdout",
     "output_type": "stream",
     "text": [
      "Patient AIDREAM_9 has no Rechute L1\n",
      "Patient AIDREAM_9 has no Rechute L2\n"
     ]
    },
    {
     "name": "stderr",
     "output_type": "stream",
     "text": [
      "  9%|██████████████▌                                                                                                                                                         | 9/104 [00:01<00:19,  4.93it/s]"
     ]
    },
    {
     "name": "stdout",
     "output_type": "stream",
     "text": [
      "Patient AIDREAM_12 has no pre_RT L1\n",
      "Patient AIDREAM_12 has no pre_RT L3\n",
      "Patient AIDREAM_13 has no pre_RT L1\n"
     ]
    },
    {
     "name": "stderr",
     "output_type": "stream",
     "text": [
      " 10%|████████████████                                                                                                                                                       | 10/104 [00:02<00:19,  4.88it/s]"
     ]
    },
    {
     "name": "stdout",
     "output_type": "stream",
     "text": [
      "Patient AIDREAM_13 has no pre_RT L3\n",
      "Patient AIDREAM_14 has no pre_RT L1\n",
      "Patient AIDREAM_14 has no Rechute L1\n"
     ]
    },
    {
     "name": "stderr",
     "output_type": "stream",
     "text": [
      " 12%|███████████████████▎                                                                                                                                                   | 12/104 [00:02<00:18,  4.94it/s]"
     ]
    },
    {
     "name": "stdout",
     "output_type": "stream",
     "text": [
      "Patient AIDREAM_14 has no Rechute L2\n",
      "Patient AIDREAM_17 has no Rechute L1\n"
     ]
    },
    {
     "name": "stderr",
     "output_type": "stream",
     "text": [
      " 15%|█████████████████████████▋                                                                                                                                             | 16/104 [00:03<00:12,  7.13it/s]"
     ]
    },
    {
     "name": "stdout",
     "output_type": "stream",
     "text": [
      "Patient AIDREAM_22 has no Rechute L2\n"
     ]
    },
    {
     "name": "stderr",
     "output_type": "stream",
     "text": [
      " 16%|███████████████████████████▎                                                                                                                                           | 17/104 [00:03<00:15,  5.65it/s]"
     ]
    },
    {
     "name": "stdout",
     "output_type": "stream",
     "text": [
      "Patient AIDREAM_26 has no pre_RT L1\n",
      "Patient AIDREAM_26 has no Rechute L1\n",
      "Patient AIDREAM_26 has no Rechute L2\n"
     ]
    },
    {
     "name": "stderr",
     "output_type": "stream",
     "text": [
      " 17%|████████████████████████████▉                                                                                                                                          | 18/104 [00:03<00:16,  5.35it/s]"
     ]
    },
    {
     "name": "stdout",
     "output_type": "stream",
     "text": [
      "Patient AIDREAM_33 has no Rechute L1\n",
      "Patient AIDREAM_33 has no Rechute L2\n",
      "Patient AIDREAM_35 has no pre_RT L1\n"
     ]
    },
    {
     "name": "stderr",
     "output_type": "stream",
     "text": [
      " 18%|██████████████████████████████▌                                                                                                                                        | 19/104 [00:03<00:17,  4.76it/s]"
     ]
    },
    {
     "name": "stdout",
     "output_type": "stream",
     "text": [
      "Patient AIDREAM_35 has no Rechute L1\n",
      "Patient AIDREAM_35 has no Rechute L2\n"
     ]
    },
    {
     "name": "stderr",
     "output_type": "stream",
     "text": [
      " 19%|████████████████████████████████                                                                                                                                       | 20/104 [00:04<00:17,  4.69it/s]"
     ]
    },
    {
     "name": "stdout",
     "output_type": "stream",
     "text": [
      "Patient AIDREAM_36 has no Rechute L1\n",
      "Patient AIDREAM_36 has no Rechute L2\n",
      "Patient AIDREAM_38 has no Rechute L1\n"
     ]
    },
    {
     "name": "stderr",
     "output_type": "stream",
     "text": [
      " 20%|█████████████████████████████████▋                                                                                                                                     | 21/104 [00:04<00:17,  4.66it/s]"
     ]
    },
    {
     "name": "stdout",
     "output_type": "stream",
     "text": [
      "Patient AIDREAM_38 has no Rechute L2\n",
      "Patient AIDREAM_44 has no pre_RT L1\n",
      "Patient AIDREAM_44 has no pre_RT L3\n"
     ]
    },
    {
     "name": "stderr",
     "output_type": "stream",
     "text": [
      " 21%|███████████████████████████████████▎                                                                                                                                   | 22/104 [00:04<00:20,  3.99it/s]"
     ]
    },
    {
     "name": "stdout",
     "output_type": "stream",
     "text": [
      "Patient AIDREAM_44 has no Rechute L1\n",
      "Patient AIDREAM_44 has no Rechute L2\n",
      "Patient AIDREAM_45 has no Rechute L1\n"
     ]
    },
    {
     "name": "stderr",
     "output_type": "stream",
     "text": [
      " 22%|████████████████████████████████████▉                                                                                                                                  | 23/104 [00:04<00:19,  4.13it/s]"
     ]
    },
    {
     "name": "stdout",
     "output_type": "stream",
     "text": [
      "Patient AIDREAM_45 has no Rechute L2\n",
      "Patient AIDREAM_46 has no pre_RT L1\n",
      "Patient AIDREAM_46 has no Rechute L2\n"
     ]
    },
    {
     "name": "stderr",
     "output_type": "stream",
     "text": [
      " 24%|████████████████████████████████████████▏                                                                                                                              | 25/104 [00:05<00:18,  4.36it/s]"
     ]
    },
    {
     "name": "stdout",
     "output_type": "stream",
     "text": [
      "Patient AIDREAM_48 has no Rechute L1\n",
      "Patient AIDREAM_48 has no Rechute L2\n",
      "Patient AIDREAM_49 has no Rechute L1\n"
     ]
    },
    {
     "name": "stderr",
     "output_type": "stream",
     "text": [
      " 25%|█████████████████████████████████████████▊                                                                                                                             | 26/104 [00:05<00:17,  4.44it/s]"
     ]
    },
    {
     "name": "stdout",
     "output_type": "stream",
     "text": [
      "Patient AIDREAM_49 has no Rechute L2\n",
      "Patient AIDREAM_51 has no pre_RT L1\n",
      "Patient AIDREAM_51 has no Rechute L1\n"
     ]
    },
    {
     "name": "stderr",
     "output_type": "stream",
     "text": [
      " 26%|███████████████████████████████████████████▎                                                                                                                           | 27/104 [00:05<00:18,  4.21it/s]"
     ]
    },
    {
     "name": "stdout",
     "output_type": "stream",
     "text": [
      "Patient AIDREAM_51 has no Rechute L2\n",
      "Patient AIDREAM_52 has no Rechute L1\n",
      "Patient AIDREAM_52 has no Rechute L2\n"
     ]
    },
    {
     "name": "stderr",
     "output_type": "stream",
     "text": [
      " 28%|██████████████████████████████████████████████▌                                                                                                                        | 29/104 [00:06<00:16,  4.46it/s]"
     ]
    },
    {
     "name": "stdout",
     "output_type": "stream",
     "text": [
      "Patient AIDREAM_54 has no Rechute L1\n",
      "Patient AIDREAM_54 has no Rechute L2\n",
      "Patient AIDREAM_56 has no Rechute L1\n"
     ]
    },
    {
     "name": "stderr",
     "output_type": "stream",
     "text": [
      " 29%|████████████████████████████████████████████████▏                                                                                                                      | 30/104 [00:06<00:16,  4.54it/s]"
     ]
    },
    {
     "name": "stdout",
     "output_type": "stream",
     "text": [
      "Patient AIDREAM_56 has no Rechute L2\n",
      "Patient AIDREAM_59 has no pre_RT L1\n",
      "Patient AIDREAM_59 has no pre_RT L3\n"
     ]
    },
    {
     "name": "stderr",
     "output_type": "stream",
     "text": [
      " 30%|█████████████████████████████████████████████████▊                                                                                                                     | 31/104 [00:06<00:18,  3.98it/s]"
     ]
    },
    {
     "name": "stdout",
     "output_type": "stream",
     "text": [
      "Patient AIDREAM_59 has no Rechute L1\n",
      "Patient AIDREAM_59 has no Rechute L2\n",
      "Patient AIDREAM_60 has no Rechute L1\n"
     ]
    },
    {
     "name": "stderr",
     "output_type": "stream",
     "text": [
      " 31%|███████████████████████████████████████████████████▍                                                                                                                   | 32/104 [00:06<00:17,  4.17it/s]"
     ]
    },
    {
     "name": "stdout",
     "output_type": "stream",
     "text": [
      "Patient AIDREAM_60 has no Rechute L2\n",
      "Patient AIDREAM_62 has no Rechute L1\n",
      "Patient AIDREAM_62 has no Rechute L2\n"
     ]
    },
    {
     "name": "stderr",
     "output_type": "stream",
     "text": [
      " 33%|██████████████████████████████████████████████████████▌                                                                                                                | 34/104 [00:07<00:16,  4.36it/s]"
     ]
    },
    {
     "name": "stdout",
     "output_type": "stream",
     "text": [
      "Patient AIDREAM_64 has no pre_RT L1\n",
      "Patient AIDREAM_64 has no Rechute L2\n",
      "Patient AIDREAM_65 has no Rechute L2\n"
     ]
    },
    {
     "name": "stderr",
     "output_type": "stream",
     "text": [
      " 35%|█████████████████████████████████████████████████████████▊                                                                                                             | 36/104 [00:07<00:15,  4.42it/s]"
     ]
    },
    {
     "name": "stdout",
     "output_type": "stream",
     "text": [
      "Patient AIDREAM_67 has no pre_RT L1\n",
      "Patient AIDREAM_67 has no Rechute L1\n",
      "Patient AIDREAM_67 has no Rechute L2\n"
     ]
    },
    {
     "name": "stderr",
     "output_type": "stream",
     "text": [
      " 36%|███████████████████████████████████████████████████████████▍                                                                                                           | 37/104 [00:07<00:14,  4.50it/s]"
     ]
    },
    {
     "name": "stdout",
     "output_type": "stream",
     "text": [
      "Patient AIDREAM_68 has no Rechute L1\n",
      "Patient AIDREAM_68 has no Rechute L2\n",
      "Patient AIDREAM_69 has no Rechute L1\n"
     ]
    },
    {
     "name": "stderr",
     "output_type": "stream",
     "text": [
      " 37%|█████████████████████████████████████████████████████████████                                                                                                          | 38/104 [00:08<00:14,  4.52it/s]"
     ]
    },
    {
     "name": "stdout",
     "output_type": "stream",
     "text": [
      "Patient AIDREAM_69 has no Rechute L2\n",
      "Patient AIDREAM_71 has no Rechute L1\n",
      "Patient AIDREAM_71 has no Rechute L2\n"
     ]
    },
    {
     "name": "stderr",
     "output_type": "stream",
     "text": [
      " 38%|████████████████████████████████████████████████████████████████▏                                                                                                      | 40/104 [00:08<00:15,  4.25it/s]"
     ]
    },
    {
     "name": "stdout",
     "output_type": "stream",
     "text": [
      "Patient AIDREAM_73 has no pre_RT L1\n",
      "Patient AIDREAM_73 has no Rechute L1\n",
      "Patient AIDREAM_73 has no Rechute L2\n"
     ]
    },
    {
     "name": "stderr",
     "output_type": "stream",
     "text": [
      " 39%|█████████████████████████████████████████████████████████████████▊                                                                                                     | 41/104 [00:08<00:15,  4.06it/s]"
     ]
    },
    {
     "name": "stdout",
     "output_type": "stream",
     "text": [
      "Patient AIDREAM_75 has no pre_RT L1\n",
      "Patient AIDREAM_75 has no Rechute L1\n",
      "Patient AIDREAM_75 has no Rechute L2\n"
     ]
    },
    {
     "name": "stderr",
     "output_type": "stream",
     "text": [
      " 40%|███████████████████████████████████████████████████████████████████▍                                                                                                   | 42/104 [00:09<00:14,  4.20it/s]"
     ]
    },
    {
     "name": "stdout",
     "output_type": "stream",
     "text": [
      "Patient AIDREAM_79 has no Rechute L1\n",
      "Patient AIDREAM_79 has no Rechute L2\n",
      "Patient AIDREAM_80 has no Rechute L2\n"
     ]
    },
    {
     "name": "stderr",
     "output_type": "stream",
     "text": [
      " 42%|██████████████████████████████████████████████████████████████████████▋                                                                                                | 44/104 [00:09<00:12,  4.69it/s]"
     ]
    },
    {
     "name": "stdout",
     "output_type": "stream",
     "text": [
      "Patient AIDREAM_81 has no Rechute L1\n",
      "Patient AIDREAM_81 has no Rechute L2\n",
      "Patient AIDREAM_82 has no Rechute L1\n"
     ]
    },
    {
     "name": "stderr",
     "output_type": "stream",
     "text": [
      " 43%|████████████████████████████████████████████████████████████████████████▎                                                                                              | 45/104 [00:09<00:12,  4.69it/s]"
     ]
    },
    {
     "name": "stdout",
     "output_type": "stream",
     "text": [
      "Patient AIDREAM_82 has no Rechute L2\n",
      "Patient AIDREAM_84 has no pre_RT L1\n",
      "Patient AIDREAM_84 has no Rechute L1\n"
     ]
    },
    {
     "name": "stderr",
     "output_type": "stream",
     "text": [
      " 44%|█████████████████████████████████████████████████████████████████████████▊                                                                                             | 46/104 [00:09<00:13,  4.38it/s]"
     ]
    },
    {
     "name": "stdout",
     "output_type": "stream",
     "text": [
      "Patient AIDREAM_84 has no Rechute L2\n",
      "Patient AIDREAM_85 has no pre_RT L1\n",
      "Patient AIDREAM_85 has no pre_RT L3\n"
     ]
    },
    {
     "name": "stderr",
     "output_type": "stream",
     "text": [
      " 45%|███████████████████████████████████████████████████████████████████████████▍                                                                                           | 47/104 [00:10<00:14,  3.90it/s]"
     ]
    },
    {
     "name": "stdout",
     "output_type": "stream",
     "text": [
      "Patient AIDREAM_85 has no Rechute L1\n",
      "Patient AIDREAM_85 has no Rechute L2\n",
      "Patient AIDREAM_88 has no Rechute L1\n",
      "Patient AIDREAM_88 has no Rechute L2\n"
     ]
    },
    {
     "name": "stderr",
     "output_type": "stream",
     "text": [
      " 47%|██████████████████████████████████████████████████████████████████████████████▋                                                                                        | 49/104 [00:10<00:13,  4.00it/s]"
     ]
    },
    {
     "name": "stdout",
     "output_type": "stream",
     "text": [
      "Patient AIDREAM_89 has no pre_RT L1\n",
      "Patient AIDREAM_89 has no pre_RT L3\n",
      "Patient AIDREAM_89 has no Rechute L2\n"
     ]
    },
    {
     "name": "stderr",
     "output_type": "stream",
     "text": [
      " 48%|████████████████████████████████████████████████████████████████████████████████▎                                                                                      | 50/104 [00:10<00:12,  4.50it/s]"
     ]
    },
    {
     "name": "stdout",
     "output_type": "stream",
     "text": [
      "Patient AIDREAM_90 has no Rechute L2\n",
      "Patient AIDREAM_92 has no pre_RT L1\n",
      "Patient AIDREAM_92 has no Rechute L2\n"
     ]
    },
    {
     "name": "stderr",
     "output_type": "stream",
     "text": [
      " 50%|███████████████████████████████████████████████████████████████████████████████████▌                                                                                   | 52/104 [00:11<00:11,  4.58it/s]"
     ]
    },
    {
     "name": "stdout",
     "output_type": "stream",
     "text": [
      "Patient AIDREAM_93 has no Rechute L1\n",
      "Patient AIDREAM_93 has no Rechute L2\n",
      "Patient AIDREAM_94 has no Rechute L2\n"
     ]
    },
    {
     "name": "stderr",
     "output_type": "stream",
     "text": [
      " 53%|████████████████████████████████████████████████████████████████████████████████████████▎                                                                              | 55/104 [00:11<00:08,  5.56it/s]"
     ]
    },
    {
     "name": "stdout",
     "output_type": "stream",
     "text": [
      "Patient AIDREAM_96 has no Rechute L2\n",
      "Patient AIDREAM_97 has no Rechute L2\n"
     ]
    },
    {
     "name": "stderr",
     "output_type": "stream",
     "text": [
      " 54%|█████████████████████████████████████████████████████████████████████████████████████████▉                                                                             | 56/104 [00:12<00:09,  5.24it/s]"
     ]
    },
    {
     "name": "stdout",
     "output_type": "stream",
     "text": [
      "Patient AIDREAM_98 has no pre_RT L1\n",
      "Patient AIDREAM_98 has no Rechute L2\n",
      "Patient AIDREAM_99 has no Rechute L1\n"
     ]
    },
    {
     "name": "stderr",
     "output_type": "stream",
     "text": [
      " 56%|█████████████████████████████████████████████████████████████████████████████████████████████▏                                                                         | 58/104 [00:12<00:07,  5.92it/s]"
     ]
    },
    {
     "name": "stdout",
     "output_type": "stream",
     "text": [
      "Patient AIDREAM_99 has no Rechute L2\n"
     ]
    },
    {
     "name": "stderr",
     "output_type": "stream",
     "text": [
      " 58%|████████████████████████████████████████████████████████████████████████████████████████████████▎                                                                      | 60/104 [00:12<00:07,  5.89it/s]"
     ]
    },
    {
     "name": "stdout",
     "output_type": "stream",
     "text": [
      "Patient AIDREAM_103 has no pre_RT L1\n",
      "Patient AIDREAM_103 has no pre_RT L3\n",
      "Patient AIDREAM_104 has no pre_RT L1\n"
     ]
    },
    {
     "name": "stderr",
     "output_type": "stream",
     "text": [
      " 60%|███████████████████████████████████████████████████████████████████████████████████████████████████▌                                                                   | 62/104 [00:13<00:06,  6.22it/s]"
     ]
    },
    {
     "name": "stdout",
     "output_type": "stream",
     "text": [
      "Patient AIDREAM_104 has no pre_RT L3\n"
     ]
    },
    {
     "name": "stderr",
     "output_type": "stream",
     "text": [
      " 62%|██████████████████████████████████████████████████████████████████████████████████████████████████████▊                                                                | 64/104 [00:13<00:06,  5.96it/s]"
     ]
    },
    {
     "name": "stdout",
     "output_type": "stream",
     "text": [
      "Patient AIDREAM_110 has no pre_RT L1\n",
      "Patient AIDREAM_110 has no pre_RT L3\n",
      "Patient AIDREAM_112 has no Rechute L2\n"
     ]
    },
    {
     "name": "stderr",
     "output_type": "stream",
     "text": [
      " 65%|█████████████████████████████████████████████████████████████████████████████████████████████████████████████▏                                                         | 68/104 [00:13<00:05,  6.18it/s]"
     ]
    },
    {
     "name": "stdout",
     "output_type": "stream",
     "text": [
      "Patient AIDREAM_115 has no pre_RT L1\n",
      "Patient AIDREAM_115 has no pre_RT L3\n",
      "Patient AIDREAM_117 has no Rechute L2\n"
     ]
    },
    {
     "name": "stderr",
     "output_type": "stream",
     "text": [
      " 70%|█████████████████████████████████████████████████████████████████████████████████████████████████████████████████████▏                                                 | 73/104 [00:14<00:04,  7.21it/s]"
     ]
    },
    {
     "name": "stdout",
     "output_type": "stream",
     "text": [
      "Patient AIDREAM_123 has no pre_RT L1\n",
      "Patient AIDREAM_124 has no pre_RT L1\n",
      "Patient AIDREAM_124 has no pre_RT L3\n"
     ]
    },
    {
     "name": "stderr",
     "output_type": "stream",
     "text": [
      " 73%|██████████████████████████████████████████████████████████████████████████████████████████████████████████████████████████                                             | 76/104 [00:15<00:04,  5.94it/s]"
     ]
    },
    {
     "name": "stdout",
     "output_type": "stream",
     "text": [
      "Patient AIDREAM_128 has no Rechute L1\n",
      "Patient AIDREAM_128 has no Rechute L2\n",
      "Patient AIDREAM_129 has no pre_RT L1\n"
     ]
    },
    {
     "name": "stderr",
     "output_type": "stream",
     "text": [
      " 74%|███████████████████████████████████████████████████████████████████████████████████████████████████████████████████████████▋                                           | 77/104 [00:15<00:05,  5.03it/s]"
     ]
    },
    {
     "name": "stdout",
     "output_type": "stream",
     "text": [
      "Patient AIDREAM_129 has no Rechute L1\n",
      "Patient AIDREAM_129 has no Rechute L2\n",
      "Patient AIDREAM_130 has no pre_RT L1\n"
     ]
    },
    {
     "name": "stderr",
     "output_type": "stream",
     "text": [
      " 75%|█████████████████████████████████████████████████████████████████████████████████████████████████████████████████████████████▎                                         | 78/104 [00:15<00:05,  4.49it/s]"
     ]
    },
    {
     "name": "stdout",
     "output_type": "stream",
     "text": [
      "Patient AIDREAM_130 has no pre_RT L3\n",
      "Patient AIDREAM_130 has no Rechute L2\n",
      "Patient AIDREAM_132 has no pre_RT L1\n"
     ]
    },
    {
     "name": "stderr",
     "output_type": "stream",
     "text": [
      " 77%|████████████████████████████████████████████████████████████████████████████████████████████████████████████████████████████████▍                                      | 80/104 [00:16<00:04,  5.01it/s]"
     ]
    },
    {
     "name": "stdout",
     "output_type": "stream",
     "text": [
      "Patient AIDREAM_132 has no pre_RT L3\n",
      "Patient AIDREAM_132 has no Rechute L1\n"
     ]
    },
    {
     "name": "stderr",
     "output_type": "stream",
     "text": [
      " 80%|█████████████████████████████████████████████████████████████████████████████████████████████████████████████████████████████████████▎                                 | 83/104 [00:16<00:03,  6.38it/s]"
     ]
    },
    {
     "name": "stdout",
     "output_type": "stream",
     "text": [
      "Patient AIDREAM_142 has no Rechute L2\n",
      "Patient AIDREAM_143 has no Rechute L1\n",
      "Patient AIDREAM_143 has no Rechute L2\n"
     ]
    },
    {
     "name": "stderr",
     "output_type": "stream",
     "text": [
      " 82%|████████████████████████████████████████████████████████████████████████████████████████████████████████████████████████████████████████▍                              | 85/104 [00:17<00:04,  4.54it/s]"
     ]
    },
    {
     "name": "stdout",
     "output_type": "stream",
     "text": [
      "Patient AIDREAM_145 has no pre_RT L1\n",
      "Patient AIDREAM_145 has no pre_RT L3\n",
      "Patient AIDREAM_145 has no Rechute L1\n",
      "Patient AIDREAM_145 has no Rechute L2\n"
     ]
    },
    {
     "name": "stderr",
     "output_type": "stream",
     "text": [
      " 83%|██████████████████████████████████████████████████████████████████████████████████████████████████████████████████████████████████████████                             | 86/104 [00:17<00:03,  4.55it/s]"
     ]
    },
    {
     "name": "stdout",
     "output_type": "stream",
     "text": [
      "Patient AIDREAM_149 has no Rechute L1\n",
      "Patient AIDREAM_149 has no Rechute L2\n",
      "Patient AIDREAM_153 has no Rechute L2\n"
     ]
    },
    {
     "name": "stderr",
     "output_type": "stream",
     "text": [
      " 86%|██████████████████████████████████████████████████████████████████████████████████████████████████████████████████████████████████████████████▉                        | 89/104 [00:17<00:02,  5.63it/s]"
     ]
    },
    {
     "name": "stdout",
     "output_type": "stream",
     "text": [
      "Patient AIDREAM_223 has no Rechute L1\n",
      "Patient AIDREAM_223 has no Rechute L2\n"
     ]
    },
    {
     "name": "stderr",
     "output_type": "stream",
     "text": [
      " 87%|████████████████████████████████████████████████████████████████████████████████████████████████████████████████████████████████████████████████▌                      | 90/104 [00:17<00:02,  5.80it/s]"
     ]
    },
    {
     "name": "stdout",
     "output_type": "stream",
     "text": [
      "Patient AIDREAM_225 has no pre_RT L1\n",
      "Patient AIDREAM_227 has no Rechute L1\n",
      "Patient AIDREAM_227 has no Rechute L2\n"
     ]
    },
    {
     "name": "stderr",
     "output_type": "stream",
     "text": [
      " 88%|███████████████████████████████████████████████████████████████████████████████████████████████████████████████████████████████████████████████████▋                   | 92/104 [00:18<00:02,  5.17it/s]"
     ]
    },
    {
     "name": "stdout",
     "output_type": "stream",
     "text": [
      "Patient AIDREAM_228 has no Rechute L1\n",
      "Patient AIDREAM_228 has no Rechute L2\n",
      "Patient AIDREAM_229 has no pre_RT L1\n"
     ]
    },
    {
     "name": "stderr",
     "output_type": "stream",
     "text": [
      " 90%|██████████████████████████████████████████████████████████████████████████████████████████████████████████████████████████████████████████████████████▉                | 94/104 [00:18<00:01,  5.54it/s]"
     ]
    },
    {
     "name": "stdout",
     "output_type": "stream",
     "text": [
      "Patient AIDREAM_229 has no pre_RT L3\n",
      "Patient AIDREAM_229 has no Rechute L2\n"
     ]
    },
    {
     "name": "stderr",
     "output_type": "stream",
     "text": [
      " 93%|███████████████████████████████████████████████████████████████████████████████████████████████████████████████████████████████████████████████████████████▊           | 97/104 [00:19<00:01,  6.75it/s]"
     ]
    },
    {
     "name": "stdout",
     "output_type": "stream",
     "text": [
      "Patient AIDREAM_238 has no pre_RT L1\n",
      "Patient AIDREAM_240 has no pre_RT L1\n",
      "Patient AIDREAM_240 has no Rechute L2\n"
     ]
    },
    {
     "name": "stderr",
     "output_type": "stream",
     "text": [
      " 96%|███████████████████████████████████████████████████████████████████████████████████████████████████████████████████████████████████████████████████████████████▌      | 100/104 [00:19<00:00,  6.33it/s]"
     ]
    },
    {
     "name": "stdout",
     "output_type": "stream",
     "text": [
      "Patient AIDREAM_241 has no Rechute L1\n",
      "Patient AIDREAM_241 has no Rechute L2\n"
     ]
    },
    {
     "name": "stderr",
     "output_type": "stream",
     "text": [
      " 98%|██████████████████████████████████████████████████████████████████████████████████████████████████████████████████████████████████████████████████████████████████▊   | 102/104 [00:19<00:00,  6.36it/s]"
     ]
    },
    {
     "name": "stdout",
     "output_type": "stream",
     "text": [
      "Patient AIDREAM_243 has no Rechute L1\n",
      "Patient AIDREAM_243 has no Rechute L2\n"
     ]
    },
    {
     "name": "stderr",
     "output_type": "stream",
     "text": [
      " 99%|████████████████████████████████████████████████████████████████████████████████████████████████████████████████████████████████████████████████████████████████████▍ | 103/104 [00:20<00:00,  5.68it/s]"
     ]
    },
    {
     "name": "stdout",
     "output_type": "stream",
     "text": [
      "Patient AIDREAM_245 has no Rechute L1\n",
      "Patient AIDREAM_245 has no Rechute L2\n",
      "Patient AIDREAM_247 has no pre_RT L1\n"
     ]
    },
    {
     "name": "stderr",
     "output_type": "stream",
     "text": [
      "100%|██████████████████████████████████████████████████████████████████████████████████████████████████████████████████████████████████████████████████████████████████████| 104/104 [00:20<00:00,  5.09it/s]"
     ]
    },
    {
     "name": "stdout",
     "output_type": "stream",
     "text": [
      "Patient AIDREAM_247 has no Rechute L1\n",
      "Patient AIDREAM_247 has no Rechute L2\n"
     ]
    },
    {
     "name": "stderr",
     "output_type": "stream",
     "text": [
      "\n"
     ]
    }
   ],
   "source": [
    "for patient in tqdm(list_patients):\n",
    "\n",
    "    ants_t1ce = ants.image_read(str(dir_processed / patient / 'pre_RT' / 'T1CE' / fr\"{patient}_pre_RT_T1CE.nii.gz\"))\n",
    "    ants_zeros = ants_t1ce.new_image_like(np.zeros(ants_t1ce.shape))\n",
    "\n",
    "    for stage in ['pre_RT', 'Rechute']:\n",
    "\n",
    "        for i in range(1, 4):\n",
    "         \n",
    "            path_lab = dir_processed / patient / stage / 'Labels' / fr'{patient}_{stage}_L{i}_Label.nii.gz'\n",
    "        \n",
    "            if not path_lab.exists():\n",
    "                print(f\"Patient {patient} has no {stage} L{i}\")\n",
    "                ants_zeros.to_file(str(path_lab))\n",
    "            "
   ]
  },
  {
   "cell_type": "code",
   "execution_count": 57,
   "id": "849bd686-d13c-435e-866f-a97aaba721f7",
   "metadata": {},
   "outputs": [
    {
     "data": {
      "text/plain": [
       "ANTsImage (RAI)\n",
       "\t Pixel Type : float (float32)\n",
       "\t Components : 1\n",
       "\t Dimensions : (240, 240, 155)\n",
       "\t Spacing    : (1.0, 1.0, 1.0)\n",
       "\t Origin     : (0.0, -239.0, 0.0)\n",
       "\t Direction  : [1. 0. 0. 0. 1. 0. 0. 0. 1.]"
      ]
     },
     "execution_count": 57,
     "metadata": {},
     "output_type": "execute_result"
    }
   ],
   "source": [
    "ants_t1ce.new_image_like(np.zeros(ants_t1ce.shape))"
   ]
  },
  {
   "cell_type": "code",
   "execution_count": null,
   "id": "acc3e88b-015e-4a86-9a89-284bd2e38970",
   "metadata": {},
   "outputs": [],
   "source": []
  }
 ],
 "metadata": {
  "kernelspec": {
   "display_name": "Python 3 (ipykernel)",
   "language": "python",
   "name": "python3"
  },
  "language_info": {
   "codemirror_mode": {
    "name": "ipython",
    "version": 3
   },
   "file_extension": ".py",
   "mimetype": "text/x-python",
   "name": "python",
   "nbconvert_exporter": "python",
   "pygments_lexer": "ipython3",
   "version": "3.11.9"
  }
 },
 "nbformat": 4,
 "nbformat_minor": 5
}
