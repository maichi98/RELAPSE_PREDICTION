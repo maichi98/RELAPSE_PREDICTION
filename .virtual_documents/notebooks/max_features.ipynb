from relapse_prediction import features, labels
from relapse_prediction import constants, utils



import matplotlib.pyplot as plt
from tqdm.auto import tqdm



fig = plt.figure(figsize=(20, 18))

for i, imaging in enumerate(constants.L_CERCARE_MAPS):
    
    list_max = []
    fig.add_subplot(4, 3, i + 1)
    
    for patient in constants.list_patients:
        df_features = features.get_cercare_features(patient, imaging)
        list_max.append(df_features[imaging].max())

    print(f"Max {imaging} feature : {max(list_max)}")
    plt.plot(list_max)
    plt.show()
    
    





df_features = features.get_cercare_features("AIDREAM_1", "CTH", feature="5x5x5")


df_features


labels.get_df_labels("AIDREAM_1", "L3R")


features.get_mri_features("AIDREAM_1", 'T1')



