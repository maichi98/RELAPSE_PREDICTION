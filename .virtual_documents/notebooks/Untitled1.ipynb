import pandas as pd


list_patients = [  'AIDREAM_5',  'AIDREAM_25',  'AIDREAM_30',  'AIDREAM_40',  'AIDREAM_42',
                  'AIDREAM_43',  'AIDREAM_53',  'AIDREAM_57',  'AIDREAM_63',  'AIDREAM_70',
                  'AIDREAM_74',  'AIDREAM_78', 'AIDREAM_121', 'AIDREAM_125', 'AIDREAM_131',
                 'AIDREAM_144', 'AIDREAM_146', 'AIDREAM_226', 'AIDREAM_231', 'AIDREAM_235',
                 'AIDREAM_239', 'AIDREAM_248', 'AIDREAM_303', 'AIDREAM_324', 'AIDREAM_330',
                 'AIDREAM_334', 'AIDREAM_335', 'AIDREAM_339', 'AIDREAM_351', 'AIDREAM_354',
                 'AIDREAM_362', 'AIDREAM_363', 'AIDREAM_366', 'AIDREAM_375', 'AIDREAM_389',
                 'AIDREAM_397']



df_data = pd.read_excel("clinical_data.xlsx")
df_data = df_data[['New_ID_AIDREAM', 'ID_local', "IRM__preRT_date"]]
df_data = df_data.rename(columns={"New_ID_AIDREAM": "id_aidream"})
df_data = df_data.loc[df_data["id_aidream"].isin(list_patients)].reset_index(drop=True)



df_data['id'] = df_data['id_aidream'].apply(lambda p: int(p.strip('AIDREAM_')))


df_data.to_csv("corresp_table.csv", index=False)


df_data = df_data.sort_values(by="id")


df_data = df_data.reset_index(drop=True)


df_data = df_data[['id_aidream','ID_local', 'IRM__preRT_date']]


df_data.to_csv("corresp_table.csv", index=False)


df_data.to_excel("corresp_table.xlsx", index=False)


df_data



