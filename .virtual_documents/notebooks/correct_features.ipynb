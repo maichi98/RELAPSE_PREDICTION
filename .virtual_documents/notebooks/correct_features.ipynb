from relapse_prediction import constants, utils
from relapse_prediction.utils import binning
from relapse_prediction import features

import matplotlib.pyplot as plt
from tqdm.auto import tqdm
from scipy import stats
import pandas as pd
import numpy as np
import pickle









def correct_irm_features(patient, imaging):
    
    path_irm_features = constants.dir_features / patient / f"{patient}_{imaging}_features.parquet"
    df_irm_imaging = pd.read_parquet(path_irm_features, engine="pyarrow")
    
    list_cols = [imaging, "mean_7x7", 'mean_5x5', 'mean_3x3', 'mean_3x3x3', 'mean_5x5x5']
    
    for col in list_cols:
        df_irm_imaging[col] = stats.zscore(df_irm_imaging[col])
    
    df_irm_imaging.to_parquet(path_irm_features, engine="pyarrow")
    


for patient in tqdm(constants.list_patients):
    for imaging in constants.L_IRM_MAPS:
        correct_irm_features(patient, imaging)
        








imaging, feature = "T1", "mean_5x5x5"


%%time
list_t1_features = utils.get_list_imaging_features(imaging, feature)


min_t1, max_t1 = min(list_t1_features), max(list_t1_features)

print("Minimum T1 intensity: ", min_t1)
print("Maximum T1 intensity: ", max_t1)


rounded_min_t1 = np.round(min_t1, 2)
rounded_max_t1 = np.round(max_t1, 2)

print("Rounded Minimum T1 intensity: ", rounded_min_t1)
print("Runded Maximum T1 intensity: ", rounded_max_t1)


number_of_bins = int((rounded_max_t1 - rounded_min_t1) / 0.01)
print("Number of the number of bins: ", number_of_bins)


pd.Series(list_t1_features).hist(bins=1712)


fig = plt.figure(figsize=(20, 18))

for i, patient in enumerate(constants.list_patients[:16]):

    fig.add_subplot(4, 4, i + 1)
    path_features = constants.dir_features / patient / fr"{patient}_{imaging}_features.parquet"
    df_features = pd.read_parquet(path_features, engine="pyarrow")
    df_features[feature].hist(bins=number_of_bins)

del df_features    
    


df_features = pd.read_parquet(path_features, engine="pyarrow")



np.round(df_features[feature], 2)





def quantize_mri_features(patient, imaging):

    path_irm_features = constants.dir_features / patient / f"{patient}_{imaging}_features.parquet"
    df_irm_imaging = pd.read_parquet(path_irm_features, engine="pyarrow")
    
    list_cols = [imaging, "mean_7x7", 'mean_5x5', 'mean_3x3', 'mean_3x3x3', 'mean_5x5x5']
    
    for col in list_cols:
        df_irm_imaging[col] = np.round(df_irm_imaging[col], 2)
    
    df_irm_imaging.to_parquet(path_irm_features, engine="pyarrow")



for patient in tqdm(constants.list_patients):
    for imaging in constants.L_IRM_MAPS:
        quantize_mri_features(patient, imaging)
        

















def correct_labels(patient):
    
    path_labels = constants.dir_labels / f"{patient}_labels.parquet"
    
    df_labels = pd.read_parquet(path_labels, engine="pyarrow")
    
    list_cols = ['mean_L3R_5x5x5', 'mean_L3R - (L1 + L3)_5x5x5', 'mean_(L1 + L3)_5x5x5', 'mean_L2_5x5x5',   
                    'mean_L3_5x5x5', 'mean_L4_5x5x5', 'mean_L5_5x5x5', 'mean_(L4 + L5)_5x5x5']
    
    for col in list_cols:
        df_labels.loc[df_labels[col] < 0.5, col] = 0
        df_labels.loc[df_labels[col] >= 0.5, col] = 1
        
    dict_cols = {col: col.lstrip("mean_") for col in list_cols}
    
    df_labels = df_labels.rename(columns=dict_cols)
    
    df_labels.to_parquet(path_labels, engine="pyarrow")
    


for patient in tqdm(constants.list_patients):
    correct_labels(patient)
    


patient = "AIDREAM_1"
imaging = "T1CE"

path_labels = constants.dir_labels / f"{patient}_labels.parquet"
df_labels = pd.read_parquet(path_labels, engine="pyarrow")

path_features = constants.dir_features / patient / f"{patient}_{imaging}_features.parquet"
df_features = pd.read_parquet(path_features, engine="pyarrow")
df_features




