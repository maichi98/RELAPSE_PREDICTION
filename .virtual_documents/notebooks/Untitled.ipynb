from relapse_prediction import features, labels
from relapse_prediction import constants, utils


from tqdm.auto import tqdm


for imaging in constants.L_CERCARE_MAPS:
    max_fe


features.get_cercare_features("AIDREAM_1", "CTH")



