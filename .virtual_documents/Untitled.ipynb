import ants
import numpy as np
from scipy.ndimage import center_of_mass, binary_fill_holes
from scipy.spatial.distance import euclidean

from tqdm import tqdm
from pathlib import Path
import pandas as pd
import os


dir_processed = Path("/media/maichi/T7/AIDREAM_DATA/processed")


list_patients = os.listdir(dir_processed)
list_patients = list(set(list_patients) - {"AIDREAM_50", "AIDREAM_152", 'AIDREAM_102'})

list_patients = [list_patients[i] for i in np.argsort([int(p.strip('AIDREAM_')) for p in list_patients])]


df_vol = pd.DataFrame(columns=["id_aidream", "vol L3 pre_RT", "vol L3 Rechute"])

for patient in tqdm(list_patients):

    path_prert_L3 = dir_processed / patient / "pre_RT" / "Labels" / fr"{patient}_pre_RT_L3_Label.nii.gz"
    prert_L3 = ants.image_read(str(path_prert_L3)).numpy()
    prert_vol = prert_L3.sum()

    path_rechute_L3 = dir_processed / patient / "Rechute" / "Labels" / fr"{patient}_Rechute_L3_Label.nii.gz"
    rechute_L3 = ants.image_read(str(path_rechute_L3)).numpy()
    rechute_vol = rechute_L3.sum()


    df_vol.loc[len(df_vol)] = {"id_aidream": patient, "vol L3 pre_RT": prert_vol, "vol L3 Rechute": rechute_vol}
    


df_vol.to_csv("volumes.csv", index=False)


def ensure_compact_mask(mask):
    return binary_fill_holes(mask).astype(int)


def calculate_centroid(mask):
    return center_of_mass(mask)


def relapse_distance(original_mask, relapse_mask):

    original_mask = ensure_compact_mask(original_mask)
    relapse_mask = ensure_compact_mask(relapse_mask)

    original_centroid = calculate_centroid(original_mask)
    relapse_centroid = calculate_centroid(relapse_mask)

    distance = euclidean(original_centroid, relapse_centroid)

    return distance, original_centroid, relapse_centroid





def get_mask(patient, stage):

    imgs = [
        ants.image_read(str(dir_processed / patient / stage / "Labels" / fr"{patient}_{stage}_L{i}_Label.nii.gz")).numpy() for i in range(1, 4)
    ]

    return np.sum(imgs, axis=0)


def dice_coefficient(mask1, mask2):

    intersection = np.sum((mask1 > 0) & (mask2 > 0))
    volume1 = np.sum(mask1 > 0)
    volume2 = np.sum(mask2 > 0)
    
    if volume1 + volume2 == 0:
        return 1.0  # Both masks are empty
    
    dice = 2.0 * intersection / (volume1 + volume2)
    return dice


df_dist = pd.DataFrame(columns=['id_aidream', 'distance', 'dice', 'original_centroid','relapse_centroid'])

for patient in tqdm(list_patients):

    try:

        original_mask = get_mask(patient, 'pre_RT')
        relapse_mask = get_mask(patient, 'Rechute')
    
        distance, original_centroid, relapse_centroid = relapse_distance(original_mask, relapse_mask)
        dice = dice_coefficient(original_mask, relapse_mask)
    
        df_dist.loc[len(df_dist)] = {"id_aidream": patient, "distance": distance, 'dice': dice, "original_centroid": original_centroid, "relapse_centroid": relapse_centroid}

    except Exception as e:
        print(fr"failed for patient {patient} , error = {e}")


df_dist = df_dist.sort_values(by="distance").reset_index(drop=True)


import matplotlib.pyplot as plt
plt.plot(df_dist["distance"], df_dist["dice"])


df = df_vol.merge(df_dist, on="id_aidream",how="left")


df


plt.scatter(df["vol L3 Rechute"], df['distance'])


def plot_columns(df, columns=None):
    """
    Plot columns of a DataFrame against each other.

    Parameters:
    - df: pd.DataFrame, the DataFrame containing the data
    - columns: list of str, list of column names to plot. If None, all columns are used.

    Returns:
    - None
    """
    if columns is None:
        columns = df.columns

    num_columns = len(columns)
    fig, axes = plt.subplots(nrows=num_columns, ncols=num_columns, figsize=(15, 15))

    for i, col1 in enumerate(columns):
        for j, col2 in enumerate(columns):
            if i != j:
                axes[i, j].scatter(df[col1], df[col2])
                axes[i, j].set_xlabel(col1)
                axes[i, j].set_ylabel(col2)
            else:
                axes[i, j].text(0.5, 0.5, col1, horizontalalignment='center', verticalalignment='center', fontsize=12)
                axes[i, j].set_xticks([])
                axes[i, j].set_yticks([])

    plt.tight_layout()
    plt.show()


plot_columns(df, columns=['distance','dice', 'vol L3 pre_RT', 'vol L3 Rechute'])



